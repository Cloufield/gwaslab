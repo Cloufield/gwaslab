{
 "cells": [
  {
   "cell_type": "code",
   "execution_count": 1,
   "id": "fab23790",
   "metadata": {},
   "outputs": [],
   "source": [
    "import pandas as pd\n",
    "import numpy as np\n",
    "import sys\n",
    "sys.path.insert(0,\"/Users/he/work/gwaslab/src\")\n",
    "import gwaslab as gl"
   ]
  },
  {
   "cell_type": "code",
   "execution_count": 2,
   "id": "5d742ce2",
   "metadata": {},
   "outputs": [
    {
     "name": "stdout",
     "output_type": "stream",
     "text": [
      "Tue Jan 17 15:45:00 2023 Start to initiate from file :/Users/he/work/gwaslab/examples/height/signals.txt\n",
      "Tue Jan 17 15:45:00 2023  -Reading columns          : Chr,SNP,BP (HG38)\n",
      "Tue Jan 17 15:45:00 2023  -Renaming columns to      : CHR,SNPID,POS\n",
      "Tue Jan 17 15:45:00 2023  -Current Dataframe shape : 12111  x  3\n",
      "Tue Jan 17 15:45:00 2023  -Initiating a status column: STATUS ...\n",
      "Tue Jan 17 15:45:01 2023 Start to reorder the columns...\n",
      "Tue Jan 17 15:45:01 2023  -Current Dataframe shape : 12111  x  4\n",
      "Tue Jan 17 15:45:01 2023  -Reordering columns to    : SNPID,CHR,POS,STATUS\n",
      "Tue Jan 17 15:45:01 2023 Finished sorting columns successfully!\n",
      "Tue Jan 17 15:45:01 2023 Finished loading data successfully!\n"
     ]
    }
   ],
   "source": [
    "sig = gl.Sumstats(\"/Users/he/work/gwaslab/examples/height/signals.txt\",\n",
    "            chrom=\"Chr\",\n",
    "            snpid=\"SNP\",\n",
    "            pos=\"BP (HG38)\")"
   ]
  },
  {
   "cell_type": "code",
   "execution_count": 3,
   "id": "35ebbb3b",
   "metadata": {},
   "outputs": [],
   "source": [
    "sig.basic_check(sanitycheckstats_args={\"p\":(-0.1,1)},verbose=False)"
   ]
  },
  {
   "cell_type": "code",
   "execution_count": 4,
   "id": "73e40790",
   "metadata": {
    "scrolled": true
   },
   "outputs": [
    {
     "data": {
      "text/html": [
       "<div>\n",
       "<style scoped>\n",
       "    .dataframe tbody tr th:only-of-type {\n",
       "        vertical-align: middle;\n",
       "    }\n",
       "\n",
       "    .dataframe tbody tr th {\n",
       "        vertical-align: top;\n",
       "    }\n",
       "\n",
       "    .dataframe thead th {\n",
       "        text-align: right;\n",
       "    }\n",
       "</style>\n",
       "<table border=\"1\" class=\"dataframe\">\n",
       "  <thead>\n",
       "    <tr style=\"text-align: right;\">\n",
       "      <th></th>\n",
       "      <th>SNPID</th>\n",
       "      <th>CHR</th>\n",
       "      <th>POS</th>\n",
       "      <th>STATUS</th>\n",
       "    </tr>\n",
       "  </thead>\n",
       "  <tbody>\n",
       "    <tr>\n",
       "      <th>0</th>\n",
       "      <td>rs2710888</td>\n",
       "      <td>1</td>\n",
       "      <td>1024462</td>\n",
       "      <td>9980999</td>\n",
       "    </tr>\n",
       "    <tr>\n",
       "      <th>1</th>\n",
       "      <td>rs3934834</td>\n",
       "      <td>1</td>\n",
       "      <td>1070426</td>\n",
       "      <td>9980999</td>\n",
       "    </tr>\n",
       "    <tr>\n",
       "      <th>2</th>\n",
       "      <td>rs182532</td>\n",
       "      <td>1</td>\n",
       "      <td>1351660</td>\n",
       "      <td>9980999</td>\n",
       "    </tr>\n",
       "    <tr>\n",
       "      <th>3</th>\n",
       "      <td>rs17160669</td>\n",
       "      <td>1</td>\n",
       "      <td>1370181</td>\n",
       "      <td>9980999</td>\n",
       "    </tr>\n",
       "    <tr>\n",
       "      <th>4</th>\n",
       "      <td>rs9660106</td>\n",
       "      <td>1</td>\n",
       "      <td>1866508</td>\n",
       "      <td>9980999</td>\n",
       "    </tr>\n",
       "    <tr>\n",
       "      <th>...</th>\n",
       "      <td>...</td>\n",
       "      <td>...</td>\n",
       "      <td>...</td>\n",
       "      <td>...</td>\n",
       "    </tr>\n",
       "    <tr>\n",
       "      <th>12106</th>\n",
       "      <td>rs9628283</td>\n",
       "      <td>22</td>\n",
       "      <td>50102337</td>\n",
       "      <td>9980999</td>\n",
       "    </tr>\n",
       "    <tr>\n",
       "      <th>12107</th>\n",
       "      <td>rs28642259</td>\n",
       "      <td>22</td>\n",
       "      <td>50347289</td>\n",
       "      <td>9980999</td>\n",
       "    </tr>\n",
       "    <tr>\n",
       "      <th>12108</th>\n",
       "      <td>rs11555194</td>\n",
       "      <td>22</td>\n",
       "      <td>50438233</td>\n",
       "      <td>9980999</td>\n",
       "    </tr>\n",
       "    <tr>\n",
       "      <th>12109</th>\n",
       "      <td>rs762669</td>\n",
       "      <td>22</td>\n",
       "      <td>50504994</td>\n",
       "      <td>9980999</td>\n",
       "    </tr>\n",
       "    <tr>\n",
       "      <th>12110</th>\n",
       "      <td>rs9628185</td>\n",
       "      <td>22</td>\n",
       "      <td>50671564</td>\n",
       "      <td>9980999</td>\n",
       "    </tr>\n",
       "  </tbody>\n",
       "</table>\n",
       "<p>12111 rows × 4 columns</p>\n",
       "</div>"
      ],
      "text/plain": [
       "            SNPID  CHR       POS   STATUS\n",
       "0       rs2710888    1   1024462  9980999\n",
       "1       rs3934834    1   1070426  9980999\n",
       "2        rs182532    1   1351660  9980999\n",
       "3      rs17160669    1   1370181  9980999\n",
       "4       rs9660106    1   1866508  9980999\n",
       "...           ...  ...       ...      ...\n",
       "12106   rs9628283   22  50102337  9980999\n",
       "12107  rs28642259   22  50347289  9980999\n",
       "12108  rs11555194   22  50438233  9980999\n",
       "12109    rs762669   22  50504994  9980999\n",
       "12110   rs9628185   22  50671564  9980999\n",
       "\n",
       "[12111 rows x 4 columns]"
      ]
     },
     "execution_count": 4,
     "metadata": {},
     "output_type": "execute_result"
    }
   ],
   "source": [
    "sig.data"
   ]
  },
  {
   "cell_type": "code",
   "execution_count": 5,
   "id": "25ed05b8",
   "metadata": {},
   "outputs": [
    {
     "name": "stdout",
     "output_type": "stream",
     "text": [
      "Tue Jan 17 15:45:10 2023 Start to calculate signal DENSITY...\n",
      "Tue Jan 17 15:45:10 2023  -Calculating DENSITY with windowsize of  100  kb\n",
      "Tue Jan 17 15:45:10 2023  -Mean : 2.001651391297168 signals per 100 kb\n",
      "Tue Jan 17 15:45:10 2023  -SD : 2.58020744037317\n",
      "Tue Jan 17 15:45:10 2023  -Median : 1.0 signals per 100 kb\n",
      "Tue Jan 17 15:45:10 2023  -Max : 24 signals per 100 kb at variant(s) rs4932198\n",
      "Tue Jan 17 15:45:10 2023 Finished calculating signal DENSITY successfully!\n"
     ]
    }
   ],
   "source": [
    "sig.get_density()"
   ]
  },
  {
   "cell_type": "code",
   "execution_count": 6,
   "id": "6200e5f9",
   "metadata": {
    "scrolled": true
   },
   "outputs": [
    {
     "data": {
      "text/html": [
       "<div>\n",
       "<style scoped>\n",
       "    .dataframe tbody tr th:only-of-type {\n",
       "        vertical-align: middle;\n",
       "    }\n",
       "\n",
       "    .dataframe tbody tr th {\n",
       "        vertical-align: top;\n",
       "    }\n",
       "\n",
       "    .dataframe thead th {\n",
       "        text-align: right;\n",
       "    }\n",
       "</style>\n",
       "<table border=\"1\" class=\"dataframe\">\n",
       "  <thead>\n",
       "    <tr style=\"text-align: right;\">\n",
       "      <th></th>\n",
       "      <th>SNPID</th>\n",
       "      <th>CHR</th>\n",
       "      <th>POS</th>\n",
       "      <th>STATUS</th>\n",
       "      <th>DENSITY</th>\n",
       "    </tr>\n",
       "  </thead>\n",
       "  <tbody>\n",
       "    <tr>\n",
       "      <th>0</th>\n",
       "      <td>rs2710888</td>\n",
       "      <td>1</td>\n",
       "      <td>1024462</td>\n",
       "      <td>9980999</td>\n",
       "      <td>1</td>\n",
       "    </tr>\n",
       "    <tr>\n",
       "      <th>1</th>\n",
       "      <td>rs3934834</td>\n",
       "      <td>1</td>\n",
       "      <td>1070426</td>\n",
       "      <td>9980999</td>\n",
       "      <td>1</td>\n",
       "    </tr>\n",
       "    <tr>\n",
       "      <th>2</th>\n",
       "      <td>rs182532</td>\n",
       "      <td>1</td>\n",
       "      <td>1351660</td>\n",
       "      <td>9980999</td>\n",
       "      <td>1</td>\n",
       "    </tr>\n",
       "    <tr>\n",
       "      <th>3</th>\n",
       "      <td>rs17160669</td>\n",
       "      <td>1</td>\n",
       "      <td>1370181</td>\n",
       "      <td>9980999</td>\n",
       "      <td>1</td>\n",
       "    </tr>\n",
       "    <tr>\n",
       "      <th>4</th>\n",
       "      <td>rs9660106</td>\n",
       "      <td>1</td>\n",
       "      <td>1866508</td>\n",
       "      <td>9980999</td>\n",
       "      <td>0</td>\n",
       "    </tr>\n",
       "    <tr>\n",
       "      <th>...</th>\n",
       "      <td>...</td>\n",
       "      <td>...</td>\n",
       "      <td>...</td>\n",
       "      <td>...</td>\n",
       "      <td>...</td>\n",
       "    </tr>\n",
       "    <tr>\n",
       "      <th>12106</th>\n",
       "      <td>rs9628283</td>\n",
       "      <td>22</td>\n",
       "      <td>50102337</td>\n",
       "      <td>9980999</td>\n",
       "      <td>1</td>\n",
       "    </tr>\n",
       "    <tr>\n",
       "      <th>12107</th>\n",
       "      <td>rs28642259</td>\n",
       "      <td>22</td>\n",
       "      <td>50347289</td>\n",
       "      <td>9980999</td>\n",
       "      <td>1</td>\n",
       "    </tr>\n",
       "    <tr>\n",
       "      <th>12108</th>\n",
       "      <td>rs11555194</td>\n",
       "      <td>22</td>\n",
       "      <td>50438233</td>\n",
       "      <td>9980999</td>\n",
       "      <td>2</td>\n",
       "    </tr>\n",
       "    <tr>\n",
       "      <th>12109</th>\n",
       "      <td>rs762669</td>\n",
       "      <td>22</td>\n",
       "      <td>50504994</td>\n",
       "      <td>9980999</td>\n",
       "      <td>1</td>\n",
       "    </tr>\n",
       "    <tr>\n",
       "      <th>12110</th>\n",
       "      <td>rs9628185</td>\n",
       "      <td>22</td>\n",
       "      <td>50671564</td>\n",
       "      <td>9980999</td>\n",
       "      <td>0</td>\n",
       "    </tr>\n",
       "  </tbody>\n",
       "</table>\n",
       "<p>12111 rows × 5 columns</p>\n",
       "</div>"
      ],
      "text/plain": [
       "            SNPID  CHR       POS   STATUS  DENSITY\n",
       "0       rs2710888    1   1024462  9980999        1\n",
       "1       rs3934834    1   1070426  9980999        1\n",
       "2        rs182532    1   1351660  9980999        1\n",
       "3      rs17160669    1   1370181  9980999        1\n",
       "4       rs9660106    1   1866508  9980999        0\n",
       "...           ...  ...       ...      ...      ...\n",
       "12106   rs9628283   22  50102337  9980999        1\n",
       "12107  rs28642259   22  50347289  9980999        1\n",
       "12108  rs11555194   22  50438233  9980999        2\n",
       "12109    rs762669   22  50504994  9980999        1\n",
       "12110   rs9628185   22  50671564  9980999        0\n",
       "\n",
       "[12111 rows x 5 columns]"
      ]
     },
     "execution_count": 6,
     "metadata": {},
     "output_type": "execute_result"
    }
   ],
   "source": [
    "sig.data"
   ]
  },
  {
   "cell_type": "code",
   "execution_count": 7,
   "id": "0870e074",
   "metadata": {},
   "outputs": [
    {
     "name": "stdout",
     "output_type": "stream",
     "text": [
      "Tue Jan 17 15:45:15 2023 Start to plot manhattan/qq plot with the following basic settings:\n",
      "Tue Jan 17 15:45:15 2023  -Genome-wide significance level is set to 5e-08 ...\n",
      "Tue Jan 17 15:45:15 2023  -Raw input contains 12111 variants...\n",
      "Tue Jan 17 15:45:15 2023  -Plot layout mode is : b\n",
      "Tue Jan 17 15:45:15 2023 Finished loading specified columns from the sumstats.\n",
      "Tue Jan 17 15:45:15 2023 Start conversion and sanity check:\n",
      "Tue Jan 17 15:45:15 2023  -Removed 0 variants with nan in CHR or POS column ...\n",
      "Tue Jan 17 15:45:15 2023  -Calculating DENSITY with windowsize of  100  kb\n",
      "Tue Jan 17 15:45:15 2023  -Maximum DENSITY values is 24 .\n",
      "Tue Jan 17 15:45:15 2023 Finished data conversion and sanity check.\n",
      "Tue Jan 17 15:45:16 2023 Start to create manhattan plot with 12111 variants:\n",
      "Tue Jan 17 15:45:16 2023  -Found 22 significant variants with a sliding window size of 100000000 kb...\n",
      "Tue Jan 17 15:45:16 2023 Finished creating Manhattan plot successfully!\n",
      "Tue Jan 17 15:45:16 2023  -Skip annotating\n"
     ]
    },
    {
     "data": {
      "text/plain": [
       "(<Figure size 3000x1000 with 1 Axes>, <gwaslab.Log.Log at 0x7f7e71f5b280>)"
      ]
     },
     "execution_count": 7,
     "metadata": {},
     "output_type": "execute_result"
    },
    {
     "data": {
      "image/png": "[encoded data removed]",
      "text/plain": [
       "<Figure size 3000x1000 with 1 Axes>"
      ]
     },
     "metadata": {
      "needs_background": "light"
     },
     "output_type": "display_data"
    }
   ],
   "source": [
    "sig.plot_mqq(mode=\"b\")"
   ]
  }
 ],
 "metadata": {
  "kernelspec": {
   "display_name": "Python 3",
   "language": "python",
   "name": "python3"
  },
  "language_info": {
   "codemirror_mode": {
    "name": "ipython",
    "version": 3
   },
   "file_extension": ".py",
   "mimetype": "text/x-python",
   "name": "python",
   "nbconvert_exporter": "python",
   "pygments_lexer": "ipython3",
   "version": "3.8.3"
  },
  "toc": {
   "base_numbering": 1,
   "nav_menu": {},
   "number_sections": true,
   "sideBar": true,
   "skip_h1_title": false,
   "title_cell": "Table of Contents",
   "title_sidebar": "Contents",
   "toc_cell": false,
   "toc_position": {},
   "toc_section_display": true,
   "toc_window_display": false
  }
 },
 "nbformat": 4,
 "nbformat_minor": 5
}
