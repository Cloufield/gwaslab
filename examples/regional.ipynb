{
 "cells": [
  {
   "cell_type": "code",
   "execution_count": null,
   "id": "e5411d33",
   "metadata": {},
   "outputs": [],
   "source": [
    "import pandas as pd\n",
    "import matplotlib.pyplot as plt \n",
    "from scipy import stats"
   ]
  },
  {
   "cell_type": "code",
   "execution_count": null,
   "id": "184a889a",
   "metadata": {},
   "outputs": [],
   "source": [
    "genes = pd.read_csv(\"hg19.refGene.gtf.gz\",sep=\"\\t\",header=None)"
   ]
  },
  {
   "cell_type": "code",
   "execution_count": null,
   "id": "562115b7",
   "metadata": {},
   "outputs": [],
   "source": [
    "region=(\"chr1\",1000000,2000000)\n",
    "genes_1mb = genes.loc[(genes[0]==\"chr1\")&(genes[3]<region[2])&(genes[4]>region[1])]\n",
    "genes_1mb"
   ]
  },
  {
   "cell_type": "code",
   "execution_count": null,
   "id": "008f14ee",
   "metadata": {},
   "outputs": [],
   "source": [
    "genes_1mb.loc[:,\"name\"] = genes_1mb[8].str.split(\";\").str[-2].str.replace(\"gene_name \",\"\").str.strip(' ').str.strip('\"')\n",
    "genes_1mb.loc[:,\"transcript\"] = genes_1mb[8].str.split(\";\").str[1]\n",
    "genes_1mb"
   ]
  },
  {
   "cell_type": "code",
   "execution_count": null,
   "id": "43bcd552",
   "metadata": {},
   "outputs": [],
   "source": [
    "exons = genes_1mb.loc[genes_1mb[2]==\"exon\",:]"
   ]
  },
  {
   "cell_type": "code",
   "execution_count": null,
   "id": "f13ed805",
   "metadata": {},
   "outputs": [],
   "source": [
    "uniq_gene_region = genes_1mb.groupby(\"name\").agg({3:\"min\",4:\"max\",6:stats.mode})\n",
    "uniq_gene_region"
   ]
  },
  {
   "cell_type": "code",
   "execution_count": null,
   "id": "c289bbb0",
   "metadata": {},
   "outputs": [],
   "source": [
    "uniq_gene_region = uniq_gene_region.reset_index()\n",
    "flank = 0.05 * (region[2] - region[1])\n",
    "uniq_gene_region[\"left\"]=uniq_gene_region[3]-flank\n",
    "uniq_gene_region[\"right\"]=uniq_gene_region[4]+flank\n",
    "uniq_gene_region"
   ]
  },
  {
   "cell_type": "code",
   "execution_count": null,
   "id": "941e3629",
   "metadata": {},
   "outputs": [],
   "source": [
    "stacks=[]\n",
    "stack_dic={}\n",
    "for index,row in uniq_gene_region.reset_index().sort_values([3]).iterrows():\n",
    "    if len(stacks)==0:\n",
    "        stacks.append([(row[\"left\"],row[\"right\"])])\n",
    "        stack_dic[row[\"name\"]] = 0\n",
    "    else:\n",
    "        for i in range(len(stacks)):\n",
    "            for j in range(len(stacks[i])):\n",
    "                # if overlap\n",
    "                if (row[\"left\"]>stacks[i][j][0] and row[\"left\"]<stacks[i][j][1]) or (row[\"right\"]>stacks[i][j][0] and row[\"right\"]<stacks[i][j][1]):\n",
    "                    # if not last stack : break\n",
    "                    if i<len(stacks)-1:\n",
    "                        break\n",
    "                    # if last stack : add a new stack\n",
    "                    else:\n",
    "                        stacks.append([(row[\"left\"],row[\"right\"])])\n",
    "                        stack_dic[row[\"name\"]] = i+1\n",
    "                        break\n",
    "                # if no overlap       \n",
    "                else:\n",
    "                    # not last in a stack\n",
    "                    if j<len(stacks[i])-1:\n",
    "                        #if in the middle\n",
    "                        if row[\"left\"]>stacks[i][j][1] and row[\"right\"]<stacks[i][j+1][0]:\n",
    "                            stacks[i].insert(j+1,(row[\"left\"],row[\"right\"]))\n",
    "                            stack_dic[row[\"name\"]] = i\n",
    "                            break\n",
    "                    #last one in a stack\n",
    "                    elif row[\"left\"]>stacks[i][j][1]:\n",
    "                        stacks[i].append((row[\"left\"],row[\"right\"]))\n",
    "                        stack_dic[row[\"name\"]] = i\n",
    "                        break\n",
    "            if row[\"name\"] in stack_dic.keys():\n",
    "                break         \n",
    "uniq_gene_region[\"stack\"] = -uniq_gene_region[\"name\"].map(stack_dic)\n"
   ]
  },
  {
   "cell_type": "code",
   "execution_count": null,
   "id": "5721490e",
   "metadata": {},
   "outputs": [],
   "source": [
    "exons[\"stack\"] = -exons[\"name\"].map(stack_dic)\n",
    "exons"
   ]
  },
  {
   "cell_type": "code",
   "execution_count": null,
   "id": "fb84096e",
   "metadata": {},
   "outputs": [],
   "source": [
    "fig = plt.figure(figsize=(20,5))\n",
    "ax = fig.add_subplot(1,1,1)\n",
    "for index,row in uniq_gene_region.reset_index().iterrows():\n",
    "    if row[6][0]==\"+\":\n",
    "        gene_anno = row[\"name\"] + \"->\"\n",
    "    else:\n",
    "        gene_anno = \"<-\" + row[\"name\"] \n",
    "    ax.plot((row[3],row[4]),(row[\"stack\"]*4,row[\"stack\"]*4),color=\"blue\")\n",
    "    ax.text(x=(row[3]+row[4])/2,y=row[\"stack\"]*4-1.5,s=gene_anno,ha=\"center\",va=\"top\",color=\"black\")\n",
    "for index,row in exons.iterrows():\n",
    "    ax.plot((row[3],row[4]),(row[\"stack\"]*4,row[\"stack\"]*4),linewidth=10,color=\"blue\")\n",
    "#ax.set_ylim((-4,uniq_gene_region[\"stack\"].max()*4+4))"
   ]
  }
 ],
 "metadata": {
  "kernelspec": {
   "display_name": "Python 3 (ipykernel)",
   "language": "python",
   "name": "python3"
  },
  "language_info": {
   "codemirror_mode": {
    "name": "ipython",
    "version": 3
   },
   "file_extension": ".py",
   "mimetype": "text/x-python",
   "name": "python",
   "nbconvert_exporter": "python",
   "pygments_lexer": "ipython3",
   "version": "3.9.7"
  }
 },
 "nbformat": 4,
 "nbformat_minor": 5
}
