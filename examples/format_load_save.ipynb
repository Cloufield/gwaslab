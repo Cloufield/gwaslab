{
 "cells": [
  {
   "cell_type": "markdown",
   "metadata": {},
   "source": [
    "# Formatting and saving"
   ]
  },
  {
   "cell_type": "code",
   "execution_count": null,
   "metadata": {},
   "outputs": [],
   "source": [
    "!wget -O t2d_bbj.txt.gz http://jenger.riken.jp/14/"
   ]
  },
  {
   "cell_type": "code",
   "execution_count": 1,
   "metadata": {},
   "outputs": [],
   "source": [
    "import sys\n",
    "sys.path.insert(0,\"/Users/he/work/gwaslab/src\")\n",
    "import gwaslab as gl"
   ]
  },
  {
   "cell_type": "markdown",
   "metadata": {},
   "source": [
    "## Loading data"
   ]
  },
  {
   "cell_type": "code",
   "execution_count": 2,
   "metadata": {},
   "outputs": [
    {
     "name": "stdout",
     "output_type": "stream",
     "text": [
      "Mon Nov 28 13:41:21 2022 Start to initiate from file :t2d_bbj.txt.gz\n",
      "Mon Nov 28 13:41:49 2022  -Reading columns          : REF,ALT,BETA,POS,P,Dir,N,SE,Frq,CHR,SNP\n",
      "Mon Nov 28 13:41:49 2022  -Renaming columns to      : NEA,EA,BETA,POS,P,DIRECTION,N,SE,EAF,CHR,SNPID\n",
      "Mon Nov 28 13:41:49 2022  -Current Dataframe shape : 12557761  x  11\n",
      "Mon Nov 28 13:41:52 2022  -Initiating a status column: STATUS ...\n",
      "Mon Nov 28 13:41:57 2022  -NEAF is specified...\n",
      "Mon Nov 28 13:41:57 2022  -Checking if 0<= NEAF <=1 ...\n",
      "Mon Nov 28 13:41:59 2022  -Converted NEAF to EAF.\n",
      "Mon Nov 28 13:41:59 2022  -Removed 0 variants with bad NEAF.\n",
      "Mon Nov 28 13:42:00 2022 Start to reorder the columns...\n",
      "Mon Nov 28 13:42:00 2022  -Current Dataframe shape : 12557761  x  12\n",
      "Mon Nov 28 13:42:00 2022  -Reordering columns to    : SNPID,CHR,POS,EA,NEA,EAF,BETA,SE,P,N,DIRECTION,STATUS\n",
      "Mon Nov 28 13:42:00 2022 Finished sorting columns successfully!\n",
      "Mon Nov 28 13:42:01 2022 Finished loading data successfully!\n"
     ]
    }
   ],
   "source": [
    "mysumstats = gl.Sumstats(\"t2d_bbj.txt.gz\",\n",
    "             snpid=\"SNP\",\n",
    "             chrom=\"CHR\",\n",
    "             pos=\"POS\",\n",
    "             ea=\"ALT\",\n",
    "             nea=\"REF\",\n",
    "             neaf=\"Frq\",\n",
    "             beta=\"BETA\",\n",
    "             se=\"SE\",\n",
    "             p=\"P\",\n",
    "             direction=\"Dir\",\n",
    "             n=\"N\")"
   ]
  },
  {
   "cell_type": "markdown",
   "metadata": {},
   "source": [
    "## Check availble formats"
   ]
  },
  {
   "cell_type": "code",
   "execution_count": 3,
   "metadata": {},
   "outputs": [
    {
     "name": "stdout",
     "output_type": "stream",
     "text": [
      "Mon Nov 28 13:42:01 2022 Available formats: fastgwa,gwascatalog,gwascatalog_hm,gwaslab,ldsc,metal,mrmega,pgscatalog,pgscatalog_hm,pheweb,plink,plink2,regenie,saige,ssf,template,vcf\n"
     ]
    }
   ],
   "source": [
    "gl.list_formats()"
   ]
  },
  {
   "cell_type": "code",
   "execution_count": 4,
   "metadata": {},
   "outputs": [
    {
     "name": "stdout",
     "output_type": "stream",
     "text": [
      "Mon Nov 28 13:42:01 2022 Available formats:Mon Nov 28 13:42:01 2022 meta_dataMon Nov 28 13:42:01 2022 format_dictMon Nov 28 13:42:01 2022 \n",
      "Mon Nov 28 13:42:01 2022 {'format_name': 'saige', 'format_source': 'https://saigegit.github.io//SAIGE-doc/docs/single_step2.html', 'format_version': 'v1.1.3', 'last_check_date': 20220806}Mon Nov 28 13:42:01 2022 {'SNPID': 'SNPID', 'CHR': 'CHR', 'POS': 'POS', 'Allele1': 'NEA', 'Allele2': 'EA', 'AF_Allele2': 'EAF', 'N': 'N', 'BETA': 'BETA', 'SE': 'SE', 'p.value': 'P', 'imputationInfo': 'INFO'}"
     ]
    }
   ],
   "source": [
    "gl.check_format(\"saige\")"
   ]
  },
  {
   "cell_type": "markdown",
   "metadata": {},
   "source": [
    "## Filter for output"
   ]
  },
  {
   "cell_type": "code",
   "execution_count": 5,
   "metadata": {
    "scrolled": false
   },
   "outputs": [
    {
     "name": "stdout",
     "output_type": "stream",
     "text": [
      "Mon Nov 28 13:42:01 2022 Start filtering values by condition: CHR == \"6\"\n",
      "Mon Nov 28 13:42:02 2022  -Removing 11724339 variants not meeting the conditions: CHR == \"6\"\n",
      "Mon Nov 28 13:42:02 2022 Finished filtering values.\n",
      "Mon Nov 28 13:42:02 2022 Start to check IDs...\n",
      "Mon Nov 28 13:42:02 2022  -Current Dataframe shape : 833422  x  12\n",
      "Mon Nov 28 13:42:02 2022  -Checking if SNPID is chr:pos:ref:alt...(separator: - ,: , _)\n",
      "Mon Nov 28 13:42:04 2022 Finished checking IDs successfully!\n",
      "Mon Nov 28 13:42:04 2022 Start to fix chromosome notation...\n",
      "Mon Nov 28 13:42:04 2022  -Current Dataframe shape : 833422  x  12\n",
      "Mon Nov 28 13:42:08 2022  -Vairants with standardized chromosome notation: 833422\n",
      "Mon Nov 28 13:42:10 2022  -All CHR are already fixed...\n",
      "Mon Nov 28 13:42:11 2022 Finished fixing chromosome notation successfully!\n",
      "Mon Nov 28 13:42:11 2022 Start to fix basepair positions...\n",
      "Mon Nov 28 13:42:11 2022  -Current Dataframe shape : 833422  x  12\n",
      "Mon Nov 28 13:42:11 2022  -Converting to Int64 data type ...\n",
      "Mon Nov 28 13:42:13 2022  -Position upper_bound is: 250,000,000\n",
      "Mon Nov 28 13:42:15 2022  -Remove outliers: 0\n",
      "Mon Nov 28 13:42:15 2022  -Converted all position to datatype Int64.\n",
      "Mon Nov 28 13:42:15 2022 Finished fixing basepair position successfully!\n",
      "Mon Nov 28 13:42:15 2022 Start to fix alleles...\n",
      "Mon Nov 28 13:42:15 2022  -Current Dataframe shape : 833422  x  12\n",
      "Mon Nov 28 13:42:16 2022  -Detected 0 variants with alleles that contain bases other than A/C/T/G .\n",
      "Mon Nov 28 13:42:16 2022  -Converted all bases to string datatype and UPPERCASE.\n",
      "Mon Nov 28 13:42:18 2022 Finished fixing allele successfully!\n",
      "Mon Nov 28 13:42:18 2022 Start sanity check for statistics ...\n",
      "Mon Nov 28 13:42:18 2022  -Current Dataframe shape : 833422  x  12\n",
      "Mon Nov 28 13:42:18 2022  -Checking if  0 <=N<= inf  ...\n",
      "Mon Nov 28 13:42:18 2022  -Removed 0 variants with bad N.\n",
      "Mon Nov 28 13:42:18 2022  -Checking if  0 <=EAF<= 1  ...\n",
      "Mon Nov 28 13:42:18 2022  -Removed 0 variants with bad EAF.\n",
      "Mon Nov 28 13:42:18 2022  -Checking if  5 <=MAC<= inf  ...\n",
      "Mon Nov 28 13:42:18 2022  -Removed 0 variants with bad MAC.\n",
      "Mon Nov 28 13:42:18 2022  -Checking if  5e-300 <= P <= 1  ...\n",
      "Mon Nov 28 13:42:18 2022  -Removed 0 variants with bad P.\n",
      "Mon Nov 28 13:42:18 2022  -Checking if  -10 <BETA)< 10  ...\n",
      "Mon Nov 28 13:42:18 2022  -Removed 0 variants with bad BETA.\n",
      "Mon Nov 28 13:42:18 2022  -Checking if  0 <SE< inf  ...\n",
      "Mon Nov 28 13:42:19 2022  -Removed 0 variants with bad SE.\n",
      "Mon Nov 28 13:42:19 2022  -Checking STATUS...\n",
      "Mon Nov 28 13:42:19 2022  -Coverting STAUTUS to interger.\n",
      "Mon Nov 28 13:42:19 2022  -Removed 0 variants with bad statistics in total.\n",
      "Mon Nov 28 13:42:19 2022 Finished sanity check successfully!\n",
      "Mon Nov 28 13:42:19 2022 Start to normalize variants...\n",
      "Mon Nov 28 13:42:19 2022  -Current Dataframe shape : 833422  x  12\n",
      "Mon Nov 28 13:42:20 2022  -No available variants to normalize..\n",
      "Mon Nov 28 13:42:20 2022 Finished normalizing variants successfully!\n"
     ]
    }
   ],
   "source": [
    "mysumstats.filter_value('CHR == \"6\"',inplace=True)\n",
    "mysumstats.basic_check()"
   ]
  },
  {
   "cell_type": "code",
   "execution_count": null,
   "metadata": {},
   "outputs": [],
   "source": []
  },
  {
   "cell_type": "markdown",
   "metadata": {},
   "source": [
    "## Formatting and saving"
   ]
  },
  {
   "cell_type": "markdown",
   "metadata": {},
   "source": [
    "### get ready for submission to gwas catalog"
   ]
  },
  {
   "cell_type": "code",
   "execution_count": 7,
   "metadata": {},
   "outputs": [
    {
     "name": "stdout",
     "output_type": "stream",
     "text": [
      "Mon Nov 28 13:44:17 2022 Start to format the output sumstats in:  gwascatalog  format\n",
      "Mon Nov 28 13:44:17 2022  -Formatting statistics ...\n",
      "Mon Nov 28 13:44:18 2022  - Float statistics formats:\n",
      "Mon Nov 28 13:44:18 2022   - Columns: ['EAF', 'BETA', 'SE', 'P']\n",
      "Mon Nov 28 13:44:18 2022   - Output formats: ['{:.4g}', '{:.4f}', '{:.4f}', '{:.4e}']\n",
      "Mon Nov 28 13:44:18 2022  - Start outputting sumstats in gwascatalog format...\n",
      "Mon Nov 28 13:44:18 2022  -gwascatalog format will be loaded...\n",
      "Mon Nov 28 13:44:18 2022  -gwascatalog format meta info:\n",
      "Mon Nov 28 13:44:18 2022   - format_name  :  gwascatalog\n",
      "Mon Nov 28 13:44:18 2022   - format_source  :  https://www.ebi.ac.uk/gwas/docs/methods/summary-statistics\n",
      "Mon Nov 28 13:44:18 2022   - format_version  :  20220726\n",
      "Mon Nov 28 13:44:18 2022  -gwaslab to gwascatalog format dictionary:\n",
      "Mon Nov 28 13:44:18 2022   - gwaslab keys: SNPID,CHR,POS,NEA,EA,BETA,EAF,SE,P,OR,OR_95L,OR_95U\n",
      "Mon Nov 28 13:44:18 2022   - gwascatalog values: variant_id,chromosome,base_pair_location,other_allele,effect_allele,beta,effect_allele_frequency,standard_error,p-value,odds_ratio,ci_lower,ci_upper\n",
      "Mon Nov 28 13:44:18 2022  -Output columns: variant_id,chromosome,base_pair_location,effect_allele,other_allele,effect_allele_frequency,beta,standard_error,p-value\n",
      "Mon Nov 28 13:44:18 2022  -Output path: ./t2d.gwascatalog.tsv.gz\n",
      "Mon Nov 28 13:44:28 2022  -md5sum hashing for the file: ./t2d.gwascatalog.tsv.gz\n",
      "Mon Nov 28 13:44:28 2022  -md5sum path: ./t2d.gwascatalog.tsv.gz.md5sum\n",
      "Mon Nov 28 13:44:28 2022  -Saving log file: ./t2d.gwascatalog.log\n",
      "Mon Nov 28 13:44:28 2022 Finished outputting successfully!\n"
     ]
    }
   ],
   "source": [
    "mysumstats.to_format(\"./t2d\",fmt=\"gwascatalog\",md5sum=True)"
   ]
  },
  {
   "cell_type": "markdown",
   "metadata": {},
   "source": [
    "### calculate md5sum for checking the integrity when sharing"
   ]
  },
  {
   "cell_type": "code",
   "execution_count": 9,
   "metadata": {},
   "outputs": [
    {
     "name": "stdout",
     "output_type": "stream",
     "text": [
      "d6d5b9ab6596b93fdafc2cc5aba0bcba\r\n"
     ]
    }
   ],
   "source": [
    "!head t2d.gwascatalog.tsv.gz.md5sum"
   ]
  },
  {
   "cell_type": "markdown",
   "metadata": {},
   "source": [
    "### convert the variant info in annovar default input format  "
   ]
  },
  {
   "cell_type": "code",
   "execution_count": 4,
   "metadata": {},
   "outputs": [
    {
     "name": "stdout",
     "output_type": "stream",
     "text": [
      "Thu Sep 22 23:34:47 2022 Start to format the output sumstats in:  annovar  format\n",
      "Thu Sep 22 23:34:47 2022  -Formatting statistics ...\n",
      "Thu Sep 22 23:34:48 2022  - Float statistics formats:\n",
      "Thu Sep 22 23:34:48 2022   - Columns: ['EAF', 'BETA', 'SE', 'P']\n",
      "Thu Sep 22 23:34:48 2022   - Output formats: ['{:.4g}', '{:.4f}', '{:.4f}', '{:.4e}']\n",
      "Thu Sep 22 23:34:48 2022  - Start outputting sumstats in annovar format...\n",
      "Thu Sep 22 23:34:48 2022  -Number of SNPs : 757588\n",
      "Thu Sep 22 23:34:48 2022  -Number of Insertions : 52621\n",
      "Thu Sep 22 23:34:48 2022  -Number of Deletions : 23213\n",
      "Thu Sep 22 23:34:48 2022  -formatting to 1-based bed-like file...\n",
      "Thu Sep 22 23:34:48 2022  -Output columns: Index(['CHR', 'START', 'END', 'NEA_out', 'EA_out', 'SNPID'], dtype='object')\n",
      "Thu Sep 22 23:34:48 2022  -Output path: ./mysumstats.annovar\n",
      "Thu Sep 22 23:34:50 2022  -Saving log file: ./mysumstats.annovar.log\n",
      "Thu Sep 22 23:34:50 2022 Finished outputting successfully!\n"
     ]
    }
   ],
   "source": [
    "mysumstats.to_format(\"./mysumstats\",fmt=\"annovar\")"
   ]
  },
  {
   "cell_type": "markdown",
   "metadata": {},
   "source": [
    "### GWAS-ssf format"
   ]
  },
  {
   "cell_type": "code",
   "execution_count": 5,
   "metadata": {},
   "outputs": [
    {
     "name": "stdout",
     "output_type": "stream",
     "text": [
      "Thu Sep 22 23:34:50 2022 Start to format the output sumstats in:  ssf  format\n",
      "Thu Sep 22 23:34:50 2022  -Formatting statistics ...\n",
      "Thu Sep 22 23:34:51 2022  - Float statistics formats:\n",
      "Thu Sep 22 23:34:51 2022   - Columns: ['EAF', 'BETA', 'SE', 'P']\n",
      "Thu Sep 22 23:34:51 2022   - Output formats: ['{:.4g}', '{:.4f}', '{:.4f}', '{:.4e}']\n",
      "Thu Sep 22 23:34:51 2022  - Start outputting sumstats in ssf format...\n",
      "Thu Sep 22 23:34:51 2022  -ssf format will be loaded...\n",
      "Thu Sep 22 23:34:51 2022  -ssf format meta info:\n",
      "Thu Sep 22 23:34:51 2022   - format_name  :  ssf\n",
      "Thu Sep 22 23:34:51 2022   - format_source  :  https://www.biorxiv.org/content/10.1101/2022.07.15.500230v1.full\n",
      "Thu Sep 22 23:34:51 2022   - format_version  :  20220726\n",
      "Thu Sep 22 23:34:51 2022  -gwaslab to ssf format dictionary:\n",
      "Thu Sep 22 23:34:51 2022   - gwaslab keys: ['SNPID', 'rsID', 'CHR', 'POS', 'NEA', 'EA', 'N', 'BETA', 'SE', 'P', 'INFO', 'OR', 'OR_95L', 'OR_95U']\n",
      "Thu Sep 22 23:34:51 2022   - ssf values: ['variant_id', 'rsid', 'chromosome', 'bas_pair_location', 'other_allele', 'effect_allele', 'n', 'beta', 'standard_error', 'p_value', 'info', 'odds_ratio', 'ci_lower', 'ci_upper']\n",
      "Thu Sep 22 23:34:51 2022  -Output columns: Index(['variant_id', 'chromosome', 'bas_pair_location', 'effect_allele',\n",
      "       'other_allele', 'beta', 'standard_error', 'p_value', 'n'],\n",
      "      dtype='object')\n",
      "Thu Sep 22 23:34:51 2022  -Output path: ./mysumstats.ssf.tsv.gz\n",
      "Thu Sep 22 23:34:58 2022  -Saving log file: ./mysumstats.ssf.log\n",
      "Thu Sep 22 23:34:58 2022 Finished outputting successfully!\n"
     ]
    }
   ],
   "source": [
    "mysumstats.to_format(\"./mysumstats\",fmt=\"ssf\")"
   ]
  },
  {
   "cell_type": "markdown",
   "metadata": {},
   "source": [
    "### ldsc default format"
   ]
  },
  {
   "cell_type": "code",
   "execution_count": 6,
   "metadata": {},
   "outputs": [
    {
     "name": "stdout",
     "output_type": "stream",
     "text": [
      "Thu Sep 22 23:34:58 2022 Start to format the output sumstats in:  ldsc  format\n",
      "Thu Sep 22 23:34:58 2022  -Excluding variants in HLA region ...\n",
      "Thu Sep 22 23:34:58 2022  -Exclude 75022 variants in HLA region.\n",
      "Thu Sep 22 23:34:58 2022  -Processing 758400 raw variants...\n",
      "Thu Sep 22 23:34:58 2022  -Loading Hapmap3 variants data...\n",
      "Thu Sep 22 23:34:59 2022  -Since rsID not in sumstats, chr:pos( build 19) will be used for matching...\n",
      "Thu Sep 22 23:35:01 2022  -Raw input contains 66674 hapmaps variants based on chr:pos...\n",
      "Thu Sep 22 23:35:01 2022  -Extract 66674 variants in Hapmap3 datasets for build 19.\n",
      "Thu Sep 22 23:35:01 2022  -Formatting statistics ...\n",
      "Thu Sep 22 23:35:01 2022  - Float statistics formats:\n",
      "Thu Sep 22 23:35:01 2022   - Columns: ['EAF', 'BETA', 'SE', 'P']\n",
      "Thu Sep 22 23:35:01 2022   - Output formats: ['{:.4g}', '{:.4f}', '{:.4f}', '{:.4e}']\n",
      "Thu Sep 22 23:35:01 2022  - Start outputting sumstats in ldsc format...\n",
      "Thu Sep 22 23:35:01 2022  -ldsc format will be loaded...\n",
      "Thu Sep 22 23:35:01 2022  -ldsc format meta info:\n",
      "Thu Sep 22 23:35:01 2022   - format_name  :  ldsc\n",
      "Thu Sep 22 23:35:01 2022   - format_source  :  https://github.com/bulik/ldsc/wiki/Summary-Statistics-File-Format\n",
      "Thu Sep 22 23:35:01 2022   - format_source2  :  https://github.com/bulik/ldsc/blob/master/munge_sumstats.py\n",
      "Thu Sep 22 23:35:01 2022   - format_version  :  20150306\n",
      "Thu Sep 22 23:35:01 2022  -gwaslab to ldsc format dictionary:\n",
      "Thu Sep 22 23:35:01 2022   - gwaslab keys: ['rsID', 'NEA', 'EA', 'N', 'BETA', 'P', 'INFO', 'OR']\n",
      "Thu Sep 22 23:35:01 2022   - ldsc values: ['SNP', 'A2', 'A1', 'N', 'Beta', 'P', 'INFO', 'OR']\n",
      "Thu Sep 22 23:35:01 2022  -Output columns: Index(['A1', 'A2', 'Beta', 'P', 'N', 'SNP'], dtype='object')\n",
      "Thu Sep 22 23:35:01 2022  -Output path: ./mysumstats.hapmap3.noMHC.ldsc.tsv.gz\n",
      "Thu Sep 22 23:35:02 2022  -Saving log file: ./mysumstats.hapmap3.noMHC.ldsc.log\n",
      "Thu Sep 22 23:35:02 2022 Finished outputting successfully!\n"
     ]
    }
   ],
   "source": [
    "mysumstats.to_format(\"./mysumstats\",fmt=\"ldsc\",hapmap3=True,exclude_hla=True)"
   ]
  },
  {
   "cell_type": "code",
   "execution_count": 7,
   "metadata": {},
   "outputs": [
    {
     "name": "stdout",
     "output_type": "stream",
     "text": [
      "Thu Sep 22 23:35:02 2022 Start to format the output sumstats in:  ldsc  format\n",
      "Thu Sep 22 23:35:02 2022  -Excluding variants in HLA region ...\n",
      "Thu Sep 22 23:35:02 2022  -Exclude 75022 variants in HLA region.\n",
      "Thu Sep 22 23:35:02 2022  -Processing 758400 raw variants...\n",
      "Thu Sep 22 23:35:02 2022  -Loading Hapmap3 variants data...\n",
      "Thu Sep 22 23:35:03 2022  -Since rsID not in sumstats, chr:pos( build 19) will be used for matching...\n",
      "Thu Sep 22 23:35:05 2022  -Raw input contains 66674 hapmaps variants based on chr:pos...\n",
      "Thu Sep 22 23:35:05 2022  -Extract 66674 variants in Hapmap3 datasets for build 19.\n",
      "Thu Sep 22 23:35:05 2022  -Formatting statistics ...\n",
      "Thu Sep 22 23:35:05 2022  - Float statistics formats:\n",
      "Thu Sep 22 23:35:05 2022   - Columns: ['EAF', 'BETA', 'SE', 'P']\n",
      "Thu Sep 22 23:35:05 2022   - Output formats: ['{:.4g}', '{:.4f}', '{:.4f}', '{:.4e}']\n",
      "Thu Sep 22 23:35:05 2022  - Start outputting sumstats in ldsc format...\n",
      "Thu Sep 22 23:35:05 2022  -ldsc format will be loaded...\n",
      "Thu Sep 22 23:35:05 2022  -ldsc format meta info:\n",
      "Thu Sep 22 23:35:05 2022   - format_name  :  ldsc\n",
      "Thu Sep 22 23:35:05 2022   - format_source  :  https://github.com/bulik/ldsc/wiki/Summary-Statistics-File-Format\n",
      "Thu Sep 22 23:35:05 2022   - format_source2  :  https://github.com/bulik/ldsc/blob/master/munge_sumstats.py\n",
      "Thu Sep 22 23:35:05 2022   - format_version  :  20150306\n",
      "Thu Sep 22 23:35:05 2022  -gwaslab to ldsc format dictionary:\n",
      "Thu Sep 22 23:35:05 2022   - gwaslab keys: ['rsID', 'NEA', 'EA', 'N', 'BETA', 'P', 'INFO', 'OR']\n",
      "Thu Sep 22 23:35:05 2022   - ldsc values: ['SNP', 'A2', 'A1', 'N', 'Beta', 'P', 'INFO', 'OR']\n",
      "Thu Sep 22 23:35:05 2022  -Output columns: Index(['A1', 'A2', 'Beta', 'P', 'N', 'SNP'], dtype='object')\n",
      "Thu Sep 22 23:35:05 2022  -Output path: ./mysumstats.hapmap3.noMHC.ldsc.tsv.gz\n",
      "Thu Sep 22 23:35:06 2022  -Saving log file: ./mysumstats.hapmap3.noMHC.ldsc.log\n",
      "Thu Sep 22 23:35:06 2022 Finished outputting successfully!\n"
     ]
    }
   ],
   "source": [
    "mysumstats.to_format(\"./mysumstats\",fmt=\"ldsc\",hapmap3=True,exclude_hla=True)"
   ]
  },
  {
   "cell_type": "markdown",
   "metadata": {},
   "source": [
    "### convert to bed format"
   ]
  },
  {
   "cell_type": "code",
   "execution_count": 10,
   "metadata": {},
   "outputs": [
    {
     "name": "stdout",
     "output_type": "stream",
     "text": [
      "Thu Sep 22 23:55:15 2022 Start to format the output sumstats in:  bed  format\n",
      "Thu Sep 22 23:55:15 2022  -Formatting statistics ...\n",
      "Thu Sep 22 23:55:16 2022  - Float statistics formats:\n",
      "Thu Sep 22 23:55:16 2022   - Columns: ['EAF', 'BETA', 'SE', 'P']\n",
      "Thu Sep 22 23:55:16 2022   - Output formats: ['{:.4g}', '{:.4f}', '{:.4f}', '{:.4e}']\n",
      "Thu Sep 22 23:55:16 2022  - Start outputting sumstats in bed format...\n",
      "Thu Sep 22 23:55:16 2022  -Number of SNPs : 757588\n",
      "Thu Sep 22 23:55:16 2022  -Number of Insertions : 52621\n",
      "Thu Sep 22 23:55:16 2022  -Number of Deletions : 23213\n",
      "Thu Sep 22 23:55:16 2022  -formatting to 0-based bed-like file...\n",
      "Thu Sep 22 23:55:17 2022  -Output columns: Index(['CHR', 'START', 'END', 'NEA/EA', 'STRAND', 'SNPID'], dtype='object')\n",
      "Thu Sep 22 23:55:17 2022  -Output path: ./mysumstats.bed\n",
      "Thu Sep 22 23:55:18 2022  -Saving log file: ./mysumstats.bed.log\n",
      "Thu Sep 22 23:55:18 2022 Finished outputting successfully!\n"
     ]
    }
   ],
   "source": [
    "mysumstats.to_format(\"./mysumstats\",fmt=\"bed\")"
   ]
  },
  {
   "cell_type": "markdown",
   "metadata": {},
   "source": [
    "### convert to vep default format"
   ]
  },
  {
   "cell_type": "code",
   "execution_count": 11,
   "metadata": {},
   "outputs": [
    {
     "name": "stdout",
     "output_type": "stream",
     "text": [
      "Thu Sep 22 23:55:18 2022 Start to format the output sumstats in:  vep  format\n",
      "Thu Sep 22 23:55:18 2022  -Formatting statistics ...\n",
      "Thu Sep 22 23:55:19 2022  - Float statistics formats:\n",
      "Thu Sep 22 23:55:19 2022   - Columns: ['EAF', 'BETA', 'SE', 'P']\n",
      "Thu Sep 22 23:55:19 2022   - Output formats: ['{:.4g}', '{:.4f}', '{:.4f}', '{:.4e}']\n",
      "Thu Sep 22 23:55:19 2022  - Start outputting sumstats in vep format...\n",
      "Thu Sep 22 23:55:19 2022  -Number of SNPs : 757588\n",
      "Thu Sep 22 23:55:19 2022  -Number of Insertions : 52621\n",
      "Thu Sep 22 23:55:19 2022  -Number of Deletions : 23213\n",
      "Thu Sep 22 23:55:19 2022  -formatting to 1-based bed-like file (for vep)...\n",
      "Thu Sep 22 23:55:20 2022  -Output columns: Index(['CHR', 'START', 'END', 'NEA/EA', 'STRAND', 'SNPID'], dtype='object')\n",
      "Thu Sep 22 23:55:20 2022  -Output path: ./mysumstats.vep.gz\n",
      "Thu Sep 22 23:55:26 2022  -Saving log file: ./mysumstats.vep.log\n",
      "Thu Sep 22 23:55:26 2022 Finished outputting successfully!\n"
     ]
    }
   ],
   "source": [
    "mysumstats.to_format(\"./mysumstats\",fmt=\"vep\")"
   ]
  },
  {
   "cell_type": "code",
   "execution_count": null,
   "metadata": {},
   "outputs": [],
   "source": []
  }
 ],
 "metadata": {
  "kernelspec": {
   "display_name": "Python 3",
   "language": "python",
   "name": "python3"
  },
  "language_info": {
   "codemirror_mode": {
    "name": "ipython",
    "version": 3
   },
   "file_extension": ".py",
   "mimetype": "text/x-python",
   "name": "python",
   "nbconvert_exporter": "python",
   "pygments_lexer": "ipython3",
   "version": "3.8.3"
  }
 },
 "nbformat": 4,
 "nbformat_minor": 5
}
