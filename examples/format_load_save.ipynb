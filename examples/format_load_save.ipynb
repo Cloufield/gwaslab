{
 "cells": [
  {
   "cell_type": "markdown",
   "id": "ad1a0847",
   "metadata": {},
   "source": [
    "# Formatting and saving"
   ]
  },
  {
   "cell_type": "code",
   "execution_count": null,
   "id": "cad62918",
   "metadata": {},
   "outputs": [],
   "source": [
    "!wget -O t2d_bbj.txt.gz http://jenger.riken.jp/14/"
   ]
  },
  {
   "cell_type": "code",
   "execution_count": 1,
   "id": "03531f39",
   "metadata": {},
   "outputs": [],
   "source": [
    "import sys\n",
    "sys.path.insert(0,\"/home/he/work/gwaslab/src\")\n",
    "import gwaslab as gl"
   ]
  },
  {
   "cell_type": "markdown",
   "id": "665784c7",
   "metadata": {},
   "source": [
    "## Loading data"
   ]
  },
  {
   "cell_type": "code",
   "execution_count": 2,
   "id": "ce0f142c",
   "metadata": {},
   "outputs": [
    {
     "name": "stdout",
     "output_type": "stream",
     "text": [
      "Mon Dec 26 00:40:05 2022 Start to initiate from file :t2d_bbj.txt.gz\n",
      "Mon Dec 26 00:40:25 2022  -Reading columns          : POS,Dir,SNP,P,Frq,REF,CHR,BETA,N,ALT,SE\n",
      "Mon Dec 26 00:40:25 2022  -Renaming columns to      : POS,DIRECTION,SNPID,P,EAF,NEA,CHR,BETA,N,EA,SE\n",
      "Mon Dec 26 00:40:25 2022  -Current Dataframe shape : 12557761  x  11\n",
      "Mon Dec 26 00:40:26 2022  -Initiating a status column: STATUS ...\n",
      "Mon Dec 26 00:40:30 2022  -NEAF is specified...\n",
      "Mon Dec 26 00:40:30 2022  -Checking if 0<= NEAF <=1 ...\n",
      "Mon Dec 26 00:40:31 2022  -Converted NEAF to EAF.\n",
      "Mon Dec 26 00:40:31 2022  -Removed 0 variants with bad NEAF.\n",
      "Mon Dec 26 00:40:31 2022 Start to reorder the columns...\n",
      "Mon Dec 26 00:40:31 2022  -Current Dataframe shape : 12557761  x  12\n",
      "Mon Dec 26 00:40:31 2022  -Reordering columns to    : SNPID,CHR,POS,EA,NEA,EAF,BETA,SE,P,N,DIRECTION,STATUS\n",
      "Mon Dec 26 00:40:31 2022 Finished sorting columns successfully!\n",
      "Mon Dec 26 00:40:31 2022 Finished loading data successfully!\n"
     ]
    }
   ],
   "source": [
    "mysumstats = gl.Sumstats(\"t2d_bbj.txt.gz\",\n",
    "             snpid=\"SNP\",\n",
    "             chrom=\"CHR\",\n",
    "             pos=\"POS\",\n",
    "             ea=\"ALT\",\n",
    "             nea=\"REF\",\n",
    "             neaf=\"Frq\",\n",
    "             beta=\"BETA\",\n",
    "             se=\"SE\",\n",
    "             p=\"P\",\n",
    "             direction=\"Dir\",\n",
    "             n=\"N\")"
   ]
  },
  {
   "cell_type": "markdown",
   "id": "ab477af2",
   "metadata": {},
   "source": [
    "## Check availble formats"
   ]
  },
  {
   "cell_type": "code",
   "execution_count": 3,
   "id": "ff45fe2c",
   "metadata": {},
   "outputs": [
    {
     "name": "stdout",
     "output_type": "stream",
     "text": [
      "Mon Dec 26 00:29:00 2022 Available formats: bolt_lmm,fastgwa,gwascatalog,gwascatalog_hm,gwaslab,ldsc,metal,mrmega,pgscatalog,pgscatalog_hm,pheweb,plink,plink2,regenie,saige,ssf,template,vcf\n"
     ]
    }
   ],
   "source": [
    "gl.list_formats()"
   ]
  },
  {
   "cell_type": "code",
   "execution_count": 4,
   "id": "8009e7f4",
   "metadata": {},
   "outputs": [
    {
     "name": "stdout",
     "output_type": "stream",
     "text": [
      "Mon Dec 26 00:29:00 2022 Available formats:Mon Dec 26 00:29:00 2022 meta_dataMon Dec 26 00:29:00 2022 format_dictMon Dec 26 00:29:00 2022 \n",
      "Mon Dec 26 00:29:00 2022 {'format_name': 'saige', 'format_source': 'https://saigegit.github.io//SAIGE-doc/docs/single_step2.html', 'format_version': 'v1.1.3', 'last_check_date': 20220806}Mon Dec 26 00:29:00 2022 {'SNPID': 'SNPID', 'CHR': 'CHR', 'POS': 'POS', 'Allele1': 'NEA', 'Allele2': 'EA', 'AF_Allele2': 'EAF', 'N': 'N', 'BETA': 'BETA', 'SE': 'SE', 'p.value': 'P', 'imputationInfo': 'INFO'}"
     ]
    }
   ],
   "source": [
    "gl.check_format(\"saige\")"
   ]
  },
  {
   "cell_type": "markdown",
   "id": "dfbf5c0d",
   "metadata": {},
   "source": [
    "## Filter for output"
   ]
  },
  {
   "cell_type": "code",
   "execution_count": 5,
   "id": "4208ab3d",
   "metadata": {
    "scrolled": false
   },
   "outputs": [
    {
     "name": "stdout",
     "output_type": "stream",
     "text": [
      "Mon Dec 26 00:29:01 2022 Start filtering values by condition: CHR == \"6\"\n",
      "Mon Dec 26 00:29:01 2022  -Removing 11724339 variants not meeting the conditions: CHR == \"6\"\n",
      "Mon Dec 26 00:29:01 2022 Finished filtering values.\n",
      "Mon Dec 26 00:29:01 2022 Start to check IDs...\n",
      "Mon Dec 26 00:29:01 2022  -Current Dataframe shape : 833422  x  12\n",
      "Mon Dec 26 00:29:01 2022  -Checking if SNPID is chr:pos:ref:alt...(separator: - ,: , _)\n",
      "Mon Dec 26 00:29:03 2022 Finished checking IDs successfully!\n",
      "Mon Dec 26 00:29:03 2022 Start to fix chromosome notation...\n",
      "Mon Dec 26 00:29:03 2022  -Current Dataframe shape : 833422  x  12\n",
      "Mon Dec 26 00:29:04 2022  -Vairants with standardized chromosome notation: 833422\n",
      "Mon Dec 26 00:29:06 2022  -All CHR are already fixed...\n",
      "Mon Dec 26 00:29:07 2022 Finished fixing chromosome notation successfully!\n",
      "Mon Dec 26 00:29:07 2022 Start to fix basepair positions...\n",
      "Mon Dec 26 00:29:07 2022  -Current Dataframe shape : 833422  x  12\n",
      "Mon Dec 26 00:29:07 2022  -Converting to Int64 data type ...\n",
      "Mon Dec 26 00:29:08 2022  -Position upper_bound is: 250,000,000\n",
      "Mon Dec 26 00:29:09 2022  -Remove outliers: 0\n",
      "Mon Dec 26 00:29:10 2022  -Converted all position to datatype Int64.\n",
      "Mon Dec 26 00:29:10 2022 Finished fixing basepair position successfully!\n",
      "Mon Dec 26 00:29:10 2022 Start to fix alleles...\n",
      "Mon Dec 26 00:29:10 2022  -Current Dataframe shape : 833422  x  12\n",
      "Mon Dec 26 00:29:10 2022  -Detected 0 variants with alleles that contain bases other than A/C/T/G .\n",
      "Mon Dec 26 00:29:10 2022  -Converted all bases to string datatype and UPPERCASE.\n",
      "Mon Dec 26 00:29:11 2022 Finished fixing allele successfully!\n",
      "Mon Dec 26 00:29:11 2022 Start sanity check for statistics ...\n",
      "Mon Dec 26 00:29:11 2022  -Current Dataframe shape : 833422  x  12\n",
      "Mon Dec 26 00:29:11 2022  -Checking if  0 <=N<= inf  ...\n",
      "Mon Dec 26 00:29:12 2022  -Removed 0 variants with bad N.\n",
      "Mon Dec 26 00:29:12 2022  -Checking if  0 <=EAF<= 1  ...\n",
      "Mon Dec 26 00:29:12 2022  -Removed 0 variants with bad EAF.\n",
      "Mon Dec 26 00:29:12 2022  -Checking if  5 <=MAC<= inf  ...\n",
      "Mon Dec 26 00:29:12 2022  -Removed 0 variants with bad MAC.\n",
      "Mon Dec 26 00:29:12 2022  -Checking if  5e-300 <= P <= 1  ...\n",
      "Mon Dec 26 00:29:12 2022  -Removed 0 variants with bad P.\n",
      "Mon Dec 26 00:29:12 2022  -Checking if  -10 <BETA)< 10  ...\n",
      "Mon Dec 26 00:29:12 2022  -Removed 0 variants with bad BETA.\n",
      "Mon Dec 26 00:29:12 2022  -Checking if  0 <SE< inf  ...\n",
      "Mon Dec 26 00:29:12 2022  -Removed 0 variants with bad SE.\n",
      "Mon Dec 26 00:29:12 2022  -Checking STATUS...\n",
      "Mon Dec 26 00:29:12 2022  -Coverting STAUTUS to interger.\n",
      "Mon Dec 26 00:29:12 2022  -Removed 0 variants with bad statistics in total.\n",
      "Mon Dec 26 00:29:12 2022 Finished sanity check successfully!\n",
      "Mon Dec 26 00:29:12 2022 Start to normalize variants...\n",
      "Mon Dec 26 00:29:12 2022  -Current Dataframe shape : 833422  x  12\n",
      "Mon Dec 26 00:29:13 2022  -No available variants to normalize..\n",
      "Mon Dec 26 00:29:13 2022 Finished normalizing variants successfully!\n"
     ]
    }
   ],
   "source": [
    "mysumstats.filter_value('CHR == \"6\"',inplace=True)\n",
    "mysumstats.basic_check()"
   ]
  },
  {
   "cell_type": "markdown",
   "id": "d7391280",
   "metadata": {},
   "source": [
    "## Formatting and saving"
   ]
  },
  {
   "cell_type": "markdown",
   "id": "2a565395",
   "metadata": {},
   "source": [
    "### get ready for submission to gwas catalog"
   ]
  },
  {
   "cell_type": "code",
   "execution_count": 6,
   "id": "61449cfe",
   "metadata": {},
   "outputs": [
    {
     "name": "stdout",
     "output_type": "stream",
     "text": [
      "Mon Dec 26 00:29:13 2022 Start to format the output sumstats in:  gwascatalog  format\n",
      "Mon Dec 26 00:29:13 2022  -Formatting statistics ...\n",
      "Mon Dec 26 00:29:15 2022  - Float statistics formats:\n",
      "Mon Dec 26 00:29:15 2022   - Columns: ['EAF', 'BETA', 'SE', 'P']\n",
      "Mon Dec 26 00:29:15 2022   - Output formats: ['{:.4g}', '{:.4f}', '{:.4f}', '{:.4e}']\n",
      "Mon Dec 26 00:29:15 2022  - Start outputting sumstats in gwascatalog format...\n",
      "Mon Dec 26 00:29:15 2022  -gwascatalog format will be loaded...\n",
      "Mon Dec 26 00:29:15 2022  -gwascatalog format meta info:\n",
      "Mon Dec 26 00:29:15 2022   - format_name  :  gwascatalog\n",
      "Mon Dec 26 00:29:15 2022   - format_source  :  https://www.ebi.ac.uk/gwas/docs/methods/summary-statistics\n",
      "Mon Dec 26 00:29:15 2022   - format_version  :  20220726\n",
      "Mon Dec 26 00:29:15 2022  -gwaslab to gwascatalog format dictionary:\n",
      "Mon Dec 26 00:29:15 2022   - gwaslab keys: SNPID,CHR,POS,NEA,EA,BETA,EAF,SE,P,OR,OR_95L,OR_95U\n",
      "Mon Dec 26 00:29:15 2022   - gwascatalog values: variant_id,chromosome,base_pair_location,other_allele,effect_allele,beta,effect_allele_frequency,standard_error,p-value,odds_ratio,ci_lower,ci_upper\n",
      "Mon Dec 26 00:29:15 2022  -Output columns: variant_id,chromosome,base_pair_location,effect_allele,other_allele,effect_allele_frequency,beta,standard_error,p-value\n",
      "Mon Dec 26 00:29:15 2022  -Output path: ./t2d.gwascatalog.tsv.gz\n",
      "Mon Dec 26 00:29:27 2022  -md5sum hashing for the file: ./t2d.gwascatalog.tsv.gz\n",
      "Mon Dec 26 00:29:27 2022  -md5sum path: ./t2d.gwascatalog.tsv.gz.md5sum\n",
      "Mon Dec 26 00:29:27 2022  -Saving log file: ./t2d.gwascatalog.log\n",
      "Mon Dec 26 00:29:27 2022 Finished outputting successfully!\n"
     ]
    }
   ],
   "source": [
    "mysumstats.to_format(\"./t2d\",fmt=\"gwascatalog\",md5sum=True)"
   ]
  },
  {
   "cell_type": "markdown",
   "id": "f3ef8b84",
   "metadata": {},
   "source": [
    "### calculate md5sum for checking the integrity when sharing"
   ]
  },
  {
   "cell_type": "code",
   "execution_count": 7,
   "id": "d276a228",
   "metadata": {},
   "outputs": [
    {
     "name": "stdout",
     "output_type": "stream",
     "text": [
      "3b73c8d14e60b125c79a7cfc24d47622\r\n"
     ]
    }
   ],
   "source": [
    "!head t2d.gwascatalog.tsv.gz.md5sum"
   ]
  },
  {
   "cell_type": "markdown",
   "id": "4c840260",
   "metadata": {},
   "source": [
    "### GWAS-ssf format"
   ]
  },
  {
   "cell_type": "code",
   "execution_count": 8,
   "id": "69c2668f",
   "metadata": {},
   "outputs": [
    {
     "name": "stdout",
     "output_type": "stream",
     "text": [
      "Mon Dec 26 00:29:27 2022 Start to format the output sumstats in:  ssf  format\n",
      "Mon Dec 26 00:29:27 2022  -Formatting statistics ...\n",
      "Mon Dec 26 00:29:28 2022  - Float statistics formats:\n",
      "Mon Dec 26 00:29:28 2022   - Columns: ['EAF', 'BETA', 'SE', 'P']\n",
      "Mon Dec 26 00:29:28 2022   - Output formats: ['{:.4g}', '{:.4f}', '{:.4f}', '{:.4e}']\n",
      "Mon Dec 26 00:29:28 2022  - Start outputting sumstats in ssf format...\n",
      "Mon Dec 26 00:29:29 2022  -ssf format will be loaded...\n",
      "Mon Dec 26 00:29:29 2022  -ssf format meta info:\n",
      "Mon Dec 26 00:29:29 2022   - format_name  :  ssf\n",
      "Mon Dec 26 00:29:29 2022   - format_source  :  https://www.biorxiv.org/content/10.1101/2022.07.15.500230v1.full\n",
      "Mon Dec 26 00:29:29 2022   - format_version  :  20220726\n",
      "Mon Dec 26 00:29:29 2022  -gwaslab to ssf format dictionary:\n",
      "Mon Dec 26 00:29:29 2022   - gwaslab keys: SNPID,rsID,CHR,POS,NEA,EA,N,BETA,SE,P,INFO,OR,OR_95L,OR_95U\n",
      "Mon Dec 26 00:29:29 2022   - ssf values: variant_id,rsid,chromosome,bas_pair_location,other_allele,effect_allele,n,beta,standard_error,p_value,info,odds_ratio,ci_lower,ci_upper\n",
      "Mon Dec 26 00:29:29 2022  -Output columns: variant_id,chromosome,bas_pair_location,effect_allele,other_allele,beta,standard_error,p_value,n\n",
      "Mon Dec 26 00:29:29 2022  -Output path: ./mysumstats.ssf.tsv.gz\n",
      "Mon Dec 26 00:29:38 2022  -Saving log file: ./mysumstats.ssf.log\n",
      "Mon Dec 26 00:29:38 2022 Finished outputting successfully!\n"
     ]
    }
   ],
   "source": [
    "mysumstats.to_format(\"./mysumstats\",fmt=\"ssf\")"
   ]
  },
  {
   "cell_type": "markdown",
   "id": "45077731",
   "metadata": {},
   "source": [
    "### ldsc default format"
   ]
  },
  {
   "cell_type": "code",
   "execution_count": 9,
   "id": "e8204a6e",
   "metadata": {},
   "outputs": [
    {
     "name": "stdout",
     "output_type": "stream",
     "text": [
      "Mon Dec 26 00:29:38 2022 Start to format the output sumstats in:  ldsc  format\n",
      "Mon Dec 26 00:29:38 2022  -Excluding variants in HLA region ...\n",
      "Mon Dec 26 00:29:39 2022  -Exclude 75022 variants in HLA region.\n",
      "Mon Dec 26 00:29:39 2022  -Processing 758400 raw variants...\n",
      "Mon Dec 26 00:29:39 2022  -Loading Hapmap3 variants data...\n",
      "Mon Dec 26 00:29:40 2022  -Since rsID not in sumstats, chr:pos( build 19) will be used for matching...\n",
      "Mon Dec 26 00:29:43 2022  -Raw input contains 66674 hapmaps variants based on chr:pos...\n",
      "Mon Dec 26 00:29:43 2022  -Extract 66674 variants in Hapmap3 datasets for build 19.\n",
      "Mon Dec 26 00:29:43 2022  -Formatting statistics ...\n",
      "Mon Dec 26 00:29:43 2022  - Float statistics formats:\n",
      "Mon Dec 26 00:29:43 2022   - Columns: ['EAF', 'BETA', 'SE', 'P']\n",
      "Mon Dec 26 00:29:43 2022   - Output formats: ['{:.4g}', '{:.4f}', '{:.4f}', '{:.4e}']\n",
      "Mon Dec 26 00:29:43 2022  - Start outputting sumstats in ldsc format...\n",
      "Mon Dec 26 00:29:43 2022  -ldsc format will be loaded...\n",
      "Mon Dec 26 00:29:43 2022  -ldsc format meta info:\n",
      "Mon Dec 26 00:29:43 2022   - format_name  :  ldsc\n",
      "Mon Dec 26 00:29:43 2022   - format_source  :  https://github.com/bulik/ldsc/wiki/Summary-Statistics-File-Format\n",
      "Mon Dec 26 00:29:43 2022   - format_source2  :  https://github.com/bulik/ldsc/blob/master/munge_sumstats.py\n",
      "Mon Dec 26 00:29:43 2022   - format_version  :  20150306\n",
      "Mon Dec 26 00:29:43 2022  -gwaslab to ldsc format dictionary:\n",
      "Mon Dec 26 00:29:43 2022   - gwaslab keys: rsID,NEA,EA,EAF,N,BETA,P,Z,INFO,OR,CHR,POS\n",
      "Mon Dec 26 00:29:43 2022   - ldsc values: SNP,A2,A1,Frq,N,Beta,P,Z,INFO,OR,CHR,POS\n",
      "Mon Dec 26 00:29:43 2022  -Output columns: CHR,POS,A1,A2,Frq,Beta,P,N,SNP\n",
      "Mon Dec 26 00:29:43 2022  -Output path: ./mysumstats.hapmap3.noMHC.ldsc.tsv.gz\n",
      "Mon Dec 26 00:29:44 2022  -Saving log file: ./mysumstats.hapmap3.noMHC.ldsc.log\n",
      "Mon Dec 26 00:29:44 2022 Finished outputting successfully!\n"
     ]
    }
   ],
   "source": [
    "mysumstats.to_format(\"./mysumstats\",fmt=\"ldsc\",hapmap3=True,exclude_hla=True)"
   ]
  },
  {
   "cell_type": "markdown",
   "id": "20f2c297",
   "metadata": {},
   "source": [
    "### vcf"
   ]
  },
  {
   "cell_type": "code",
   "execution_count": 11,
   "id": "7ddc3164",
   "metadata": {},
   "outputs": [
    {
     "name": "stdout",
     "output_type": "stream",
     "text": [
      "Mon Dec 26 00:30:15 2022 Start to format the output sumstats in:  vcf  format\n",
      "Mon Dec 26 00:30:15 2022  -Formatting statistics ...\n",
      "Mon Dec 26 00:30:16 2022  - Float statistics formats:\n",
      "Mon Dec 26 00:30:16 2022   - Columns: ['EAF', 'BETA', 'SE', 'P']\n",
      "Mon Dec 26 00:30:16 2022   - Output formats: ['{:.4g}', '{:.4f}', '{:.4f}', '{:.4e}']\n",
      "Mon Dec 26 00:30:16 2022  - Start outputting sumstats in vcf format...\n",
      "Mon Dec 26 00:30:16 2022  -vcf format will be loaded...\n",
      "Mon Dec 26 00:30:16 2022  -vcf format meta info:\n",
      "Mon Dec 26 00:30:16 2022   - format_name  :  vcf\n",
      "Mon Dec 26 00:30:16 2022   - format_source  :  https://github.com/MRCIEU/gwas-vcf-specification/tree/1.0.0\n",
      "Mon Dec 26 00:30:16 2022   - format_version  :  20220923\n",
      "Mon Dec 26 00:30:16 2022   - format_citation  :  Lyon, M.S., Andrews, S.J., Elsworth, B. et al. The variant call format provides efficient and robust storage of GWAS summary statistics. Genome Biol 22, 32 (2021). https://doi.org/10.1186/s13059-020-02248-0\n",
      "Mon Dec 26 00:30:16 2022   - format_fixed  :  ['#CHROM', 'POS', 'ID', 'REF', 'ALT', 'QUAL', 'FILTER', 'INFO', 'FORMAT']\n",
      "Mon Dec 26 00:30:16 2022   - format_format  :  ['ID', 'SS', 'ES', 'SE', 'LP', 'SI', 'EZ']\n",
      "Mon Dec 26 00:30:16 2022  -gwaslab to vcf format dictionary:\n",
      "Mon Dec 26 00:30:16 2022   - gwaslab keys: rsID,CHR,POS,NEA,EA,N,EAF,BETA,SE,MLOG10P,INFO,Z,SNPID\n",
      "Mon Dec 26 00:30:16 2022   - vcf values: ID,#CHROM,POS,REF,ALT,SS,AF,ES,SE,LP,SI,EZ,ID\n",
      "Mon Dec 26 00:30:18 2022  -Output path: ./mysumstats.vcf\n",
      "Mon Dec 26 00:30:18 2022  -vcf header contig build:19\n",
      "Mon Dec 26 00:30:18 2022  -Output columns: #CHROM POS ID REF ALT QUAL FILTER INFO FORMAT Sumstats_1\n",
      "Mon Dec 26 00:30:18 2022  -Outputing data...\n",
      "Mon Dec 26 00:37:34 2022  -bgzip compressing ...\n",
      "Mon Dec 26 00:37:37 2022  -tabix indexing...\n",
      "Mon Dec 26 00:37:38 2022  -Saving log file: ./mysumstats.vcf.log\n",
      "Mon Dec 26 00:37:38 2022 Finished outputting successfully!\n"
     ]
    }
   ],
   "source": [
    "mysumstats.to_format(\"./mysumstats\",fmt=\"vcf\",bgzip=True,tabix=True)"
   ]
  },
  {
   "cell_type": "markdown",
   "id": "a360ba8f",
   "metadata": {},
   "source": [
    "## For annotation"
   ]
  },
  {
   "cell_type": "markdown",
   "id": "0192b1ae",
   "metadata": {},
   "source": [
    "### convert to bed format"
   ]
  },
  {
   "cell_type": "code",
   "execution_count": 3,
   "id": "acc2d8cb",
   "metadata": {},
   "outputs": [
    {
     "name": "stdout",
     "output_type": "stream",
     "text": [
      "Mon Dec 26 00:40:31 2022 Start to format the output sumstats in:  bed  format\n",
      "Mon Dec 26 00:40:32 2022  -Formatting statistics ...\n",
      "Mon Dec 26 00:40:52 2022  - Float statistics formats:\n",
      "Mon Dec 26 00:40:52 2022   - Columns: ['EAF', 'BETA', 'SE', 'P']\n",
      "Mon Dec 26 00:40:52 2022   - Output formats: ['{:.4g}', '{:.4f}', '{:.4f}', '{:.4e}']\n",
      "Mon Dec 26 00:40:52 2022  - Start outputting sumstats in bed format...\n",
      "Mon Dec 26 00:40:55 2022  -Number of SNPs : 11421217\n",
      "Mon Dec 26 00:40:56 2022  -Number of Insertions : 781996\n",
      "Mon Dec 26 00:40:57 2022  -Number of Deletions : 354536\n",
      "Mon Dec 26 00:40:57 2022  -formatting to 0-based bed-like file...\n",
      "Mon Dec 26 00:41:07 2022  -Output columns: Index(['CHR', 'START', 'END', 'NEA/EA', 'STRAND', 'SNPID'], dtype='object')\n",
      "Mon Dec 26 00:41:07 2022  -Output path: ./mysumstats.bed\n",
      "Mon Dec 26 00:41:37 2022  -Saving log file: ./mysumstats.bed.log\n",
      "Mon Dec 26 00:41:37 2022 Finished outputting successfully!\n"
     ]
    }
   ],
   "source": [
    "mysumstats.to_format(\"./mysumstats\",fmt=\"bed\")"
   ]
  },
  {
   "cell_type": "markdown",
   "id": "027f04d4",
   "metadata": {},
   "source": [
    "### convert to vep default format"
   ]
  },
  {
   "cell_type": "code",
   "execution_count": 4,
   "id": "10d6e0bc",
   "metadata": {},
   "outputs": [
    {
     "name": "stdout",
     "output_type": "stream",
     "text": [
      "Mon Dec 26 00:41:38 2022 Start to format the output sumstats in:  vep  format\n",
      "Mon Dec 26 00:41:39 2022  -Formatting statistics ...\n",
      "Mon Dec 26 00:41:58 2022  - Float statistics formats:\n",
      "Mon Dec 26 00:41:58 2022   - Columns: ['EAF', 'BETA', 'SE', 'P']\n",
      "Mon Dec 26 00:41:58 2022   - Output formats: ['{:.4g}', '{:.4f}', '{:.4f}', '{:.4e}']\n",
      "Mon Dec 26 00:41:58 2022  - Start outputting sumstats in vep format...\n",
      "Mon Dec 26 00:42:01 2022  -Number of SNPs : 11421217\n",
      "Mon Dec 26 00:42:02 2022  -Number of Insertions : 781996\n",
      "Mon Dec 26 00:42:03 2022  -Number of Deletions : 354536\n",
      "Mon Dec 26 00:42:03 2022  -formatting to 1-based bed-like file (for vep)...\n",
      "Mon Dec 26 00:42:13 2022  -Output columns: Index(['CHR', 'START', 'END', 'NEA/EA', 'STRAND', 'SNPID'], dtype='object')\n",
      "Mon Dec 26 00:42:13 2022  -Output path: ./mysumstats.vep.gz\n",
      "Mon Dec 26 00:44:26 2022  -Saving log file: ./mysumstats.vep.log\n",
      "Mon Dec 26 00:44:26 2022 Finished outputting successfully!\n"
     ]
    }
   ],
   "source": [
    "mysumstats.to_format(\"./mysumstats\",fmt=\"vep\")"
   ]
  },
  {
   "cell_type": "markdown",
   "id": "5aa3c522",
   "metadata": {},
   "source": [
    "### convert to annovar default input format"
   ]
  },
  {
   "cell_type": "code",
   "execution_count": 5,
   "id": "8c96349d",
   "metadata": {},
   "outputs": [
    {
     "name": "stdout",
     "output_type": "stream",
     "text": [
      "Mon Dec 26 00:44:27 2022 Start to format the output sumstats in:  annovar  format\n",
      "Mon Dec 26 00:44:27 2022  -Formatting statistics ...\n",
      "Mon Dec 26 00:44:47 2022  - Float statistics formats:\n",
      "Mon Dec 26 00:44:47 2022   - Columns: ['EAF', 'BETA', 'SE', 'P']\n",
      "Mon Dec 26 00:44:47 2022   - Output formats: ['{:.4g}', '{:.4f}', '{:.4f}', '{:.4e}']\n",
      "Mon Dec 26 00:44:47 2022  - Start outputting sumstats in annovar format...\n",
      "Mon Dec 26 00:44:50 2022  -Number of SNPs : 11421217\n",
      "Mon Dec 26 00:44:51 2022  -Number of Insertions : 781996\n",
      "Mon Dec 26 00:44:52 2022  -Number of Deletions : 354536\n",
      "Mon Dec 26 00:44:52 2022  -formatting to 1-based bed-like file...\n",
      "Mon Dec 26 00:44:58 2022  -Output columns: Index(['CHR', 'START', 'END', 'NEA_out', 'EA_out', 'SNPID'], dtype='object')\n",
      "Mon Dec 26 00:44:58 2022  -Output path: ./mysumstats.annovar\n",
      "Mon Dec 26 00:45:27 2022  -Saving log file: ./mysumstats.annovar.log\n",
      "Mon Dec 26 00:45:27 2022 Finished outputting successfully!\n"
     ]
    }
   ],
   "source": [
    "mysumstats.to_format(\"./mysumstats\",fmt=\"annovar\")"
   ]
  },
  {
   "cell_type": "code",
   "execution_count": null,
   "id": "ec0b48ee",
   "metadata": {},
   "outputs": [],
   "source": []
  }
 ],
 "metadata": {
  "kernelspec": {
   "display_name": "Python 3 (ipykernel)",
   "language": "python",
   "name": "python3"
  },
  "language_info": {
   "codemirror_mode": {
    "name": "ipython",
    "version": 3
   },
   "file_extension": ".py",
   "mimetype": "text/x-python",
   "name": "python",
   "nbconvert_exporter": "python",
   "pygments_lexer": "ipython3",
   "version": "3.8.15"
  },
  "toc": {
   "base_numbering": 1,
   "nav_menu": {},
   "number_sections": true,
   "sideBar": true,
   "skip_h1_title": false,
   "title_cell": "Table of Contents",
   "title_sidebar": "Contents",
   "toc_cell": false,
   "toc_position": {},
   "toc_section_display": true,
   "toc_window_display": false
  }
 },
 "nbformat": 4,
 "nbformat_minor": 5
}
