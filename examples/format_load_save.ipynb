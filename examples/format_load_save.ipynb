{
 "cells": [
  {
   "cell_type": "markdown",
   "id": "ad1a0847",
   "metadata": {},
   "source": [
    "# Formatting and saving"
   ]
  },
  {
   "cell_type": "code",
   "execution_count": 1,
   "id": "cad62918",
   "metadata": {},
   "outputs": [
    {
     "name": "stdout",
     "output_type": "stream",
     "text": [
      "--2024-02-01 15:15:48--  http://jenger.riken.jp/14/\n",
      "Resolving jenger.riken.jp (jenger.riken.jp)... 134.160.84.25, 134.160.144.58, 134.160.4.5\n",
      "Connecting to jenger.riken.jp (jenger.riken.jp)|134.160.84.25|:80... connected.\n",
      "HTTP request sent, awaiting response... 200 OK\n",
      "Length: 274187574 (261M) [text/plain]\n",
      "Saving to: ‘t2d_bbj.txt.gz’\n",
      "\n",
      "t2d_bbj.txt.gz      100%[===================>] 261.49M  22.2MB/s    in 12s     \n",
      "\n",
      "2024-02-01 15:16:10 (21.4 MB/s) - ‘t2d_bbj.txt.gz’ saved [274187574/274187574]\n",
      "\n"
     ]
    }
   ],
   "source": [
    "!wget -O t2d_bbj.txt.gz http://jenger.riken.jp/14/"
   ]
  },
  {
   "cell_type": "code",
   "execution_count": 1,
   "id": "03531f39",
   "metadata": {},
   "outputs": [],
   "source": [
    "import sys\n",
    "sys.path.insert(0,\"/home/yunye/work/gwaslab/src\")\n",
    "import gwaslab as gl"
   ]
  },
  {
   "cell_type": "markdown",
   "id": "665784c7",
   "metadata": {},
   "source": [
    "## Loading data"
   ]
  },
  {
   "cell_type": "code",
   "execution_count": 2,
   "id": "ce0f142c",
   "metadata": {},
   "outputs": [
    {
     "name": "stdout",
     "output_type": "stream",
     "text": [
      "Thu Feb  1 15:40:26 2024 GWASLab v3.4.37 https://cloufield.github.io/gwaslab/\n",
      "Thu Feb  1 15:40:26 2024 (C) 2022-2024, Yunye He, Kamatani Lab, MIT License, gwaslab@gmail.com\n",
      "Thu Feb  1 15:40:26 2024 Start to initiate from file :t2d_bbj.txt.gz\n",
      "Thu Feb  1 15:40:42 2024  -Reading columns          : Dir,SNP,N,POS,SE,REF,Frq,CHR,P,BETA,ALT\n",
      "Thu Feb  1 15:40:42 2024  -Renaming columns to      : DIRECTION,SNPID,N,POS,SE,NEA,EAF,CHR,P,BETA,EA\n",
      "Thu Feb  1 15:40:42 2024  -Current Dataframe shape : 12557761  x  11\n",
      "Thu Feb  1 15:40:43 2024  -Initiating a status column: STATUS ...\n",
      "Thu Feb  1 15:40:43 2024  -Genomic coordinates are based on GRCh37/hg19...\n",
      "Thu Feb  1 15:40:45 2024  -NEAF is specified...\n",
      "Thu Feb  1 15:40:45 2024  -Checking if 0<= NEAF <=1 ...\n",
      "Thu Feb  1 15:40:45 2024  -Converted NEAF to EAF.\n",
      "Thu Feb  1 15:40:45 2024  -Removed 0 variants with bad NEAF.\n",
      "Thu Feb  1 15:40:45 2024 Start to reorder the columns...v3.4.37\n",
      "Thu Feb  1 15:40:45 2024  -Current Dataframe shape : 12557761 x 12 ; Memory usage: 1100.88 MB\n",
      "Thu Feb  1 15:40:45 2024  -Reordering columns to    : SNPID,CHR,POS,EA,NEA,EAF,BETA,SE,P,N,DIRECTION,STATUS\n",
      "Thu Feb  1 15:40:46 2024 Finished reordering the columns.\n",
      "Thu Feb  1 15:40:46 2024  -Column  : SNPID  CHR    POS   EA       NEA      EAF     BETA    SE      P       N     DIRECTION STATUS  \n",
      "Thu Feb  1 15:40:46 2024  -DType   : object string int64 category category float64 float64 float64 float64 int64 object    category\n",
      "Thu Feb  1 15:40:46 2024  -Verified: T      F      T     T        T        T       T       T       T       T     T         T       \n",
      "Thu Feb  1 15:40:46 2024  -WARNING! Columns with possibly incompatable dtypes: CHR\n",
      "Thu Feb  1 15:40:46 2024  -Current Dataframe memory usage: 1100.88 MB\n",
      "Thu Feb  1 15:40:46 2024 Finished loading data successfully!\n"
     ]
    }
   ],
   "source": [
    "mysumstats = gl.Sumstats(\"t2d_bbj.txt.gz\",\n",
    "             snpid=\"SNP\",\n",
    "             chrom=\"CHR\",\n",
    "             pos=\"POS\",\n",
    "             ea=\"ALT\",\n",
    "             nea=\"REF\",\n",
    "             neaf=\"Frq\",\n",
    "             beta=\"BETA\",\n",
    "             se=\"SE\",\n",
    "             p=\"P\",\n",
    "             direction=\"Dir\",\n",
    "             build=\"19\",\n",
    "             n=\"N\")"
   ]
  },
  {
   "cell_type": "code",
   "execution_count": 3,
   "id": "24f6e758-a110-4baa-9d46-5ddcd7e93ffa",
   "metadata": {},
   "outputs": [
    {
     "name": "stdout",
     "output_type": "stream",
     "text": [
      "Thu Feb  1 15:40:46 2024 Start to randomly select variants from the sumstats...\n",
      "Thu Feb  1 15:40:46 2024  -Number of variants selected from the sumstats: 1000\n",
      "Thu Feb  1 15:40:46 2024  -Random state (seed): 123\n",
      "Thu Feb  1 15:40:46 2024 Finished sampling...\n"
     ]
    }
   ],
   "source": [
    "mysumstats.random_variants(n=1000, inplace=True, random_state=123)"
   ]
  },
  {
   "cell_type": "markdown",
   "id": "ab477af2",
   "metadata": {},
   "source": [
    "## Check availble formats"
   ]
  },
  {
   "cell_type": "code",
   "execution_count": 4,
   "id": "ff45fe2c",
   "metadata": {},
   "outputs": [
    {
     "name": "stdout",
     "output_type": "stream",
     "text": [
      "Thu Feb  1 15:40:46 2024 Available formats: auto,bolt_lmm,cojo,fastgwa,gwascatalog,gwascatalog_hm,gwaslab,ldsc,metal,mrmega,mtag,pgscatalog,pgscatalog_hm,pheweb,plink,plink2,plink2_firth,plink2_linear,plink2_logistic,plink_assoc,plink_bim,plink_dosage,plink_fam,plink_fisher,plink_linear,plink_logistic,plink_psam,plink_pvar,popcorn,regenie,regenie_gene,saige,ssf,template,vcf\n"
     ]
    }
   ],
   "source": [
    "gl.list_formats()"
   ]
  },
  {
   "cell_type": "code",
   "execution_count": 5,
   "id": "8009e7f4",
   "metadata": {},
   "outputs": [
    {
     "name": "stdout",
     "output_type": "stream",
     "text": [
      "Thu Feb  1 15:40:46 2024 Available formats:Thu Feb  1 15:40:46 2024 meta_dataThu Feb  1 15:40:46 2024 format_dictThu Feb  1 15:40:46 2024 \n",
      "Thu Feb  1 15:40:46 2024 {'format_name': 'ssf', 'format_source': 'https://www.biorxiv.org/content/10.1101/2022.07.15.500230v1.full', 'format_cite_name': 'GWAS-SSF v0.1', 'format_separator': '\\t', 'format_na': '#NA', 'format_comment': None, 'format_col_order': ['chromosome', 'base_pair_location', 'effect_allele', 'other_allele', 'beta', 'odds_ratio', 'hazard_ratio', 'standard_error', 'effect_allele_frequency', 'p_value', 'neg_log_10_p_value', 'ci_upper', 'ci_lower', 'rsid', 'variant_id', 'info', 'ref_allele', 'n'], 'format_version': 20230328}Thu Feb  1 15:40:46 2024 {'variant_id': 'SNPID', 'rsid': 'rsID', 'chromosome': 'CHR', 'base_pair_location': 'POS', 'other_allele': 'NEA', 'effect_allele': 'EA', 'effect_allele_frequency': 'EAF', 'n': 'N', 'beta': 'BETA', 'standard_error': 'SE', 'p_value': 'P', 'neg_log_10_p_value': 'MLOG10P', 'info': 'INFO', 'odds_ratio': 'OR', 'hazard_ratio': 'HR', 'ci_lower': 'OR_95L', 'ci_upper': 'OR_95U'}"
     ]
    }
   ],
   "source": [
    "gl.check_format(\"ssf\")"
   ]
  },
  {
   "cell_type": "markdown",
   "id": "dfbf5c0d",
   "metadata": {},
   "source": [
    "## Filter for output"
   ]
  },
  {
   "cell_type": "code",
   "execution_count": 6,
   "id": "4208ab3d",
   "metadata": {},
   "outputs": [],
   "source": [
    "mysumstats.basic_check(verbose=False)"
   ]
  },
  {
   "cell_type": "markdown",
   "id": "d7391280",
   "metadata": {},
   "source": [
    "## Formatting and saving"
   ]
  },
  {
   "cell_type": "markdown",
   "id": "2a565395",
   "metadata": {},
   "source": [
    "### get ready for submission to gwas catalog (GWAS-ssf format)"
   ]
  },
  {
   "cell_type": "code",
   "execution_count": 7,
   "id": "69c2668f",
   "metadata": {},
   "outputs": [
    {
     "name": "stdout",
     "output_type": "stream",
     "text": [
      "Thu Feb  1 15:40:52 2024 Start to convert the output sumstats in:  ssf  format\n",
      "Thu Feb  1 15:40:52 2024  -Formatting statistics ...\n",
      "Thu Feb  1 15:40:52 2024  -Float statistics formats:\n",
      "Thu Feb  1 15:40:52 2024   - Columns       : ['EAF', 'BETA', 'SE', 'P']\n",
      "Thu Feb  1 15:40:52 2024   - Output formats: ['{:.4g}', '{:.4f}', '{:.4f}', '{:.4e}']\n",
      "Thu Feb  1 15:40:52 2024  -Replacing SNPID separator from \":\" to \"_\"...\n",
      "Thu Feb  1 15:40:52 2024  -Start outputting sumstats in ssf format...\n",
      "Thu Feb  1 15:40:52 2024  -ssf format will be loaded...\n",
      "Thu Feb  1 15:40:52 2024  -ssf format meta info:\n",
      "Thu Feb  1 15:40:52 2024   - format_name  : ssf\n",
      "Thu Feb  1 15:40:52 2024   - format_source  : https://www.biorxiv.org/content/10.1101/2022.07.15.500230v1.full\n",
      "Thu Feb  1 15:40:52 2024   - format_cite_name  : GWAS-SSF v0.1\n",
      "Thu Feb  1 15:40:52 2024   - format_separator  : \\t\n",
      "Thu Feb  1 15:40:52 2024   - format_na  : #NA\n",
      "Thu Feb  1 15:40:52 2024   - format_col_order  : chromosome,base_pair_location,effect_allele,other_allele,beta,odds_ratio,hazard_ratio,standard_error,effect_allele_frequency,p_value,neg_log_10_p_value,ci_upper,ci_lower,rsid,variant_id,info,ref_allele,n\n",
      "Thu Feb  1 15:40:52 2024   - format_version  :  20230328\n",
      "Thu Feb  1 15:40:52 2024  -gwaslab to ssf format dictionary:\n",
      "Thu Feb  1 15:40:52 2024   - gwaslab keys: SNPID,rsID,CHR,POS,NEA,EA,EAF,N,BETA,SE,P,MLOG10P,INFO,OR,HR,OR_95L,OR_95U\n",
      "Thu Feb  1 15:40:52 2024   - ssf values: variant_id,rsid,chromosome,base_pair_location,other_allele,effect_allele,effect_allele_frequency,n,beta,standard_error,p_value,neg_log_10_p_value,info,odds_ratio,hazard_ratio,ci_lower,ci_upper\n",
      "Thu Feb  1 15:40:52 2024  -Output path: ./mysumstats.ssf.tsv.gz\n",
      "Thu Feb  1 15:40:52 2024  -Output columns: chromosome,base_pair_location,effect_allele,other_allele,beta,standard_error,effect_allele_frequency,p_value,variant_id,n\n",
      "Thu Feb  1 15:40:52 2024  -Writing sumstats to: ./mysumstats.ssf.tsv.gz...\n",
      "Thu Feb  1 15:40:52 2024  -md5sum hashing for the file: ./mysumstats.ssf.tsv.gz\n",
      "Thu Feb  1 15:40:52 2024  -md5sum path: ./mysumstats.ssf.tsv.gz.md5sum\n",
      "Thu Feb  1 15:40:52 2024  -md5sum: 3a16605c894960288db9bbcf247858cb\n",
      "Thu Feb  1 15:40:52 2024  -Exporting SSF-style meta data to ./mysumstats.ssf.tsv-meta.ymal\n",
      "Thu Feb  1 15:40:52 2024  -Saving log file to: ./mysumstats.ssf.log\n",
      "Thu Feb  1 15:40:52 2024 Finished outputting successfully!\n"
     ]
    }
   ],
   "source": [
    "mysumstats.to_format(\"./mysumstats\", fmt=\"ssf\", ssfmeta=True, md5sum=True)"
   ]
  },
  {
   "cell_type": "code",
   "execution_count": 8,
   "id": "d276a228",
   "metadata": {},
   "outputs": [
    {
     "name": "stdout",
     "output_type": "stream",
     "text": [
      "chromosome\tbase_pair_location\teffect_allele\tother_allele\tbeta\tstandard_error\teffect_allele_frequency\tp_value\tvariant_id\tn\n",
      "1\t2005486\tC\tT\t-0.0969\t0.0471\t0.9863\t3.9820e-02\t1_2005486_C_T\t191764\n",
      "1\t2247939\tAAGG\tA\t0.0330\t0.1249\t0.9966\t7.9190e-01\t1_2247939_AAGG_A\t191764\n",
      "1\t3741853\tG\tA\t-0.0375\t0.0142\t0.8849\t8.2820e-03\t1_3741853_G_A\t191764\n",
      "1\t5017526\tG\tA\t0.0126\t0.0373\t0.9822\t7.3620e-01\t1_5017526_G_A\t191764\n",
      "1\t5843475\tC\tT\t-0.0011\t0.0433\t0.9857\t9.8010e-01\t1_5843475_C_T\t191764\n",
      "1\t9405103\tC\tT\t-0.0729\t0.1516\t0.0021\t6.3050e-01\t1_9405103_T_C\t191764\n",
      "1\t9443411\tG\tA\t0.0362\t0.0532\t0.9916\t4.9690e-01\t1_9443411_G_A\t191764\n",
      "1\t12866348\tG\tC\t-0.0352\t0.0431\t0.9728\t4.1450e-01\t1_12866348_G_C\t191764\n",
      "1\t14466316\tG\tA\t-0.0042\t0.0096\t0.6942\t6.6360e-01\t1_14466316_A_G\t191764\n",
      "\n",
      "gzip: stdout: Broken pipe\n"
     ]
    }
   ],
   "source": [
    "!zcat mysumstats.ssf.tsv.gz | head"
   ]
  },
  {
   "cell_type": "code",
   "execution_count": 9,
   "id": "46f76d7c-d17c-40bb-99cc-29de58552f2b",
   "metadata": {},
   "outputs": [
    {
     "name": "stdout",
     "output_type": "stream",
     "text": [
      "3a16605c894960288db9bbcf247858cb\n"
     ]
    }
   ],
   "source": [
    "!head mysumstats.ssf.tsv.gz.md5sum"
   ]
  },
  {
   "cell_type": "code",
   "execution_count": 10,
   "id": "4b5668e6-e368-42b1-9763-2ca1488c6f1a",
   "metadata": {},
   "outputs": [
    {
     "name": "stdout",
     "output_type": "stream",
     "text": [
      "coordinate_system: 1-based\n",
      "data_file_md5sum: 3a16605c894960288db9bbcf247858cb\n",
      "data_file_name: ./mysumstats.ssf.tsv.gz\n",
      "date_last_modified: 2024-02-01-15:40:52\n",
      "file_type: GWAS-SSF v0.1\n",
      "genome_assembly: Unknown\n",
      "genotyping_technology: Unknown\n",
      "gwas_id: Unknown\n",
      "gwaslab:\n",
      "  genome_build: '19'\n"
     ]
    }
   ],
   "source": [
    "!head ./mysumstats.ssf.tsv-meta.ymal"
   ]
  },
  {
   "cell_type": "markdown",
   "id": "45077731",
   "metadata": {},
   "source": [
    "### ldsc default format"
   ]
  },
  {
   "cell_type": "code",
   "execution_count": 11,
   "id": "e8204a6e",
   "metadata": {},
   "outputs": [
    {
     "name": "stdout",
     "output_type": "stream",
     "text": [
      "Thu Feb  1 15:40:52 2024 Start to convert the output sumstats in:  ldsc  format\n",
      "Thu Feb  1 15:40:52 2024  -Excluding variants in MHC (HLA) region ...\n",
      "Thu Feb  1 15:40:52 2024  -Exclude 3 variants in MHC (HLA) region : 25Mb - 34Mb.\n",
      "Thu Feb  1 15:40:52 2024  -Processing 997 raw variants...\n",
      "Thu Feb  1 15:40:52 2024  -Loading Hapmap3 variants data...\n",
      "Thu Feb  1 15:40:53 2024  -Since rsID not in sumstats, chr:pos( build 19) will be used for matching...\n",
      "Thu Feb  1 15:40:54 2024  -Raw input contains 81 hapmaps variants based on chr:pos...\n",
      "Thu Feb  1 15:40:54 2024  -Extract 81 variants in Hapmap3 datasets for build 19.\n",
      "Thu Feb  1 15:40:54 2024  -Formatting statistics ...\n",
      "Thu Feb  1 15:40:54 2024  -Float statistics formats:\n",
      "Thu Feb  1 15:40:54 2024   - Columns       : ['EAF', 'BETA', 'SE', 'P']\n",
      "Thu Feb  1 15:40:54 2024   - Output formats: ['{:.4g}', '{:.4f}', '{:.4f}', '{:.4e}']\n",
      "Thu Feb  1 15:40:54 2024  -Start outputting sumstats in ldsc format...\n",
      "Thu Feb  1 15:40:54 2024  -ldsc format will be loaded...\n",
      "Thu Feb  1 15:40:54 2024  -ldsc format meta info:\n",
      "Thu Feb  1 15:40:54 2024   - format_name  : ldsc\n",
      "Thu Feb  1 15:40:54 2024   - format_source  : https://github.com/bulik/ldsc/wiki/Summary-Statistics-File-Format\n",
      "Thu Feb  1 15:40:54 2024   - format_source2  : https://github.com/bulik/ldsc/blob/master/munge_sumstats.py\n",
      "Thu Feb  1 15:40:54 2024   - format_version  :  20150306\n",
      "Thu Feb  1 15:40:54 2024  -gwaslab to ldsc format dictionary:\n",
      "Thu Feb  1 15:40:54 2024   - gwaslab keys: rsID,NEA,EA,EAF,N,BETA,P,Z,INFO,OR,CHR,POS\n",
      "Thu Feb  1 15:40:54 2024   - ldsc values: SNP,A2,A1,Frq,N,Beta,P,Z,INFO,OR,CHR,POS\n",
      "Thu Feb  1 15:40:54 2024  -Output path: ./mysumstats.hapmap3.noMHC.ldsc.tsv.gz\n",
      "Thu Feb  1 15:40:54 2024  -Output columns: A1,Frq,A2,N,POS,SNP,CHR,P,Beta\n",
      "Thu Feb  1 15:40:54 2024  -Writing sumstats to: ./mysumstats.hapmap3.noMHC.ldsc.tsv.gz...\n",
      "Thu Feb  1 15:40:54 2024  -Saving log file to: ./mysumstats.hapmap3.noMHC.ldsc.log\n",
      "Thu Feb  1 15:40:54 2024 Finished outputting successfully!\n"
     ]
    }
   ],
   "source": [
    "mysumstats.to_format(\"./mysumstats\",cols=[\"EA\",\"EA\"],fmt=\"ldsc\",hapmap3=True,exclude_hla=True,)"
   ]
  },
  {
   "cell_type": "code",
   "execution_count": 12,
   "id": "31c947fd-8499-4aea-8358-938ce267f2b5",
   "metadata": {},
   "outputs": [
    {
     "name": "stdout",
     "output_type": "stream",
     "text": [
      "A1\tFrq\tA2\tN\tPOS\tSNP\tCHR\tP\tBeta\n",
      "G\t0.3952\tA\t191764\t14900419\trs6703840\t1\t1.3750e-01\t0.0144\n",
      "C\t0.1323\tT\t191764\t19593199\trs7527253\t1\t3.2570e-01\t-0.0127\n",
      "G\t0.5434\tA\t191764\t35282297\trs1407135\t1\t6.4190e-01\t0.0041\n",
      "C\t0.2103\tT\t191764\t66001402\trs1171261\t1\t1.7720e-01\t-0.0148\n",
      "G\t0.0025\tA\t191764\t83510491\trs2022427\t1\t6.9800e-01\t0.0378\n",
      "C\t0.8627\tT\t191764\t166110693\trs4656480\t1\t2.5250e-02\t0.0286\n",
      "G\t0.1828\tA\t191764\t175886511\trs6656281\t1\t2.2480e-01\t-0.0141\n",
      "C\t0.9603\tT\t191764\t181612041\trs199955\t1\t5.5050e-01\t0.0135\n",
      "C\t0.0301\tT\t191764\t196329362\trs11801881\t1\t2.5060e-01\t0.0300\n"
     ]
    }
   ],
   "source": [
    "!zcat ./mysumstats.hapmap3.noMHC.ldsc.tsv.gz | head"
   ]
  },
  {
   "cell_type": "markdown",
   "id": "20f2c297",
   "metadata": {},
   "source": [
    "### vcf"
   ]
  },
  {
   "cell_type": "code",
   "execution_count": 13,
   "id": "7ddc3164",
   "metadata": {},
   "outputs": [
    {
     "name": "stdout",
     "output_type": "stream",
     "text": [
      "Thu Feb  1 15:40:54 2024 Start to convert the output sumstats in:  vcf  format\n",
      "Thu Feb  1 15:40:54 2024  -Formatting statistics ...\n",
      "Thu Feb  1 15:40:54 2024  -Float statistics formats:\n",
      "Thu Feb  1 15:40:54 2024   - Columns       : ['EAF', 'BETA', 'SE', 'P']\n",
      "Thu Feb  1 15:40:54 2024   - Output formats: ['{:.4g}', '{:.4f}', '{:.4f}', '{:.4e}']\n",
      "Thu Feb  1 15:40:54 2024  -Start outputting sumstats in vcf format...\n",
      "Thu Feb  1 15:40:54 2024  -vcf format will be loaded...\n",
      "Thu Feb  1 15:40:54 2024  -vcf format meta info:\n",
      "Thu Feb  1 15:40:54 2024   - format_name  : vcf\n",
      "Thu Feb  1 15:40:54 2024   - format_source  : https://github.com/MRCIEU/gwas-vcf-specification/tree/1.0.0\n",
      "Thu Feb  1 15:40:54 2024   - format_version  :  20220923\n",
      "Thu Feb  1 15:40:54 2024   - format_citation  : Lyon, M.S., Andrews, S.J., Elsworth, B. et al. The variant call format provides efficient and robust storage of GWAS summary statistics. Genome Biol 22, 32 (2021). https://doi.org/10.1186/s13059-020-02248-0\n",
      "Thu Feb  1 15:40:54 2024   - format_fixed  : #CHROM,POS,ID,REF,ALT,QUAL,FILTER,INFO,FORMAT\n",
      "Thu Feb  1 15:40:54 2024   - format_format  : ID,SS,ES,SE,LP,SI,EZ\n",
      "Thu Feb  1 15:40:54 2024  -gwaslab to vcf format dictionary:\n",
      "Thu Feb  1 15:40:54 2024   - gwaslab keys: rsID,CHR,POS,NEA,EA,N,EAF,BETA,SE,MLOG10P,INFO,Z\n",
      "Thu Feb  1 15:40:54 2024   - vcf values: ID,#CHROM,POS,REF,ALT,SS,AF,ES,SE,LP,SI,EZ\n",
      "Thu Feb  1 15:40:54 2024  -Creating VCF file header...\n",
      "Thu Feb  1 15:40:54 2024   -VCF header contig build:19\n",
      "Thu Feb  1 15:40:54 2024   -ID:Study_1\n",
      "Thu Feb  1 15:40:54 2024   -StudyType:Unknown\n",
      "Thu Feb  1 15:40:54 2024   -TotalVariants:1000\n",
      "Thu Feb  1 15:40:54 2024   -HarmonisedVariants:0\n",
      "Thu Feb  1 15:40:54 2024   -VariantsNotHarmonised:1000\n",
      "Thu Feb  1 15:40:54 2024   -SwitchedAlleles:0\n",
      "Thu Feb  1 15:40:54 2024  -Writing sumstats to: ./mysumstats.vcf...\n",
      "Thu Feb  1 15:40:54 2024  -Output columns: #CHROM POS ID REF ALT QUAL FILTER INFO FORMAT Study_1\n",
      "Thu Feb  1 15:40:54 2024  -Outputing data...\n",
      "Thu Feb  1 15:40:55 2024  -bgzip compressing : ./mysumstats.vcf.gz...\n",
      "Thu Feb  1 15:40:55 2024  -tabix indexing : : ./mysumstats.vcf.gz.tbi...\n",
      "Thu Feb  1 15:40:55 2024  -Saving log file to: ./mysumstats.vcf.log\n",
      "Thu Feb  1 15:40:55 2024 Finished outputting successfully!\n"
     ]
    }
   ],
   "source": [
    "mysumstats.to_format(\"./mysumstats\",fmt=\"vcf\",bgzip=True,tabix=True)"
   ]
  },
  {
   "cell_type": "markdown",
   "id": "a360ba8f",
   "metadata": {},
   "source": [
    "## For annotation"
   ]
  },
  {
   "cell_type": "markdown",
   "id": "0192b1ae",
   "metadata": {},
   "source": [
    "### convert to bed format"
   ]
  },
  {
   "cell_type": "code",
   "execution_count": 14,
   "id": "acc2d8cb",
   "metadata": {},
   "outputs": [
    {
     "name": "stdout",
     "output_type": "stream",
     "text": [
      "Thu Feb  1 15:40:55 2024 Start to convert the output sumstats in:  bed  format\n",
      "Thu Feb  1 15:40:55 2024  -Formatting statistics ...\n",
      "Thu Feb  1 15:40:55 2024  -Float statistics formats:\n",
      "Thu Feb  1 15:40:55 2024   - Columns       : ['EAF', 'BETA', 'SE', 'P']\n",
      "Thu Feb  1 15:40:55 2024   - Output formats: ['{:.4g}', '{:.4f}', '{:.4f}', '{:.4e}']\n",
      "Thu Feb  1 15:40:55 2024  -Start outputting sumstats in bed format...\n",
      "Thu Feb  1 15:40:55 2024  -Number of SNPs : 920\n",
      "Thu Feb  1 15:40:55 2024  -Number of Insertions : 52\n",
      "Thu Feb  1 15:40:55 2024  -Number of Deletions : 28\n",
      "Thu Feb  1 15:40:55 2024  -formatting to 0-based bed-like file...\n",
      "Thu Feb  1 15:40:55 2024  -format description: https://genome.ucsc.edu/FAQ/FAQformat.html#format1\n",
      "Thu Feb  1 15:40:55 2024  -Adjusting positions in format-specific manner..\n",
      "Thu Feb  1 15:40:55 2024  -Output columns: CHR,START,END,NEA/EA,STRAND,SNPID\n",
      "Thu Feb  1 15:40:55 2024  -Writing sumstats to: ./mysumstats.bed...\n",
      "Thu Feb  1 15:40:55 2024  -Saving log file to: ./mysumstats.bed.log\n",
      "Thu Feb  1 15:40:55 2024 Finished outputting successfully!\n"
     ]
    }
   ],
   "source": [
    "mysumstats.to_format(\"./mysumstats\",fmt=\"bed\")"
   ]
  },
  {
   "cell_type": "code",
   "execution_count": 15,
   "id": "4234b747-de03-4ae6-b3f9-0377df0782f1",
   "metadata": {},
   "outputs": [
    {
     "name": "stdout",
     "output_type": "stream",
     "text": [
      "1\t2005485\t2005486\tT/C\t+\t1:2005486_C_T\n",
      "1\t2247939\t2247939\t-/AGG\t+\t1:2247939_AAGG_A\n",
      "1\t3741852\t3741853\tA/G\t+\t1:3741853_G_A\n",
      "1\t5017525\t5017526\tA/G\t+\t1:5017526_G_A\n",
      "1\t5843474\t5843475\tT/C\t+\t1:5843475_C_T\n",
      "1\t9405102\t9405103\tT/C\t+\t1:9405103_T_C\n",
      "1\t9443410\t9443411\tA/G\t+\t1:9443411_G_A\n",
      "1\t12866347\t12866348\tC/G\t+\t1:12866348_G_C\n",
      "1\t14466315\t14466316\tA/G\t+\t1:14466316_A_G\n",
      "1\t14900418\t14900419\tA/G\t+\t1:14900419_A_G\n"
     ]
    }
   ],
   "source": [
    "!cat mysumstats.bed | head"
   ]
  },
  {
   "cell_type": "markdown",
   "id": "027f04d4",
   "metadata": {},
   "source": [
    "### convert to vep default format"
   ]
  },
  {
   "cell_type": "code",
   "execution_count": 16,
   "id": "10d6e0bc",
   "metadata": {},
   "outputs": [
    {
     "name": "stdout",
     "output_type": "stream",
     "text": [
      "Thu Feb  1 15:40:55 2024 Start to convert the output sumstats in:  vep  format\n",
      "Thu Feb  1 15:40:55 2024  -Formatting statistics ...\n",
      "Thu Feb  1 15:40:55 2024  -Float statistics formats:\n",
      "Thu Feb  1 15:40:55 2024   - Columns       : ['EAF', 'BETA', 'SE', 'P']\n",
      "Thu Feb  1 15:40:55 2024   - Output formats: ['{:.4g}', '{:.4f}', '{:.4f}', '{:.4e}']\n",
      "Thu Feb  1 15:40:55 2024  -Start outputting sumstats in vep format...\n",
      "Thu Feb  1 15:40:55 2024  -Number of SNPs : 920\n",
      "Thu Feb  1 15:40:55 2024  -Number of Insertions : 52\n",
      "Thu Feb  1 15:40:55 2024  -Number of Deletions : 28\n",
      "Thu Feb  1 15:40:55 2024  -formatting to 1-based bed-like file (for vep)...\n",
      "Thu Feb  1 15:40:55 2024  -format description: http://asia.ensembl.org/info/docs/tools/vep/vep_formats.html\n",
      "Thu Feb  1 15:40:55 2024  -Adjusting positions in format-specific manner..\n",
      "Thu Feb  1 15:40:55 2024  -Output columns: CHR,START,END,NEA/EA,STRAND,SNPID\n",
      "Thu Feb  1 15:40:55 2024  -Writing sumstats to: ./mysumstats.vep...\n",
      "Thu Feb  1 15:40:55 2024  -Saving log file to: ./mysumstats.vep.log\n",
      "Thu Feb  1 15:40:55 2024 Finished outputting successfully!\n"
     ]
    }
   ],
   "source": [
    "mysumstats.to_format(\"./mysumstats\",fmt=\"vep\")"
   ]
  },
  {
   "cell_type": "code",
   "execution_count": 17,
   "id": "0237b9da-e592-4a5b-a8fd-bc06cce43a70",
   "metadata": {},
   "outputs": [
    {
     "name": "stdout",
     "output_type": "stream",
     "text": [
      "1\t2005486\t2005486\tT/C\t+\t1:2005486_C_T\n",
      "1\t2247940\t2247939\t-/AGG\t+\t1:2247939_AAGG_A\n",
      "1\t3741853\t3741853\tA/G\t+\t1:3741853_G_A\n",
      "1\t5017526\t5017526\tA/G\t+\t1:5017526_G_A\n",
      "1\t5843475\t5843475\tT/C\t+\t1:5843475_C_T\n",
      "1\t9405103\t9405103\tT/C\t+\t1:9405103_T_C\n",
      "1\t9443411\t9443411\tA/G\t+\t1:9443411_G_A\n",
      "1\t12866348\t12866348\tC/G\t+\t1:12866348_G_C\n",
      "1\t14466316\t14466316\tA/G\t+\t1:14466316_A_G\n",
      "1\t14900419\t14900419\tA/G\t+\t1:14900419_A_G\n"
     ]
    }
   ],
   "source": [
    "!cat mysumstats.vep | head"
   ]
  },
  {
   "cell_type": "markdown",
   "id": "5aa3c522",
   "metadata": {},
   "source": [
    "### convert to annovar default input format"
   ]
  },
  {
   "cell_type": "code",
   "execution_count": 18,
   "id": "8c96349d",
   "metadata": {},
   "outputs": [
    {
     "name": "stdout",
     "output_type": "stream",
     "text": [
      "Thu Feb  1 15:40:55 2024 Start to convert the output sumstats in:  annovar  format\n",
      "Thu Feb  1 15:40:55 2024  -Formatting statistics ...\n",
      "Thu Feb  1 15:40:55 2024  -Float statistics formats:\n",
      "Thu Feb  1 15:40:55 2024   - Columns       : ['EAF', 'BETA', 'SE', 'P']\n",
      "Thu Feb  1 15:40:55 2024   - Output formats: ['{:.4g}', '{:.4f}', '{:.4f}', '{:.4e}']\n",
      "Thu Feb  1 15:40:55 2024  -Start outputting sumstats in annovar format...\n",
      "Thu Feb  1 15:40:55 2024  -Number of SNPs : 920\n",
      "Thu Feb  1 15:40:55 2024  -Number of Insertions : 52\n",
      "Thu Feb  1 15:40:55 2024  -Number of Deletions : 28\n",
      "Thu Feb  1 15:40:55 2024  -formatting to 1-based bed-like file...\n",
      "Thu Feb  1 15:40:55 2024  -format description: https://annovar.openbioinformatics.org/en/latest/user-guide/input/\n",
      "Thu Feb  1 15:40:55 2024  -Adjusting positions in format-specific manner..\n",
      "Thu Feb  1 15:40:55 2024  -Output columns: CHR,START,END,NEA_out,EA_out,SNPID\n",
      "Thu Feb  1 15:40:55 2024  -Writing sumstats to: ./mysumstats.annovar...\n",
      "Thu Feb  1 15:40:55 2024  -Saving log file to: ./mysumstats.annovar.log\n",
      "Thu Feb  1 15:40:55 2024 Finished outputting successfully!\n"
     ]
    }
   ],
   "source": [
    "mysumstats.to_format(\"./mysumstats\",fmt=\"annovar\")"
   ]
  },
  {
   "cell_type": "code",
   "execution_count": 19,
   "id": "e7406a88-f6a9-45a9-8426-08d943d2eaa8",
   "metadata": {},
   "outputs": [
    {
     "name": "stdout",
     "output_type": "stream",
     "text": [
      "1\t2005486\t2005486\tT\tC\t1:2005486_C_T\n",
      "1\t2247940\t2247940\t-\tAGG\t1:2247939_AAGG_A\n",
      "1\t3741853\t3741853\tA\tG\t1:3741853_G_A\n",
      "1\t5017526\t5017526\tA\tG\t1:5017526_G_A\n",
      "1\t5843475\t5843475\tT\tC\t1:5843475_C_T\n",
      "1\t9405103\t9405103\tT\tC\t1:9405103_T_C\n",
      "1\t9443411\t9443411\tA\tG\t1:9443411_G_A\n",
      "1\t12866348\t12866348\tC\tG\t1:12866348_G_C\n",
      "1\t14466316\t14466316\tA\tG\t1:14466316_A_G\n",
      "1\t14900419\t14900419\tA\tG\t1:14900419_A_G\n"
     ]
    }
   ],
   "source": [
    "!cat mysumstats.annovar | head"
   ]
  },
  {
   "cell_type": "markdown",
   "id": "1349a798-8bac-4cbf-add4-4b78fac194bc",
   "metadata": {},
   "source": [
    "# filter and then output"
   ]
  },
  {
   "cell_type": "code",
   "execution_count": 21,
   "id": "ea44a53e-6e1d-4f86-8c1e-5c1c8b77c7d1",
   "metadata": {},
   "outputs": [
    {
     "name": "stdout",
     "output_type": "stream",
     "text": [
      "Thu Feb  1 15:44:04 2024 Start filtering values by condition: EAF >0.05 and EAF < 0.95\n",
      "Thu Feb  1 15:44:04 2024  -Removing 483 variants not meeting the conditions: EAF >0.05 and EAF < 0.95\n",
      "Thu Feb  1 15:44:04 2024 Finished filtering values.\n",
      "Thu Feb  1 15:44:04 2024 Start to convert the output sumstats in:  ssf  format\n",
      "Thu Feb  1 15:44:04 2024  -Formatting statistics ...\n",
      "Thu Feb  1 15:44:04 2024  -Float statistics formats:\n",
      "Thu Feb  1 15:44:04 2024   - Columns       : ['EAF', 'BETA', 'SE', 'P']\n",
      "Thu Feb  1 15:44:04 2024   - Output formats: ['{:.4g}', '{:.4f}', '{:.4f}', '{:.4e}']\n",
      "Thu Feb  1 15:44:04 2024  -Replacing SNPID separator from \":\" to \"_\"...\n",
      "Thu Feb  1 15:44:04 2024  -Start outputting sumstats in ssf format...\n",
      "Thu Feb  1 15:44:04 2024  -ssf format will be loaded...\n",
      "Thu Feb  1 15:44:04 2024  -ssf format meta info:\n",
      "Thu Feb  1 15:44:04 2024   - format_name  : ssf\n",
      "Thu Feb  1 15:44:04 2024   - format_source  : https://www.biorxiv.org/content/10.1101/2022.07.15.500230v1.full\n",
      "Thu Feb  1 15:44:04 2024   - format_cite_name  : GWAS-SSF v0.1\n",
      "Thu Feb  1 15:44:04 2024   - format_separator  : \\t\n",
      "Thu Feb  1 15:44:04 2024   - format_na  : #NA\n",
      "Thu Feb  1 15:44:04 2024   - format_col_order  : chromosome,base_pair_location,effect_allele,other_allele,beta,odds_ratio,hazard_ratio,standard_error,effect_allele_frequency,p_value,neg_log_10_p_value,ci_upper,ci_lower,rsid,variant_id,info,ref_allele,n\n",
      "Thu Feb  1 15:44:04 2024   - format_version  :  20230328\n",
      "Thu Feb  1 15:44:04 2024  -gwaslab to ssf format dictionary:\n",
      "Thu Feb  1 15:44:04 2024   - gwaslab keys: SNPID,rsID,CHR,POS,NEA,EA,EAF,N,BETA,SE,P,MLOG10P,INFO,OR,HR,OR_95L,OR_95U\n",
      "Thu Feb  1 15:44:04 2024   - ssf values: variant_id,rsid,chromosome,base_pair_location,other_allele,effect_allele,effect_allele_frequency,n,beta,standard_error,p_value,neg_log_10_p_value,info,odds_ratio,hazard_ratio,ci_lower,ci_upper\n",
      "Thu Feb  1 15:44:04 2024  -Output path: ./mysumstats_maf005.ssf.tsv.gz\n",
      "Thu Feb  1 15:44:04 2024  -Output columns: chromosome,base_pair_location,effect_allele,other_allele,beta,standard_error,effect_allele_frequency,p_value,variant_id,n\n",
      "Thu Feb  1 15:44:04 2024  -Writing sumstats to: ./mysumstats_maf005.ssf.tsv.gz...\n",
      "Thu Feb  1 15:44:04 2024  -md5sum hashing for the file: ./mysumstats_maf005.ssf.tsv.gz\n",
      "Thu Feb  1 15:44:04 2024  -md5sum path: ./mysumstats_maf005.ssf.tsv.gz.md5sum\n",
      "Thu Feb  1 15:44:04 2024  -md5sum: 2d9659af016026b7f950b734f94cad90\n",
      "Thu Feb  1 15:44:04 2024  -Exporting SSF-style meta data to ./mysumstats_maf005.ssf.tsv-meta.ymal\n",
      "Thu Feb  1 15:44:04 2024  -Saving log file to: ./mysumstats_maf005.ssf.log\n",
      "Thu Feb  1 15:44:04 2024 Finished outputting successfully!\n"
     ]
    }
   ],
   "source": [
    "mysumstats.filter_value(\"EAF >0.05 and EAF < 0.95\").to_format(\"./mysumstats_maf005\", fmt=\"ssf\", ssfmeta=True, md5sum=True)"
   ]
  }
 ],
 "metadata": {
  "kernelspec": {
   "display_name": "Python 3 (ipykernel)",
   "language": "python",
   "name": "python3"
  },
  "language_info": {
   "codemirror_mode": {
    "name": "ipython",
    "version": 3
   },
   "file_extension": ".py",
   "mimetype": "text/x-python",
   "name": "python",
   "nbconvert_exporter": "python",
   "pygments_lexer": "ipython3",
   "version": "3.9.18"
  },
  "toc": {
   "base_numbering": 1,
   "nav_menu": {},
   "number_sections": true,
   "sideBar": true,
   "skip_h1_title": false,
   "title_cell": "Table of Contents",
   "title_sidebar": "Contents",
   "toc_cell": false,
   "toc_position": {},
   "toc_section_display": true,
   "toc_window_display": false
  }
 },
 "nbformat": 4,
 "nbformat_minor": 5
}
