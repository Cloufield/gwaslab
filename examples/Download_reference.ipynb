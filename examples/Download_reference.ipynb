{
 "cells": [
  {
   "cell_type": "code",
   "execution_count": 1,
   "metadata": {},
   "outputs": [],
   "source": [
    "import sys\n",
    "sys.path.insert(0,\"/Users/he/work/gwaslab/src\")\n",
    "import gwaslab as gl"
   ]
  },
  {
   "cell_type": "code",
   "execution_count": 2,
   "metadata": {},
   "outputs": [
    {
     "name": "stdout",
     "output_type": "stream",
     "text": [
      "Fri Nov  4 11:40:06 2022 Start to check available reference files...\n",
      "Fri Nov  4 11:40:06 2022  - 1kg_eas_hg19  :  https://www.dropbox.com/s/lztaxqhy2o6dpxw/EAS.ALL.split_norm_af.1kgp3v5.hg19.vcf.gz?dl=1\n",
      "Fri Nov  4 11:40:06 2022  - 1kg_eur_hg19  :  https://www.dropbox.com/s/1nbgqshknevseks/EUR.ALL.split_norm_af.1kgp3v5.hg19.vcf.gz?dl=1\n",
      "Fri Nov  4 11:40:06 2022  - 1kg_eas_hg38  :  https://www.dropbox.com/s/3dstbbb1el9r3au/EAS.ALL.split_norm_af.1kg_30x.hg38.vcf.gz?dl=1\n",
      "Fri Nov  4 11:40:06 2022  - 1kg_eur_hg38  :  https://www.dropbox.com/s/z0mkehg17lryapv/EUR.ALL.split_norm_af.1kg_30x.hg38.vcf.gz?dl=1\n",
      "Fri Nov  4 11:40:06 2022  - dbsnp_v151_hg19  :  https://ftp.ncbi.nih.gov/snp/organisms/human_9606_b151_GRCh37p13/VCF/00-All.vcf.gz\n",
      "Fri Nov  4 11:40:06 2022  - dbsnp_v151_hg38  :  https://ftp.ncbi.nih.gov/snp/organisms/human_9606_b151_GRCh38p7/VCF/00-All.vcf.gz\n",
      "Fri Nov  4 11:40:06 2022  - ucsc_genome_hg19  :  http://hgdownload.cse.ucsc.edu/goldenpath/hg19/bigZips/hg19.fa.gz\n",
      "Fri Nov  4 11:40:06 2022  - ucsc_genome_hg38  :  https://hgdownload.soe.ucsc.edu/goldenPath/hg38/bigZips/hg38.fa.gz\n",
      "Fri Nov  4 11:40:06 2022  - testlink  :  https://www.dropbox.com/s/8u7capwge0ihshu/EAS.chr22.split_norm_af.1kgp3v5.vcf.gz?dl=1\n"
     ]
    },
    {
     "data": {
      "text/plain": [
       "{'1kg_eas_hg19': 'https://www.dropbox.com/s/lztaxqhy2o6dpxw/EAS.ALL.split_norm_af.1kgp3v5.hg19.vcf.gz?dl=1',\n",
       " '1kg_eur_hg19': 'https://www.dropbox.com/s/1nbgqshknevseks/EUR.ALL.split_norm_af.1kgp3v5.hg19.vcf.gz?dl=1',\n",
       " '1kg_eas_hg38': 'https://www.dropbox.com/s/3dstbbb1el9r3au/EAS.ALL.split_norm_af.1kg_30x.hg38.vcf.gz?dl=1',\n",
       " '1kg_eur_hg38': 'https://www.dropbox.com/s/z0mkehg17lryapv/EUR.ALL.split_norm_af.1kg_30x.hg38.vcf.gz?dl=1',\n",
       " 'dbsnp_v151_hg19': 'https://ftp.ncbi.nih.gov/snp/organisms/human_9606_b151_GRCh37p13/VCF/00-All.vcf.gz',\n",
       " 'dbsnp_v151_hg38': 'https://ftp.ncbi.nih.gov/snp/organisms/human_9606_b151_GRCh38p7/VCF/00-All.vcf.gz',\n",
       " 'ucsc_genome_hg19': 'http://hgdownload.cse.ucsc.edu/goldenpath/hg19/bigZips/hg19.fa.gz',\n",
       " 'ucsc_genome_hg38': 'https://hgdownload.soe.ucsc.edu/goldenPath/hg38/bigZips/hg38.fa.gz',\n",
       " 'testlink': 'https://www.dropbox.com/s/8u7capwge0ihshu/EAS.chr22.split_norm_af.1kgp3v5.vcf.gz?dl=1'}"
      ]
     },
     "execution_count": 2,
     "metadata": {},
     "output_type": "execute_result"
    }
   ],
   "source": [
    "gl.check_available_ref()"
   ]
  },
  {
   "cell_type": "code",
   "execution_count": 3,
   "metadata": {},
   "outputs": [
    {
     "name": "stdout",
     "output_type": "stream",
     "text": [
      "Fri Nov  4 11:40:06 2022 Start to check downloaded reference files...\n",
      "Fri Nov  4 11:40:06 2022 1kg_eas_hg19  :  /Users/he/work/gwaslab/src/gwaslab/data/EAS.ALL.split_norm_af.1kgp3v5.hg19.vcf.gz\n",
      "Fri Nov  4 11:40:06 2022 1kg_eas_hg19_tbi  :  /Users/he/work/gwaslab/src/gwaslab/data/EAS.ALL.split_norm_af.1kgp3v5.hg19.vcf.gz.tbi\n",
      "Fri Nov  4 11:40:06 2022 testlink_tbi  :  /Users/he/work/gwaslab/src/gwaslab/data/EAS.chr22.split_norm_af.1kgp3v5.vcf.gz.tbi\n"
     ]
    },
    {
     "data": {
      "text/plain": [
       "{'1kg_eas_hg19': '/Users/he/work/gwaslab/src/gwaslab/data/EAS.ALL.split_norm_af.1kgp3v5.hg19.vcf.gz',\n",
       " '1kg_eas_hg19_tbi': '/Users/he/work/gwaslab/src/gwaslab/data/EAS.ALL.split_norm_af.1kgp3v5.hg19.vcf.gz.tbi',\n",
       " 'testlink': '/Users/he/work/gwaslab/src/gwaslab/data/EAS.chr22.split_norm_af.1kgp3v5.vcf.gz',\n",
       " 'testlink_tbi': '/Users/he/work/gwaslab/src/gwaslab/data/EAS.chr22.split_norm_af.1kgp3v5.vcf.gz.tbi'}"
      ]
     },
     "execution_count": 3,
     "metadata": {},
     "output_type": "execute_result"
    }
   ],
   "source": [
    "gl.check_downloaded_ref()"
   ]
  },
  {
   "cell_type": "code",
   "execution_count": 4,
   "metadata": {},
   "outputs": [
    {
     "name": "stdout",
     "output_type": "stream",
     "text": [
      "Fri Nov  4 11:40:06 2022 Start to download  testlink  ...\n",
      "Fri Nov  4 11:40:06 2022  -Downloading to: /Users/he/work/gwaslab/src/gwaslab/data/EAS.chr22.split_norm_af.1kgp3v5.vcf.gz\n",
      "Fri Nov  4 11:40:09 2022  -Updating record in config file...\n",
      "Fri Nov  4 11:40:12 2022  -Updating record in config file...\n",
      "Fri Nov  4 11:40:12 2022  -Downloading to: /Users/he/work/gwaslab/src/gwaslab/data/EAS.chr22.split_norm_af.1kgp3v5.vcf.gz.tbi\n",
      "Fri Nov  4 11:40:12 2022 Downloaded  testlink  successfully!\n"
     ]
    }
   ],
   "source": [
    "gl.download_ref(\"testlink\")"
   ]
  },
  {
   "cell_type": "code",
   "execution_count": 9,
   "metadata": {},
   "outputs": [
    {
     "name": "stdout",
     "output_type": "stream",
     "text": [
      "Fri Nov  4 11:40:30 2022 Start to remove  testlink_tbi  ...\n",
      "Fri Nov  4 11:40:30 2022 Removed : /Users/he/work/gwaslab/src/gwaslab/data/EAS.chr22.split_norm_af.1kgp3v5.vcf.gz.tbi\n",
      "Fri Nov  4 11:40:30 2022 Start to check downloaded reference files...\n",
      "Fri Nov  4 11:40:30 2022 1kg_eas_hg19  :  /Users/he/work/gwaslab/src/gwaslab/data/EAS.ALL.split_norm_af.1kgp3v5.hg19.vcf.gz\n",
      "Fri Nov  4 11:40:30 2022 1kg_eas_hg19_tbi  :  /Users/he/work/gwaslab/src/gwaslab/data/EAS.ALL.split_norm_af.1kgp3v5.hg19.vcf.gz.tbi\n"
     ]
    }
   ],
   "source": [
    "gl.remove_file(\"testlink_tbi\")"
   ]
  },
  {
   "cell_type": "code",
   "execution_count": 6,
   "metadata": {},
   "outputs": [
    {
     "name": "stdout",
     "output_type": "stream",
     "text": [
      "Fri Nov  4 11:40:12 2022 Start to check downloaded reference files...\n",
      "Fri Nov  4 11:40:12 2022 1kg_eas_hg19  :  /Users/he/work/gwaslab/src/gwaslab/data/EAS.ALL.split_norm_af.1kgp3v5.hg19.vcf.gz\n",
      "Fri Nov  4 11:40:12 2022 1kg_eas_hg19_tbi  :  /Users/he/work/gwaslab/src/gwaslab/data/EAS.ALL.split_norm_af.1kgp3v5.hg19.vcf.gz.tbi\n",
      "Fri Nov  4 11:40:12 2022 testlink_tbi  :  /Users/he/work/gwaslab/src/gwaslab/data/EAS.chr22.split_norm_af.1kgp3v5.vcf.gz.tbi\n"
     ]
    },
    {
     "data": {
      "text/plain": [
       "{'1kg_eas_hg19': '/Users/he/work/gwaslab/src/gwaslab/data/EAS.ALL.split_norm_af.1kgp3v5.hg19.vcf.gz',\n",
       " '1kg_eas_hg19_tbi': '/Users/he/work/gwaslab/src/gwaslab/data/EAS.ALL.split_norm_af.1kgp3v5.hg19.vcf.gz.tbi',\n",
       " 'testlink': '/Users/he/work/gwaslab/src/gwaslab/data/EAS.chr22.split_norm_af.1kgp3v5.vcf.gz',\n",
       " 'testlink_tbi': '/Users/he/work/gwaslab/src/gwaslab/data/EAS.chr22.split_norm_af.1kgp3v5.vcf.gz.tbi'}"
      ]
     },
     "execution_count": 6,
     "metadata": {},
     "output_type": "execute_result"
    }
   ],
   "source": [
    "gl.check_downloaded_ref()"
   ]
  },
  {
   "cell_type": "code",
   "execution_count": 11,
   "metadata": {},
   "outputs": [
    {
     "name": "stdout",
     "output_type": "stream",
     "text": [
      "Fri Nov  4 11:41:35 2022 No records in config file. Please download first.\n"
     ]
    }
   ],
   "source": [
    "gl.get_path(\"1kg_eur_hg19\")"
   ]
  },
  {
   "cell_type": "code",
   "execution_count": 12,
   "metadata": {},
   "outputs": [
    {
     "data": {
      "text/plain": [
       "'/Users/he/work/gwaslab/src/gwaslab/data/EAS.ALL.split_norm_af.1kgp3v5.hg19.vcf.gz'"
      ]
     },
     "execution_count": 12,
     "metadata": {},
     "output_type": "execute_result"
    }
   ],
   "source": [
    "gl.get_path(\"1kg_eas_hg19\")"
   ]
  },
  {
   "cell_type": "code",
   "execution_count": 13,
   "metadata": {},
   "outputs": [
    {
     "name": "stdout",
     "output_type": "stream",
     "text": [
      "Fri Nov  4 11:41:43 2022 Start to check downloaded reference files...\n",
      "Fri Nov  4 11:41:43 2022 1kg_eas_hg19  :  /Users/he/work/gwaslab/src/gwaslab/data/EAS.ALL.split_norm_af.1kgp3v5.hg19.vcf.gz\n",
      "Fri Nov  4 11:41:43 2022 1kg_eas_hg19_tbi  :  /Users/he/work/gwaslab/src/gwaslab/data/EAS.ALL.split_norm_af.1kgp3v5.hg19.vcf.gz.tbi\n"
     ]
    },
    {
     "data": {
      "text/plain": [
       "{'1kg_eas_hg19': '/Users/he/work/gwaslab/src/gwaslab/data/EAS.ALL.split_norm_af.1kgp3v5.hg19.vcf.gz',\n",
       " '1kg_eas_hg19_tbi': '/Users/he/work/gwaslab/src/gwaslab/data/EAS.ALL.split_norm_af.1kgp3v5.hg19.vcf.gz.tbi'}"
      ]
     },
     "execution_count": 13,
     "metadata": {},
     "output_type": "execute_result"
    }
   ],
   "source": [
    "gl.check_downloaded_ref()"
   ]
  }
 ],
 "metadata": {
  "kernelspec": {
   "display_name": "Python 3",
   "language": "python",
   "name": "python3"
  },
  "language_info": {
   "codemirror_mode": {
    "name": "ipython",
    "version": 3
   },
   "file_extension": ".py",
   "mimetype": "text/x-python",
   "name": "python",
   "nbconvert_exporter": "python",
   "pygments_lexer": "ipython3",
   "version": "3.8.3"
  }
 },
 "nbformat": 4,
 "nbformat_minor": 5
}
