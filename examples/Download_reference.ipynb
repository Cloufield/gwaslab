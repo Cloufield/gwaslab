{
 "cells": [
  {
   "cell_type": "code",
   "execution_count": 1,
   "metadata": {},
   "outputs": [],
   "source": [
    "import sys\n",
    "sys.path.insert(0,\"/Users/he/work/gwaslab/src\")\n",
    "import gwaslab as gl"
   ]
  },
  {
   "cell_type": "markdown",
   "metadata": {},
   "source": [
    "## check availble reference data that gwaslab can use"
   ]
  },
  {
   "cell_type": "code",
   "execution_count": 8,
   "metadata": {},
   "outputs": [
    {
     "name": "stdout",
     "output_type": "stream",
     "text": [
      "Fri Nov  4 13:47:02 2022 Start to check available reference files...\n",
      "Fri Nov  4 13:47:02 2022  - 1kg_eas_hg19  :  https://www.dropbox.com/s/lztaxqhy2o6dpxw/EAS.ALL.split_norm_af.1kgp3v5.hg19.vcf.gz?dl=1\n",
      "Fri Nov  4 13:47:02 2022  - 1kg_eas_hg19_tbi  :  https://www.dropbox.com/s/k9klefl8m9fcfo1/EAS.ALL.split_norm_af.1kgp3v5.hg19.vcf.gz.tbi?dl=1\n",
      "Fri Nov  4 13:47:02 2022  - 1kg_eur_hg19  :  https://www.dropbox.com/s/1nbgqshknevseks/EUR.ALL.split_norm_af.1kgp3v5.hg19.vcf.gz?dl=1\n",
      "Fri Nov  4 13:47:02 2022  - 1kg_eur_hg19_tbi  :  https://www.dropbox.com/s/vscvkrflh6fc5a0/EUR.ALL.split_norm_af.1kgp3v5.hg19.vcf.gz.tbi?dl=1\n",
      "Fri Nov  4 13:47:02 2022  - 1kg_eas_hg38  :  https://www.dropbox.com/s/3dstbbb1el9r3au/EAS.ALL.split_norm_af.1kg_30x.hg38.vcf.gz?dl=1\n",
      "Fri Nov  4 13:47:02 2022  - 1kg_eas_hg38_tbi  :  https://www.dropbox.com/s/vwnp5vd8dcqksn4/EAS.ALL.split_norm_af.1kg_30x.hg38.vcf.gz.tbi?dl=1\n",
      "Fri Nov  4 13:47:02 2022  - 1kg_eur_hg38  :  https://www.dropbox.com/s/z0mkehg17lryapv/EUR.ALL.split_norm_af.1kg_30x.hg38.vcf.gz?dl=1\n",
      "Fri Nov  4 13:47:02 2022  - 1kg_eur_hg38_tbi  :  https://www.dropbox.com/s/ze8g58x75x9qbf0/EUR.ALL.split_norm_af.1kg_30x.hg38.vcf.gz.tbi?dl=1\n",
      "Fri Nov  4 13:47:02 2022  - dbsnp_v151_hg19  :  https://ftp.ncbi.nih.gov/snp/organisms/human_9606_b151_GRCh37p13/VCF/00-All.vcf.gz\n",
      "Fri Nov  4 13:47:02 2022  - dbsnp_v151_hg38  :  https://ftp.ncbi.nih.gov/snp/organisms/human_9606_b151_GRCh38p7/VCF/00-All.vcf.gz\n",
      "Fri Nov  4 13:47:02 2022  - ucsc_genome_hg19  :  http://hgdownload.cse.ucsc.edu/goldenpath/hg19/bigZips/hg19.fa.gz\n",
      "Fri Nov  4 13:47:02 2022  - ucsc_genome_hg38  :  https://hgdownload.soe.ucsc.edu/goldenPath/hg38/bigZips/hg38.fa.gz\n",
      "Fri Nov  4 13:47:02 2022  - 1kg_dbsnp151_hg19_auto  :  https://www.dropbox.com/s/37p2u1xwmux4gwo/1kg_dbsnp151_hg19_auto.txt.gz?dl=1\n",
      "Fri Nov  4 13:47:02 2022  - 1kg_dbsnp151_hg38_auto  :  https://www.dropbox.com/s/ouf60n7gdz6cm0g/1kg_dbsnp151_hg38_auto.txt.gz?dl=1\n",
      "Fri Nov  4 13:47:02 2022  - testlink  :  https://www.dropbox.com/s/8u7capwge0ihshu/EAS.chr22.split_norm_af.1kgp3v5.vcf.gz?dl=1\n",
      "Fri Nov  4 13:47:02 2022  - testlink_tbi  :  https://www.dropbox.com/s/hdneg53t6u1j6ib/EAS.chr22.split_norm_af.1kgp3v5.vcf.gz.tbi?dl=1\n"
     ]
    },
    {
     "data": {
      "text/plain": [
       "{'1kg_eas_hg19': 'https://www.dropbox.com/s/lztaxqhy2o6dpxw/EAS.ALL.split_norm_af.1kgp3v5.hg19.vcf.gz?dl=1',\n",
       " '1kg_eas_hg19_tbi': 'https://www.dropbox.com/s/k9klefl8m9fcfo1/EAS.ALL.split_norm_af.1kgp3v5.hg19.vcf.gz.tbi?dl=1',\n",
       " '1kg_eur_hg19': 'https://www.dropbox.com/s/1nbgqshknevseks/EUR.ALL.split_norm_af.1kgp3v5.hg19.vcf.gz?dl=1',\n",
       " '1kg_eur_hg19_tbi': 'https://www.dropbox.com/s/vscvkrflh6fc5a0/EUR.ALL.split_norm_af.1kgp3v5.hg19.vcf.gz.tbi?dl=1',\n",
       " '1kg_eas_hg38': 'https://www.dropbox.com/s/3dstbbb1el9r3au/EAS.ALL.split_norm_af.1kg_30x.hg38.vcf.gz?dl=1',\n",
       " '1kg_eas_hg38_tbi': 'https://www.dropbox.com/s/vwnp5vd8dcqksn4/EAS.ALL.split_norm_af.1kg_30x.hg38.vcf.gz.tbi?dl=1',\n",
       " '1kg_eur_hg38': 'https://www.dropbox.com/s/z0mkehg17lryapv/EUR.ALL.split_norm_af.1kg_30x.hg38.vcf.gz?dl=1',\n",
       " '1kg_eur_hg38_tbi': 'https://www.dropbox.com/s/ze8g58x75x9qbf0/EUR.ALL.split_norm_af.1kg_30x.hg38.vcf.gz.tbi?dl=1',\n",
       " 'dbsnp_v151_hg19': 'https://ftp.ncbi.nih.gov/snp/organisms/human_9606_b151_GRCh37p13/VCF/00-All.vcf.gz',\n",
       " 'dbsnp_v151_hg38': 'https://ftp.ncbi.nih.gov/snp/organisms/human_9606_b151_GRCh38p7/VCF/00-All.vcf.gz',\n",
       " 'ucsc_genome_hg19': 'http://hgdownload.cse.ucsc.edu/goldenpath/hg19/bigZips/hg19.fa.gz',\n",
       " 'ucsc_genome_hg38': 'https://hgdownload.soe.ucsc.edu/goldenPath/hg38/bigZips/hg38.fa.gz',\n",
       " '1kg_dbsnp151_hg19_auto': 'https://www.dropbox.com/s/37p2u1xwmux4gwo/1kg_dbsnp151_hg19_auto.txt.gz?dl=1',\n",
       " '1kg_dbsnp151_hg38_auto': 'https://www.dropbox.com/s/ouf60n7gdz6cm0g/1kg_dbsnp151_hg38_auto.txt.gz?dl=1',\n",
       " 'testlink': 'https://www.dropbox.com/s/8u7capwge0ihshu/EAS.chr22.split_norm_af.1kgp3v5.vcf.gz?dl=1',\n",
       " 'testlink_tbi': 'https://www.dropbox.com/s/hdneg53t6u1j6ib/EAS.chr22.split_norm_af.1kgp3v5.vcf.gz.tbi?dl=1'}"
      ]
     },
     "execution_count": 8,
     "metadata": {},
     "output_type": "execute_result"
    }
   ],
   "source": [
    "gl.check_available_ref()"
   ]
  },
  {
   "cell_type": "markdown",
   "metadata": {},
   "source": [
    "## check downloaded reference data "
   ]
  },
  {
   "cell_type": "code",
   "execution_count": 3,
   "metadata": {},
   "outputs": [
    {
     "name": "stdout",
     "output_type": "stream",
     "text": [
      "Fri Nov  4 12:49:28 2022 Start to check downloaded reference files...\n",
      "Fri Nov  4 12:49:28 2022 1kg_eas_hg19  :  /Users/he/work/gwaslab/src/gwaslab/data/EAS.ALL.split_norm_af.1kgp3v5.hg19.vcf.gz\n",
      "Fri Nov  4 12:49:28 2022 1kg_eas_hg19_tbi  :  /Users/he/work/gwaslab/src/gwaslab/data/EAS.ALL.split_norm_af.1kgp3v5.hg19.vcf.gz.tbi\n",
      "Fri Nov  4 12:49:28 2022 testlink  :  /Users/he/work/gwaslab/src/gwaslab/data/EAS.chr22.split_norm_af.1kgp3v5.vcf.gz\n",
      "Fri Nov  4 12:49:28 2022 testlink_tbi  :  /Users/he/work/gwaslab/src/gwaslab/data/EAS.chr22.split_norm_af.1kgp3v5.vcf.gz.tbi\n"
     ]
    },
    {
     "data": {
      "text/plain": [
       "{'1kg_eas_hg19': '/Users/he/work/gwaslab/src/gwaslab/data/EAS.ALL.split_norm_af.1kgp3v5.hg19.vcf.gz',\n",
       " '1kg_eas_hg19_tbi': '/Users/he/work/gwaslab/src/gwaslab/data/EAS.ALL.split_norm_af.1kgp3v5.hg19.vcf.gz.tbi',\n",
       " 'testlink': '/Users/he/work/gwaslab/src/gwaslab/data/EAS.chr22.split_norm_af.1kgp3v5.vcf.gz',\n",
       " 'testlink_tbi': '/Users/he/work/gwaslab/src/gwaslab/data/EAS.chr22.split_norm_af.1kgp3v5.vcf.gz.tbi'}"
      ]
     },
     "execution_count": 3,
     "metadata": {},
     "output_type": "execute_result"
    }
   ],
   "source": [
    "gl.check_downloaded_ref()"
   ]
  },
  {
   "cell_type": "markdown",
   "metadata": {},
   "source": [
    "## download reference data"
   ]
  },
  {
   "cell_type": "code",
   "execution_count": 4,
   "metadata": {},
   "outputs": [
    {
     "name": "stdout",
     "output_type": "stream",
     "text": [
      "Fri Nov  4 12:49:28 2022 Start to download  testlink  ...\n",
      "Fri Nov  4 12:49:28 2022  -Downloading to: /Users/he/work/gwaslab/src/gwaslab/data/EAS.chr22.split_norm_af.1kgp3v5.vcf.gz\n",
      "Fri Nov  4 12:49:48 2022  -Updating record in config file...\n",
      "Fri Nov  4 12:49:49 2022  -Updating record in config file...\n",
      "Fri Nov  4 12:49:49 2022  -Downloading to: /Users/he/work/gwaslab/src/gwaslab/data/EAS.chr22.split_norm_af.1kgp3v5.vcf.gz.tbi\n",
      "Fri Nov  4 12:49:49 2022 Downloaded  testlink  successfully!\n"
     ]
    }
   ],
   "source": [
    "gl.download_ref(\"testlink\")"
   ]
  },
  {
   "cell_type": "markdown",
   "metadata": {},
   "source": [
    "## remove downloaded reference data"
   ]
  },
  {
   "cell_type": "code",
   "execution_count": 5,
   "metadata": {},
   "outputs": [
    {
     "name": "stdout",
     "output_type": "stream",
     "text": [
      "Fri Nov  4 12:10:46 2022 Start to remove  testlink_tbi  ...\n",
      "Fri Nov  4 12:10:46 2022 Removed : /Users/he/work/gwaslab/src/gwaslab/data/EAS.chr22.split_norm_af.1kgp3v5.vcf.gz.tbi\n",
      "Fri Nov  4 12:10:46 2022 Start to check downloaded reference files...\n",
      "Fri Nov  4 12:10:46 2022 1kg_eas_hg19  :  /Users/he/work/gwaslab/src/gwaslab/data/EAS.ALL.split_norm_af.1kgp3v5.hg19.vcf.gz\n",
      "Fri Nov  4 12:10:46 2022 1kg_eas_hg19_tbi  :  /Users/he/work/gwaslab/src/gwaslab/data/EAS.ALL.split_norm_af.1kgp3v5.hg19.vcf.gz.tbi\n",
      "Fri Nov  4 12:10:46 2022 testlink  :  /Users/he/work/gwaslab/src/gwaslab/data/EAS.chr22.split_norm_af.1kgp3v5.vcf.gz\n"
     ]
    }
   ],
   "source": [
    "gl.remove_file(\"testlink_tbi\")"
   ]
  },
  {
   "cell_type": "markdown",
   "metadata": {},
   "source": [
    "## get the path of reference data"
   ]
  },
  {
   "cell_type": "code",
   "execution_count": 6,
   "metadata": {},
   "outputs": [
    {
     "name": "stdout",
     "output_type": "stream",
     "text": [
      "Fri Nov  4 13:30:19 2022 No records in config file. Please download first.\n"
     ]
    }
   ],
   "source": [
    "gl.get_path(\"1kg_eur_hg19\")"
   ]
  },
  {
   "cell_type": "code",
   "execution_count": 8,
   "metadata": {},
   "outputs": [
    {
     "data": {
      "text/plain": [
       "'/Users/he/work/gwaslab/src/gwaslab/data/EAS.ALL.split_norm_af.1kgp3v5.hg19.vcf.gz'"
      ]
     },
     "execution_count": 8,
     "metadata": {},
     "output_type": "execute_result"
    }
   ],
   "source": [
    "gl.get_path(\"1kg_eas_hg19\")"
   ]
  }
 ],
 "metadata": {
  "kernelspec": {
   "display_name": "Python 3",
   "language": "python",
   "name": "python3"
  },
  "language_info": {
   "codemirror_mode": {
    "name": "ipython",
    "version": 3
   },
   "file_extension": ".py",
   "mimetype": "text/x-python",
   "name": "python",
   "nbconvert_exporter": "python",
   "pygments_lexer": "ipython3",
   "version": "3.8.3"
  }
 },
 "nbformat": 4,
 "nbformat_minor": 5
}
