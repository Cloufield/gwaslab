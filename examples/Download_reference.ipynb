{
 "cells": [
  {
   "cell_type": "code",
   "execution_count": 1,
   "id": "2eb41e1c",
   "metadata": {},
   "outputs": [],
   "source": [
    "import sys\n",
    "sys.path.insert(0,\"/home/yunye/gwaslab/gwaslab/src\")\n",
    "import gwaslab as gl"
   ]
  },
  {
   "cell_type": "code",
   "execution_count": 2,
   "id": "92e07bfa",
   "metadata": {},
   "outputs": [
    {
     "name": "stdout",
     "output_type": "stream",
     "text": [
      "Fri Nov  4 00:49:00 2022 eas_1kg_hg19  :  https://www.dropbox.com/s/iwthvmx5r5kjl1j/EAS.ALL.split_norm_af.1kgp3v5.hg19.vcf.gz?dl=1\n",
      "Fri Nov  4 00:49:00 2022 eas_1kg_hg38  :  \n",
      "Fri Nov  4 00:49:00 2022 eur_1kg_hg19  :  \n",
      "Fri Nov  4 00:49:00 2022 eur_1kg_hg38  :  \n",
      "Fri Nov  4 00:49:00 2022 sas_1kg_hg19  :  \n",
      "Fri Nov  4 00:49:00 2022 sas_1kg_hg38  :  \n",
      "Fri Nov  4 00:49:00 2022 afr_1kg_hg19  :  \n",
      "Fri Nov  4 00:49:00 2022 afr_1kg_hg38  :  \n",
      "Fri Nov  4 00:49:00 2022 amr_1kg_hg19  :  \n",
      "Fri Nov  4 00:49:00 2022 amr_1kg_hg38  :  \n",
      "Fri Nov  4 00:49:00 2022 dbsnp_v151_hg19  :  https://ftp.ncbi.nih.gov/snp/organisms/human_9606_b151_GRCh37p13/VCF/00-All.vcf.gz\n",
      "Fri Nov  4 00:49:00 2022 dbsnp_v151_hg19_tbi  :  https://ftp.ncbi.nih.gov/snp/organisms/human_9606_b151_GRCh37p13/VCF/00-All.vcf.gz.tbi\n",
      "Fri Nov  4 00:49:00 2022 dbsnp_v151_hg38  :  https://ftp.ncbi.nih.gov/snp/organisms/human_9606_b151_GRCh38p7/VCF/00-All.vcf.gz\n",
      "Fri Nov  4 00:49:00 2022 dbsnp_v151_hg38_tbi  :  https://ftp.ncbi.nih.gov/snp/organisms/human_9606_b151_GRCh38p7/VCF/00-All.vcf.gz.tbi\n",
      "Fri Nov  4 00:49:00 2022 ucsc_genome_hg19  :  http://hgdownload.cse.ucsc.edu/goldenpath/hg19/bigZips/hg19.fa.gz\n",
      "Fri Nov  4 00:49:00 2022 ucsc_genome_hg38  :  https://hgdownload.soe.ucsc.edu/goldenPath/hg38/bigZips/hg38.fa.gz\n"
     ]
    },
    {
     "data": {
      "text/plain": [
       "{'eas_1kg_hg19': 'https://www.dropbox.com/s/iwthvmx5r5kjl1j/EAS.ALL.split_norm_af.1kgp3v5.hg19.vcf.gz?dl=1',\n",
       " 'eas_1kg_hg38': '',\n",
       " 'eur_1kg_hg19': '',\n",
       " 'eur_1kg_hg38': '',\n",
       " 'sas_1kg_hg19': '',\n",
       " 'sas_1kg_hg38': '',\n",
       " 'afr_1kg_hg19': '',\n",
       " 'afr_1kg_hg38': '',\n",
       " 'amr_1kg_hg19': '',\n",
       " 'amr_1kg_hg38': '',\n",
       " 'dbsnp_v151_hg19': 'https://ftp.ncbi.nih.gov/snp/organisms/human_9606_b151_GRCh37p13/VCF/00-All.vcf.gz',\n",
       " 'dbsnp_v151_hg19_tbi': 'https://ftp.ncbi.nih.gov/snp/organisms/human_9606_b151_GRCh37p13/VCF/00-All.vcf.gz.tbi',\n",
       " 'dbsnp_v151_hg38': 'https://ftp.ncbi.nih.gov/snp/organisms/human_9606_b151_GRCh38p7/VCF/00-All.vcf.gz',\n",
       " 'dbsnp_v151_hg38_tbi': 'https://ftp.ncbi.nih.gov/snp/organisms/human_9606_b151_GRCh38p7/VCF/00-All.vcf.gz.tbi',\n",
       " 'ucsc_genome_hg19': 'http://hgdownload.cse.ucsc.edu/goldenpath/hg19/bigZips/hg19.fa.gz',\n",
       " 'ucsc_genome_hg38': 'https://hgdownload.soe.ucsc.edu/goldenPath/hg38/bigZips/hg38.fa.gz'}"
      ]
     },
     "execution_count": 2,
     "metadata": {},
     "output_type": "execute_result"
    }
   ],
   "source": [
    "gl.check_available_ref()"
   ]
  },
  {
   "cell_type": "code",
   "execution_count": 3,
   "id": "36caa03f",
   "metadata": {},
   "outputs": [
    {
     "name": "stdout",
     "output_type": "stream",
     "text": [
      "Fri Nov  4 00:49:02 2022 No records in config file.\n"
     ]
    }
   ],
   "source": [
    "gl.check_downloaded_ref()"
   ]
  },
  {
   "cell_type": "code",
   "execution_count": 5,
   "id": "6d2e71fa",
   "metadata": {},
   "outputs": [
    {
     "name": "stdout",
     "output_type": "stream",
     "text": [
      "Thu Nov  3 21:30:29 2022 Start to download  eas_1kg_hg19  ...\n",
      "Thu Nov  3 21:30:29 2022  -Downloading to: /home/yunye/mydata/d_disk/sumstats/EAS.ALL.split_norm_af.1kgp3v5.hg19.vcf.gz?dl=1\n",
      "Thu Nov  3 21:35:24 2022  -Downloaded  eas_1kg_hg19  successfully!\n"
     ]
    }
   ],
   "source": [
    "gl.download_ref(\"eas_1kg_hg19\",directory=\"/home/yunye/mydata/d_disk/sumstats/\")"
   ]
  },
  {
   "cell_type": "code",
   "execution_count": 6,
   "id": "8e8e7e82",
   "metadata": {},
   "outputs": [
    {
     "name": "stdout",
     "output_type": "stream",
     "text": [
      "Thu Nov  3 21:35:24 2022 1kg_hg19  :  /home/yunye/gwaslab/gwaslab/src/gwaslab/data/genome_assemblies_genome_fasta.tar?dl=1\n",
      "Thu Nov  3 21:35:24 2022 ucsc_genome_hg19  :  /home/yunye/gwaslab/gwaslab/src/gwaslab/data/hg19.fa\n",
      "Thu Nov  3 21:35:24 2022 eas_1kg_hg19  :  /home/yunye/mydata/d_disk/sumstats/EAS.ALL.split_norm_af.1kgp3v5.hg19.vcf.gz\n"
     ]
    },
    {
     "data": {
      "text/plain": [
       "{'1kg_hg19': '/home/yunye/gwaslab/gwaslab/src/gwaslab/data/genome_assemblies_genome_fasta.tar?dl=1',\n",
       " 'ucsc_genome_hg19': '/home/yunye/gwaslab/gwaslab/src/gwaslab/data/hg19.fa',\n",
       " 'eas_1kg_hg19': '/home/yunye/mydata/d_disk/sumstats/EAS.ALL.split_norm_af.1kgp3v5.hg19.vcf.gz'}"
      ]
     },
     "execution_count": 6,
     "metadata": {},
     "output_type": "execute_result"
    }
   ],
   "source": [
    "gl.check_downloaded_ref()"
   ]
  },
  {
   "cell_type": "code",
   "execution_count": 7,
   "id": "9c7ae58b",
   "metadata": {},
   "outputs": [
    {
     "name": "stdout",
     "output_type": "stream",
     "text": [
      "Thu Nov  3 21:35:24 2022 Removed : /home/yunye/mydata/d_disk/sumstats/EAS.ALL.split_norm_af.1kgp3v5.hg19.vcf.gz\n",
      "Thu Nov  3 21:35:24 2022 1kg_hg19  :  /home/yunye/gwaslab/gwaslab/src/gwaslab/data/genome_assemblies_genome_fasta.tar?dl=1\n",
      "Thu Nov  3 21:35:24 2022 ucsc_genome_hg19  :  /home/yunye/gwaslab/gwaslab/src/gwaslab/data/hg19.fa\n"
     ]
    }
   ],
   "source": [
    "gl.remove_file(\"eas_1kg_hg19\")"
   ]
  },
  {
   "cell_type": "code",
   "execution_count": 12,
   "id": "2cd39da6",
   "metadata": {},
   "outputs": [
    {
     "name": "stdout",
     "output_type": "stream",
     "text": [
      "Thu Nov  3 22:38:13 2022 No records in config file.\n"
     ]
    }
   ],
   "source": [
    "gl.check_downloaded_ref()"
   ]
  },
  {
   "cell_type": "code",
   "execution_count": null,
   "id": "2c239050",
   "metadata": {},
   "outputs": [],
   "source": []
  }
 ],
 "metadata": {
  "kernelspec": {
   "display_name": "Python 3 (ipykernel)",
   "language": "python",
   "name": "python3"
  },
  "language_info": {
   "codemirror_mode": {
    "name": "ipython",
    "version": 3
   },
   "file_extension": ".py",
   "mimetype": "text/x-python",
   "name": "python",
   "nbconvert_exporter": "python",
   "pygments_lexer": "ipython3",
   "version": "3.9.7"
  }
 },
 "nbformat": 4,
 "nbformat_minor": 5
}
