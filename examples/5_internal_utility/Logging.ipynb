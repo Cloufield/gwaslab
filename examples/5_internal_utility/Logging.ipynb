{
 "cells": [
  {
   "cell_type": "markdown",
   "metadata": {},
   "source": [
    "# Logging"
   ]
  },
  {
   "cell_type": "code",
   "execution_count": 1,
   "metadata": {},
   "outputs": [],
   "source": [
    "import gwaslab as gl"
   ]
  },
  {
   "cell_type": "code",
   "execution_count": 2,
   "metadata": {},
   "outputs": [
    {
     "name": "stdout",
     "output_type": "stream",
     "text": [
      "2024/12/21 01:44:47 GWASLab v3.5.4 https://cloufield.github.io/gwaslab/\n",
      "2024/12/21 01:44:47 (C) 2022-2024, Yunye He, Kamatani Lab, MIT License, gwaslab@gmail.com\n"
     ]
    }
   ],
   "source": [
    "gl.show_version()"
   ]
  },
  {
   "cell_type": "markdown",
   "metadata": {},
   "source": [
    "## Do some manipulations"
   ]
  },
  {
   "cell_type": "code",
   "execution_count": 3,
   "metadata": {
    "scrolled": true
   },
   "outputs": [
    {
     "name": "stdout",
     "output_type": "stream",
     "text": [
      "2024/12/21 01:44:47 GWASLab v3.5.4 https://cloufield.github.io/gwaslab/\n",
      "2024/12/21 01:44:47 (C) 2022-2024, Yunye He, Kamatani Lab, MIT License, gwaslab@gmail.com\n",
      "2024/12/21 01:44:47 Start to initialize gl.Sumstats from file :../0_sample_data/t2d_bbj.txt.gz\n",
      "2024/12/21 01:44:47  -Reading columns          : ALT,Frq,REF,Dir,POS,P,SNP,BETA,SE,N,CHR\n",
      "2024/12/21 01:44:47  -Renaming columns to      : EA,EAF,NEA,DIRECTION,POS,P,SNPID,BETA,SE,N,CHR\n",
      "2024/12/21 01:44:47  -Current Dataframe shape : 100  x  11\n",
      "2024/12/21 01:44:47  -Initiating a status column: STATUS ...\n",
      "2024/12/21 01:44:47  #WARNING! Version of genomic coordinates is unknown...\n",
      "2024/12/21 01:44:48  -NEAF is specified...\n",
      "2024/12/21 01:44:48  -Checking if 0<= NEAF <=1 ...\n",
      "2024/12/21 01:44:48  -Converted NEAF to EAF.\n",
      "2024/12/21 01:44:48  -Removed 0 variants with bad NEAF.\n",
      "2024/12/21 01:44:48 Start to reorder the columns...v3.5.4\n",
      "2024/12/21 01:44:48  -Current Dataframe shape : 100 x 12 ; Memory usage: 21.47 MB\n",
      "2024/12/21 01:44:48  -Reordering columns to    : SNPID,CHR,POS,EA,NEA,EAF,BETA,SE,P,N,DIRECTION,STATUS\n",
      "2024/12/21 01:44:48 Finished reordering the columns.\n",
      "2024/12/21 01:44:48  -Column  : SNPID  CHR    POS   EA       NEA      EAF     BETA    SE      P       N     DIRECTION STATUS  \n",
      "2024/12/21 01:44:48  -DType   : object string int64 category category float64 float64 float64 float64 int64 object    category\n",
      "2024/12/21 01:44:48  -Verified: T      F      T     T        T        T       T       T       T       T     T         T       \n",
      "2024/12/21 01:44:48  #WARNING! Columns with possibly incompatible dtypes: CHR\n",
      "2024/12/21 01:44:48  -Current Dataframe memory usage: 21.47 MB\n",
      "2024/12/21 01:44:48 Finished loading data successfully!\n"
     ]
    }
   ],
   "source": [
    "mysumstats = gl.Sumstats(\"../0_sample_data/t2d_bbj.txt.gz\",\n",
    "             snpid=\"SNP\",\n",
    "             chrom=\"CHR\",\n",
    "             pos=\"POS\",\n",
    "             ea=\"ALT\",\n",
    "             nea=\"REF\",\n",
    "             neaf=\"Frq\",\n",
    "             beta=\"BETA\",\n",
    "             se=\"SE\",\n",
    "             p=\"P\",\n",
    "             direction=\"Dir\",\n",
    "             n=\"N\",nrows=100)"
   ]
  },
  {
   "cell_type": "code",
   "execution_count": 4,
   "metadata": {
    "scrolled": true
   },
   "outputs": [
    {
     "name": "stdout",
     "output_type": "stream",
     "text": [
      "2024/12/21 01:44:48 Start to check SNPID/rsID...v3.5.4\n",
      "2024/12/21 01:44:48  -Current Dataframe shape : 100 x 12 ; Memory usage: 21.47 MB\n",
      "2024/12/21 01:44:48  -Checking SNPID data type...\n",
      "2024/12/21 01:44:48  -Converting SNPID to pd.string data type...\n",
      "2024/12/21 01:44:48  -Checking if SNPID is CHR:POS:NEA:EA...(separator: - ,: , _)\n",
      "2024/12/21 01:44:51 Finished checking SNPID/rsID.\n",
      "2024/12/21 01:44:51 Start to fix chromosome notation (CHR)...v3.5.4\n",
      "2024/12/21 01:44:51  -Current Dataframe shape : 100 x 12 ; Memory usage: 21.47 MB\n",
      "2024/12/21 01:44:51  -Checking CHR data type...\n",
      "2024/12/21 01:44:51  -Variants with standardized chromosome notation: 100\n",
      "2024/12/21 01:44:51  -All CHR are already fixed...\n",
      "2024/12/21 01:44:53 Finished fixing chromosome notation (CHR).\n",
      "2024/12/21 01:44:53 Start to fix basepair positions (POS)...v3.5.4\n",
      "2024/12/21 01:44:53  -Current Dataframe shape : 100 x 12 ; Memory usage: 21.47 MB\n",
      "2024/12/21 01:44:53  -Converting to Int64 data type ...\n",
      "2024/12/21 01:44:56  -Position bound:(0 , 250,000,000)\n",
      "2024/12/21 01:44:56  -Removed outliers: 0\n",
      "2024/12/21 01:44:56 Finished fixing basepair positions (POS).\n",
      "2024/12/21 01:44:56 Start to fix alleles (EA and NEA)...v3.5.4\n",
      "2024/12/21 01:44:56  -Current Dataframe shape : 100 x 12 ; Memory usage: 21.47 MB\n",
      "2024/12/21 01:44:56  -Converted all bases to string datatype and UPPERCASE.\n",
      "2024/12/21 01:44:56  -Variants with bad EA  : 0\n",
      "2024/12/21 01:44:56  -Variants with bad NEA : 0\n",
      "2024/12/21 01:44:56  -Variants with NA for EA or NEA: 0\n",
      "2024/12/21 01:44:56  -Variants with same EA and NEA: 0\n",
      "2024/12/21 01:44:56  -Detected 0 variants with alleles that contain bases other than A/C/T/G .\n",
      "2024/12/21 01:45:00 Finished fixing alleles (EA and NEA).\n",
      "2024/12/21 01:45:01 Start to perform sanity check for statistics...v3.5.4\n",
      "2024/12/21 01:45:01  -Current Dataframe shape : 100 x 12 ; Memory usage: 21.47 MB\n",
      "2024/12/21 01:45:01  -Comparison tolerance for floats: 1e-07\n",
      "2024/12/21 01:45:01  -Checking if 0 <= N <= 2147483647 ...\n",
      "2024/12/21 01:45:01  -Removed 0 variants with bad/na N.\n",
      "2024/12/21 01:45:01  -Checking if -1e-07 < EAF < 1.0000001 ...\n",
      "2024/12/21 01:45:01  -Removed 0 variants with bad/na EAF.\n",
      "2024/12/21 01:45:01  -Checking if -1e-07 < P < 1.0000001 ...\n",
      "2024/12/21 01:45:01  -Removed 0 variants with bad/na P.\n",
      "2024/12/21 01:45:01  -Checking if -100.0000001 < BETA < 100.0000001 ...\n",
      "2024/12/21 01:45:01  -Removed 0 variants with bad/na BETA.\n",
      "2024/12/21 01:45:01  -Checking if -1e-07 < SE < inf ...\n",
      "2024/12/21 01:45:01  -Removed 0 variants with bad/na SE.\n",
      "2024/12/21 01:45:01  -Checking STATUS and converting STATUS to categories....\n",
      "2024/12/21 01:45:02  -Removed 0 variants with bad statistics in total.\n",
      "2024/12/21 01:45:02  -Data types for each column:\n",
      "2024/12/21 01:45:02  -Column  : SNPID  CHR   POS   EA       NEA      EAF     BETA    SE      P       N     DIRECTION STATUS  \n",
      "2024/12/21 01:45:02  -DType   : string Int64 Int64 category category float32 float64 float64 float64 Int64 object    category\n",
      "2024/12/21 01:45:02  -Verified: T      T     T     T        T        T       T       T       T       T     T         T       \n",
      "2024/12/21 01:45:02 Finished sanity check for statistics.\n",
      "2024/12/21 01:45:02 Start to check data consistency across columns...v3.5.4\n",
      "2024/12/21 01:45:02  -Current Dataframe shape : 100 x 12 ; Memory usage: 21.47 MB\n",
      "2024/12/21 01:45:02  -Tolerance: 0.001 (Relative) and 0.001 (Absolute)\n",
      "2024/12/21 01:45:02  -Checking if BETA/SE-derived-P is consistent with P...\n",
      "2024/12/21 01:45:02   -Not consistent: 15 variant(s)\n",
      "2024/12/21 01:45:02   -Variant SNPID with max difference: 1:836529_C_G with 0.0023099807349250545\n",
      "2024/12/21 01:45:02  -Note: if the max difference is greater than expected, please check your original sumstats.\n",
      "2024/12/21 01:45:02 Finished checking data consistency across columns.\n",
      "2024/12/21 01:45:02 Start to normalize indels...v3.5.4\n",
      "2024/12/21 01:45:02  -Current Dataframe shape : 100 x 12 ; Memory usage: 21.48 MB\n",
      "2024/12/21 01:45:02  -No available variants to normalize..\n",
      "2024/12/21 01:45:02 Finished normalizing variants successfully!\n",
      "2024/12/21 01:45:02 Start to sort the genome coordinates...v3.5.4\n",
      "2024/12/21 01:45:02  -Current Dataframe shape : 100 x 12 ; Memory usage: 21.48 MB\n",
      "2024/12/21 01:45:02 Finished sorting coordinates.\n",
      "2024/12/21 01:45:02 Start to reorder the columns...v3.5.4\n",
      "2024/12/21 01:45:02  -Current Dataframe shape : 100 x 12 ; Memory usage: 21.47 MB\n",
      "2024/12/21 01:45:02  -Reordering columns to    : SNPID,CHR,POS,EA,NEA,EAF,BETA,SE,P,N,DIRECTION,STATUS\n",
      "2024/12/21 01:45:02 Finished reordering the columns.\n"
     ]
    }
   ],
   "source": [
    "mysumstats.basic_check()"
   ]
  },
  {
   "cell_type": "markdown",
   "metadata": {},
   "source": [
    "## Check log"
   ]
  },
  {
   "cell_type": "code",
   "execution_count": 5,
   "metadata": {
    "scrolled": true
   },
   "outputs": [
    {
     "name": "stdout",
     "output_type": "stream",
     "text": [
      "2024/12/21 01:44:47 Sumstats Object created.\n",
      "2024/12/21 01:44:47 GWASLab v3.5.4 https://cloufield.github.io/gwaslab/\n",
      "2024/12/21 01:44:47 (C) 2022-2024, Yunye He, Kamatani Lab, MIT License, gwaslab@gmail.com\n",
      "2024/12/21 01:44:47 Start to initialize gl.Sumstats from file :../0_sample_data/t2d_bbj.txt.gz\n",
      "2024/12/21 01:44:47  -Reading columns          : ALT,Frq,REF,Dir,POS,P,SNP,BETA,SE,N,CHR\n",
      "2024/12/21 01:44:47  -Renaming columns to      : EA,EAF,NEA,DIRECTION,POS,P,SNPID,BETA,SE,N,CHR\n",
      "2024/12/21 01:44:47  -Current Dataframe shape : 100  x  11\n",
      "2024/12/21 01:44:47  -Initiating a status column: STATUS ...\n",
      "2024/12/21 01:44:47  #WARNING! Version of genomic coordinates is unknown...\n",
      "2024/12/21 01:44:48  -NEAF is specified...\n",
      "2024/12/21 01:44:48  -Checking if 0<= NEAF <=1 ...\n",
      "2024/12/21 01:44:48  -Converted NEAF to EAF.\n",
      "2024/12/21 01:44:48  -Removed 0 variants with bad NEAF.\n",
      "2024/12/21 01:44:48 Start to reorder the columns...v3.5.4\n",
      "2024/12/21 01:44:48  -Current Dataframe shape : 100 x 12 ; Memory usage: 21.47 MB\n",
      "2024/12/21 01:44:48  -Reordering columns to    : SNPID,CHR,POS,EA,NEA,EAF,BETA,SE,P,N,DIRECTION,STATUS\n",
      "2024/12/21 01:44:48 Finished reordering the columns.\n",
      "2024/12/21 01:44:48  -Column  : SNPID  CHR    POS   EA       NEA      EAF     BETA    SE      P       N     DIRECTION STATUS  \n",
      "2024/12/21 01:44:48  -DType   : object string int64 category category float64 float64 float64 float64 int64 object    category\n",
      "2024/12/21 01:44:48  -Verified: T      F      T     T        T        T       T       T       T       T     T         T       \n",
      "2024/12/21 01:44:48  #WARNING! Columns with possibly incompatible dtypes: CHR\n",
      "2024/12/21 01:44:48  -Current Dataframe memory usage: 21.47 MB\n",
      "2024/12/21 01:44:48 Finished loading data successfully!\n",
      "2024/12/21 01:44:48  #WARNING! Version of genomic coordinates is unknown...\n",
      "2024/12/21 01:44:48 Start to check SNPID/rsID...v3.5.4\n",
      "2024/12/21 01:44:48  -Current Dataframe shape : 100 x 12 ; Memory usage: 21.47 MB\n",
      "2024/12/21 01:44:48  -Checking SNPID data type...\n",
      "2024/12/21 01:44:48  -Converting SNPID to pd.string data type...\n",
      "2024/12/21 01:44:48  -Checking if SNPID is CHR:POS:NEA:EA...(separator: - ,: , _)\n",
      "2024/12/21 01:44:51 Finished checking SNPID/rsID.\n",
      "2024/12/21 01:44:51 Start to fix chromosome notation (CHR)...v3.5.4\n",
      "2024/12/21 01:44:51  -Current Dataframe shape : 100 x 12 ; Memory usage: 21.47 MB\n",
      "2024/12/21 01:44:51  -Checking CHR data type...\n",
      "2024/12/21 01:44:51  -Variants with standardized chromosome notation: 100\n",
      "2024/12/21 01:44:51  -All CHR are already fixed...\n",
      "2024/12/21 01:44:53 Finished fixing chromosome notation (CHR).\n",
      "2024/12/21 01:44:53 Start to fix basepair positions (POS)...v3.5.4\n",
      "2024/12/21 01:44:53  -Current Dataframe shape : 100 x 12 ; Memory usage: 21.47 MB\n",
      "2024/12/21 01:44:53  -Converting to Int64 data type ...\n",
      "2024/12/21 01:44:56  -Position bound:(0 , 250,000,000)\n",
      "2024/12/21 01:44:56  -Removed outliers: 0\n",
      "2024/12/21 01:44:56 Finished fixing basepair positions (POS).\n",
      "2024/12/21 01:44:56 Start to fix alleles (EA and NEA)...v3.5.4\n",
      "2024/12/21 01:44:56  -Current Dataframe shape : 100 x 12 ; Memory usage: 21.47 MB\n",
      "2024/12/21 01:44:56  -Converted all bases to string datatype and UPPERCASE.\n",
      "2024/12/21 01:44:56  -Variants with bad EA  : 0\n",
      "2024/12/21 01:44:56  -Variants with bad NEA : 0\n",
      "2024/12/21 01:44:56  -Variants with NA for EA or NEA: 0\n",
      "2024/12/21 01:44:56  -Variants with same EA and NEA: 0\n",
      "2024/12/21 01:44:56  -Detected 0 variants with alleles that contain bases other than A/C/T/G .\n",
      "2024/12/21 01:45:00 Finished fixing alleles (EA and NEA).\n",
      "2024/12/21 01:45:01 Start to perform sanity check for statistics...v3.5.4\n",
      "2024/12/21 01:45:01  -Current Dataframe shape : 100 x 12 ; Memory usage: 21.47 MB\n",
      "2024/12/21 01:45:01  -Comparison tolerance for floats: 1e-07\n",
      "2024/12/21 01:45:01  -Checking if 0 <= N <= 2147483647 ...\n",
      "2024/12/21 01:45:01  -Removed 0 variants with bad/na N.\n",
      "2024/12/21 01:45:01  -Checking if -1e-07 < EAF < 1.0000001 ...\n",
      "2024/12/21 01:45:01  -Removed 0 variants with bad/na EAF.\n",
      "2024/12/21 01:45:01  -Checking if -1e-07 < P < 1.0000001 ...\n",
      "2024/12/21 01:45:01  -Removed 0 variants with bad/na P.\n",
      "2024/12/21 01:45:01  -Checking if -100.0000001 < BETA < 100.0000001 ...\n",
      "2024/12/21 01:45:01  -Removed 0 variants with bad/na BETA.\n",
      "2024/12/21 01:45:01  -Checking if -1e-07 < SE < inf ...\n",
      "2024/12/21 01:45:01  -Removed 0 variants with bad/na SE.\n",
      "2024/12/21 01:45:01  -Checking STATUS and converting STATUS to categories....\n",
      "2024/12/21 01:45:02  -Removed 0 variants with bad statistics in total.\n",
      "2024/12/21 01:45:02  -Data types for each column:\n",
      "2024/12/21 01:45:02  -Column  : SNPID  CHR   POS   EA       NEA      EAF     BETA    SE      P       N     DIRECTION STATUS  \n",
      "2024/12/21 01:45:02  -DType   : string Int64 Int64 category category float32 float64 float64 float64 Int64 object    category\n",
      "2024/12/21 01:45:02  -Verified: T      T     T     T        T        T       T       T       T       T     T         T       \n",
      "2024/12/21 01:45:02 Finished sanity check for statistics.\n",
      "2024/12/21 01:45:02 Start to check data consistency across columns...v3.5.4\n",
      "2024/12/21 01:45:02  -Current Dataframe shape : 100 x 12 ; Memory usage: 21.47 MB\n",
      "2024/12/21 01:45:02  -Tolerance: 0.001 (Relative) and 0.001 (Absolute)\n",
      "2024/12/21 01:45:02  -Checking if BETA/SE-derived-P is consistent with P...\n",
      "2024/12/21 01:45:02   -Not consistent: 15 variant(s)\n",
      "2024/12/21 01:45:02   -Variant SNPID with max difference: 1:836529_C_G with 0.0023099807349250545\n",
      "2024/12/21 01:45:02  -Note: if the max difference is greater than expected, please check your original sumstats.\n",
      "2024/12/21 01:45:02 Finished checking data consistency across columns.\n",
      "2024/12/21 01:45:02 Start to normalize indels...v3.5.4\n",
      "2024/12/21 01:45:02  -Current Dataframe shape : 100 x 12 ; Memory usage: 21.48 MB\n",
      "2024/12/21 01:45:02  -No available variants to normalize..\n",
      "2024/12/21 01:45:02 Finished normalizing variants successfully!\n",
      "2024/12/21 01:45:02 Start to sort the genome coordinates...v3.5.4\n",
      "2024/12/21 01:45:02  -Current Dataframe shape : 100 x 12 ; Memory usage: 21.48 MB\n",
      "2024/12/21 01:45:02 Finished sorting coordinates.\n",
      "2024/12/21 01:45:02 Start to reorder the columns...v3.5.4\n",
      "2024/12/21 01:45:02  -Current Dataframe shape : 100 x 12 ; Memory usage: 21.47 MB\n",
      "2024/12/21 01:45:02  -Reordering columns to    : SNPID,CHR,POS,EA,NEA,EAF,BETA,SE,P,N,DIRECTION,STATUS\n",
      "2024/12/21 01:45:02 Finished reordering the columns.\n",
      "\n"
     ]
    }
   ],
   "source": [
    "mysumstats.log.show()"
   ]
  },
  {
   "cell_type": "markdown",
   "metadata": {},
   "source": [
    "## Save log"
   ]
  },
  {
   "cell_type": "code",
   "execution_count": 6,
   "metadata": {},
   "outputs": [
    {
     "name": "stdout",
     "output_type": "stream",
     "text": [
      "2024/12/21 01:45:03  -Save log file to :  ./mylog\n"
     ]
    }
   ],
   "source": [
    "mysumstats.log.save(\"./mylog\")"
   ]
  },
  {
   "cell_type": "code",
   "execution_count": 7,
   "metadata": {
    "scrolled": true
   },
   "outputs": [
    {
     "name": "stdout",
     "output_type": "stream",
     "text": [
      "2024/12/21 01:44:47 Sumstats Object created.\r\n",
      "2024/12/21 01:44:47 GWASLab v3.5.4 https://cloufield.github.io/gwaslab/\r\n",
      "2024/12/21 01:44:47 (C) 2022-2024, Yunye He, Kamatani Lab, MIT License, gwaslab@gmail.com\r\n",
      "2024/12/21 01:44:47 Start to initialize gl.Sumstats from file :../0_sample_data/t2d_bbj.txt.gz\r\n",
      "2024/12/21 01:44:47  -Reading columns          : ALT,Frq,REF,Dir,POS,P,SNP,BETA,SE,N,CHR\r\n",
      "2024/12/21 01:44:47  -Renaming columns to      : EA,EAF,NEA,DIRECTION,POS,P,SNPID,BETA,SE,N,CHR\r\n",
      "2024/12/21 01:44:47  -Current Dataframe shape : 100  x  11\r\n",
      "2024/12/21 01:44:47  -Initiating a status column: STATUS ...\r\n",
      "2024/12/21 01:44:47  #WARNING! Version of genomic coordinates is unknown...\r\n",
      "2024/12/21 01:44:48  -NEAF is specified...\r\n",
      "2024/12/21 01:44:48  -Checking if 0<= NEAF <=1 ...\r\n",
      "2024/12/21 01:44:48  -Converted NEAF to EAF.\r\n",
      "2024/12/21 01:44:48  -Removed 0 variants with bad NEAF.\r\n",
      "2024/12/21 01:44:48 Start to reorder the columns...v3.5.4\r\n",
      "2024/12/21 01:44:48  -Current Dataframe shape : 100 x 12 ; Memory usage: 21.47 MB\r\n",
      "2024/12/21 01:44:48  -Reordering columns to    : SNPID,CHR,POS,EA,NEA,EAF,BETA,SE,P,N,DIRECTION,STATUS\r\n",
      "2024/12/21 01:44:48 Finished reordering the columns.\r\n",
      "2024/12/21 01:44:48  -Column  : SNPID  CHR    POS   EA       NEA      EAF     BETA    SE      P       N     DIRECTION STATUS  \r\n",
      "2024/12/21 01:44:48  -DType   : object string int64 category category float64 float64 float64 float64 int64 object    category\r\n",
      "2024/12/21 01:44:48  -Verified: T      F      T     T        T        T       T       T       T       T     T         T       \r\n",
      "2024/12/21 01:44:48  #WARNING! Columns with possibly incompatible dtypes: CHR\r\n",
      "2024/12/21 01:44:48  -Current Dataframe memory usage: 21.47 MB\r\n",
      "2024/12/21 01:44:48 Finished loading data successfully!\r\n",
      "2024/12/21 01:44:48  #WARNING! Version of genomic coordinates is unknown...\r\n",
      "2024/12/21 01:44:48 Start to check SNPID/rsID...v3.5.4\r\n",
      "2024/12/21 01:44:48  -Current Dataframe shape : 100 x 12 ; Memory usage: 21.47 MB\r\n",
      "2024/12/21 01:44:48  -Checking SNPID data type...\r\n",
      "2024/12/21 01:44:48  -Converting SNPID to pd.string data type...\r\n",
      "2024/12/21 01:44:48  -Checking if SNPID is CHR:POS:NEA:EA...(separator: - ,: , _)\r\n",
      "2024/12/21 01:44:51 Finished checking SNPID/rsID.\r\n",
      "2024/12/21 01:44:51 Start to fix chromosome notation (CHR)...v3.5.4\r\n",
      "2024/12/21 01:44:51  -Current Dataframe shape : 100 x 12 ; Memory usage: 21.47 MB\r\n",
      "2024/12/21 01:44:51  -Checking CHR data type...\r\n",
      "2024/12/21 01:44:51  -Variants with standardized chromosome notation: 100\r\n",
      "2024/12/21 01:44:51  -All CHR are already fixed...\r\n",
      "2024/12/21 01:44:53 Finished fixing chromosome notation (CHR).\r\n",
      "2024/12/21 01:44:53 Start to fix basepair positions (POS)...v3.5.4\r\n",
      "2024/12/21 01:44:53  -Current Dataframe shape : 100 x 12 ; Memory usage: 21.47 MB\r\n",
      "2024/12/21 01:44:53  -Converting to Int64 data type ...\r\n",
      "2024/12/21 01:44:56  -Position bound:(0 , 250,000,000)\r\n",
      "2024/12/21 01:44:56  -Removed outliers: 0\r\n",
      "2024/12/21 01:44:56 Finished fixing basepair positions (POS).\r\n",
      "2024/12/21 01:44:56 Start to fix alleles (EA and NEA)...v3.5.4\r\n",
      "2024/12/21 01:44:56  -Current Dataframe shape : 100 x 12 ; Memory usage: 21.47 MB\r\n",
      "2024/12/21 01:44:56  -Converted all bases to string datatype and UPPERCASE.\r\n",
      "2024/12/21 01:44:56  -Variants with bad EA  : 0\r\n",
      "2024/12/21 01:44:56  -Variants with bad NEA : 0\r\n",
      "2024/12/21 01:44:56  -Variants with NA for EA or NEA: 0\r\n",
      "2024/12/21 01:44:56  -Variants with same EA and NEA: 0\r\n",
      "2024/12/21 01:44:56  -Detected 0 variants with alleles that contain bases other than A/C/T/G .\r\n",
      "2024/12/21 01:45:00 Finished fixing alleles (EA and NEA).\r\n",
      "2024/12/21 01:45:01 Start to perform sanity check for statistics...v3.5.4\r\n",
      "2024/12/21 01:45:01  -Current Dataframe shape : 100 x 12 ; Memory usage: 21.47 MB\r\n",
      "2024/12/21 01:45:01  -Comparison tolerance for floats: 1e-07\r\n",
      "2024/12/21 01:45:01  -Checking if 0 <= N <= 2147483647 ...\r\n",
      "2024/12/21 01:45:01  -Removed 0 variants with bad/na N.\r\n",
      "2024/12/21 01:45:01  -Checking if -1e-07 < EAF < 1.0000001 ...\r\n",
      "2024/12/21 01:45:01  -Removed 0 variants with bad/na EAF.\r\n",
      "2024/12/21 01:45:01  -Checking if -1e-07 < P < 1.0000001 ...\r\n",
      "2024/12/21 01:45:01  -Removed 0 variants with bad/na P.\r\n",
      "2024/12/21 01:45:01  -Checking if -100.0000001 < BETA < 100.0000001 ...\r\n",
      "2024/12/21 01:45:01  -Removed 0 variants with bad/na BETA.\r\n",
      "2024/12/21 01:45:01  -Checking if -1e-07 < SE < inf ...\r\n",
      "2024/12/21 01:45:01  -Removed 0 variants with bad/na SE.\r\n",
      "2024/12/21 01:45:01  -Checking STATUS and converting STATUS to categories....\r\n",
      "2024/12/21 01:45:02  -Removed 0 variants with bad statistics in total.\r\n",
      "2024/12/21 01:45:02  -Data types for each column:\r\n",
      "2024/12/21 01:45:02  -Column  : SNPID  CHR   POS   EA       NEA      EAF     BETA    SE      P       N     DIRECTION STATUS  \r\n",
      "2024/12/21 01:45:02  -DType   : string Int64 Int64 category category float32 float64 float64 float64 Int64 object    category\r\n",
      "2024/12/21 01:45:02  -Verified: T      T     T     T        T        T       T       T       T       T     T         T       \r\n",
      "2024/12/21 01:45:02 Finished sanity check for statistics.\r\n",
      "2024/12/21 01:45:02 Start to check data consistency across columns...v3.5.4\r\n",
      "2024/12/21 01:45:02  -Current Dataframe shape : 100 x 12 ; Memory usage: 21.47 MB\r\n",
      "2024/12/21 01:45:02  -Tolerance: 0.001 (Relative) and 0.001 (Absolute)\r\n",
      "2024/12/21 01:45:02  -Checking if BETA/SE-derived-P is consistent with P...\r\n",
      "2024/12/21 01:45:02   -Not consistent: 15 variant(s)\r\n",
      "2024/12/21 01:45:02   -Variant SNPID with max difference: 1:836529_C_G with 0.0023099807349250545\r\n",
      "2024/12/21 01:45:02  -Note: if the max difference is greater than expected, please check your original sumstats.\r\n",
      "2024/12/21 01:45:02 Finished checking data consistency across columns.\r\n",
      "2024/12/21 01:45:02 Start to normalize indels...v3.5.4\r\n",
      "2024/12/21 01:45:02  -Current Dataframe shape : 100 x 12 ; Memory usage: 21.48 MB\r\n",
      "2024/12/21 01:45:02  -No available variants to normalize..\r\n",
      "2024/12/21 01:45:02 Finished normalizing variants successfully!\r\n",
      "2024/12/21 01:45:02 Start to sort the genome coordinates...v3.5.4\r\n",
      "2024/12/21 01:45:02  -Current Dataframe shape : 100 x 12 ; Memory usage: 21.48 MB\r\n",
      "2024/12/21 01:45:02 Finished sorting coordinates.\r\n",
      "2024/12/21 01:45:02 Start to reorder the columns...v3.5.4\r\n",
      "2024/12/21 01:45:02  -Current Dataframe shape : 100 x 12 ; Memory usage: 21.47 MB\r\n",
      "2024/12/21 01:45:02  -Reordering columns to    : SNPID,CHR,POS,EA,NEA,EAF,BETA,SE,P,N,DIRECTION,STATUS\r\n",
      "2024/12/21 01:45:02 Finished reordering the columns.\r\n"
     ]
    }
   ],
   "source": [
    "!cat ./mylog"
   ]
  }
 ],
 "metadata": {
  "kernelspec": {
   "display_name": "Python 3 (ipykernel)",
   "language": "python",
   "name": "python3"
  },
  "language_info": {
   "codemirror_mode": {
    "name": "ipython",
    "version": 3
   },
   "file_extension": ".py",
   "mimetype": "text/x-python",
   "name": "python",
   "nbconvert_exporter": "python",
   "pygments_lexer": "ipython3",
   "version": "3.9.7"
  },
  "toc": {
   "base_numbering": 1,
   "nav_menu": {},
   "number_sections": true,
   "sideBar": true,
   "skip_h1_title": false,
   "title_cell": "Table of Contents",
   "title_sidebar": "Contents",
   "toc_cell": false,
   "toc_position": {},
   "toc_section_display": true,
   "toc_window_display": false
  }
 },
 "nbformat": 4,
 "nbformat_minor": 4
}
