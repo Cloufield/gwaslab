{
 "cells": [
  {
   "cell_type": "code",
   "execution_count": 1,
   "id": "af82da3a",
   "metadata": {},
   "outputs": [],
   "source": [
    "import sys\n",
    "sys.path.insert(0,\"/home/yunye/gwaslab/gwaslab/src\")\n",
    "import gwaslab as gl"
   ]
  },
  {
   "cell_type": "code",
   "execution_count": 2,
   "id": "cb2e3e1a",
   "metadata": {},
   "outputs": [
    {
     "name": "stdout",
     "output_type": "stream",
     "text": [
      "Mon Oct 31 00:24:53 2022 Start to initiate from file :t2d_bbj.txt.gz\n",
      "Mon Oct 31 00:25:10 2022  -Reading columns          : N,REF,ALT,CHR,SNP,Dir,Frq,BETA,SE,P,POS\n",
      "Mon Oct 31 00:25:10 2022  -Renaming columns to      : N,NEA,EA,CHR,SNPID,DIRECTION,EAF,BETA,SE,P,POS\n",
      "Mon Oct 31 00:25:10 2022  -Current dataframe shape  : Rows  12557761  x  11  Columns\n",
      "Mon Oct 31 00:25:11 2022  -Initiating a status column ...\n",
      "Mon Oct 31 00:25:13 2022  -NEAF is specified...\n",
      "Mon Oct 31 00:25:13 2022  -Checking if 0<= NEAF <=1 ...\n",
      "Mon Oct 31 00:25:15 2022  -Converted NEAF to EAF.\n",
      "Mon Oct 31 00:25:15 2022  -Removed 0 variants with bad NEAF.\n",
      "Mon Oct 31 00:25:15 2022  -Reordering columns to    : SNPID,CHR,POS,EA,NEA,EAF,BETA,SE,P,N,DIRECTION,STATUS\n",
      "Mon Oct 31 00:25:17 2022 Finished loading data successfully!\n"
     ]
    }
   ],
   "source": [
    "mysumstats = gl.Sumstats(\"t2d_bbj.txt.gz\",\n",
    "             snpid=\"SNP\",\n",
    "             chrom=\"CHR\",\n",
    "             pos=\"POS\",\n",
    "             ea=\"ALT\",\n",
    "             nea=\"REF\",\n",
    "             neaf=\"Frq\",\n",
    "             beta=\"BETA\",\n",
    "             se=\"SE\",\n",
    "             p=\"P\",\n",
    "             direction=\"Dir\",\n",
    "             n=\"N\")"
   ]
  },
  {
   "cell_type": "code",
   "execution_count": 3,
   "id": "8cbdcf3f",
   "metadata": {},
   "outputs": [
    {
     "name": "stdout",
     "output_type": "stream",
     "text": [
      "Mon Oct 31 00:25:17 2022 Start to check IDs...\n",
      "Mon Oct 31 00:25:17 2022  -Current Dataframe shape : 12557761  x  12\n",
      "Mon Oct 31 00:25:17 2022  -Checking if SNPID is chr:pos:ref:alt...(separator: - ,: , _)\n",
      "Mon Oct 31 00:25:30 2022  -Replacing [_-] in SNPID with \":\" ...\n",
      "Mon Oct 31 00:25:40 2022 Finished checking IDs successfully!\n"
     ]
    }
   ],
   "source": [
    "mysumstats.fix_id(fixsep=True)"
   ]
  },
  {
   "cell_type": "code",
   "execution_count": 4,
   "id": "588905f4",
   "metadata": {},
   "outputs": [
    {
     "name": "stdout",
     "output_type": "stream",
     "text": [
      "Mon Oct 31 00:25:40 2022 Start to fix chromosome notation...\n",
      "Mon Oct 31 00:25:40 2022  -Current Dataframe shape : 12557761  x  12\n",
      "Mon Oct 31 00:26:09 2022  -Vairants with fixable chromosome notations: 328791\n",
      "Mon Oct 31 00:26:10 2022  -Converting to string datatype and UPPERCASE...\n",
      "Mon Oct 31 00:26:11 2022  -Stripping chr prefix if exists : CHR_-.0...\n",
      "Mon Oct 31 00:26:12 2022  -Identified  328791  variants on sex chromosomes...\n",
      "Mon Oct 31 00:26:13 2022  -Standardizing sex chromosome notations: X Y MT  to 23,24,25...\n",
      "Mon Oct 31 00:26:27 2022  -No unrecognized chromosome notations...\n",
      "Mon Oct 31 00:26:33 2022 Finished fixing chromosome notation successfully!\n"
     ]
    }
   ],
   "source": [
    "mysumstats.fix_chr()"
   ]
  },
  {
   "cell_type": "code",
   "execution_count": 5,
   "id": "17e8741f",
   "metadata": {},
   "outputs": [
    {
     "name": "stdout",
     "output_type": "stream",
     "text": [
      "Mon Oct 31 00:26:33 2022 Start to fix basepair positions...\n",
      "Mon Oct 31 00:26:33 2022  -Current Dataframe shape : 12557761  x  12\n",
      "Mon Oct 31 00:26:48 2022  -Position upper_bound is: 250,000,000\n",
      "Mon Oct 31 00:27:13 2022  -Remove outliers: 0\n",
      "Mon Oct 31 00:27:15 2022  -Converted all position to datatype Int64.\n",
      "Mon Oct 31 00:27:15 2022 Finished fixing basepair position successfully!\n"
     ]
    }
   ],
   "source": [
    "mysumstats.fix_pos()"
   ]
  },
  {
   "cell_type": "code",
   "execution_count": 6,
   "id": "c25966b3",
   "metadata": {},
   "outputs": [
    {
     "name": "stdout",
     "output_type": "stream",
     "text": [
      "Mon Oct 31 00:27:15 2022 Start to fix alleles...\n",
      "Mon Oct 31 00:27:15 2022  -Current Dataframe shape : 12557761  x  12\n",
      "Mon Oct 31 00:27:29 2022  -Converted all bases to string datatype and UPPERCASE.\n",
      "Mon Oct 31 00:27:47 2022 Finished fixing allele successfully!\n"
     ]
    }
   ],
   "source": [
    "mysumstats.fix_allele()"
   ]
  },
  {
   "cell_type": "code",
   "execution_count": 7,
   "id": "49e32cf8",
   "metadata": {},
   "outputs": [
    {
     "name": "stdout",
     "output_type": "stream",
     "text": [
      "Mon Oct 31 00:27:47 2022 Start to normalize variants...\n",
      "Mon Oct 31 00:27:47 2022  -Current Dataframe shape : 12557761  x  12\n",
      "Mon Oct 31 00:27:54 2022  -Not normalized allele:['TT' 'TC']['CTTTT' 'CTTT']['ATTT' 'ATT']['ATTT' 'ATT']['GTT' 'GT']... \n",
      "Mon Oct 31 00:27:54 2022  -Modified 13 variants according to parsimony and left alignment principal.\n",
      "Mon Oct 31 00:27:56 2022 Finished normalizing variants successfully!\n"
     ]
    }
   ],
   "source": [
    "mysumstats.normalize_allele()"
   ]
  },
  {
   "cell_type": "code",
   "execution_count": 8,
   "id": "1fa3f682",
   "metadata": {},
   "outputs": [
    {
     "name": "stdout",
     "output_type": "stream",
     "text": [
      "Mon Oct 31 00:27:56 2022 Start to sort the sumstats using P...\n",
      "Mon Oct 31 00:28:04 2022 Start to remove duplicated variants based on snpid...\n",
      "Mon Oct 31 00:28:04 2022  -Current Dataframe shape : 12557761  x  12\n",
      "Mon Oct 31 00:28:04 2022  -Which variant to keep:  first\n",
      "Mon Oct 31 00:28:17 2022  -Removed  0  based on SNPID...\n",
      "Mon Oct 31 00:28:17 2022 Start to remove duplicated variants based on CHR,POS,EA and NEA...\n",
      "Mon Oct 31 00:28:17 2022  -Current Dataframe shape : 12557761  x  12\n",
      "Mon Oct 31 00:28:17 2022  -Which variant to keep:  first\n",
      "Mon Oct 31 00:28:30 2022  -Removed  2  based on CHR,POS,EA and NEA...\n",
      "Mon Oct 31 00:28:30 2022  -Removed  2  duplicates in total.\n",
      "Mon Oct 31 00:28:30 2022  -Sort the coordinates...\n",
      "Mon Oct 31 00:28:30 2022 Start to sort the genome coordinates...\n",
      "Mon Oct 31 00:28:30 2022  -Current Dataframe shape : 12557759  x  12\n",
      "Mon Oct 31 00:28:30 2022  -Force converting POS to integers...\n",
      "Mon Oct 31 00:28:31 2022  -Sorting genome coordinates...\n",
      "Mon Oct 31 00:28:53 2022 Finished sorting genome coordinates successfully!\n",
      "Mon Oct 31 00:28:54 2022 Finished removing successfully!\n"
     ]
    }
   ],
   "source": [
    "mysumstats.remove_dup(mode=\"d\")"
   ]
  },
  {
   "cell_type": "code",
   "execution_count": 9,
   "id": "aababfc1",
   "metadata": {},
   "outputs": [
    {
     "name": "stdout",
     "output_type": "stream",
     "text": [
      "Mon Oct 31 00:28:54 2022 Start to sort the genome coordinates...\n",
      "Mon Oct 31 00:28:54 2022  -Current Dataframe shape : 12557759  x  12\n",
      "Mon Oct 31 00:28:54 2022  -Force converting POS to integers...\n",
      "Mon Oct 31 00:28:54 2022  -Sorting genome coordinates...\n",
      "Mon Oct 31 00:29:07 2022 Finished sorting genome coordinates successfully!\n"
     ]
    }
   ],
   "source": [
    "mysumstats.sort_coordinate()"
   ]
  },
  {
   "cell_type": "code",
   "execution_count": 10,
   "id": "065ab121",
   "metadata": {},
   "outputs": [
    {
     "name": "stdout",
     "output_type": "stream",
     "text": [
      "Mon Oct 31 00:29:08 2022 Start to reorder the columns...\n",
      "Mon Oct 31 00:29:08 2022  -Current Dataframe shape : 12557759  x  12\n",
      "Mon Oct 31 00:29:08 2022  -Reordering columns to    : SNPID,CHR,POS,EA,NEA,EAF,BETA,SE,P,N,DIRECTION,STATUS\n",
      "Mon Oct 31 00:29:08 2022 Finished sorting columns successfully!\n"
     ]
    }
   ],
   "source": [
    "mysumstats.sort_column()"
   ]
  },
  {
   "cell_type": "markdown",
   "id": "966e96a9",
   "metadata": {},
   "source": [
    "# All in one function"
   ]
  },
  {
   "cell_type": "code",
   "execution_count": 11,
   "id": "7751b915",
   "metadata": {},
   "outputs": [
    {
     "name": "stdout",
     "output_type": "stream",
     "text": [
      "Mon Oct 31 00:29:09 2022 Start to check IDs...\n",
      "Mon Oct 31 00:29:09 2022  -Current Dataframe shape : 12557759  x  12\n",
      "Mon Oct 31 00:29:09 2022  -Checking if SNPID is chr:pos:ref:alt...(separator: - ,: , _)\n",
      "Mon Oct 31 00:29:28 2022 Finished checking IDs successfully!\n",
      "Mon Oct 31 00:29:28 2022 Start to fix chromosome notation...\n",
      "Mon Oct 31 00:29:28 2022  -Current Dataframe shape : 12557759  x  12\n",
      "Mon Oct 31 00:30:00 2022  -All CHR are already fixed...\n",
      "Mon Oct 31 00:30:20 2022 Finished fixing chromosome notation successfully!\n",
      "Mon Oct 31 00:30:20 2022 Start to fix basepair positions...\n",
      "Mon Oct 31 00:30:20 2022  -Current Dataframe shape : 12557759  x  12\n",
      "Mon Oct 31 00:30:35 2022  -Position upper_bound is: 250,000,000\n",
      "Mon Oct 31 00:30:59 2022  -Remove outliers: 0\n",
      "Mon Oct 31 00:31:01 2022  -Converted all position to datatype Int64.\n",
      "Mon Oct 31 00:31:01 2022 Finished fixing basepair position successfully!\n",
      "Mon Oct 31 00:31:01 2022 Start to fix alleles...\n",
      "Mon Oct 31 00:31:01 2022  -Current Dataframe shape : 12557759  x  12\n",
      "Mon Oct 31 00:31:09 2022  -Converted all bases to string datatype and UPPERCASE.\n",
      "Mon Oct 31 00:31:27 2022 Finished fixing allele successfully!\n",
      "Mon Oct 31 00:31:27 2022 Start sanity check for statistics ...\n",
      "Mon Oct 31 00:31:27 2022  -Current Dataframe shape : 12557759  x  12\n",
      "Mon Oct 31 00:31:27 2022  -Checking if N is Int64 and N>0 ...\n",
      "Mon Oct 31 00:31:28 2022  -Removed 0 variants with bad N.\n",
      "Mon Oct 31 00:31:28 2022  -Checking if 0<= EAF <=1 ...\n",
      "Mon Oct 31 00:31:30 2022  -Removed 0 variants with bad EAF.\n",
      "Mon Oct 31 00:31:30 2022  -Checking if MAC >=5 ...\n",
      "Mon Oct 31 00:31:32 2022  -Removed 0 variants with bad MAC.\n",
      "Mon Oct 31 00:31:32 2022  -Checking if 0< P <5e-300 ...\n",
      "Mon Oct 31 00:31:35 2022  -Removed 0 variants with bad P.\n",
      "Mon Oct 31 00:31:35 2022  -Checking if abs(BETA)<10 ...\n",
      "Mon Oct 31 00:31:38 2022  -Removed 0 variants with bad BETA.\n",
      "Mon Oct 31 00:31:38 2022  -Checking if SE >0 ...\n",
      "Mon Oct 31 00:31:41 2022  -Removed 0 variants with bad SE.\n",
      "Mon Oct 31 00:31:41 2022  -Checking STATUS...\n",
      "Mon Oct 31 00:31:42 2022  -Coverting STAUTUS to category.\n",
      "Mon Oct 31 00:31:43 2022  -Removed 0 variants with bad statistics in total.\n",
      "Mon Oct 31 00:31:43 2022 Finished sanity check successfully!\n",
      "Mon Oct 31 00:31:44 2022 Start to normalize variants...\n",
      "Mon Oct 31 00:31:44 2022  -Current Dataframe shape : 12557759  x  12\n",
      "Mon Oct 31 00:31:45 2022  -No available variants to normalize..\n",
      "Mon Oct 31 00:31:45 2022 Finished normalizing variants successfully!\n"
     ]
    }
   ],
   "source": [
    "mysumstats.basic_check()"
   ]
  },
  {
   "cell_type": "code",
   "execution_count": null,
   "id": "8dc64b84",
   "metadata": {},
   "outputs": [],
   "source": []
  }
 ],
 "metadata": {
  "kernelspec": {
   "display_name": "Python 3 (ipykernel)",
   "language": "python",
   "name": "python3"
  },
  "language_info": {
   "codemirror_mode": {
    "name": "ipython",
    "version": 3
   },
   "file_extension": ".py",
   "mimetype": "text/x-python",
   "name": "python",
   "nbconvert_exporter": "python",
   "pygments_lexer": "ipython3",
   "version": "3.9.7"
  }
 },
 "nbformat": 4,
 "nbformat_minor": 5
}
