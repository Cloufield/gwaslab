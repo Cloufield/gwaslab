{
 "cells": [
  {
   "cell_type": "markdown",
   "metadata": {},
   "source": [
    "# Standardization Workflow"
   ]
  },
  {
   "cell_type": "code",
   "execution_count": 1,
   "metadata": {},
   "outputs": [],
   "source": [
    "import sys\n",
    "sys.path.insert(0,\"/Users/he/work/gwaslab/src/\")\n",
    "import gwaslab as gl"
   ]
  },
  {
   "cell_type": "markdown",
   "metadata": {},
   "source": [
    "# Load sample data"
   ]
  },
  {
   "cell_type": "code",
   "execution_count": 2,
   "metadata": {},
   "outputs": [
    {
     "name": "stdout",
     "output_type": "stream",
     "text": [
      "Mon Oct 31 12:35:23 2022 Start to initiate from file :t2d_bbj.txt.gz\n",
      "Mon Oct 31 12:35:53 2022  -Reading columns          : CHR,BETA,ALT,SE,Frq,POS,P,Dir,N,SNP,REF\n",
      "Mon Oct 31 12:35:53 2022  -Renaming columns to      : CHR,BETA,EA,SE,EAF,POS,P,DIRECTION,N,SNPID,NEA\n",
      "Mon Oct 31 12:35:53 2022  -Current dataframe shape  : Rows  12557761  x  11  Columns\n",
      "Mon Oct 31 12:36:01 2022  -Initiating a status column ...\n",
      "Mon Oct 31 12:36:04 2022  -NEAF is specified...\n",
      "Mon Oct 31 12:36:04 2022  -Checking if 0<= NEAF <=1 ...\n",
      "Mon Oct 31 12:36:08 2022  -Converted NEAF to EAF.\n",
      "Mon Oct 31 12:36:08 2022  -Removed 0 variants with bad NEAF.\n",
      "Mon Oct 31 12:36:08 2022  -Reordering columns to    : SNPID,CHR,POS,EA,NEA,EAF,BETA,SE,P,N,DIRECTION,STATUS\n",
      "Mon Oct 31 12:36:12 2022 Finished loading data successfully!\n"
     ]
    }
   ],
   "source": [
    "mysumstats = gl.Sumstats(\"t2d_bbj.txt.gz\",\n",
    "             snpid=\"SNP\",\n",
    "             chrom=\"CHR\",\n",
    "             pos=\"POS\",\n",
    "             ea=\"ALT\",\n",
    "             nea=\"REF\",\n",
    "             neaf=\"Frq\",\n",
    "             beta=\"BETA\",\n",
    "             se=\"SE\",\n",
    "             p=\"P\",\n",
    "             direction=\"Dir\",\n",
    "             n=\"N\")"
   ]
  },
  {
   "cell_type": "markdown",
   "metadata": {},
   "source": [
    "## fix id"
   ]
  },
  {
   "cell_type": "code",
   "execution_count": 3,
   "metadata": {},
   "outputs": [
    {
     "name": "stdout",
     "output_type": "stream",
     "text": [
      "Mon Oct 31 12:36:12 2022 Start to check IDs...\n",
      "Mon Oct 31 12:36:12 2022  -Current Dataframe shape : 12557761  x  12\n",
      "Mon Oct 31 12:36:12 2022  -Checking if SNPID is chr:pos:ref:alt...(separator: - ,: , _)\n",
      "Mon Oct 31 12:36:33 2022  -Replacing [_-] in SNPID with \":\" ...\n",
      "Mon Oct 31 12:36:50 2022 Finished checking IDs successfully!\n"
     ]
    }
   ],
   "source": [
    "mysumstats.fix_id(fixsep=True)"
   ]
  },
  {
   "cell_type": "markdown",
   "metadata": {},
   "source": [
    "## fix chromosome"
   ]
  },
  {
   "cell_type": "code",
   "execution_count": 4,
   "metadata": {},
   "outputs": [
    {
     "name": "stdout",
     "output_type": "stream",
     "text": [
      "Mon Oct 31 12:36:50 2022 Start to fix chromosome notation...\n",
      "Mon Oct 31 12:36:50 2022  -Current Dataframe shape : 12557761  x  12\n",
      "Mon Oct 31 12:37:34 2022  -Vairants with fixable chromosome notations: 328791\n",
      "Mon Oct 31 12:37:36 2022  -Converting to string datatype and UPPERCASE...\n",
      "Mon Oct 31 12:37:37 2022  -Stripping chr prefix if exists : CHR_-.0...\n",
      "Mon Oct 31 12:37:41 2022  -Identified  328791  variants on sex chromosomes...\n",
      "Mon Oct 31 12:37:41 2022  -Standardizing sex chromosome notations: X Y MT  to 23,24,25...\n",
      "Mon Oct 31 12:38:11 2022  -No unrecognized chromosome notations...\n",
      "Mon Oct 31 12:38:17 2022 Finished fixing chromosome notation successfully!\n"
     ]
    }
   ],
   "source": [
    "mysumstats.fix_chr()"
   ]
  },
  {
   "cell_type": "markdown",
   "metadata": {},
   "source": [
    "## fix position"
   ]
  },
  {
   "cell_type": "code",
   "execution_count": 5,
   "metadata": {},
   "outputs": [
    {
     "name": "stdout",
     "output_type": "stream",
     "text": [
      "Mon Oct 31 12:38:17 2022 Start to fix basepair positions...\n",
      "Mon Oct 31 12:38:17 2022  -Current Dataframe shape : 12557761  x  12\n",
      "Mon Oct 31 12:38:44 2022  -Position upper_bound is: 250,000,000\n",
      "Mon Oct 31 12:39:21 2022  -Remove outliers: 0\n",
      "Mon Oct 31 12:39:34 2022  -Converted all position to datatype Int64.\n",
      "Mon Oct 31 12:39:34 2022 Finished fixing basepair position successfully!\n"
     ]
    }
   ],
   "source": [
    "mysumstats.fix_pos()"
   ]
  },
  {
   "cell_type": "markdown",
   "metadata": {},
   "source": [
    "## fix allele"
   ]
  },
  {
   "cell_type": "code",
   "execution_count": 6,
   "metadata": {},
   "outputs": [
    {
     "name": "stdout",
     "output_type": "stream",
     "text": [
      "Mon Oct 31 12:39:34 2022 Start to fix alleles...\n",
      "Mon Oct 31 12:39:34 2022  -Current Dataframe shape : 12557761  x  12\n",
      "Mon Oct 31 12:39:53 2022  -Converted all bases to string datatype and UPPERCASE.\n",
      "Mon Oct 31 12:40:26 2022 Finished fixing allele successfully!\n"
     ]
    }
   ],
   "source": [
    "mysumstats.fix_allele()"
   ]
  },
  {
   "cell_type": "markdown",
   "metadata": {},
   "source": [
    "## sanity check for statistics"
   ]
  },
  {
   "cell_type": "code",
   "execution_count": 7,
   "metadata": {},
   "outputs": [
    {
     "name": "stdout",
     "output_type": "stream",
     "text": [
      "Mon Oct 31 12:40:26 2022 Start sanity check for statistics ...\n",
      "Mon Oct 31 12:40:26 2022  -Current Dataframe shape : 12557761  x  12\n",
      "Mon Oct 31 12:40:35 2022  -Checking if  0 <=N<= inf  ...\n",
      "Mon Oct 31 12:40:44 2022  -Removed 0 variants with bad N.\n",
      "Mon Oct 31 12:40:44 2022  -Checking if  0 <=EAF<= 1  ...\n",
      "Mon Oct 31 12:40:48 2022  -Removed 0 variants with bad EAF.\n",
      "Mon Oct 31 12:40:48 2022  -Checking if  5 <=MAC<= inf  ...\n",
      "Mon Oct 31 12:40:55 2022  -Removed 0 variants with bad MAC.\n",
      "Mon Oct 31 12:40:55 2022  -Checking if  5e-300 <= P <= 1  ...\n",
      "Mon Oct 31 12:40:58 2022  -Removed 0 variants with bad P.\n",
      "Mon Oct 31 12:40:58 2022  -Checking if  -10 <BETA)< 10  ...\n",
      "Mon Oct 31 12:41:01 2022  -Removed 0 variants with bad BETA.\n",
      "Mon Oct 31 12:41:01 2022  -Checking if  0 <SE< inf  ...\n",
      "Mon Oct 31 12:41:04 2022  -Removed 0 variants with bad SE.\n",
      "Mon Oct 31 12:41:04 2022  -Checking STATUS...\n",
      "Mon Oct 31 12:41:06 2022  -Coverting STAUTUS to category.\n",
      "Mon Oct 31 12:41:08 2022  -Removed 0 variants with bad statistics in total.\n",
      "Mon Oct 31 12:41:08 2022 Finished sanity check successfully!\n"
     ]
    }
   ],
   "source": [
    "mysumstats.check_sanity()"
   ]
  },
  {
   "cell_type": "markdown",
   "metadata": {},
   "source": [
    "## normalize variants"
   ]
  },
  {
   "cell_type": "code",
   "execution_count": 8,
   "metadata": {},
   "outputs": [
    {
     "name": "stdout",
     "output_type": "stream",
     "text": [
      "Mon Oct 31 12:41:10 2022 Start to normalize variants...\n",
      "Mon Oct 31 12:41:10 2022  -Current Dataframe shape : 12557761  x  12\n",
      "Mon Oct 31 12:41:25 2022  -Not normalized allele:['TT' 'TC']['CTTTT' 'CTTT']['ATTT' 'ATT']['ATTT' 'ATT']['GTT' 'GT']... \n",
      "Mon Oct 31 12:41:25 2022  -Modified 13 variants according to parsimony and left alignment principal.\n",
      "Mon Oct 31 12:41:27 2022 Finished normalizing variants successfully!\n"
     ]
    }
   ],
   "source": [
    "mysumstats.normalize_allele()"
   ]
  },
  {
   "cell_type": "markdown",
   "metadata": {},
   "source": [
    "## remove duplicated / multiallelic variants"
   ]
  },
  {
   "cell_type": "code",
   "execution_count": 9,
   "metadata": {},
   "outputs": [
    {
     "name": "stdout",
     "output_type": "stream",
     "text": [
      "Mon Oct 31 12:41:27 2022 Start to sort the sumstats using P...\n",
      "Mon Oct 31 12:41:33 2022 Start to remove duplicated variants based on snpid...\n",
      "Mon Oct 31 12:41:33 2022  -Current Dataframe shape : 12557761  x  12\n",
      "Mon Oct 31 12:41:33 2022  -Which variant to keep:  first\n",
      "Mon Oct 31 12:41:50 2022  -Removed  0  based on SNPID...\n",
      "Mon Oct 31 12:41:50 2022 Start to remove duplicated variants based on CHR,POS,EA and NEA...\n",
      "Mon Oct 31 12:41:50 2022  -Current Dataframe shape : 12557761  x  12\n",
      "Mon Oct 31 12:41:50 2022  -Which variant to keep:  first\n",
      "Mon Oct 31 12:42:05 2022  -Removed  2  based on CHR,POS,EA and NEA...\n",
      "Mon Oct 31 12:42:05 2022  -Removed  2  duplicates in total.\n",
      "Mon Oct 31 12:42:05 2022  -Sort the coordinates...\n",
      "Mon Oct 31 12:42:29 2022 Finished removing successfully!\n"
     ]
    }
   ],
   "source": [
    "mysumstats.remove_dup(mode=\"d\")"
   ]
  },
  {
   "cell_type": "markdown",
   "metadata": {},
   "source": [
    "## sort genome coordinate"
   ]
  },
  {
   "cell_type": "code",
   "execution_count": 10,
   "metadata": {},
   "outputs": [
    {
     "name": "stdout",
     "output_type": "stream",
     "text": [
      "Mon Oct 31 12:42:30 2022 Start to sort the genome coordinates...\n",
      "Mon Oct 31 12:42:30 2022  -Current Dataframe shape : 12557759  x  12\n",
      "Mon Oct 31 12:42:30 2022  -Force converting POS to integers...\n",
      "Mon Oct 31 12:42:30 2022  -Sorting genome coordinates...\n",
      "Mon Oct 31 12:42:46 2022 Finished sorting genome coordinates successfully!\n"
     ]
    }
   ],
   "source": [
    "mysumstats.sort_coordinate()"
   ]
  },
  {
   "cell_type": "markdown",
   "metadata": {},
   "source": [
    "## sort column"
   ]
  },
  {
   "cell_type": "code",
   "execution_count": 11,
   "metadata": {},
   "outputs": [
    {
     "name": "stdout",
     "output_type": "stream",
     "text": [
      "Mon Oct 31 12:42:46 2022 Start to reorder the columns...\n",
      "Mon Oct 31 12:42:46 2022  -Current Dataframe shape : 12557759  x  12\n",
      "Mon Oct 31 12:42:46 2022  -Reordering columns to    : SNPID,CHR,POS,EA,NEA,EAF,BETA,SE,P,N,DIRECTION,STATUS\n",
      "Mon Oct 31 12:42:47 2022 Finished sorting columns successfully!\n"
     ]
    }
   ],
   "source": [
    "mysumstats.sort_column()"
   ]
  },
  {
   "cell_type": "markdown",
   "metadata": {},
   "source": [
    "# All in one function"
   ]
  },
  {
   "cell_type": "code",
   "execution_count": 12,
   "metadata": {},
   "outputs": [
    {
     "name": "stdout",
     "output_type": "stream",
     "text": [
      "Mon Oct 31 12:42:47 2022 Start to check IDs...\n",
      "Mon Oct 31 12:42:47 2022  -Current Dataframe shape : 12557759  x  12\n",
      "Mon Oct 31 12:42:47 2022  -Checking if SNPID is chr:pos:ref:alt...(separator: - ,: , _)\n",
      "Mon Oct 31 12:43:06 2022 Finished checking IDs successfully!\n",
      "Mon Oct 31 12:43:06 2022 Start to fix chromosome notation...\n",
      "Mon Oct 31 12:43:06 2022  -Current Dataframe shape : 12557759  x  12\n",
      "Mon Oct 31 12:43:58 2022  -All CHR are already fixed...\n",
      "Mon Oct 31 12:44:30 2022 Finished fixing chromosome notation successfully!\n",
      "Mon Oct 31 12:44:30 2022 Start to fix basepair positions...\n",
      "Mon Oct 31 12:44:30 2022  -Current Dataframe shape : 12557759  x  12\n",
      "Mon Oct 31 12:44:55 2022  -Position upper_bound is: 250,000,000\n",
      "Mon Oct 31 12:45:29 2022  -Remove outliers: 0\n",
      "Mon Oct 31 12:45:40 2022  -Converted all position to datatype Int64.\n",
      "Mon Oct 31 12:45:40 2022 Finished fixing basepair position successfully!\n",
      "Mon Oct 31 12:45:40 2022 Start to fix alleles...\n",
      "Mon Oct 31 12:45:40 2022  -Current Dataframe shape : 12557759  x  12\n",
      "Mon Oct 31 12:45:57 2022  -Converted all bases to string datatype and UPPERCASE.\n",
      "Mon Oct 31 12:46:25 2022 Finished fixing allele successfully!\n",
      "Mon Oct 31 12:46:25 2022 Start sanity check for statistics ...\n",
      "Mon Oct 31 12:46:25 2022  -Current Dataframe shape : 12557759  x  12\n",
      "Mon Oct 31 12:46:31 2022  -Checking if  0 <=N<= inf  ...\n",
      "Mon Oct 31 12:46:37 2022  -Removed 0 variants with bad N.\n",
      "Mon Oct 31 12:46:37 2022  -Checking if  0 <=EAF<= 1  ...\n",
      "Mon Oct 31 12:46:40 2022  -Removed 0 variants with bad EAF.\n",
      "Mon Oct 31 12:46:40 2022  -Checking if  5 <=MAC<= inf  ...\n",
      "Mon Oct 31 12:46:44 2022  -Removed 0 variants with bad MAC.\n",
      "Mon Oct 31 12:46:44 2022  -Checking if  5e-300 <= P <= 1  ...\n",
      "Mon Oct 31 12:46:46 2022  -Removed 0 variants with bad P.\n",
      "Mon Oct 31 12:46:46 2022  -Checking if  -10 <BETA)< 10  ...\n",
      "Mon Oct 31 12:46:47 2022  -Removed 0 variants with bad BETA.\n",
      "Mon Oct 31 12:46:47 2022  -Checking if  0 <SE< inf  ...\n",
      "Mon Oct 31 12:46:49 2022  -Removed 0 variants with bad SE.\n",
      "Mon Oct 31 12:46:49 2022  -Checking STATUS...\n",
      "Mon Oct 31 12:46:51 2022  -Coverting STAUTUS to category.\n",
      "Mon Oct 31 12:46:53 2022  -Removed 0 variants with bad statistics in total.\n",
      "Mon Oct 31 12:46:53 2022 Finished sanity check successfully!\n",
      "Mon Oct 31 12:46:55 2022 Start to normalize variants...\n",
      "Mon Oct 31 12:46:55 2022  -Current Dataframe shape : 12557759  x  12\n",
      "Mon Oct 31 12:46:56 2022  -No available variants to normalize..\n",
      "Mon Oct 31 12:46:56 2022 Finished normalizing variants successfully!\n"
     ]
    }
   ],
   "source": [
    "mysumstats.basic_check()"
   ]
  }
 ],
 "metadata": {
  "kernelspec": {
   "display_name": "Python 3",
   "language": "python",
   "name": "python3"
  },
  "language_info": {
   "codemirror_mode": {
    "name": "ipython",
    "version": 3
   },
   "file_extension": ".py",
   "mimetype": "text/x-python",
   "name": "python",
   "nbconvert_exporter": "python",
   "pygments_lexer": "ipython3",
   "version": "3.8.3"
  }
 },
 "nbformat": 4,
 "nbformat_minor": 5
}
