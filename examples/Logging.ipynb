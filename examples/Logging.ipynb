{
 "cells": [
  {
   "cell_type": "markdown",
   "metadata": {},
   "source": [
    "# Logging"
   ]
  },
  {
   "cell_type": "code",
   "execution_count": 1,
   "metadata": {},
   "outputs": [],
   "source": [
    "import sys\n",
    "sys.path.insert(0,\"/Users/he/work/gwaslab/src/\")\n",
    "import gwaslab as gl"
   ]
  },
  {
   "cell_type": "markdown",
   "metadata": {},
   "source": [
    "## Do some manipulations"
   ]
  },
  {
   "cell_type": "code",
   "execution_count": 2,
   "metadata": {},
   "outputs": [
    {
     "name": "stdout",
     "output_type": "stream",
     "text": [
      "Tue Nov  1 10:38:54 2022 Start to initiate from file :t2d_bbj.txt.gz\n",
      "Tue Nov  1 10:39:17 2022  -Reading columns          : Frq,CHR,ALT,BETA,REF,SNP,SE,P,Dir,N,POS\n",
      "Tue Nov  1 10:39:17 2022  -Renaming columns to      : EAF,CHR,EA,BETA,NEA,SNPID,SE,P,DIRECTION,N,POS\n",
      "Tue Nov  1 10:39:17 2022  -Current dataframe shape  : Rows  12557761  x  11  Columns\n",
      "Tue Nov  1 10:39:22 2022  -Initiating a status column ...\n",
      "Tue Nov  1 10:39:26 2022  -NEAF is specified...\n",
      "Tue Nov  1 10:39:26 2022  -Checking if 0<= NEAF <=1 ...\n",
      "Tue Nov  1 10:39:30 2022  -Converted NEAF to EAF.\n",
      "Tue Nov  1 10:39:30 2022  -Removed 0 variants with bad NEAF.\n",
      "Tue Nov  1 10:39:30 2022  -Reordering columns to    : SNPID,CHR,POS,EA,NEA,EAF,BETA,SE,P,N,DIRECTION,STATUS\n",
      "Tue Nov  1 10:39:36 2022 Finished loading data successfully!\n"
     ]
    }
   ],
   "source": [
    "mysumstats = gl.Sumstats(\"t2d_bbj.txt.gz\",\n",
    "             snpid=\"SNP\",\n",
    "             chrom=\"CHR\",\n",
    "             pos=\"POS\",\n",
    "             ea=\"ALT\",\n",
    "             nea=\"REF\",\n",
    "             neaf=\"Frq\",\n",
    "             beta=\"BETA\",\n",
    "             se=\"SE\",\n",
    "             p=\"P\",\n",
    "             direction=\"Dir\",\n",
    "             n=\"N\")"
   ]
  },
  {
   "cell_type": "code",
   "execution_count": 3,
   "metadata": {},
   "outputs": [
    {
     "name": "stdout",
     "output_type": "stream",
     "text": [
      "Tue Nov  1 10:39:36 2022 Start to randomly select variants from the sumstats...\n",
      "Tue Nov  1 10:39:36 2022  -Number of variants selected from the sumstats: 1000000\n",
      "Tue Nov  1 10:39:37 2022 Finished sampling...\n"
     ]
    }
   ],
   "source": [
    "mysumstats.random_variants(n=1000000,inplace=True)"
   ]
  },
  {
   "cell_type": "code",
   "execution_count": 4,
   "metadata": {},
   "outputs": [
    {
     "name": "stdout",
     "output_type": "stream",
     "text": [
      "Tue Nov  1 10:39:38 2022 Start to check IDs...\n",
      "Tue Nov  1 10:39:38 2022  -Current Dataframe shape : 1000000  x  12\n",
      "Tue Nov  1 10:39:38 2022  -Checking if SNPID is chr:pos:ref:alt...(separator: - ,: , _)\n",
      "Tue Nov  1 10:39:41 2022 Finished checking IDs successfully!\n",
      "Tue Nov  1 10:39:41 2022 Start to fix chromosome notation...\n",
      "Tue Nov  1 10:39:41 2022  -Current Dataframe shape : 1000000  x  12\n",
      "Tue Nov  1 10:39:44 2022  -Vairants with fixable chromosome notations: 26655\n",
      "Tue Nov  1 10:39:44 2022  -Converting to string datatype and UPPERCASE...\n",
      "Tue Nov  1 10:39:44 2022  -Stripping chr prefix if exists : CHR_-.0...\n",
      "Tue Nov  1 10:39:45 2022  -Identified  26655  variants on sex chromosomes...\n",
      "Tue Nov  1 10:39:45 2022  -Standardizing sex chromosome notations: X Y MT  to 23,24,25...\n",
      "Tue Nov  1 10:39:46 2022  -No unrecognized chromosome notations...\n",
      "Tue Nov  1 10:39:47 2022 Finished fixing chromosome notation successfully!\n",
      "Tue Nov  1 10:39:47 2022 Start to fix basepair positions...\n",
      "Tue Nov  1 10:39:47 2022  -Current Dataframe shape : 1000000  x  12\n",
      "Tue Nov  1 10:39:48 2022  -Position upper_bound is: 250,000,000\n",
      "Tue Nov  1 10:39:51 2022  -Remove outliers: 0\n",
      "Tue Nov  1 10:39:51 2022  -Converted all position to datatype Int64.\n",
      "Tue Nov  1 10:39:51 2022 Finished fixing basepair position successfully!\n",
      "Tue Nov  1 10:39:51 2022 Start to fix alleles...\n",
      "Tue Nov  1 10:39:51 2022  -Current Dataframe shape : 1000000  x  12\n",
      "Tue Nov  1 10:39:53 2022  -Converted all bases to string datatype and UPPERCASE.\n",
      "Tue Nov  1 10:39:54 2022 Finished fixing allele successfully!\n",
      "Tue Nov  1 10:39:54 2022 Start sanity check for statistics ...\n",
      "Tue Nov  1 10:39:54 2022  -Current Dataframe shape : 1000000  x  12\n",
      "Tue Nov  1 10:39:54 2022  -Checking if  0 <=N<= inf  ...\n",
      "Tue Nov  1 10:39:54 2022  -Removed 0 variants with bad N.\n",
      "Tue Nov  1 10:39:54 2022  -Checking if  0 <=EAF<= 1  ...\n",
      "Tue Nov  1 10:39:55 2022  -Removed 0 variants with bad EAF.\n",
      "Tue Nov  1 10:39:55 2022  -Checking if  5 <=MAC<= inf  ...\n",
      "Tue Nov  1 10:39:55 2022  -Removed 0 variants with bad MAC.\n",
      "Tue Nov  1 10:39:55 2022  -Checking if  5e-300 <= P <= 1  ...\n",
      "Tue Nov  1 10:39:55 2022  -Removed 0 variants with bad P.\n",
      "Tue Nov  1 10:39:55 2022  -Checking if  -10 <BETA)< 10  ...\n",
      "Tue Nov  1 10:39:55 2022  -Removed 0 variants with bad BETA.\n",
      "Tue Nov  1 10:39:55 2022  -Checking if  0 <SE< inf  ...\n",
      "Tue Nov  1 10:39:55 2022  -Removed 0 variants with bad SE.\n",
      "Tue Nov  1 10:39:55 2022  -Checking STATUS...\n",
      "Tue Nov  1 10:39:56 2022  -Coverting STAUTUS to category.\n",
      "Tue Nov  1 10:39:56 2022  -Removed 0 variants with bad statistics in total.\n",
      "Tue Nov  1 10:39:56 2022 Finished sanity check successfully!\n",
      "Tue Nov  1 10:39:56 2022 Start to normalize variants...\n",
      "Tue Nov  1 10:39:56 2022  -Current Dataframe shape : 1000000  x  12\n",
      "Tue Nov  1 10:39:57 2022  -No available variants to normalize..\n",
      "Tue Nov  1 10:39:57 2022 Finished normalizing variants successfully!\n"
     ]
    }
   ],
   "source": [
    "mysumstats.basic_check()"
   ]
  },
  {
   "cell_type": "markdown",
   "metadata": {},
   "source": [
    "## Check log"
   ]
  },
  {
   "cell_type": "code",
   "execution_count": 5,
   "metadata": {
    "scrolled": true
   },
   "outputs": [
    {
     "name": "stdout",
     "output_type": "stream",
     "text": [
      "Tue Nov  1 10:38:54 2022 Sumstats Object created.\n",
      "Tue Nov  1 10:38:54 2022 Start to initiate from file :t2d_bbj.txt.gz\n",
      "Tue Nov  1 10:39:17 2022  -Reading columns          : Frq,CHR,ALT,BETA,REF,SNP,SE,P,Dir,N,POS\n",
      "Tue Nov  1 10:39:17 2022  -Renaming columns to      : EAF,CHR,EA,BETA,NEA,SNPID,SE,P,DIRECTION,N,POS\n",
      "Tue Nov  1 10:39:17 2022  -Current dataframe shape  : Rows  12557761  x  11  Columns\n",
      "Tue Nov  1 10:39:22 2022  -Initiating a status column ...\n",
      "Tue Nov  1 10:39:26 2022  -NEAF is specified...\n",
      "Tue Nov  1 10:39:26 2022  -Checking if 0<= NEAF <=1 ...\n",
      "Tue Nov  1 10:39:30 2022  -Converted NEAF to EAF.\n",
      "Tue Nov  1 10:39:30 2022  -Removed 0 variants with bad NEAF.\n",
      "Tue Nov  1 10:39:30 2022  -Reordering columns to    : SNPID,CHR,POS,EA,NEA,EAF,BETA,SE,P,N,DIRECTION,STATUS\n",
      "Tue Nov  1 10:39:36 2022 Finished loading data successfully!\n",
      "Tue Nov  1 10:39:36 2022 Start to randomly select variants from the sumstats...\n",
      "Tue Nov  1 10:39:36 2022  -Number of variants selected from the sumstats: 1000000\n",
      "Tue Nov  1 10:39:37 2022 Finished sampling...\n",
      "Tue Nov  1 10:39:41 2022 Start to fix chromosome notation...\n",
      "Tue Nov  1 10:39:41 2022  -Current Dataframe shape : 1000000  x  12\n",
      "Tue Nov  1 10:39:44 2022  -Vairants with fixable chromosome notations: 26655\n",
      "Tue Nov  1 10:39:44 2022  -Converting to string datatype and UPPERCASE...\n",
      "Tue Nov  1 10:39:44 2022  -Stripping chr prefix if exists : CHR_-.0...\n",
      "Tue Nov  1 10:39:45 2022  -Identified  26655  variants on sex chromosomes...\n",
      "Tue Nov  1 10:39:45 2022  -Standardizing sex chromosome notations: X Y MT  to 23,24,25...\n",
      "Tue Nov  1 10:39:46 2022  -No unrecognized chromosome notations...\n",
      "Tue Nov  1 10:39:47 2022 Finished fixing chromosome notation successfully!\n",
      "Tue Nov  1 10:39:47 2022 Start to fix basepair positions...\n",
      "Tue Nov  1 10:39:47 2022  -Current Dataframe shape : 1000000  x  12\n",
      "Tue Nov  1 10:39:48 2022  -Position upper_bound is: 250,000,000\n",
      "Tue Nov  1 10:39:51 2022  -Remove outliers: 0\n",
      "Tue Nov  1 10:39:51 2022  -Converted all position to datatype Int64.\n",
      "Tue Nov  1 10:39:51 2022 Finished fixing basepair position successfully!\n",
      "Tue Nov  1 10:39:51 2022 Start to fix alleles...\n",
      "Tue Nov  1 10:39:51 2022  -Current Dataframe shape : 1000000  x  12\n",
      "Tue Nov  1 10:39:53 2022  -Converted all bases to string datatype and UPPERCASE.\n",
      "Tue Nov  1 10:39:54 2022 Finished fixing allele successfully!\n",
      "Tue Nov  1 10:39:54 2022 Start sanity check for statistics ...\n",
      "Tue Nov  1 10:39:54 2022  -Current Dataframe shape : 1000000  x  12\n",
      "Tue Nov  1 10:39:54 2022  -Checking if  0 <=N<= inf  ...\n",
      "Tue Nov  1 10:39:54 2022  -Removed 0 variants with bad N.\n",
      "Tue Nov  1 10:39:54 2022  -Checking if  0 <=EAF<= 1  ...\n",
      "Tue Nov  1 10:39:55 2022  -Removed 0 variants with bad EAF.\n",
      "Tue Nov  1 10:39:55 2022  -Checking if  5 <=MAC<= inf  ...\n",
      "Tue Nov  1 10:39:55 2022  -Removed 0 variants with bad MAC.\n",
      "Tue Nov  1 10:39:55 2022  -Checking if  5e-300 <= P <= 1  ...\n",
      "Tue Nov  1 10:39:55 2022  -Removed 0 variants with bad P.\n",
      "Tue Nov  1 10:39:55 2022  -Checking if  -10 <BETA)< 10  ...\n",
      "Tue Nov  1 10:39:55 2022  -Removed 0 variants with bad BETA.\n",
      "Tue Nov  1 10:39:55 2022  -Checking if  0 <SE< inf  ...\n",
      "Tue Nov  1 10:39:55 2022  -Removed 0 variants with bad SE.\n",
      "Tue Nov  1 10:39:55 2022  -Checking STATUS...\n",
      "Tue Nov  1 10:39:56 2022  -Coverting STAUTUS to category.\n",
      "Tue Nov  1 10:39:56 2022  -Removed 0 variants with bad statistics in total.\n",
      "Tue Nov  1 10:39:56 2022 Finished sanity check successfully!\n",
      "Tue Nov  1 10:39:56 2022 Start to normalize variants...\n",
      "Tue Nov  1 10:39:56 2022  -Current Dataframe shape : 1000000  x  12\n",
      "Tue Nov  1 10:39:57 2022  -No available variants to normalize..\n",
      "Tue Nov  1 10:39:57 2022 Finished normalizing variants successfully!\n",
      "\n"
     ]
    }
   ],
   "source": [
    "mysumstats.log.show()"
   ]
  },
  {
   "cell_type": "markdown",
   "metadata": {},
   "source": [
    "## Save log"
   ]
  },
  {
   "cell_type": "code",
   "execution_count": 6,
   "metadata": {},
   "outputs": [
    {
     "name": "stdout",
     "output_type": "stream",
     "text": [
      "Tue Nov  1 10:39:57 2022  -Save log file to :  ./mylog\n"
     ]
    }
   ],
   "source": [
    "mysumstats.log.save(\"./mylog\")"
   ]
  }
 ],
 "metadata": {
  "kernelspec": {
   "display_name": "Python 3",
   "language": "python",
   "name": "python3"
  },
  "language_info": {
   "codemirror_mode": {
    "name": "ipython",
    "version": 3
   },
   "file_extension": ".py",
   "mimetype": "text/x-python",
   "name": "python",
   "nbconvert_exporter": "python",
   "pygments_lexer": "ipython3",
   "version": "3.8.3"
  }
 },
 "nbformat": 4,
 "nbformat_minor": 4
}
