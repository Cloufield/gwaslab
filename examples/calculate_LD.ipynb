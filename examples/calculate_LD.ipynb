{
 "cells": [
  {
   "cell_type": "code",
   "execution_count": 1,
   "id": "e746a641",
   "metadata": {},
   "outputs": [],
   "source": [
    "import sys\n",
    "sys.path.insert(0,\"/home/yunye/work/gwaslab/src\")\n",
    "import gwaslab as gl"
   ]
  },
  {
   "cell_type": "code",
   "execution_count": 2,
   "id": "5bc80781",
   "metadata": {},
   "outputs": [
    {
     "name": "stdout",
     "output_type": "stream",
     "text": [
      "Wed Nov 15 15:04:42 2023 GWASLab v3.4.31 https://cloufield.github.io/gwaslab/\n",
      "Wed Nov 15 15:04:42 2023 (C) 2022-2023, Yunye He, Kamatani Lab, MIT License, gwaslab@gmail.com\n",
      "Wed Nov 15 15:04:42 2023 Start to initiate from file :t2d_bbj.txt.gz\n",
      "Wed Nov 15 15:04:43 2023  -Reading columns          : SE,ALT,REF,P,SNP,CHR,BETA,POS\n",
      "Wed Nov 15 15:04:43 2023  -Renaming columns to      : SE,NEA,EA,P,SNPID,CHR,BETA,POS\n",
      "Wed Nov 15 15:04:43 2023  -Current Dataframe shape : 1000000  x  8\n",
      "Wed Nov 15 15:04:43 2023  -Initiating a status column: STATUS ...\n",
      "Wed Nov 15 15:04:44 2023 Start to reorder the columns...\n",
      "Wed Nov 15 15:04:44 2023  -Current Dataframe shape : 1000000  x  9\n",
      "Wed Nov 15 15:04:44 2023  -Reordering columns to    : SNPID,CHR,POS,EA,NEA,BETA,SE,P,STATUS\n",
      "Wed Nov 15 15:04:44 2023 Finished sorting columns successfully!\n",
      "Wed Nov 15 15:04:44 2023  -Column: SNPID  CHR    POS   EA       NEA      BETA    SE      P       STATUS  \n",
      "Wed Nov 15 15:04:44 2023  -DType : object string int64 category category float64 float64 float64 category\n",
      "Wed Nov 15 15:04:44 2023 Finished loading data successfully!\n"
     ]
    }
   ],
   "source": [
    "mysumstats = gl.Sumstats(\"t2d_bbj.txt.gz\",\n",
    "             snpid=\"SNP\",\n",
    "             ea=\"REF\",\n",
    "             nea=\"ALT\",\n",
    "             chrom=\"CHR\",\n",
    "             pos=\"POS\",\n",
    "             beta=\"BETA\",\n",
    "             se=\"SE\",\n",
    "             p=\"P\",nrows=1000000)"
   ]
  },
  {
   "cell_type": "code",
   "execution_count": 3,
   "id": "902d8d20",
   "metadata": {},
   "outputs": [
    {
     "name": "stdout",
     "output_type": "stream",
     "text": [
      "Wed Nov 15 15:04:44 2023 Start to check IDs...\n",
      "Wed Nov 15 15:04:44 2023  -Current Dataframe shape : 1000000  x  9\n",
      "Wed Nov 15 15:04:44 2023  -Checking if SNPID is chr:pos:ref:alt...(separator: - ,: , _)\n",
      "Wed Nov 15 15:04:45 2023  -Replacing [_-] in SNPID with \":\" ...\n",
      "Wed Nov 15 15:04:45 2023 Finished checking IDs successfully!\n"
     ]
    }
   ],
   "source": [
    "mysumstats.fix_id(fixsep=True)"
   ]
  },
  {
   "cell_type": "code",
   "execution_count": 4,
   "id": "81037b1c",
   "metadata": {},
   "outputs": [
    {
     "name": "stdout",
     "output_type": "stream",
     "text": [
      "Wed Nov 15 15:04:45 2023 Start to check IDs...\n",
      "Wed Nov 15 15:04:45 2023  -Current Dataframe shape : 1000000  x  9\n",
      "Wed Nov 15 15:04:45 2023  -Checking if SNPID is chr:pos:ref:alt...(separator: - ,: , _)\n",
      "Wed Nov 15 15:04:46 2023 Finished checking IDs successfully!\n",
      "Wed Nov 15 15:04:46 2023 Start to fix chromosome notation...\n",
      "Wed Nov 15 15:04:46 2023  -Current Dataframe shape : 1000000  x  9\n",
      "Wed Nov 15 15:04:46 2023  -Checking CHR data type...\n",
      "Wed Nov 15 15:04:47 2023  -Variants with standardized chromosome notation: 1000000\n",
      "Wed Nov 15 15:04:47 2023  -All CHR are already fixed...\n",
      "Wed Nov 15 15:04:48 2023  -Sanity check for CHR...\n",
      "Wed Nov 15 15:04:48 2023  -Removed 0 variants with CHR < 1...\n",
      "Wed Nov 15 15:04:48 2023 Finished fixing chromosome notation successfully!\n",
      "Wed Nov 15 15:04:48 2023 Start to fix basepair positions...\n",
      "Wed Nov 15 15:04:48 2023  -Current Dataframe shape : 1000000  x  9\n",
      "Wed Nov 15 15:04:48 2023  -Converting to Int64 data type ...\n",
      "Wed Nov 15 15:04:48 2023  -Position upper_bound is: 250,000,000\n",
      "Wed Nov 15 15:04:49 2023  -Remove outliers: 0\n",
      "Wed Nov 15 15:04:49 2023  -Converted all position to datatype Int64.\n",
      "Wed Nov 15 15:04:49 2023 Finished fixing basepair position successfully!\n",
      "Wed Nov 15 15:04:49 2023 Start to fix alleles...\n",
      "Wed Nov 15 15:04:49 2023  -Current Dataframe shape : 1000000  x  9\n",
      "Wed Nov 15 15:04:49 2023  -Converted all bases to string datatype and UPPERCASE.\n",
      "Wed Nov 15 15:04:49 2023  -Detected 0 variants with alleles that contain bases other than A/C/T/G .\n",
      "Wed Nov 15 15:04:50 2023 Finished fixing allele successfully!\n",
      "Wed Nov 15 15:04:50 2023 Start sanity check for statistics ...\n",
      "Wed Nov 15 15:04:50 2023  -Current Dataframe shape : 1000000  x  9\n",
      "Wed Nov 15 15:04:50 2023  -Checking if  5e-300 < P < 1.000001  ...\n",
      "Wed Nov 15 15:04:50 2023  -Removed 0 variants with bad P.\n",
      "Wed Nov 15 15:04:50 2023  -Checking if  -10 <BETA< 10  ...\n",
      "Wed Nov 15 15:04:50 2023  -Removed 0 variants with bad BETA.\n",
      "Wed Nov 15 15:04:50 2023  -Checking if  0 <SE< inf  ...\n",
      "Wed Nov 15 15:04:50 2023  -Removed 0 variants with bad SE.\n",
      "Wed Nov 15 15:04:50 2023  -Checking STATUS and converting STATUS to categories....\n",
      "Wed Nov 15 15:04:50 2023  -Dropping 0 variants with NAs in the checked columns...\n",
      "Wed Nov 15 15:04:50 2023  -Removed 0 variants with bad statistics in total.\n",
      "Wed Nov 15 15:04:50 2023  -Data types for each column:\n",
      "Wed Nov 15 15:04:50 2023  -Column: SNPID  CHR   POS   EA       NEA      BETA    SE      P       STATUS  \n",
      "Wed Nov 15 15:04:50 2023  -DType : object Int64 Int64 category category float32 float32 float64 category\n",
      "Wed Nov 15 15:04:50 2023 Finished sanity check successfully!\n",
      "Wed Nov 15 15:04:50 2023 Start to normalize variants...\n",
      "Wed Nov 15 15:04:50 2023  -Current Dataframe shape : 1000000  x  9\n",
      "Wed Nov 15 15:04:51 2023  -No available variants to normalize..\n",
      "Wed Nov 15 15:04:51 2023 Finished normalizing variants successfully!\n",
      "Wed Nov 15 15:04:51 2023 Start to sort the genome coordinates...\n",
      "Wed Nov 15 15:04:51 2023  -Current Dataframe shape : 1000000  x  9\n",
      "Wed Nov 15 15:04:51 2023  -Sorting genome coordinates...\n",
      "Wed Nov 15 15:04:51 2023 Finished sorting genome coordinates successfully!\n",
      "Wed Nov 15 15:04:51 2023 Start to reorder the columns...\n",
      "Wed Nov 15 15:04:51 2023  -Current Dataframe shape : 1000000  x  9\n",
      "Wed Nov 15 15:04:51 2023  -Reordering columns to    : SNPID,CHR,POS,EA,NEA,BETA,SE,P,STATUS\n",
      "Wed Nov 15 15:04:51 2023 Finished sorting columns successfully!\n"
     ]
    }
   ],
   "source": [
    "mysumstats.basic_check()"
   ]
  },
  {
   "cell_type": "code",
   "execution_count": 5,
   "id": "37d0ba36",
   "metadata": {
    "scrolled": false
   },
   "outputs": [
    {
     "name": "stdout",
     "output_type": "stream",
     "text": [
      "Wed Nov 15 15:04:51 2023 Start to extract lead variants...\n",
      "Wed Nov 15 15:04:51 2023  -Processing 1000000 variants...\n",
      "Wed Nov 15 15:04:51 2023  -Significance threshold : 5e-08\n",
      "Wed Nov 15 15:04:51 2023  -Sliding window size: 500  kb\n",
      "Wed Nov 15 15:04:51 2023  -Found 543 significant variants in total...\n",
      "Wed Nov 15 15:04:51 2023  -Identified 4 lead variants!\n",
      "Wed Nov 15 15:04:51 2023 Finished extracting lead variants successfully!\n",
      "Wed Nov 15 15:04:51 2023  -Dropping duplicated SNPIDs...\n",
      "Wed Nov 15 15:04:52 2023  -Processing locus with lead variant 1:22068326:A:G at CHR 1 POS 22068326 #########################...\n",
      "Wed Nov 15 15:04:52 2023  -Processing VCF : /home/yunye/.gwaslab/EAS.ALL.split_norm_af.1kgp3v5.hg19.vcf.gz...\n",
      "Wed Nov 15 15:04:52 2023   -Processing VCF for CHR 1...\n",
      "Wed Nov 15 15:04:52 2023   -Plink bfile for CHR 1 exists. Skipping...\n",
      "Wed Nov 15 15:04:55 2023 #variants in ref file: 6471908\n",
      "Wed Nov 15 15:04:55 2023  -#variants in locus (1:22068326:A:G): 8867\n",
      "Wed Nov 15 15:04:59 2023 #Variants with matched alleles:8864\n",
      "Wed Nov 15 15:04:59 2023 #Variants with flipped alleles:5253\n",
      "Wed Nov 15 15:04:59 2023  -#variants available in sumstats and LD panel: 8864\n",
      "Wed Nov 15 15:04:59 2023  -#Calculating LD r...\n",
      "Wed Nov 15 15:05:23 2023  -Finished calculating LD r for locus with lead variant 1:22068326:A:G at CHR 1 POS 22068326 ################...\n",
      "Wed Nov 15 15:05:23 2023  -File list is saved to: ./sumstats1_1000.filelist\n",
      "Wed Nov 15 15:05:23 2023  -Processing locus with lead variant 1:51103268:T:C at CHR 1 POS 51103268 #########################...\n",
      "Wed Nov 15 15:05:23 2023  -Processing VCF : /home/yunye/.gwaslab/EAS.ALL.split_norm_af.1kgp3v5.hg19.vcf.gz...\n",
      "Wed Nov 15 15:05:23 2023   -Processing VCF for CHR 1...\n",
      "Wed Nov 15 15:05:23 2023   -Plink bfile for CHR 1 exists. Skipping...\n",
      "Wed Nov 15 15:05:26 2023 #variants in ref file: 6471908\n",
      "Wed Nov 15 15:05:27 2023  -#variants in locus (1:51103268:T:C): 4545\n",
      "Wed Nov 15 15:05:30 2023 #Variants with matched alleles:4545\n",
      "Wed Nov 15 15:05:30 2023 #Variants with flipped alleles:2406\n",
      "Wed Nov 15 15:05:30 2023  -#variants available in sumstats and LD panel: 4545\n",
      "Wed Nov 15 15:05:30 2023  -#Calculating LD r...\n",
      "Wed Nov 15 15:05:36 2023  -Finished calculating LD r for locus with lead variant 1:51103268:T:C at CHR 1 POS 51103268 ################...\n",
      "Wed Nov 15 15:05:36 2023  -File list is saved to: ./sumstats1_1000.filelist\n",
      "Wed Nov 15 15:05:36 2023  -Processing locus with lead variant 1:154309595:TA:T at CHR 1 POS 154309595 #########################...\n",
      "Wed Nov 15 15:05:37 2023  -Processing VCF : /home/yunye/.gwaslab/EAS.ALL.split_norm_af.1kgp3v5.hg19.vcf.gz...\n",
      "Wed Nov 15 15:05:37 2023   -Processing VCF for CHR 1...\n",
      "Wed Nov 15 15:05:37 2023   -Plink bfile for CHR 1 exists. Skipping...\n",
      "Wed Nov 15 15:05:40 2023 #variants in ref file: 6471908\n",
      "Wed Nov 15 15:05:40 2023  -#variants in locus (1:154309595:TA:T): 5737\n",
      "Wed Nov 15 15:05:44 2023 #Variants with matched alleles:5732\n",
      "Wed Nov 15 15:05:44 2023 #Variants with flipped alleles:3312\n",
      "Wed Nov 15 15:05:44 2023  -#variants available in sumstats and LD panel: 5732\n",
      "Wed Nov 15 15:05:44 2023  -#Calculating LD r...\n",
      "Wed Nov 15 15:05:54 2023  -Finished calculating LD r for locus with lead variant 1:154309595:TA:T at CHR 1 POS 154309595 ################...\n",
      "Wed Nov 15 15:05:54 2023  -File list is saved to: ./sumstats1_1000.filelist\n",
      "Wed Nov 15 15:05:54 2023  -Processing locus with lead variant 2:640986:CACAT:C at CHR 2 POS 640986 #########################...\n",
      "Wed Nov 15 15:05:54 2023  -Processing VCF : /home/yunye/.gwaslab/EAS.ALL.split_norm_af.1kgp3v5.hg19.vcf.gz...\n",
      "Wed Nov 15 15:05:54 2023   -Processing VCF for CHR 2...\n",
      "Wed Nov 15 15:05:54 2023   -Plink bfile for CHR 2 exists. Skipping...\n",
      "Wed Nov 15 15:05:59 2023 #variants in ref file: 7085912\n",
      "Wed Nov 15 15:05:59 2023  -#variants in locus (2:640986:CACAT:C): 9584\n",
      "Wed Nov 15 15:06:03 2023 #Variants with matched alleles:9584\n",
      "Wed Nov 15 15:06:03 2023 #Variants with flipped alleles:5424\n",
      "Wed Nov 15 15:06:03 2023  -#variants available in sumstats and LD panel: 9584\n",
      "Wed Nov 15 15:06:03 2023  -#Calculating LD r...\n",
      "Wed Nov 15 15:06:30 2023  -Finished calculating LD r for locus with lead variant 2:640986:CACAT:C at CHR 2 POS 640986 ################...\n",
      "Wed Nov 15 15:06:30 2023  -File list is saved to: ./sumstats1_1000.filelist\n",
      "Wed Nov 15 15:06:30 2023  -Finished LD matrix calculation.\n"
     ]
    }
   ],
   "source": [
    "mysumstats.to_finemapping(vcf = gl.get_path(\"1kg_eas_hg19\"))"
   ]
  },
  {
   "cell_type": "code",
   "execution_count": null,
   "id": "7920422b",
   "metadata": {},
   "outputs": [],
   "source": []
  },
  {
   "cell_type": "code",
   "execution_count": null,
   "id": "adee94ba",
   "metadata": {},
   "outputs": [],
   "source": []
  },
  {
   "cell_type": "code",
   "execution_count": null,
   "id": "a9c910ee",
   "metadata": {},
   "outputs": [],
   "source": []
  }
 ],
 "metadata": {
  "kernelspec": {
   "display_name": "Python 3 (ipykernel)",
   "language": "python",
   "name": "python3"
  },
  "language_info": {
   "codemirror_mode": {
    "name": "ipython",
    "version": 3
   },
   "file_extension": ".py",
   "mimetype": "text/x-python",
   "name": "python",
   "nbconvert_exporter": "python",
   "pygments_lexer": "ipython3",
   "version": "3.8.16"
  },
  "toc": {
   "base_numbering": 1,
   "nav_menu": {},
   "number_sections": true,
   "sideBar": true,
   "skip_h1_title": false,
   "title_cell": "Table of Contents",
   "title_sidebar": "Contents",
   "toc_cell": false,
   "toc_position": {},
   "toc_section_display": true,
   "toc_window_display": false
  }
 },
 "nbformat": 4,
 "nbformat_minor": 5
}
