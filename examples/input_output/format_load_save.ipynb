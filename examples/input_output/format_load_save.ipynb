{
 "cells": [
  {
   "cell_type": "markdown",
   "id": "ad1a0847",
   "metadata": {},
   "source": [
    "# Input and output sumstats"
   ]
  },
  {
   "cell_type": "code",
   "execution_count": 1,
   "id": "03531f39",
   "metadata": {},
   "outputs": [],
   "source": [
    "import sys\n",
    "sys.path.insert(0,\"/home/yunye/work/gwaslab/src\")\n",
    "import gwaslab as gl"
   ]
  },
  {
   "cell_type": "markdown",
   "id": "6dc237be",
   "metadata": {},
   "source": [
    "# Input"
   ]
  },
  {
   "cell_type": "markdown",
   "id": "665784c7",
   "metadata": {},
   "source": [
    "## Loading data"
   ]
  },
  {
   "cell_type": "code",
   "execution_count": 2,
   "id": "ce0f142c",
   "metadata": {},
   "outputs": [],
   "source": [
    "mysumstats = gl.Sumstats(\"../0_sample_data/t2d_bbj.txt.gz\",\n",
    "             snpid=\"SNP\",\n",
    "             chrom=\"CHR\",\n",
    "             pos=\"POS\",\n",
    "             ea=\"ALT\",\n",
    "             nea=\"REF\",\n",
    "             neaf=\"Frq\",\n",
    "             beta=\"BETA\",\n",
    "             se=\"SE\",\n",
    "             p=\"P\",\n",
    "             direction=\"Dir\",\n",
    "             build=\"19\",\n",
    "             n=\"N\", verbose=False)\n",
    "\n",
    "# select just 1000 variants for example\n",
    "mysumstats.random_variants(n=1000, inplace=True, random_state=123,verbose=False)\n",
    "\n",
    "# basic_check\n",
    "mysumstats.basic_check(verbose=False)"
   ]
  },
  {
   "cell_type": "code",
   "execution_count": 3,
   "id": "0ca29684",
   "metadata": {},
   "outputs": [
    {
     "data": {
      "text/html": [
       "<div>\n",
       "<style scoped>\n",
       "    .dataframe tbody tr th:only-of-type {\n",
       "        vertical-align: middle;\n",
       "    }\n",
       "\n",
       "    .dataframe tbody tr th {\n",
       "        vertical-align: top;\n",
       "    }\n",
       "\n",
       "    .dataframe thead th {\n",
       "        text-align: right;\n",
       "    }\n",
       "</style>\n",
       "<table border=\"1\" class=\"dataframe\">\n",
       "  <thead>\n",
       "    <tr style=\"text-align: right;\">\n",
       "      <th></th>\n",
       "      <th>SNPID</th>\n",
       "      <th>CHR</th>\n",
       "      <th>POS</th>\n",
       "      <th>EA</th>\n",
       "      <th>NEA</th>\n",
       "      <th>EAF</th>\n",
       "      <th>BETA</th>\n",
       "      <th>SE</th>\n",
       "      <th>P</th>\n",
       "      <th>N</th>\n",
       "      <th>DIRECTION</th>\n",
       "      <th>STATUS</th>\n",
       "    </tr>\n",
       "  </thead>\n",
       "  <tbody>\n",
       "    <tr>\n",
       "      <th>0</th>\n",
       "      <td>1:2005486_C_T</td>\n",
       "      <td>1</td>\n",
       "      <td>2005486</td>\n",
       "      <td>C</td>\n",
       "      <td>T</td>\n",
       "      <td>0.9863</td>\n",
       "      <td>-0.0969</td>\n",
       "      <td>0.0471</td>\n",
       "      <td>0.039820</td>\n",
       "      <td>191764</td>\n",
       "      <td>+---</td>\n",
       "      <td>1960099</td>\n",
       "    </tr>\n",
       "    <tr>\n",
       "      <th>1</th>\n",
       "      <td>1:2247939_AAGG_A</td>\n",
       "      <td>1</td>\n",
       "      <td>2247939</td>\n",
       "      <td>AAGG</td>\n",
       "      <td>A</td>\n",
       "      <td>0.9966</td>\n",
       "      <td>0.0330</td>\n",
       "      <td>0.1249</td>\n",
       "      <td>0.791900</td>\n",
       "      <td>191764</td>\n",
       "      <td>++--</td>\n",
       "      <td>1960399</td>\n",
       "    </tr>\n",
       "    <tr>\n",
       "      <th>2</th>\n",
       "      <td>1:3741853_G_A</td>\n",
       "      <td>1</td>\n",
       "      <td>3741853</td>\n",
       "      <td>G</td>\n",
       "      <td>A</td>\n",
       "      <td>0.8849</td>\n",
       "      <td>-0.0375</td>\n",
       "      <td>0.0142</td>\n",
       "      <td>0.008282</td>\n",
       "      <td>191764</td>\n",
       "      <td>----</td>\n",
       "      <td>1960099</td>\n",
       "    </tr>\n",
       "    <tr>\n",
       "      <th>3</th>\n",
       "      <td>1:5017526_G_A</td>\n",
       "      <td>1</td>\n",
       "      <td>5017526</td>\n",
       "      <td>G</td>\n",
       "      <td>A</td>\n",
       "      <td>0.9822</td>\n",
       "      <td>0.0126</td>\n",
       "      <td>0.0373</td>\n",
       "      <td>0.736200</td>\n",
       "      <td>191764</td>\n",
       "      <td>+-++</td>\n",
       "      <td>1960099</td>\n",
       "    </tr>\n",
       "    <tr>\n",
       "      <th>4</th>\n",
       "      <td>1:5843475_C_T</td>\n",
       "      <td>1</td>\n",
       "      <td>5843475</td>\n",
       "      <td>C</td>\n",
       "      <td>T</td>\n",
       "      <td>0.9857</td>\n",
       "      <td>-0.0011</td>\n",
       "      <td>0.0433</td>\n",
       "      <td>0.980100</td>\n",
       "      <td>191764</td>\n",
       "      <td>--++</td>\n",
       "      <td>1960099</td>\n",
       "    </tr>\n",
       "    <tr>\n",
       "      <th>...</th>\n",
       "      <td>...</td>\n",
       "      <td>...</td>\n",
       "      <td>...</td>\n",
       "      <td>...</td>\n",
       "      <td>...</td>\n",
       "      <td>...</td>\n",
       "      <td>...</td>\n",
       "      <td>...</td>\n",
       "      <td>...</td>\n",
       "      <td>...</td>\n",
       "      <td>...</td>\n",
       "      <td>...</td>\n",
       "    </tr>\n",
       "    <tr>\n",
       "      <th>995</th>\n",
       "      <td>X:139318378_A_G</td>\n",
       "      <td>23</td>\n",
       "      <td>139318378</td>\n",
       "      <td>G</td>\n",
       "      <td>A</td>\n",
       "      <td>0.5252</td>\n",
       "      <td>-0.0132</td>\n",
       "      <td>0.0071</td>\n",
       "      <td>0.061670</td>\n",
       "      <td>191764</td>\n",
       "      <td>+---</td>\n",
       "      <td>1960099</td>\n",
       "    </tr>\n",
       "    <tr>\n",
       "      <th>996</th>\n",
       "      <td>X:144540038_G_T</td>\n",
       "      <td>23</td>\n",
       "      <td>144540038</td>\n",
       "      <td>G</td>\n",
       "      <td>T</td>\n",
       "      <td>0.9866</td>\n",
       "      <td>0.0379</td>\n",
       "      <td>0.0363</td>\n",
       "      <td>0.295800</td>\n",
       "      <td>191764</td>\n",
       "      <td>++++</td>\n",
       "      <td>1960099</td>\n",
       "    </tr>\n",
       "    <tr>\n",
       "      <th>997</th>\n",
       "      <td>X:145299627_C_T</td>\n",
       "      <td>23</td>\n",
       "      <td>145299627</td>\n",
       "      <td>C</td>\n",
       "      <td>T</td>\n",
       "      <td>0.9984</td>\n",
       "      <td>-0.0663</td>\n",
       "      <td>0.1671</td>\n",
       "      <td>0.691400</td>\n",
       "      <td>191764</td>\n",
       "      <td>---+</td>\n",
       "      <td>1960099</td>\n",
       "    </tr>\n",
       "    <tr>\n",
       "      <th>998</th>\n",
       "      <td>X:146441317_G_A</td>\n",
       "      <td>23</td>\n",
       "      <td>146441317</td>\n",
       "      <td>G</td>\n",
       "      <td>A</td>\n",
       "      <td>0.7345</td>\n",
       "      <td>0.0037</td>\n",
       "      <td>0.0078</td>\n",
       "      <td>0.635100</td>\n",
       "      <td>191764</td>\n",
       "      <td>++-+</td>\n",
       "      <td>1960099</td>\n",
       "    </tr>\n",
       "    <tr>\n",
       "      <th>999</th>\n",
       "      <td>X:152025052_A_G</td>\n",
       "      <td>23</td>\n",
       "      <td>152025052</td>\n",
       "      <td>G</td>\n",
       "      <td>A</td>\n",
       "      <td>0.2417</td>\n",
       "      <td>0.0041</td>\n",
       "      <td>0.0082</td>\n",
       "      <td>0.622200</td>\n",
       "      <td>191764</td>\n",
       "      <td>-++-</td>\n",
       "      <td>1960099</td>\n",
       "    </tr>\n",
       "  </tbody>\n",
       "</table>\n",
       "<p>1000 rows × 12 columns</p>\n",
       "</div>"
      ],
      "text/plain": [
       "                SNPID  CHR        POS    EA NEA     EAF    BETA      SE  \\\n",
       "0       1:2005486_C_T    1    2005486     C   T  0.9863 -0.0969  0.0471   \n",
       "1    1:2247939_AAGG_A    1    2247939  AAGG   A  0.9966  0.0330  0.1249   \n",
       "2       1:3741853_G_A    1    3741853     G   A  0.8849 -0.0375  0.0142   \n",
       "3       1:5017526_G_A    1    5017526     G   A  0.9822  0.0126  0.0373   \n",
       "4       1:5843475_C_T    1    5843475     C   T  0.9857 -0.0011  0.0433   \n",
       "..                ...  ...        ...   ...  ..     ...     ...     ...   \n",
       "995   X:139318378_A_G   23  139318378     G   A  0.5252 -0.0132  0.0071   \n",
       "996   X:144540038_G_T   23  144540038     G   T  0.9866  0.0379  0.0363   \n",
       "997   X:145299627_C_T   23  145299627     C   T  0.9984 -0.0663  0.1671   \n",
       "998   X:146441317_G_A   23  146441317     G   A  0.7345  0.0037  0.0078   \n",
       "999   X:152025052_A_G   23  152025052     G   A  0.2417  0.0041  0.0082   \n",
       "\n",
       "            P       N DIRECTION   STATUS  \n",
       "0    0.039820  191764      +---  1960099  \n",
       "1    0.791900  191764      ++--  1960399  \n",
       "2    0.008282  191764      ----  1960099  \n",
       "3    0.736200  191764      +-++  1960099  \n",
       "4    0.980100  191764      --++  1960099  \n",
       "..        ...     ...       ...      ...  \n",
       "995  0.061670  191764      +---  1960099  \n",
       "996  0.295800  191764      ++++  1960099  \n",
       "997  0.691400  191764      ---+  1960099  \n",
       "998  0.635100  191764      ++-+  1960099  \n",
       "999  0.622200  191764      -++-  1960099  \n",
       "\n",
       "[1000 rows x 12 columns]"
      ]
     },
     "execution_count": 3,
     "metadata": {},
     "output_type": "execute_result"
    }
   ],
   "source": [
    "mysumstats.data"
   ]
  },
  {
   "cell_type": "markdown",
   "id": "e7abf887",
   "metadata": {},
   "source": [
    "## Load and filtering by pattern"
   ]
  },
  {
   "cell_type": "markdown",
   "id": "505a61e5",
   "metadata": {},
   "source": [
    "### Load and filtering by snp pattern"
   ]
  },
  {
   "cell_type": "code",
   "execution_count": 4,
   "id": "e2564d3a",
   "metadata": {},
   "outputs": [
    {
     "name": "stdout",
     "output_type": "stream",
     "text": [
      "2024/12/16 12:54:49 GWASLab v3.5.2 https://cloufield.github.io/gwaslab/\n",
      "2024/12/16 12:54:49 (C) 2022-2024, Yunye He, Kamatani Lab, MIT License, gwaslab@gmail.com\n",
      "2024/12/16 12:54:49 Start to load format from formatbook....\n",
      "2024/12/16 12:54:49  -auto format meta info:\n",
      "2024/12/16 12:54:49   - format_name  : auto\n",
      "2024/12/16 12:54:49   - format_separator  : \\t\n",
      "2024/12/16 12:54:49   - format_na  : #NA\n",
      "2024/12/16 12:54:49   - format_version  :  20230328\n",
      "2024/12/16 12:54:49   - Auto-detection mode. Note: auto-detection assumes A1=EA; Alt=EA and Frq=EAF...\n",
      "2024/12/16 12:54:49   - Header conversion source: https://github.com/Cloufield/formatbook/blob/main/formats/auto.json\n",
      "2024/12/16 12:54:49 Start to initialize gl.Sumstats from file :../0_sample_data/t2d_bbj.txt.gz\n",
      "2024/12/16 12:54:49  -Columns used to filter variants: SNP\n",
      "2024/12/16 12:54:49  -Loading only variants with pattern :  ^2:123 ...\n",
      "2024/12/16 12:55:02  -Loaded 5722 variants with pattern : ^2:123 ...\n",
      "2024/12/16 12:55:02  -Reading columns          : SE,REF,Frq,SNP,N,P,CHR,POS,ALT,BETA\n",
      "2024/12/16 12:55:02  -Renaming columns to      : SE,NEA,EAF,SNPID,N,P,CHR,POS,EA,BETA\n",
      "2024/12/16 12:55:02  -Current Dataframe shape : 5722  x  10\n",
      "2024/12/16 12:55:02  -Initiating a status column: STATUS ...\n",
      "2024/12/16 12:55:02  -Genomic coordinates are based on GRCh37/hg19...\n",
      "2024/12/16 12:55:02 Start to reorder the columns...v3.5.2\n",
      "2024/12/16 12:55:02  -Current Dataframe shape : 5722 x 11 ; Memory usage: 21.90 MB\n",
      "2024/12/16 12:55:02  -Reordering columns to    : SNPID,CHR,POS,EA,NEA,EAF,BETA,SE,P,N,STATUS\n",
      "2024/12/16 12:55:02 Finished reordering the columns.\n",
      "2024/12/16 12:55:02  -Column  : SNPID  CHR    POS   EA       NEA      EAF     BETA    SE      P       N     STATUS  \n",
      "2024/12/16 12:55:02  -DType   : object string int64 category category float64 float64 float64 float64 int64 category\n",
      "2024/12/16 12:55:02  -Verified: T      F      T     T        T        T       T       T       T       T     T       \n",
      "2024/12/16 12:55:02  #WARNING! Columns with possibly incompatible dtypes: CHR\n",
      "2024/12/16 12:55:02  -Current Dataframe memory usage: 21.90 MB\n",
      "2024/12/16 12:55:02 Finished loading data successfully!\n"
     ]
    },
    {
     "data": {
      "text/html": [
       "<div>\n",
       "<style scoped>\n",
       "    .dataframe tbody tr th:only-of-type {\n",
       "        vertical-align: middle;\n",
       "    }\n",
       "\n",
       "    .dataframe tbody tr th {\n",
       "        vertical-align: top;\n",
       "    }\n",
       "\n",
       "    .dataframe thead th {\n",
       "        text-align: right;\n",
       "    }\n",
       "</style>\n",
       "<table border=\"1\" class=\"dataframe\">\n",
       "  <thead>\n",
       "    <tr style=\"text-align: right;\">\n",
       "      <th></th>\n",
       "      <th>SNPID</th>\n",
       "      <th>CHR</th>\n",
       "      <th>POS</th>\n",
       "      <th>EA</th>\n",
       "      <th>NEA</th>\n",
       "      <th>EAF</th>\n",
       "      <th>BETA</th>\n",
       "      <th>SE</th>\n",
       "      <th>P</th>\n",
       "      <th>N</th>\n",
       "      <th>STATUS</th>\n",
       "    </tr>\n",
       "  </thead>\n",
       "  <tbody>\n",
       "    <tr>\n",
       "      <th>967172</th>\n",
       "      <td>2:12320_AAT_A</td>\n",
       "      <td>2</td>\n",
       "      <td>12320</td>\n",
       "      <td>AAT</td>\n",
       "      <td>A</td>\n",
       "      <td>0.0572</td>\n",
       "      <td>-0.0158</td>\n",
       "      <td>0.0294</td>\n",
       "      <td>0.5907</td>\n",
       "      <td>191764</td>\n",
       "      <td>1999999</td>\n",
       "    </tr>\n",
       "    <tr>\n",
       "      <th>967173</th>\n",
       "      <td>2:12371_G_C</td>\n",
       "      <td>2</td>\n",
       "      <td>12371</td>\n",
       "      <td>G</td>\n",
       "      <td>C</td>\n",
       "      <td>0.0350</td>\n",
       "      <td>-0.0190</td>\n",
       "      <td>0.0294</td>\n",
       "      <td>0.5179</td>\n",
       "      <td>191764</td>\n",
       "      <td>1999999</td>\n",
       "    </tr>\n",
       "    <tr>\n",
       "      <th>967529</th>\n",
       "      <td>2:123233_G_A</td>\n",
       "      <td>2</td>\n",
       "      <td>123233</td>\n",
       "      <td>G</td>\n",
       "      <td>A</td>\n",
       "      <td>0.8736</td>\n",
       "      <td>0.0191</td>\n",
       "      <td>0.0135</td>\n",
       "      <td>0.1561</td>\n",
       "      <td>191764</td>\n",
       "      <td>1999999</td>\n",
       "    </tr>\n",
       "    <tr>\n",
       "      <th>967530</th>\n",
       "      <td>2:123332_C_G</td>\n",
       "      <td>2</td>\n",
       "      <td>123332</td>\n",
       "      <td>G</td>\n",
       "      <td>C</td>\n",
       "      <td>0.1264</td>\n",
       "      <td>-0.0191</td>\n",
       "      <td>0.0135</td>\n",
       "      <td>0.1561</td>\n",
       "      <td>191764</td>\n",
       "      <td>1999999</td>\n",
       "    </tr>\n",
       "    <tr>\n",
       "      <th>967531</th>\n",
       "      <td>2:123554_C_A</td>\n",
       "      <td>2</td>\n",
       "      <td>123554</td>\n",
       "      <td>C</td>\n",
       "      <td>A</td>\n",
       "      <td>0.4748</td>\n",
       "      <td>0.0115</td>\n",
       "      <td>0.0088</td>\n",
       "      <td>0.1929</td>\n",
       "      <td>191764</td>\n",
       "      <td>1999999</td>\n",
       "    </tr>\n",
       "    <tr>\n",
       "      <th>...</th>\n",
       "      <td>...</td>\n",
       "      <td>...</td>\n",
       "      <td>...</td>\n",
       "      <td>...</td>\n",
       "      <td>...</td>\n",
       "      <td>...</td>\n",
       "      <td>...</td>\n",
       "      <td>...</td>\n",
       "      <td>...</td>\n",
       "      <td>...</td>\n",
       "      <td>...</td>\n",
       "    </tr>\n",
       "    <tr>\n",
       "      <th>1490418</th>\n",
       "      <td>2:123998245_G_A</td>\n",
       "      <td>2</td>\n",
       "      <td>123998245</td>\n",
       "      <td>G</td>\n",
       "      <td>A</td>\n",
       "      <td>0.1047</td>\n",
       "      <td>-0.0101</td>\n",
       "      <td>0.0144</td>\n",
       "      <td>0.4834</td>\n",
       "      <td>191764</td>\n",
       "      <td>1999999</td>\n",
       "    </tr>\n",
       "    <tr>\n",
       "      <th>1490419</th>\n",
       "      <td>2:123998250_T_C</td>\n",
       "      <td>2</td>\n",
       "      <td>123998250</td>\n",
       "      <td>C</td>\n",
       "      <td>T</td>\n",
       "      <td>0.8355</td>\n",
       "      <td>0.0099</td>\n",
       "      <td>0.0119</td>\n",
       "      <td>0.4062</td>\n",
       "      <td>191764</td>\n",
       "      <td>1999999</td>\n",
       "    </tr>\n",
       "    <tr>\n",
       "      <th>1490420</th>\n",
       "      <td>2:123998340_A_G</td>\n",
       "      <td>2</td>\n",
       "      <td>123998340</td>\n",
       "      <td>G</td>\n",
       "      <td>A</td>\n",
       "      <td>0.9566</td>\n",
       "      <td>-0.0082</td>\n",
       "      <td>0.0222</td>\n",
       "      <td>0.7132</td>\n",
       "      <td>191764</td>\n",
       "      <td>1999999</td>\n",
       "    </tr>\n",
       "    <tr>\n",
       "      <th>1490421</th>\n",
       "      <td>2:123999824_A_G</td>\n",
       "      <td>2</td>\n",
       "      <td>123999824</td>\n",
       "      <td>G</td>\n",
       "      <td>A</td>\n",
       "      <td>0.8953</td>\n",
       "      <td>0.0103</td>\n",
       "      <td>0.0144</td>\n",
       "      <td>0.4760</td>\n",
       "      <td>191764</td>\n",
       "      <td>1999999</td>\n",
       "    </tr>\n",
       "    <tr>\n",
       "      <th>1490422</th>\n",
       "      <td>2:123999965_G_A</td>\n",
       "      <td>2</td>\n",
       "      <td>123999965</td>\n",
       "      <td>G</td>\n",
       "      <td>A</td>\n",
       "      <td>0.0021</td>\n",
       "      <td>-0.1152</td>\n",
       "      <td>0.1654</td>\n",
       "      <td>0.4861</td>\n",
       "      <td>191764</td>\n",
       "      <td>1999999</td>\n",
       "    </tr>\n",
       "  </tbody>\n",
       "</table>\n",
       "<p>5722 rows × 11 columns</p>\n",
       "</div>"
      ],
      "text/plain": [
       "                   SNPID CHR        POS   EA NEA     EAF    BETA      SE  \\\n",
       "967172     2:12320_AAT_A   2      12320  AAT   A  0.0572 -0.0158  0.0294   \n",
       "967173       2:12371_G_C   2      12371    G   C  0.0350 -0.0190  0.0294   \n",
       "967529      2:123233_G_A   2     123233    G   A  0.8736  0.0191  0.0135   \n",
       "967530      2:123332_C_G   2     123332    G   C  0.1264 -0.0191  0.0135   \n",
       "967531      2:123554_C_A   2     123554    C   A  0.4748  0.0115  0.0088   \n",
       "...                  ...  ..        ...  ...  ..     ...     ...     ...   \n",
       "1490418  2:123998245_G_A   2  123998245    G   A  0.1047 -0.0101  0.0144   \n",
       "1490419  2:123998250_T_C   2  123998250    C   T  0.8355  0.0099  0.0119   \n",
       "1490420  2:123998340_A_G   2  123998340    G   A  0.9566 -0.0082  0.0222   \n",
       "1490421  2:123999824_A_G   2  123999824    G   A  0.8953  0.0103  0.0144   \n",
       "1490422  2:123999965_G_A   2  123999965    G   A  0.0021 -0.1152  0.1654   \n",
       "\n",
       "              P       N   STATUS  \n",
       "967172   0.5907  191764  1999999  \n",
       "967173   0.5179  191764  1999999  \n",
       "967529   0.1561  191764  1999999  \n",
       "967530   0.1561  191764  1999999  \n",
       "967531   0.1929  191764  1999999  \n",
       "...         ...     ...      ...  \n",
       "1490418  0.4834  191764  1999999  \n",
       "1490419  0.4062  191764  1999999  \n",
       "1490420  0.7132  191764  1999999  \n",
       "1490421  0.4760  191764  1999999  \n",
       "1490422  0.4861  191764  1999999  \n",
       "\n",
       "[5722 rows x 11 columns]"
      ]
     },
     "execution_count": 4,
     "metadata": {},
     "output_type": "execute_result"
    }
   ],
   "source": [
    "mysumstats_snp2 = gl.Sumstats(\"../0_sample_data/t2d_bbj.txt.gz\",fmt=\"auto\",\n",
    "             snpid_pat=\"^2:123\",\n",
    "             build=\"19\",\n",
    "             n=\"N\", verbose=True)\n",
    "mysumstats_snp2.data"
   ]
  },
  {
   "cell_type": "markdown",
   "id": "91c529cd",
   "metadata": {},
   "source": [
    "### Load and filtering by chr pattern"
   ]
  },
  {
   "cell_type": "code",
   "execution_count": 6,
   "id": "355951cd",
   "metadata": {},
   "outputs": [
    {
     "name": "stdout",
     "output_type": "stream",
     "text": [
      "2024/12/16 12:55:34 GWASLab v3.5.2 https://cloufield.github.io/gwaslab/\n",
      "2024/12/16 12:55:34 (C) 2022-2024, Yunye He, Kamatani Lab, MIT License, gwaslab@gmail.com\n",
      "2024/12/16 12:55:34 Start to load format from formatbook....\n",
      "2024/12/16 12:55:34  -auto format meta info:\n",
      "2024/12/16 12:55:34   - format_name  : auto\n",
      "2024/12/16 12:55:34   - format_separator  : \\t\n",
      "2024/12/16 12:55:34   - format_na  : #NA\n",
      "2024/12/16 12:55:34   - format_version  :  20230328\n",
      "2024/12/16 12:55:34   - Auto-detection mode. Note: auto-detection assumes A1=EA; Alt=EA and Frq=EAF...\n",
      "2024/12/16 12:55:34   - Header conversion source: https://github.com/Cloufield/formatbook/blob/main/formats/auto.json\n",
      "2024/12/16 12:55:34 Start to initialize gl.Sumstats from file :../0_sample_data/t2d_bbj.txt.gz\n",
      "2024/12/16 12:55:34  -Columns used to filter variants: CHR\n",
      "2024/12/16 12:55:34  -Loading only variants on chromosome with pattern : ^22 ...\n",
      "2024/12/16 12:55:46  -Loaded 157050 variants on chromosome with pattern :^22 ...\n",
      "2024/12/16 12:55:46  -Reading columns          : SE,REF,Frq,SNP,N,P,CHR,POS,ALT,BETA\n",
      "2024/12/16 12:55:46  -Renaming columns to      : SE,NEA,EAF,SNPID,N,P,CHR,POS,EA,BETA\n",
      "2024/12/16 12:55:46  -Current Dataframe shape : 157050  x  10\n",
      "2024/12/16 12:55:46  -Initiating a status column: STATUS ...\n",
      "2024/12/16 12:55:46  -Genomic coordinates are based on GRCh37/hg19...\n",
      "2024/12/16 12:55:46 Start to reorder the columns...v3.5.2\n",
      "2024/12/16 12:55:46  -Current Dataframe shape : 157050 x 11 ; Memory usage: 33.55 MB\n",
      "2024/12/16 12:55:46  -Reordering columns to    : SNPID,CHR,POS,EA,NEA,EAF,BETA,SE,P,N,STATUS\n",
      "2024/12/16 12:55:46 Finished reordering the columns.\n",
      "2024/12/16 12:55:47  -Column  : SNPID  CHR    POS   EA       NEA      EAF     BETA    SE      P       N     STATUS  \n",
      "2024/12/16 12:55:47  -DType   : object string int64 category category float64 float64 float64 float64 int64 category\n",
      "2024/12/16 12:55:47  -Verified: T      F      T     T        T        T       T       T       T       T     T       \n",
      "2024/12/16 12:55:47  #WARNING! Columns with possibly incompatible dtypes: CHR\n",
      "2024/12/16 12:55:47  -Current Dataframe memory usage: 33.55 MB\n",
      "2024/12/16 12:55:47 Finished loading data successfully!\n"
     ]
    },
    {
     "data": {
      "text/html": [
       "<div>\n",
       "<style scoped>\n",
       "    .dataframe tbody tr th:only-of-type {\n",
       "        vertical-align: middle;\n",
       "    }\n",
       "\n",
       "    .dataframe tbody tr th {\n",
       "        vertical-align: top;\n",
       "    }\n",
       "\n",
       "    .dataframe thead th {\n",
       "        text-align: right;\n",
       "    }\n",
       "</style>\n",
       "<table border=\"1\" class=\"dataframe\">\n",
       "  <thead>\n",
       "    <tr style=\"text-align: right;\">\n",
       "      <th></th>\n",
       "      <th>SNPID</th>\n",
       "      <th>CHR</th>\n",
       "      <th>POS</th>\n",
       "      <th>EA</th>\n",
       "      <th>NEA</th>\n",
       "      <th>EAF</th>\n",
       "      <th>BETA</th>\n",
       "      <th>SE</th>\n",
       "      <th>P</th>\n",
       "      <th>N</th>\n",
       "      <th>STATUS</th>\n",
       "    </tr>\n",
       "  </thead>\n",
       "  <tbody>\n",
       "    <tr>\n",
       "      <th>12071920</th>\n",
       "      <td>22:16847963_A_G</td>\n",
       "      <td>22</td>\n",
       "      <td>16847963</td>\n",
       "      <td>G</td>\n",
       "      <td>A</td>\n",
       "      <td>0.5903</td>\n",
       "      <td>0.0115</td>\n",
       "      <td>0.0163</td>\n",
       "      <td>0.4819</td>\n",
       "      <td>166718</td>\n",
       "      <td>1999999</td>\n",
       "    </tr>\n",
       "    <tr>\n",
       "      <th>12071921</th>\n",
       "      <td>22:16848015_C_G</td>\n",
       "      <td>22</td>\n",
       "      <td>16848015</td>\n",
       "      <td>G</td>\n",
       "      <td>C</td>\n",
       "      <td>0.6942</td>\n",
       "      <td>0.0110</td>\n",
       "      <td>0.0155</td>\n",
       "      <td>0.4795</td>\n",
       "      <td>166718</td>\n",
       "      <td>1999999</td>\n",
       "    </tr>\n",
       "    <tr>\n",
       "      <th>12071922</th>\n",
       "      <td>22:16848470_A_G</td>\n",
       "      <td>22</td>\n",
       "      <td>16848470</td>\n",
       "      <td>G</td>\n",
       "      <td>A</td>\n",
       "      <td>0.5918</td>\n",
       "      <td>0.0118</td>\n",
       "      <td>0.0156</td>\n",
       "      <td>0.4487</td>\n",
       "      <td>166718</td>\n",
       "      <td>1999999</td>\n",
       "    </tr>\n",
       "    <tr>\n",
       "      <th>12071923</th>\n",
       "      <td>22:16848520_A_T</td>\n",
       "      <td>22</td>\n",
       "      <td>16848520</td>\n",
       "      <td>T</td>\n",
       "      <td>A</td>\n",
       "      <td>0.5918</td>\n",
       "      <td>0.0116</td>\n",
       "      <td>0.0155</td>\n",
       "      <td>0.4537</td>\n",
       "      <td>166718</td>\n",
       "      <td>1999999</td>\n",
       "    </tr>\n",
       "    <tr>\n",
       "      <th>12071924</th>\n",
       "      <td>22:16849105_A_G</td>\n",
       "      <td>22</td>\n",
       "      <td>16849105</td>\n",
       "      <td>G</td>\n",
       "      <td>A</td>\n",
       "      <td>0.5919</td>\n",
       "      <td>0.0109</td>\n",
       "      <td>0.0154</td>\n",
       "      <td>0.4810</td>\n",
       "      <td>166718</td>\n",
       "      <td>1999999</td>\n",
       "    </tr>\n",
       "    <tr>\n",
       "      <th>...</th>\n",
       "      <td>...</td>\n",
       "      <td>...</td>\n",
       "      <td>...</td>\n",
       "      <td>...</td>\n",
       "      <td>...</td>\n",
       "      <td>...</td>\n",
       "      <td>...</td>\n",
       "      <td>...</td>\n",
       "      <td>...</td>\n",
       "      <td>...</td>\n",
       "      <td>...</td>\n",
       "    </tr>\n",
       "    <tr>\n",
       "      <th>12228965</th>\n",
       "      <td>22:51230048_T_C</td>\n",
       "      <td>22</td>\n",
       "      <td>51230048</td>\n",
       "      <td>C</td>\n",
       "      <td>T</td>\n",
       "      <td>0.9988</td>\n",
       "      <td>-0.0645</td>\n",
       "      <td>0.2269</td>\n",
       "      <td>0.7762</td>\n",
       "      <td>166718</td>\n",
       "      <td>1999999</td>\n",
       "    </tr>\n",
       "    <tr>\n",
       "      <th>12228966</th>\n",
       "      <td>22:51230086_A_T</td>\n",
       "      <td>22</td>\n",
       "      <td>51230086</td>\n",
       "      <td>T</td>\n",
       "      <td>A</td>\n",
       "      <td>0.9906</td>\n",
       "      <td>-0.0543</td>\n",
       "      <td>0.0766</td>\n",
       "      <td>0.4780</td>\n",
       "      <td>166718</td>\n",
       "      <td>1999999</td>\n",
       "    </tr>\n",
       "    <tr>\n",
       "      <th>12228967</th>\n",
       "      <td>22:51237069_T_C</td>\n",
       "      <td>22</td>\n",
       "      <td>51237069</td>\n",
       "      <td>C</td>\n",
       "      <td>T</td>\n",
       "      <td>0.9883</td>\n",
       "      <td>-0.0356</td>\n",
       "      <td>0.0720</td>\n",
       "      <td>0.6212</td>\n",
       "      <td>191764</td>\n",
       "      <td>1999999</td>\n",
       "    </tr>\n",
       "    <tr>\n",
       "      <th>12228968</th>\n",
       "      <td>22:51239678_G_T</td>\n",
       "      <td>22</td>\n",
       "      <td>51239678</td>\n",
       "      <td>G</td>\n",
       "      <td>T</td>\n",
       "      <td>0.0592</td>\n",
       "      <td>-0.0038</td>\n",
       "      <td>0.0331</td>\n",
       "      <td>0.9077</td>\n",
       "      <td>166718</td>\n",
       "      <td>1999999</td>\n",
       "    </tr>\n",
       "    <tr>\n",
       "      <th>12228969</th>\n",
       "      <td>22:51239752_G_A</td>\n",
       "      <td>22</td>\n",
       "      <td>51239752</td>\n",
       "      <td>G</td>\n",
       "      <td>A</td>\n",
       "      <td>0.0013</td>\n",
       "      <td>0.2937</td>\n",
       "      <td>0.2318</td>\n",
       "      <td>0.2051</td>\n",
       "      <td>166718</td>\n",
       "      <td>1999999</td>\n",
       "    </tr>\n",
       "  </tbody>\n",
       "</table>\n",
       "<p>157050 rows × 11 columns</p>\n",
       "</div>"
      ],
      "text/plain": [
       "                    SNPID CHR       POS EA NEA     EAF    BETA      SE  \\\n",
       "12071920  22:16847963_A_G  22  16847963  G   A  0.5903  0.0115  0.0163   \n",
       "12071921  22:16848015_C_G  22  16848015  G   C  0.6942  0.0110  0.0155   \n",
       "12071922  22:16848470_A_G  22  16848470  G   A  0.5918  0.0118  0.0156   \n",
       "12071923  22:16848520_A_T  22  16848520  T   A  0.5918  0.0116  0.0155   \n",
       "12071924  22:16849105_A_G  22  16849105  G   A  0.5919  0.0109  0.0154   \n",
       "...                   ...  ..       ... ..  ..     ...     ...     ...   \n",
       "12228965  22:51230048_T_C  22  51230048  C   T  0.9988 -0.0645  0.2269   \n",
       "12228966  22:51230086_A_T  22  51230086  T   A  0.9906 -0.0543  0.0766   \n",
       "12228967  22:51237069_T_C  22  51237069  C   T  0.9883 -0.0356  0.0720   \n",
       "12228968  22:51239678_G_T  22  51239678  G   T  0.0592 -0.0038  0.0331   \n",
       "12228969  22:51239752_G_A  22  51239752  G   A  0.0013  0.2937  0.2318   \n",
       "\n",
       "               P       N   STATUS  \n",
       "12071920  0.4819  166718  1999999  \n",
       "12071921  0.4795  166718  1999999  \n",
       "12071922  0.4487  166718  1999999  \n",
       "12071923  0.4537  166718  1999999  \n",
       "12071924  0.4810  166718  1999999  \n",
       "...          ...     ...      ...  \n",
       "12228965  0.7762  166718  1999999  \n",
       "12228966  0.4780  166718  1999999  \n",
       "12228967  0.6212  191764  1999999  \n",
       "12228968  0.9077  166718  1999999  \n",
       "12228969  0.2051  166718  1999999  \n",
       "\n",
       "[157050 rows x 11 columns]"
      ]
     },
     "execution_count": 6,
     "metadata": {},
     "output_type": "execute_result"
    }
   ],
   "source": [
    "mysumstats_chr22 = gl.Sumstats(\"../0_sample_data/t2d_bbj.txt.gz\",fmt=\"auto\",\n",
    "             chrom_pat=\"^22\",\n",
    "             build=\"19\",\n",
    "             n=\"N\", verbose=True)\n",
    "mysumstats_chr22.data"
   ]
  },
  {
   "cell_type": "code",
   "execution_count": null,
   "id": "d2484d54",
   "metadata": {},
   "outputs": [],
   "source": []
  },
  {
   "cell_type": "markdown",
   "id": "81d94826",
   "metadata": {},
   "source": [
    "# Output"
   ]
  },
  {
   "cell_type": "markdown",
   "id": "277d2521",
   "metadata": {},
   "source": [
    "## general output"
   ]
  },
  {
   "cell_type": "code",
   "execution_count": 3,
   "id": "c332e77d",
   "metadata": {},
   "outputs": [
    {
     "name": "stdout",
     "output_type": "stream",
     "text": [
      "2024/12/16 12:57:57 Start to convert the output sumstats in:  gwaslab  format\n",
      "2024/12/16 12:57:57  -Formatting statistics ...\n",
      "2024/12/16 12:57:57  -Float statistics formats:\n",
      "2024/12/16 12:57:57   - Columns       : ['EAF', 'BETA', 'SE', 'P']\n",
      "2024/12/16 12:57:57   - Output formats: ['{:.4g}', '{:.4f}', '{:.4f}', '{:.4e}']\n",
      "2024/12/16 12:57:57  -Start outputting sumstats in gwaslab format...\n",
      "2024/12/16 12:57:57  -gwaslab format will be loaded...\n",
      "2024/12/16 12:57:57  -gwaslab format meta info:\n",
      "2024/12/16 12:57:57   - format_name  : gwaslab\n",
      "2024/12/16 12:57:57   - format_source  : https://cloufield.github.io/gwaslab/\n",
      "2024/12/16 12:57:57   - format_version  : 20231220_v4\n",
      "2024/12/16 12:57:57  -Output path: ./mysumstats.gwaslab.tsv.gz\n",
      "2024/12/16 12:57:57  -Output columns: SNPID,CHR,POS,EA,NEA,EAF,BETA,SE,P,N,DIRECTION,STATUS\n",
      "2024/12/16 12:57:57  -Writing sumstats to: ./mysumstats.gwaslab.tsv.gz...\n",
      "2024/12/16 12:57:57   -Fast to csv mode...\n",
      "2024/12/16 12:57:57  -Saving log file to: ./mysumstats.gwaslab.log\n",
      "2024/12/16 12:57:57 Finished outputting successfully!\n"
     ]
    }
   ],
   "source": [
    "mysumstats.to_format(\"./mysumstats\",fmt=\"gwaslab\",xymt_number=True)"
   ]
  },
  {
   "cell_type": "code",
   "execution_count": 4,
   "id": "ea7fe203",
   "metadata": {},
   "outputs": [
    {
     "name": "stdout",
     "output_type": "stream",
     "text": [
      "SNPID\tCHR\tPOS\tEA\tNEA\tEAF\tBETA\tSE\tP\tN\tDIRECTION\tSTATUS\r\n",
      "1:2005486_C_T\t1\t2005486\tC\tT\t0.9863\t-0.0969\t0.0471\t3.9820e-02\t191764\t+---\t1960099\r\n",
      "1:2247939_AAGG_A\t1\t2247939\tAAGG\tA\t0.9966\t0.0330\t0.1249\t7.9190e-01\t191764\t++--\t1960399\r\n",
      "1:3741853_G_A\t1\t3741853\tG\tA\t0.8849\t-0.0375\t0.0142\t8.2820e-03\t191764\t----\t1960099\r\n",
      "1:5017526_G_A\t1\t5017526\tG\tA\t0.9822\t0.0126\t0.0373\t7.3620e-01\t191764\t+-++\t1960099\r\n",
      "1:5843475_C_T\t1\t5843475\tC\tT\t0.9857\t-0.0011\t0.0433\t9.8010e-01\t191764\t--++\t1960099\r\n",
      "1:9405103_T_C\t1\t9405103\tC\tT\t0.0021\t-0.0729\t0.1516\t6.3050e-01\t191764\t+---\t1960099\r\n",
      "1:9443411_G_A\t1\t9443411\tG\tA\t0.9916\t0.0362\t0.0532\t4.9690e-01\t191764\t+-++\t1960099\r\n",
      "1:12866348_G_C\t1\t12866348\tG\tC\t0.9728\t-0.0352\t0.0431\t4.1450e-01\t191764\t---+\t1960099\r\n",
      "1:14466316_A_G\t1\t14466316\tG\tA\t0.6942\t-0.0042\t0.0096\t6.6360e-01\t191764\t--+-\t1960099\r\n",
      "\r\n",
      "gzip: stdout: Broken pipe\r\n"
     ]
    }
   ],
   "source": [
    "!zcat mysumstats.gwaslab.tsv.gz | head"
   ]
  },
  {
   "cell_type": "code",
   "execution_count": 5,
   "id": "9e5ff639",
   "metadata": {},
   "outputs": [
    {
     "name": "stdout",
     "output_type": "stream",
     "text": [
      "X:121023171_A_ACTT\t23\t121023171\tACTT\tA\t0.5117\t0.0096\t0.0071\t1.7390e-01\t191764\t++++\t1960399\r\n",
      "X:134838698_C_CTA\t23\t134838698\tC\tCTA\t0.9355\t0.0060\t0.0145\t6.8080e-01\t191764\t++-+\t1960399\r\n",
      "X:135939006_G_T\t23\t135939006\tG\tT\t0.2068\t-0.0037\t0.0085\t6.6300e-01\t191764\t-+-+\t1960099\r\n",
      "X:136020644_C_T\t23\t136020644\tC\tT\t0.8756\t0.0103\t0.0106\t3.3370e-01\t191764\t+++-\t1960099\r\n",
      "X:138148816_C_T\t23\t138148816\tC\tT\t0.7842\t0.0089\t0.0088\t3.1330e-01\t191764\t++++\t1960099\r\n",
      "X:139318378_A_G\t23\t139318378\tG\tA\t0.5252\t-0.0132\t0.0071\t6.1670e-02\t191764\t+---\t1960099\r\n",
      "X:144540038_G_T\t23\t144540038\tG\tT\t0.9866\t0.0379\t0.0363\t2.9580e-01\t191764\t++++\t1960099\r\n",
      "X:145299627_C_T\t23\t145299627\tC\tT\t0.9984\t-0.0663\t0.1671\t6.9140e-01\t191764\t---+\t1960099\r\n",
      "X:146441317_G_A\t23\t146441317\tG\tA\t0.7345\t0.0037\t0.0078\t6.3510e-01\t191764\t++-+\t1960099\r\n",
      "X:152025052_A_G\t23\t152025052\tG\tA\t0.2417\t0.0041\t0.0082\t6.2220e-01\t191764\t-++-\t1960099\r\n"
     ]
    }
   ],
   "source": [
    "!zcat mysumstats.gwaslab.tsv.gz | tail"
   ]
  },
  {
   "cell_type": "markdown",
   "id": "68af95ae",
   "metadata": {},
   "source": [
    "## output each chromosome to a single file"
   ]
  },
  {
   "cell_type": "code",
   "execution_count": 4,
   "id": "d26a2ccc",
   "metadata": {},
   "outputs": [
    {
     "name": "stdout",
     "output_type": "stream",
     "text": [
      "2024/12/16 13:13:53 Start to convert the output sumstats in:  gwaslab  format\n",
      "2024/12/16 13:13:53  -Formatting statistics ...\n",
      "2024/12/16 13:13:53  -Float statistics formats:\n",
      "2024/12/16 13:13:53   - Columns       : ['EAF', 'BETA', 'SE', 'P']\n",
      "2024/12/16 13:13:53   - Output formats: ['{:.4g}', '{:.4f}', '{:.4f}', '{:.4e}']\n",
      "2024/12/16 13:13:53  -Start outputting sumstats in gwaslab format...\n",
      "2024/12/16 13:13:53  -gwaslab format will be loaded...\n",
      "2024/12/16 13:13:53  -gwaslab format meta info:\n",
      "2024/12/16 13:13:53   - format_name  : gwaslab\n",
      "2024/12/16 13:13:53   - format_source  : https://cloufield.github.io/gwaslab/\n",
      "2024/12/16 13:13:53   - format_version  : 20231220_v4\n",
      "2024/12/16 13:13:53  -Output path: ./mysumstats.@.gwaslab.tsv.gz\n",
      "2024/12/16 13:13:53  -Output columns: SNPID,CHR,POS,EA,NEA,EAF,BETA,SE,P,N,DIRECTION,STATUS\n",
      "2024/12/16 13:13:53  -Writing sumstats to: ./mysumstats.@.gwaslab.tsv.gz...\n",
      "2024/12/16 13:13:53   -Fast to csv mode...\n",
      "2024/12/16 13:13:53   -@ detected: writing each chromosome to a single file...\n",
      "2024/12/16 13:13:53   -Chromosomes:['1', '2', '3', '4', '5', '6', '7', '8', '9', '10', '11', '12', '13', '14', '15', '16', '17', '18', '19', '20', '21', '22', '23']...\n",
      "2024/12/16 13:13:54  -Saving log file to: ./mysumstats.@.gwaslab.log\n",
      "2024/12/16 13:13:54 Finished outputting successfully!\n"
     ]
    }
   ],
   "source": [
    "mysumstats.to_format(\"./mysumstats.@\",fmt=\"gwaslab\",xymt_number=True)"
   ]
  },
  {
   "cell_type": "markdown",
   "id": "2244e9ad",
   "metadata": {},
   "source": [
    "## load sumstats for each chromosome"
   ]
  },
  {
   "cell_type": "code",
   "execution_count": 5,
   "id": "e62ca850",
   "metadata": {},
   "outputs": [
    {
     "name": "stdout",
     "output_type": "stream",
     "text": [
      "2024/12/16 13:16:15 GWASLab v3.5.2 https://cloufield.github.io/gwaslab/\n",
      "2024/12/16 13:16:15 (C) 2022-2024, Yunye He, Kamatani Lab, MIT License, gwaslab@gmail.com\n",
      "2024/12/16 13:16:15 Start to load format from formatbook....\n",
      "2024/12/16 13:16:15  -gwaslab format meta info:\n",
      "2024/12/16 13:16:15   - format_name  : gwaslab\n",
      "2024/12/16 13:16:15   - format_source  : https://cloufield.github.io/gwaslab/\n",
      "2024/12/16 13:16:15   - format_version  : 20231220_v4\n",
      "2024/12/16 13:16:15  -Detected @ in path: load sumstats by each chromosome...\n",
      "2024/12/16 13:16:15  -Chromosomes detected: 1,2,3,4,5,6,7,8,9,10,11,12,13,14,15,16,17,18,19,20,21,22,23\n",
      "2024/12/16 13:16:15 Start to initialize gl.Sumstats from files with pattern :./mysumstats.@.gwaslab.tsv.gz\n",
      "2024/12/16 13:16:15  -Loading:./mysumstats.1.gwaslab.tsv.gz\n",
      "2024/12/16 13:16:15  -Loading:./mysumstats.2.gwaslab.tsv.gz\n",
      "2024/12/16 13:16:15  -Loading:./mysumstats.3.gwaslab.tsv.gz\n",
      "2024/12/16 13:16:15  -Loading:./mysumstats.4.gwaslab.tsv.gz\n",
      "2024/12/16 13:16:15  -Loading:./mysumstats.5.gwaslab.tsv.gz\n",
      "2024/12/16 13:16:15  -Loading:./mysumstats.6.gwaslab.tsv.gz\n",
      "2024/12/16 13:16:15  -Loading:./mysumstats.7.gwaslab.tsv.gz\n",
      "2024/12/16 13:16:15  -Loading:./mysumstats.8.gwaslab.tsv.gz\n",
      "2024/12/16 13:16:15  -Loading:./mysumstats.9.gwaslab.tsv.gz\n",
      "2024/12/16 13:16:15  -Loading:./mysumstats.10.gwaslab.tsv.gz\n",
      "2024/12/16 13:16:15  -Loading:./mysumstats.11.gwaslab.tsv.gz\n",
      "2024/12/16 13:16:15  -Loading:./mysumstats.12.gwaslab.tsv.gz\n",
      "2024/12/16 13:16:15  -Loading:./mysumstats.13.gwaslab.tsv.gz\n",
      "2024/12/16 13:16:15  -Loading:./mysumstats.14.gwaslab.tsv.gz\n",
      "2024/12/16 13:16:15  -Loading:./mysumstats.15.gwaslab.tsv.gz\n",
      "2024/12/16 13:16:15  -Loading:./mysumstats.16.gwaslab.tsv.gz\n",
      "2024/12/16 13:16:15  -Loading:./mysumstats.17.gwaslab.tsv.gz\n",
      "2024/12/16 13:16:15  -Loading:./mysumstats.18.gwaslab.tsv.gz\n",
      "2024/12/16 13:16:15  -Loading:./mysumstats.19.gwaslab.tsv.gz\n",
      "2024/12/16 13:16:15  -Loading:./mysumstats.20.gwaslab.tsv.gz\n",
      "2024/12/16 13:16:15  -Loading:./mysumstats.21.gwaslab.tsv.gz\n",
      "2024/12/16 13:16:15  -Loading:./mysumstats.22.gwaslab.tsv.gz\n",
      "2024/12/16 13:16:15  -Loading:./mysumstats.23.gwaslab.tsv.gz\n",
      "2024/12/16 13:16:15  -Merging sumstats for chromosomes: 1,2,3,4,5,6,7,8,9,10,11,12,13,14,15,16,17,18,19,20,21,22,23\n",
      "2024/12/16 13:16:15  -Reading columns          : EAF,POS,NEA,P,EA,SE,BETA,STATUS,CHR,DIRECTION,N,SNPID\n",
      "2024/12/16 13:16:15  -Renaming columns to      : EAF,POS,NEA,P,EA,SE,BETA,STATUS,CHR,DIRECTION,N,SNPID\n",
      "2024/12/16 13:16:15  -Current Dataframe shape : 1000  x  12\n",
      "2024/12/16 13:16:15  -Initiating a status column: STATUS ...\n",
      "2024/12/16 13:16:15  #WARNING! Version of genomic coordinates is unknown...\n",
      "2024/12/16 13:16:16 Start to reorder the columns...v3.5.2\n",
      "2024/12/16 13:16:16  -Current Dataframe shape : 1000 x 12 ; Memory usage: 21.54 MB\n",
      "2024/12/16 13:16:16  -Reordering columns to    : SNPID,CHR,POS,EA,NEA,EAF,BETA,SE,P,N,DIRECTION,STATUS\n",
      "2024/12/16 13:16:16 Finished reordering the columns.\n",
      "2024/12/16 13:16:16  -Column  : SNPID  CHR    POS   EA       NEA      EAF     BETA    SE      P       N     DIRECTION STATUS  \n",
      "2024/12/16 13:16:16  -DType   : object string int64 category category float64 float64 float64 float64 int64 object    category\n",
      "2024/12/16 13:16:16  -Verified: T      F      T     T        T        T       T       T       T       T     T         T       \n",
      "2024/12/16 13:16:16  #WARNING! Columns with possibly incompatible dtypes: CHR\n",
      "2024/12/16 13:16:16  -Current Dataframe memory usage: 21.54 MB\n",
      "2024/12/16 13:16:16 Finished loading data successfully!\n"
     ]
    }
   ],
   "source": [
    "mysumstats = gl.Sumstats(\"./mysumstats.@.gwaslab.tsv.gz\",\n",
    "             fmt=\"gwaslab\", verbose=True)"
   ]
  },
  {
   "cell_type": "markdown",
   "id": "ab477af2",
   "metadata": {},
   "source": [
    "## Check available formats"
   ]
  },
  {
   "cell_type": "markdown",
   "id": "5081e7af",
   "metadata": {},
   "source": [
    "List the formats that GWASLab supports"
   ]
  },
  {
   "cell_type": "code",
   "execution_count": 7,
   "id": "ff45fe2c",
   "metadata": {},
   "outputs": [
    {
     "name": "stdout",
     "output_type": "stream",
     "text": [
      "2024/12/16 12:51:51 Available formats: auto,bolt_lmm,cojo,fastgwa,gwascatalog,gwascatalog_hm,gwaslab,ldsc,metal,mrmega,mtag,pgscatalog,pgscatalog_hm,pheweb,plink,plink2,plink2_firth,plink2_linear,plink2_logistic,plink_assoc,plink_bim,plink_dosage,plink_fam,plink_fisher,plink_linear,plink_logistic,plink_psam,plink_pvar,popcorn,regenie,regenie_gene,saige,ssf,template,vcf\n"
     ]
    }
   ],
   "source": [
    "gl.list_formats()"
   ]
  },
  {
   "cell_type": "markdown",
   "id": "38d598c4",
   "metadata": {},
   "source": [
    "Check the contents of the specified format"
   ]
  },
  {
   "cell_type": "code",
   "execution_count": 8,
   "id": "8009e7f4",
   "metadata": {},
   "outputs": [
    {
     "name": "stdout",
     "output_type": "stream",
     "text": [
      "2024/12/16 12:51:51 Available formats:2024/12/16 12:51:51 meta_data2024/12/16 12:51:51 format_dict2024/12/16 12:51:51 \n",
      "2024/12/16 12:51:51 {'format_name': 'ssf', 'format_source': 'https://www.biorxiv.org/content/10.1101/2022.07.15.500230v1.full', 'format_cite_name': 'GWAS-SSF v0.1', 'format_separator': '\\t', 'format_na': '#NA', 'format_comment': None, 'format_col_order': ['chromosome', 'base_pair_location', 'effect_allele', 'other_allele', 'beta', 'odds_ratio', 'hazard_ratio', 'standard_error', 'effect_allele_frequency', 'p_value', 'neg_log_10_p_value', 'ci_upper', 'ci_lower', 'rsid', 'variant_id', 'info', 'ref_allele', 'n'], 'format_version': 20230328}2024/12/16 12:51:51 {'variant_id': 'SNPID', 'rsid': 'rsID', 'chromosome': 'CHR', 'base_pair_location': 'POS', 'other_allele': 'NEA', 'effect_allele': 'EA', 'effect_allele_frequency': 'EAF', 'n': 'N', 'beta': 'BETA', 'standard_error': 'SE', 'p_value': 'P', 'neg_log_10_p_value': 'MLOG10P', 'info': 'INFO', 'odds_ratio': 'OR', 'hazard_ratio': 'HR', 'ci_lower': 'OR_95L', 'ci_upper': 'OR_95U'}"
     ]
    }
   ],
   "source": [
    "gl.check_format(\"ssf\")"
   ]
  },
  {
   "cell_type": "markdown",
   "id": "d7391280",
   "metadata": {},
   "source": [
    "## Formatting and saving"
   ]
  },
  {
   "cell_type": "markdown",
   "id": "2a565395",
   "metadata": {},
   "source": [
    "### get ready for submission to gwas catalog (GWAS-ssf format)"
   ]
  },
  {
   "cell_type": "markdown",
   "id": "c33d4a82",
   "metadata": {},
   "source": [
    "- `fmt`: specify the output format\n",
    "- `ssfmeta`: if True, output the meta file\n",
    "- `md5sum`: if True, create a file with the md5sum of the output sumstats"
   ]
  },
  {
   "cell_type": "code",
   "execution_count": 9,
   "id": "69c2668f",
   "metadata": {},
   "outputs": [
    {
     "name": "stdout",
     "output_type": "stream",
     "text": [
      "2024/12/16 12:51:51 Start to convert the output sumstats in:  ssf  format\n",
      "2024/12/16 12:51:51  -Formatting statistics ...\n",
      "2024/12/16 12:51:51  -Float statistics formats:\n",
      "2024/12/16 12:51:51   - Columns       : ['EAF', 'BETA', 'SE', 'P']\n",
      "2024/12/16 12:51:51   - Output formats: ['{:.4g}', '{:.4f}', '{:.4f}', '{:.4e}']\n",
      "2024/12/16 12:51:51  -Replacing SNPID separator from \":\" to \"_\"...\n",
      "2024/12/16 12:51:51  -Start outputting sumstats in ssf format...\n",
      "2024/12/16 12:51:51  -ssf format will be loaded...\n",
      "2024/12/16 12:51:51  -ssf format meta info:\n",
      "2024/12/16 12:51:51   - format_name  : ssf\n",
      "2024/12/16 12:51:51   - format_source  : https://www.biorxiv.org/content/10.1101/2022.07.15.500230v1.full\n",
      "2024/12/16 12:51:51   - format_cite_name  : GWAS-SSF v0.1\n",
      "2024/12/16 12:51:51   - format_separator  : \\t\n",
      "2024/12/16 12:51:51   - format_na  : #NA\n",
      "2024/12/16 12:51:51   - format_col_order  : chromosome,base_pair_location,effect_allele,other_allele,beta,odds_ratio,hazard_ratio,standard_error,effect_allele_frequency,p_value,neg_log_10_p_value,ci_upper,ci_lower,rsid,variant_id,info,ref_allele,n\n",
      "2024/12/16 12:51:51   - format_version  :  20230328\n",
      "2024/12/16 12:51:51  -gwaslab to ssf format dictionary:\n",
      "2024/12/16 12:51:51   - gwaslab keys: SNPID,rsID,CHR,POS,NEA,EA,EAF,N,BETA,SE,P,MLOG10P,INFO,OR,HR,OR_95L,OR_95U\n",
      "2024/12/16 12:51:51   - ssf values: variant_id,rsid,chromosome,base_pair_location,other_allele,effect_allele,effect_allele_frequency,n,beta,standard_error,p_value,neg_log_10_p_value,info,odds_ratio,hazard_ratio,ci_lower,ci_upper\n",
      "2024/12/16 12:51:51  -Output path: ./mysumstats.ssf.tsv.gz\n",
      "2024/12/16 12:51:51  -Output columns: chromosome,base_pair_location,effect_allele,other_allele,beta,standard_error,effect_allele_frequency,p_value,variant_id,n\n",
      "2024/12/16 12:51:51  -Writing sumstats to: ./mysumstats.ssf.tsv.gz...\n",
      "2024/12/16 12:51:51  -md5sum hashing for the file: ./mysumstats.ssf.tsv.gz\n",
      "2024/12/16 12:51:51  -md5sum path: ./mysumstats.ssf.tsv.gz.md5sum\n",
      "2024/12/16 12:51:51  -md5sum: 79d17331079748cb9021a07f12346832\n",
      "2024/12/16 12:51:51  -Exporting SSF-style meta data to ./mysumstats.ssf.tsv.gz.ssf.tsv-meta.yaml\n",
      "2024/12/16 12:51:51  -Saving log file to: ./mysumstats.ssf.log\n",
      "2024/12/16 12:51:51 Finished outputting successfully!\n"
     ]
    }
   ],
   "source": [
    "mysumstats.to_format(\"./mysumstats\", fmt=\"ssf\", ssfmeta=True, md5sum=True)"
   ]
  },
  {
   "cell_type": "code",
   "execution_count": 10,
   "id": "d276a228",
   "metadata": {},
   "outputs": [
    {
     "name": "stdout",
     "output_type": "stream",
     "text": [
      "chromosome\tbase_pair_location\teffect_allele\tother_allele\tbeta\tstandard_error\teffect_allele_frequency\tp_value\tvariant_id\tn\r\n",
      "1\t2005486\tC\tT\t-0.0969\t0.0471\t0.9863\t3.9820e-02\t1_2005486_C_T\t191764\r\n",
      "1\t2247939\tAAGG\tA\t0.0330\t0.1249\t0.9966\t7.9190e-01\t1_2247939_AAGG_A\t191764\r\n",
      "1\t3741853\tG\tA\t-0.0375\t0.0142\t0.8849\t8.2820e-03\t1_3741853_G_A\t191764\r\n",
      "1\t5017526\tG\tA\t0.0126\t0.0373\t0.9822\t7.3620e-01\t1_5017526_G_A\t191764\r\n",
      "1\t5843475\tC\tT\t-0.0011\t0.0433\t0.9857\t9.8010e-01\t1_5843475_C_T\t191764\r\n",
      "1\t9405103\tC\tT\t-0.0729\t0.1516\t0.0021\t6.3050e-01\t1_9405103_T_C\t191764\r\n",
      "1\t9443411\tG\tA\t0.0362\t0.0532\t0.9916\t4.9690e-01\t1_9443411_G_A\t191764\r\n",
      "1\t12866348\tG\tC\t-0.0352\t0.0431\t0.9728\t4.1450e-01\t1_12866348_G_C\t191764\r\n",
      "1\t14466316\tG\tA\t-0.0042\t0.0096\t0.6942\t6.6360e-01\t1_14466316_A_G\t191764\r\n",
      "\r\n",
      "gzip: stdout: Broken pipe\r\n"
     ]
    }
   ],
   "source": [
    "!zcat mysumstats.ssf.tsv.gz | head"
   ]
  },
  {
   "cell_type": "code",
   "execution_count": 11,
   "id": "46f76d7c-d17c-40bb-99cc-29de58552f2b",
   "metadata": {},
   "outputs": [
    {
     "name": "stdout",
     "output_type": "stream",
     "text": [
      "79d17331079748cb9021a07f12346832\r\n"
     ]
    }
   ],
   "source": [
    "!head mysumstats.ssf.tsv.gz.md5sum"
   ]
  },
  {
   "cell_type": "code",
   "execution_count": 12,
   "id": "4b5668e6-e368-42b1-9763-2ca1488c6f1a",
   "metadata": {},
   "outputs": [
    {
     "name": "stdout",
     "output_type": "stream",
     "text": [
      "head: cannot open './mysumstats.ssf.tsv-meta.ymal' for reading: No such file or directory\r\n"
     ]
    }
   ],
   "source": [
    "!head ./mysumstats.ssf.tsv-meta.ymal"
   ]
  },
  {
   "cell_type": "markdown",
   "id": "45077731",
   "metadata": {},
   "source": [
    "### ldsc default format"
   ]
  },
  {
   "cell_type": "markdown",
   "id": "ac68ed6f",
   "metadata": {},
   "source": [
    "- `hapmap3`: if True, only output hapmap3 SNPs\n",
    "- `exclude_hla`: if True, exclude variants in HLA region from output"
   ]
  },
  {
   "cell_type": "code",
   "execution_count": 13,
   "id": "e8204a6e",
   "metadata": {},
   "outputs": [
    {
     "name": "stdout",
     "output_type": "stream",
     "text": [
      "2024/12/16 12:51:52 Start to convert the output sumstats in:  ldsc  format\n",
      "2024/12/16 12:51:52  -Excluded 3 variants in HLA region (chr6: 25000000-34000000 )...\n",
      "2024/12/16 12:51:52 Start to extract HapMap3 SNPs...v3.5.2\n",
      "2024/12/16 12:51:52  -Current Dataframe shape : 997 x 12 ; Memory usage: 21.55 MB\n",
      "2024/12/16 12:51:52  -Loading Hapmap3 variants from built-in datasets...\n",
      "2024/12/16 12:51:52  -Since rsID not in sumstats, CHR:POS( build 19) will be used for matching...\n",
      "2024/12/16 12:51:53  -Checking if alleles are same...\n",
      "2024/12/16 12:51:53  -Variants with macthed alleles: 81\n",
      "2024/12/16 12:51:53  -Raw input contains 81 Hapmap3 variants based on CHR:POS...\n",
      "2024/12/16 12:51:53 Finished extracting HapMap3 SNPs.\n",
      "2024/12/16 12:51:53  -Extract 81 variants in Hapmap3 datasets for build 19.\n",
      "2024/12/16 12:51:53  -Formatting statistics ...\n",
      "2024/12/16 12:51:53  -Float statistics formats:\n",
      "2024/12/16 12:51:53   - Columns       : ['EAF', 'BETA', 'SE', 'P']\n",
      "2024/12/16 12:51:53   - Output formats: ['{:.4g}', '{:.4f}', '{:.4f}', '{:.4e}']\n",
      "2024/12/16 12:51:53  -Start outputting sumstats in ldsc format...\n",
      "2024/12/16 12:51:53  -ldsc format will be loaded...\n",
      "2024/12/16 12:51:53  -ldsc format meta info:\n",
      "2024/12/16 12:51:53   - format_name  : ldsc\n",
      "2024/12/16 12:51:53   - format_source  : https://github.com/bulik/ldsc/wiki/Summary-Statistics-File-Format\n",
      "2024/12/16 12:51:53   - format_source2  : https://github.com/bulik/ldsc/blob/master/munge_sumstats.py\n",
      "2024/12/16 12:51:53   - format_version  :  20150306\n",
      "2024/12/16 12:51:53  -gwaslab to ldsc format dictionary:\n",
      "2024/12/16 12:51:53   - gwaslab keys: rsID,NEA,EA,EAF,N,BETA,P,Z,INFO,OR,CHR,POS\n",
      "2024/12/16 12:51:53   - ldsc values: SNP,A2,A1,Frq,N,Beta,P,Z,INFO,OR,CHR,POS\n",
      "2024/12/16 12:51:53  -Output path: ./mysumstats.hapmap3.noMHC.ldsc.tsv.gz\n",
      "2024/12/16 12:51:53  -Output columns: CHR,POS,A1,A2,Frq,Beta,P,N,SNP\n",
      "2024/12/16 12:51:53  -Writing sumstats to: ./mysumstats.hapmap3.noMHC.ldsc.tsv.gz...\n",
      "2024/12/16 12:51:53  -Saving log file to: ./mysumstats.hapmap3.noMHC.ldsc.log\n",
      "2024/12/16 12:51:53 Finished outputting successfully!\n"
     ]
    }
   ],
   "source": [
    "mysumstats.to_format(\"./mysumstats\",fmt=\"ldsc\",hapmap3=True,exclude_hla=True)"
   ]
  },
  {
   "cell_type": "code",
   "execution_count": 14,
   "id": "31c947fd-8499-4aea-8358-938ce267f2b5",
   "metadata": {},
   "outputs": [
    {
     "name": "stdout",
     "output_type": "stream",
     "text": [
      "CHR\tPOS\tA1\tA2\tFrq\tBeta\tP\tN\tSNP\r\n",
      "1\t14900419\tG\tA\t0.3952\t0.0144\t1.3750e-01\t191764\trs6703840\r\n",
      "1\t19593199\tC\tT\t0.1323\t-0.0127\t3.2570e-01\t191764\trs7527253\r\n",
      "1\t35282297\tG\tA\t0.5434\t0.0041\t6.4190e-01\t191764\trs1407135\r\n",
      "1\t66001402\tC\tT\t0.2103\t-0.0148\t1.7720e-01\t191764\trs1171261\r\n",
      "1\t83510491\tG\tA\t0.0025\t0.0378\t6.9800e-01\t191764\trs2022427\r\n",
      "1\t166110693\tC\tT\t0.8627\t0.0286\t2.5250e-02\t191764\trs4656480\r\n",
      "1\t175886511\tG\tA\t0.1828\t-0.0141\t2.2480e-01\t191764\trs6656281\r\n",
      "1\t181612041\tC\tT\t0.9603\t0.0135\t5.5050e-01\t191764\trs199955\r\n",
      "1\t196329362\tC\tT\t0.0301\t0.0300\t2.5060e-01\t191764\trs11801881\r\n"
     ]
    }
   ],
   "source": [
    "!zcat ./mysumstats.hapmap3.noMHC.ldsc.tsv.gz | head"
   ]
  },
  {
   "cell_type": "markdown",
   "id": "20f2c297",
   "metadata": {},
   "source": [
    "### vcf"
   ]
  },
  {
   "cell_type": "markdown",
   "id": "a6cdcf20",
   "metadata": {},
   "source": [
    "- `bgzip` : if True, bgzip the output vcf/bed\n",
    "- `tabix` : if True, index the bgzipped file with tabix"
   ]
  },
  {
   "cell_type": "code",
   "execution_count": 15,
   "id": "7ddc3164",
   "metadata": {},
   "outputs": [
    {
     "name": "stdout",
     "output_type": "stream",
     "text": [
      "2024/12/16 12:51:53 Start to convert the output sumstats in:  vcf  format\n",
      "2024/12/16 12:51:53  -Formatting statistics ...\n",
      "2024/12/16 12:51:53  -Float statistics formats:\n",
      "2024/12/16 12:51:53   - Columns       : ['EAF', 'BETA', 'SE', 'P']\n",
      "2024/12/16 12:51:53   - Output formats: ['{:.4g}', '{:.4f}', '{:.4f}', '{:.4e}']\n",
      "2024/12/16 12:51:53  -Start outputting sumstats in vcf format...\n",
      "2024/12/16 12:51:53  -vcf format will be loaded...\n",
      "2024/12/16 12:51:53  -vcf format meta info:\n",
      "2024/12/16 12:51:53   - format_name  : vcf\n",
      "2024/12/16 12:51:53   - format_source  : https://github.com/MRCIEU/gwas-vcf-specification/tree/1.0.0\n",
      "2024/12/16 12:51:53   - format_version  :  20220923\n",
      "2024/12/16 12:51:53   - format_citation  : Lyon, M.S., Andrews, S.J., Elsworth, B. et al. The variant call format provides efficient and robust storage of GWAS summary statistics. Genome Biol 22, 32 (2021). https://doi.org/10.1186/s13059-020-02248-0\n",
      "2024/12/16 12:51:53   - format_fixed  : #CHROM,POS,ID,REF,ALT,QUAL,FILTER,INFO,FORMAT\n",
      "2024/12/16 12:51:53   - format_format  : ID,SS,ES,SE,LP,SI,EZ\n",
      "2024/12/16 12:51:53  -gwaslab to vcf format dictionary:\n",
      "2024/12/16 12:51:53   - gwaslab keys: rsID,CHR,POS,NEA,EA,N,EAF,BETA,SE,MLOG10P,INFO,Z\n",
      "2024/12/16 12:51:53   - vcf values: ID,#CHROM,POS,REF,ALT,SS,AF,ES,SE,LP,SI,EZ\n",
      "2024/12/16 12:51:53  -Creating VCF file header...\n",
      "2024/12/16 12:51:53   -VCF header contig build:19\n",
      "2024/12/16 12:51:54   -ID:Study_1\n",
      "2024/12/16 12:51:54   -StudyType:Unknown\n",
      "2024/12/16 12:51:54   -TotalVariants:1000\n",
      "2024/12/16 12:51:54   -HarmonisedVariants:0\n",
      "2024/12/16 12:51:54   -VariantsNotHarmonised:1000\n",
      "2024/12/16 12:51:54   -SwitchedAlleles:0\n",
      "2024/12/16 12:51:54  -Writing sumstats to: ./mysumstats.vcf...\n",
      "2024/12/16 12:51:54  -bgzip compressing : ./mysumstats.vcf.gz...\n",
      "2024/12/16 12:51:54  -tabix indexing : : ./mysumstats.vcf.gz.tbi...\n",
      "2024/12/16 12:51:54  -Saving log file to: ./mysumstats.vcf.log\n",
      "2024/12/16 12:51:54 Finished outputting successfully!\n"
     ]
    }
   ],
   "source": [
    "mysumstats.to_format(\"./mysumstats\",fmt=\"vcf\",bgzip=True,tabix=True)"
   ]
  },
  {
   "cell_type": "markdown",
   "id": "2cbfa9a8",
   "metadata": {},
   "source": [
    "### parquet"
   ]
  },
  {
   "cell_type": "code",
   "execution_count": 16,
   "id": "847d2b32",
   "metadata": {},
   "outputs": [
    {
     "name": "stdout",
     "output_type": "stream",
     "text": [
      "2024/12/16 12:51:54 Start to convert the output sumstats in:  gwaslab  format\n",
      "2024/12/16 12:51:54  -Formatting statistics ...\n",
      "2024/12/16 12:51:54  -Float statistics formats:\n",
      "2024/12/16 12:51:54   - Columns       : ['EAF', 'BETA', 'SE', 'P']\n",
      "2024/12/16 12:51:54   - Output formats: ['{:.4g}', '{:.4f}', '{:.4f}', '{:.4e}']\n",
      "2024/12/16 12:51:54  -Start outputting sumstats in gwaslab format...\n",
      "2024/12/16 12:51:54  -gwaslab format will be loaded...\n",
      "2024/12/16 12:51:54  -gwaslab format meta info:\n",
      "2024/12/16 12:51:54   - format_name  : gwaslab\n",
      "2024/12/16 12:51:54   - format_source  : https://cloufield.github.io/gwaslab/\n",
      "2024/12/16 12:51:54   - format_version  : 20231220_v4\n",
      "2024/12/16 12:51:54  -Output path: ./mysumstats.gwaslab.parquet\n",
      "2024/12/16 12:51:54  -Output columns: SNPID,CHR,POS,EA,NEA,EAF,BETA,SE,P,N,DIRECTION,STATUS\n",
      "2024/12/16 12:51:54  -Writing sumstats to: ./mysumstats.gwaslab.parquet...\n",
      "2024/12/16 12:51:54  -Saving log file to: ./mysumstats.gwaslab.log\n",
      "2024/12/16 12:51:54 Finished outputting successfully!\n"
     ]
    }
   ],
   "source": [
    "mysumstats.to_format(\"./mysumstats\",fmt=\"gwaslab\",tab_fmt=\"parquet\",to_tabular_kwargs={\"partition_cols\":[\"CHR\"]})"
   ]
  },
  {
   "cell_type": "markdown",
   "id": "a360ba8f",
   "metadata": {},
   "source": [
    "## For annotation"
   ]
  },
  {
   "cell_type": "markdown",
   "id": "0192b1ae",
   "metadata": {},
   "source": [
    "### convert to bed format"
   ]
  },
  {
   "cell_type": "code",
   "execution_count": 19,
   "id": "acc2d8cb",
   "metadata": {},
   "outputs": [
    {
     "name": "stdout",
     "output_type": "stream",
     "text": [
      "2024/12/16 12:52:22 Start to convert the output sumstats in:  bed  format\n",
      "2024/12/16 12:52:22  -Formatting statistics ...\n",
      "2024/12/16 12:52:22  -Float statistics formats:\n",
      "2024/12/16 12:52:22   - Columns       : ['EAF', 'BETA', 'SE', 'P']\n",
      "2024/12/16 12:52:22   - Output formats: ['{:.4g}', '{:.4f}', '{:.4f}', '{:.4e}']\n",
      "2024/12/16 12:52:22  -Start outputting sumstats in bed format...\n",
      "2024/12/16 12:52:22  -Number of SNPs : 0\n",
      "2024/12/16 12:52:22  -Number of Insertions : 0\n",
      "2024/12/16 12:52:22  -Number of Deletions : 0\n",
      "2024/12/16 12:52:22  -formatting to 0-based bed-like file...\n",
      "2024/12/16 12:52:22  -format description: https://genome.ucsc.edu/FAQ/FAQformat.html#format1\n",
      "2024/12/16 12:52:22  -Adjusting positions in format-specific manner..\n",
      "2024/12/16 12:52:22  -Output columns: CHR,START,END,NEA/EA,STRAND,SNPID\n",
      "2024/12/16 12:52:22  -Writing sumstats to: ./mysumstats.bed...\n",
      "2024/12/16 12:52:22  -Saving log file to: ./mysumstats.bed.log\n",
      "2024/12/16 12:52:22 Finished outputting successfully!\n"
     ]
    }
   ],
   "source": [
    "mysumstats.to_format(\"./mysumstats\",fmt=\"bed\")"
   ]
  },
  {
   "cell_type": "code",
   "execution_count": 20,
   "id": "4234b747-de03-4ae6-b3f9-0377df0782f1",
   "metadata": {},
   "outputs": [],
   "source": [
    "!cat mysumstats.bed | head"
   ]
  },
  {
   "cell_type": "markdown",
   "id": "027f04d4",
   "metadata": {},
   "source": [
    "### convert to vep default format"
   ]
  },
  {
   "cell_type": "code",
   "execution_count": 21,
   "id": "10d6e0bc",
   "metadata": {},
   "outputs": [
    {
     "name": "stdout",
     "output_type": "stream",
     "text": [
      "2024/12/16 12:52:22 Start to convert the output sumstats in:  vep  format\n",
      "2024/12/16 12:52:22  -Formatting statistics ...\n",
      "2024/12/16 12:52:22  -Float statistics formats:\n",
      "2024/12/16 12:52:22   - Columns       : ['EAF', 'BETA', 'SE', 'P']\n",
      "2024/12/16 12:52:22   - Output formats: ['{:.4g}', '{:.4f}', '{:.4f}', '{:.4e}']\n",
      "2024/12/16 12:52:22  -Start outputting sumstats in vep format...\n",
      "2024/12/16 12:52:22  -Number of SNPs : 0\n",
      "2024/12/16 12:52:22  -Number of Insertions : 0\n",
      "2024/12/16 12:52:22  -Number of Deletions : 0\n",
      "2024/12/16 12:52:22  -formatting to 1-based bed-like file (for vep)...\n",
      "2024/12/16 12:52:22  -format description: http://asia.ensembl.org/info/docs/tools/vep/vep_formats.html\n",
      "2024/12/16 12:52:22  -Adjusting positions in format-specific manner..\n",
      "2024/12/16 12:52:22  -Output columns: CHR,START,END,NEA/EA,STRAND,SNPID\n",
      "2024/12/16 12:52:22  -Writing sumstats to: ./mysumstats.vep...\n",
      "2024/12/16 12:52:22  -Saving log file to: ./mysumstats.vep.log\n",
      "2024/12/16 12:52:22 Finished outputting successfully!\n"
     ]
    }
   ],
   "source": [
    "mysumstats.to_format(\"./mysumstats\",fmt=\"vep\")"
   ]
  },
  {
   "cell_type": "code",
   "execution_count": 22,
   "id": "0237b9da-e592-4a5b-a8fd-bc06cce43a70",
   "metadata": {},
   "outputs": [],
   "source": [
    "!cat mysumstats.vep | head"
   ]
  },
  {
   "cell_type": "markdown",
   "id": "5aa3c522",
   "metadata": {},
   "source": [
    "### convert to annovar default input format"
   ]
  },
  {
   "cell_type": "code",
   "execution_count": 23,
   "id": "8c96349d",
   "metadata": {},
   "outputs": [
    {
     "name": "stdout",
     "output_type": "stream",
     "text": [
      "2024/12/16 12:52:22 Start to convert the output sumstats in:  annovar  format\n",
      "2024/12/16 12:52:22  -Formatting statistics ...\n",
      "2024/12/16 12:52:22  -Float statistics formats:\n",
      "2024/12/16 12:52:22   - Columns       : ['EAF', 'BETA', 'SE', 'P']\n",
      "2024/12/16 12:52:22   - Output formats: ['{:.4g}', '{:.4f}', '{:.4f}', '{:.4e}']\n",
      "2024/12/16 12:52:22  -Start outputting sumstats in annovar format...\n",
      "2024/12/16 12:52:22  -Number of SNPs : 0\n",
      "2024/12/16 12:52:22  -Number of Insertions : 0\n",
      "2024/12/16 12:52:22  -Number of Deletions : 0\n",
      "2024/12/16 12:52:22  -formatting to 1-based bed-like file...\n",
      "2024/12/16 12:52:22  -format description: https://annovar.openbioinformatics.org/en/latest/user-guide/input/\n",
      "2024/12/16 12:52:22  -Adjusting positions in format-specific manner..\n",
      "2024/12/16 12:52:22  -Output columns: CHR,START,END,NEA_out,EA_out,SNPID\n",
      "2024/12/16 12:52:22  -Writing sumstats to: ./mysumstats.annovar...\n",
      "2024/12/16 12:52:22  -Saving log file to: ./mysumstats.annovar.log\n",
      "2024/12/16 12:52:22 Finished outputting successfully!\n"
     ]
    }
   ],
   "source": [
    "mysumstats.to_format(\"./mysumstats\",fmt=\"annovar\")"
   ]
  },
  {
   "cell_type": "code",
   "execution_count": 24,
   "id": "e7406a88-f6a9-45a9-8426-08d943d2eaa8",
   "metadata": {},
   "outputs": [],
   "source": [
    "!cat mysumstats.annovar | head"
   ]
  },
  {
   "cell_type": "markdown",
   "id": "1349a798-8bac-4cbf-add4-4b78fac194bc",
   "metadata": {},
   "source": [
    "# Filter and then output"
   ]
  },
  {
   "cell_type": "code",
   "execution_count": 25,
   "id": "ea44a53e-6e1d-4f86-8c1e-5c1c8b77c7d1",
   "metadata": {},
   "outputs": [
    {
     "name": "stdout",
     "output_type": "stream",
     "text": [
      "2024/12/16 12:52:22 Start filtering values by condition: EAF >0.05 and EAF < 0.95\n",
      "2024/12/16 12:52:22  -Removing 0 variants not meeting the conditions: EAF >0.05 and EAF < 0.95\n",
      "2024/12/16 12:52:22 Finished filtering values.\n",
      "2024/12/16 12:52:22 Start to convert the output sumstats in:  ssf  format\n",
      "2024/12/16 12:52:22  -Formatting statistics ...\n",
      "2024/12/16 12:52:22  -Float statistics formats:\n",
      "2024/12/16 12:52:22   - Columns       : ['EAF', 'BETA', 'SE', 'P']\n",
      "2024/12/16 12:52:22   - Output formats: ['{:.4g}', '{:.4f}', '{:.4f}', '{:.4e}']\n",
      "2024/12/16 12:52:22  -Replacing SNPID separator from \":\" to \"_\"...\n",
      "2024/12/16 12:52:22  -Start outputting sumstats in ssf format...\n",
      "2024/12/16 12:52:22  -ssf format will be loaded...\n",
      "2024/12/16 12:52:22  -ssf format meta info:\n",
      "2024/12/16 12:52:22   - format_name  : ssf\n",
      "2024/12/16 12:52:22   - format_source  : https://www.biorxiv.org/content/10.1101/2022.07.15.500230v1.full\n",
      "2024/12/16 12:52:22   - format_cite_name  : GWAS-SSF v0.1\n",
      "2024/12/16 12:52:22   - format_separator  : \\t\n",
      "2024/12/16 12:52:22   - format_na  : #NA\n",
      "2024/12/16 12:52:22   - format_col_order  : chromosome,base_pair_location,effect_allele,other_allele,beta,odds_ratio,hazard_ratio,standard_error,effect_allele_frequency,p_value,neg_log_10_p_value,ci_upper,ci_lower,rsid,variant_id,info,ref_allele,n\n",
      "2024/12/16 12:52:22   - format_version  :  20230328\n",
      "2024/12/16 12:52:22  -gwaslab to ssf format dictionary:\n",
      "2024/12/16 12:52:22   - gwaslab keys: SNPID,rsID,CHR,POS,NEA,EA,EAF,N,BETA,SE,P,MLOG10P,INFO,OR,HR,OR_95L,OR_95U\n",
      "2024/12/16 12:52:22   - ssf values: variant_id,rsid,chromosome,base_pair_location,other_allele,effect_allele,effect_allele_frequency,n,beta,standard_error,p_value,neg_log_10_p_value,info,odds_ratio,hazard_ratio,ci_lower,ci_upper\n",
      "2024/12/16 12:52:22  -Output path: ./mysumstats_maf005.ssf.tsv.gz\n",
      "2024/12/16 12:52:22  -Output columns: chromosome,base_pair_location,effect_allele,other_allele,beta,standard_error,effect_allele_frequency,p_value,variant_id,n\n",
      "2024/12/16 12:52:22  -Writing sumstats to: ./mysumstats_maf005.ssf.tsv.gz...\n",
      "2024/12/16 12:52:22  -md5sum hashing for the file: ./mysumstats_maf005.ssf.tsv.gz\n",
      "2024/12/16 12:52:22  -md5sum path: ./mysumstats_maf005.ssf.tsv.gz.md5sum\n",
      "2024/12/16 12:52:22  -md5sum: 29a70b96f9e8aeda2ca2036d05339862\n",
      "2024/12/16 12:52:22  -Exporting SSF-style meta data to ./mysumstats_maf005.ssf.tsv.gz.ssf.tsv-meta.yaml\n",
      "2024/12/16 12:52:22  -Saving log file to: ./mysumstats_maf005.ssf.log\n",
      "2024/12/16 12:52:22 Finished outputting successfully!\n"
     ]
    }
   ],
   "source": [
    "mysumstats.filter_value(\"EAF >0.05 and EAF < 0.95\").to_format(\"./mysumstats_maf005\", fmt=\"ssf\", ssfmeta=True, md5sum=True)"
   ]
  },
  {
   "cell_type": "code",
   "execution_count": null,
   "id": "a48fc8a4",
   "metadata": {},
   "outputs": [],
   "source": []
  }
 ],
 "metadata": {
  "kernelspec": {
   "display_name": "Python 3 (ipykernel)",
   "language": "python",
   "name": "python3"
  },
  "language_info": {
   "codemirror_mode": {
    "name": "ipython",
    "version": 3
   },
   "file_extension": ".py",
   "mimetype": "text/x-python",
   "name": "python",
   "nbconvert_exporter": "python",
   "pygments_lexer": "ipython3",
   "version": "3.9.18"
  },
  "toc": {
   "base_numbering": 1,
   "nav_menu": {},
   "number_sections": true,
   "sideBar": true,
   "skip_h1_title": false,
   "title_cell": "Table of Contents",
   "title_sidebar": "Contents",
   "toc_cell": false,
   "toc_position": {},
   "toc_section_display": true,
   "toc_window_display": true
  }
 },
 "nbformat": 4,
 "nbformat_minor": 5
}
