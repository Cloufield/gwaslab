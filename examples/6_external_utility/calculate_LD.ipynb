{
 "cells": [
  {
   "cell_type": "code",
   "execution_count": 1,
   "id": "e746a641",
   "metadata": {},
   "outputs": [],
   "source": [
    "import sys\n",
    "sys.path.insert(0,\"/home/yunye/work/gwaslab/src\")\n",
    "import gwaslab as gl"
   ]
  },
  {
   "cell_type": "code",
   "execution_count": 2,
   "id": "5bc80781",
   "metadata": {},
   "outputs": [
    {
     "name": "stdout",
     "output_type": "stream",
     "text": [
      "2024/06/25 14:13:50 GWASLab v3.4.46 https://cloufield.github.io/gwaslab/\n",
      "2024/06/25 14:13:50 (C) 2022-2024, Yunye He, Kamatani Lab, MIT License, gwaslab@gmail.com\n",
      "2024/06/25 14:13:50 Start to initialize gl.Sumstats from file :t2d_bbj.txt.gz\n",
      "2024/06/25 14:13:51  -Reading columns          : BETA,SE,SNP,CHR,ALT,P,POS,REF\n",
      "2024/06/25 14:13:51  -Renaming columns to      : BETA,SE,SNPID,CHR,NEA,P,POS,EA\n",
      "2024/06/25 14:13:51  -Current Dataframe shape : 1000000  x  8\n",
      "2024/06/25 14:13:51  -Initiating a status column: STATUS ...\n",
      "2024/06/25 14:13:51  #WARNING! Version of genomic coordinates is unknown...\n",
      "2024/06/25 14:13:52 Start to reorder the columns...v3.4.46\n",
      "2024/06/25 14:13:52  -Current Dataframe shape : 1000000 x 9 ; Memory usage: 73.73 MB\n",
      "2024/06/25 14:13:52  -Reordering columns to    : SNPID,CHR,POS,EA,NEA,BETA,SE,P,STATUS\n",
      "2024/06/25 14:13:52 Finished reordering the columns.\n",
      "2024/06/25 14:13:52  -Column  : SNPID  CHR    POS   EA       NEA      BETA    SE      P       STATUS  \n",
      "2024/06/25 14:13:52  -DType   : object string int64 category category float64 float64 float64 category\n",
      "2024/06/25 14:13:52  -Verified: T      F      T     T        T        T       T       T       T       \n",
      "2024/06/25 14:13:52  #WARNING! Columns with possibly incompatible dtypes: CHR\n",
      "2024/06/25 14:13:52  -Current Dataframe memory usage: 73.73 MB\n",
      "2024/06/25 14:13:52 Finished loading data successfully!\n"
     ]
    }
   ],
   "source": [
    "mysumstats = gl.Sumstats(\"t2d_bbj.txt.gz\",\n",
    "             snpid=\"SNP\",\n",
    "             ea=\"REF\",\n",
    "             nea=\"ALT\",\n",
    "             chrom=\"CHR\",\n",
    "             pos=\"POS\",\n",
    "             beta=\"BETA\",\n",
    "             se=\"SE\",\n",
    "             p=\"P\",\n",
    "             nrows=1000000)"
   ]
  },
  {
   "cell_type": "code",
   "execution_count": 3,
   "id": "902d8d20",
   "metadata": {},
   "outputs": [
    {
     "name": "stdout",
     "output_type": "stream",
     "text": [
      "2024/06/25 14:13:52 Start to check SNPID/rsID...v3.4.46\n",
      "2024/06/25 14:13:52  -Current Dataframe shape : 1000000 x 9 ; Memory usage: 73.73 MB\n",
      "2024/06/25 14:13:52  -Checking SNPID data type...\n",
      "2024/06/25 14:13:52  -Converting SNPID to pd.string data type...\n",
      "2024/06/25 14:13:52  -Checking if SNPID is CHR:POS:NEA:EA...(separator: - ,: , _)\n",
      "2024/06/25 14:13:53  -Replacing [_-] in SNPID with \":\" ...\n",
      "2024/06/25 14:13:54 Finished checking SNPID/rsID.\n"
     ]
    }
   ],
   "source": [
    "mysumstats.fix_id(fixsep=True)"
   ]
  },
  {
   "cell_type": "code",
   "execution_count": 4,
   "id": "81037b1c",
   "metadata": {},
   "outputs": [
    {
     "name": "stdout",
     "output_type": "stream",
     "text": [
      "2024/06/25 14:13:54 Start to check SNPID/rsID...v3.4.46\n",
      "2024/06/25 14:13:54  -Current Dataframe shape : 1000000 x 9 ; Memory usage: 73.73 MB\n",
      "2024/06/25 14:13:54  -Checking SNPID data type...\n",
      "2024/06/25 14:13:54  -Checking if SNPID is CHR:POS:NEA:EA...(separator: - ,: , _)\n",
      "2024/06/25 14:13:55 Finished checking SNPID/rsID.\n",
      "2024/06/25 14:13:55 Start to fix chromosome notation (CHR)...v3.4.46\n",
      "2024/06/25 14:13:55  -Current Dataframe shape : 1000000 x 9 ; Memory usage: 73.73 MB\n",
      "2024/06/25 14:13:55  -Checking CHR data type...\n",
      "2024/06/25 14:13:55  -Variants with standardized chromosome notation: 1000000\n",
      "2024/06/25 14:13:55  -All CHR are already fixed...\n",
      "2024/06/25 14:13:56 Finished fixing chromosome notation (CHR).\n",
      "2024/06/25 14:13:56 Start to fix basepair positions (POS)...v3.4.46\n",
      "2024/06/25 14:13:56  -Current Dataframe shape : 1000000 x 9 ; Memory usage: 74.68 MB\n",
      "2024/06/25 14:13:56  -Converting to Int64 data type ...\n",
      "2024/06/25 14:13:57  -Position bound:(0 , 250,000,000)\n",
      "2024/06/25 14:13:58  -Removed outliers: 0\n",
      "2024/06/25 14:13:58 Finished fixing basepair positions (POS).\n",
      "2024/06/25 14:13:58 Start to fix alleles (EA and NEA)...v3.4.46\n",
      "2024/06/25 14:13:58  -Current Dataframe shape : 1000000 x 9 ; Memory usage: 83.27 MB\n",
      "2024/06/25 14:13:58  -Converted all bases to string datatype and UPPERCASE.\n",
      "2024/06/25 14:13:58  -Variants with bad EA  : 0\n",
      "2024/06/25 14:13:58  -Variants with bad NEA : 0\n",
      "2024/06/25 14:13:58  -Variants with NA for EA or NEA: 0\n",
      "2024/06/25 14:13:58  -Variants with same EA and NEA: 0\n",
      "2024/06/25 14:13:58  -Detected 0 variants with alleles that contain bases other than A/C/T/G .\n",
      "2024/06/25 14:14:00 Finished fixing alleles (EA and NEA).\n",
      "2024/06/25 14:14:00 Start to perform sanity check for statistics...v3.4.46\n",
      "2024/06/25 14:14:00  -Current Dataframe shape : 1000000 x 9 ; Memory usage: 83.52 MB\n",
      "2024/06/25 14:14:00  -Comparison tolerance for floats: 1e-07\n",
      "2024/06/25 14:14:00  -Checking if -1e-07 < P < 1.0000001 ...\n",
      "2024/06/25 14:14:00  -Removed 0 variants with bad/na P.\n",
      "2024/06/25 14:14:00  -Checking if -100.0000001 < BETA < 100.0000001 ...\n",
      "2024/06/25 14:14:00  -Removed 0 variants with bad/na BETA.\n",
      "2024/06/25 14:14:00  -Checking if -1e-07 < SE < inf ...\n",
      "2024/06/25 14:14:00  -Removed 0 variants with bad/na SE.\n",
      "2024/06/25 14:14:00  -Checking STATUS and converting STATUS to categories....\n",
      "2024/06/25 14:14:00  -Removed 0 variants with bad statistics in total.\n",
      "2024/06/25 14:14:00  -Data types for each column:\n",
      "2024/06/25 14:14:00  -Column  : SNPID  CHR   POS   EA       NEA      BETA    SE      P       STATUS  \n",
      "2024/06/25 14:14:00  -DType   : string Int64 Int64 category category float64 float64 float64 category\n",
      "2024/06/25 14:14:00  -Verified: T      T     T     T        T        T       T       T       T       \n",
      "2024/06/25 14:14:00 Finished sanity check for statistics.\n",
      "2024/06/25 14:14:00 Start to check data consistency across columns...v3.4.46\n",
      "2024/06/25 14:14:00  -Current Dataframe shape : 1000000 x 9 ; Memory usage: 83.52 MB\n",
      "2024/06/25 14:14:00  -Tolerance: 0.001 (Relative) and 0.001 (Absolute)\n",
      "2024/06/25 14:14:00  -Checking if BETA/SE-derived-P is consistent with P...\n",
      "2024/06/25 14:14:01   -Not consistent: 185835 variant(s)\n",
      "2024/06/25 14:14:01   -Variant SNPID with max difference: 1:18885736:C:A with 0.005762040180908534\n",
      "2024/06/25 14:14:01  -Note: if the max difference is greater than expected, please check your original sumstats.\n",
      "2024/06/25 14:14:01 Finished checking data consistency across columns.\n",
      "2024/06/25 14:14:01 Start to normalize indels...v3.4.46\n",
      "2024/06/25 14:14:01  -Current Dataframe shape : 1000000 x 9 ; Memory usage: 115.77 MB\n",
      "2024/06/25 14:14:02  -No available variants to normalize..\n",
      "2024/06/25 14:14:02 Finished normalizing variants successfully!\n",
      "2024/06/25 14:14:02 Start to sort the genome coordinates...v3.4.46\n",
      "2024/06/25 14:14:02  -Current Dataframe shape : 1000000 x 9 ; Memory usage: 115.77 MB\n",
      "2024/06/25 14:14:02 Finished sorting coordinates.\n",
      "2024/06/25 14:14:02 Start to reorder the columns...v3.4.46\n",
      "2024/06/25 14:14:02  -Current Dataframe shape : 1000000 x 9 ; Memory usage: 75.89 MB\n",
      "2024/06/25 14:14:02  -Reordering columns to    : SNPID,CHR,POS,EA,NEA,BETA,SE,P,STATUS\n",
      "2024/06/25 14:14:02 Finished reordering the columns.\n"
     ]
    }
   ],
   "source": [
    "mysumstats.basic_check()"
   ]
  },
  {
   "cell_type": "code",
   "execution_count": 5,
   "id": "37d0ba36",
   "metadata": {
    "scrolled": false
   },
   "outputs": [
    {
     "name": "stdout",
     "output_type": "stream",
     "text": [
      "2024/06/25 14:14:02 Start to calculate LD matrix...v3.4.46\n",
      "2024/06/25 14:14:02  -Current Dataframe shape : 1000000 x 9 ; Memory usage: 75.89 MB\n",
      "2024/06/25 14:14:02  -Loci were not provided. All significant loci will be automatically extracted...\n",
      "2024/06/25 14:14:02 Start to extract lead variants...v3.4.46\n",
      "2024/06/25 14:14:02  -Current Dataframe shape : 1000000 x 9 ; Memory usage: 75.89 MB\n",
      "2024/06/25 14:14:02  -Processing 1000000 variants...\n",
      "2024/06/25 14:14:02  -Significance threshold : 5e-08\n",
      "2024/06/25 14:14:02  -Sliding window size: 1000  kb\n",
      "2024/06/25 14:14:02  -Using P for extracting lead variants...\n",
      "2024/06/25 14:14:02  -Found 543 significant variants in total...\n",
      "2024/06/25 14:14:02  -Identified 4 lead variants!\n",
      "2024/06/25 14:14:02 Finished extracting lead variants.\n",
      "2024/06/25 14:14:02  -plink1.9 path: /home/yunye/tools/bin/plink\n",
      "2024/06/25 14:14:02  -plink2 path: /home/yunye/tools/bin/plink2\n",
      "2024/06/25 14:14:02  -Dropping duplicated SNPIDs...\n",
      "2024/06/25 14:14:02  -Locus #1---------------------------------------------------------------\n",
      "2024/06/25 14:14:02  -Processing locus with lead variant 1:22068326:A:G at CHR 1 POS 22068326 ...\n",
      "2024/06/25 14:14:02  -Processing VCF : /home/yunye/.gwaslab/EAS.ALL.split_norm_af.1kgp3v5.hg19.vcf.gz...\n",
      "2024/06/25 14:14:02  -PLINK version: PLINK v2.00a5.9LM AVX2 AMD (12 Dec 2023)\n",
      "2024/06/25 14:14:02   -Processing VCF for CHR 1...\n",
      "2024/06/25 14:14:02   -Plink bfile for CHR 1 exists: /home/yunye/.gwaslab/EAS.ALL.split_norm_af.1kgp3v5.hg19.1. Skipping...\n",
      "2024/06/25 14:14:06    -Variants in ref file: 6471908\n",
      "2024/06/25 14:14:06    -Variants in locus (1:22068326:A:G): 8867\n",
      "2024/06/25 14:14:09    -Variants with perfect matched alleles:5253\n",
      "2024/06/25 14:14:09    -Variants with flipped alleles:3611\n",
      "2024/06/25 14:14:09    -Total Variants matched:8864\n",
      "2024/06/25 14:14:09    -Flipping BETA for variants with flipped alleles...\n",
      "2024/06/25 14:14:09  -Exporting SNP list of 8864  to: ./Study_1_1:22068326:A:G_1000.snplist.raw...\n",
      "2024/06/25 14:14:09  -Exporting locus sumstats to: ./Study_1_1:22068326:A:G_1000.sumstats.gz...\n",
      "2024/06/25 14:14:09  -Exported columns: ['SNPID', 'CHR', 'POS', 'EA_bim', 'NEA_bim', 'BETA', 'SE']...\n",
      "2024/06/25 14:14:09  -Start to calculate LD r matrix...\n",
      "2024/06/25 14:14:09  -PLINK version: PLINK v1.90b7.2 64-bit (11 Dec 2023)\n",
      "2024/06/25 14:14:43  -Finished calculating LD r for locus with lead variant 1:22068326:A:G at CHR 1 POS 22068326...\n",
      "2024/06/25 14:14:43  -Sumstats SNPID order and LD matrix SNPID order are matched.\n",
      "2024/06/25 14:14:43  -Locus #2---------------------------------------------------------------\n",
      "2024/06/25 14:14:43  -Processing locus with lead variant 1:51103268:T:C at CHR 1 POS 51103268 ...\n",
      "2024/06/25 14:14:43  -Processing VCF : /home/yunye/.gwaslab/EAS.ALL.split_norm_af.1kgp3v5.hg19.vcf.gz...\n",
      "2024/06/25 14:14:43  -PLINK version: PLINK v2.00a5.9LM AVX2 AMD (12 Dec 2023)\n",
      "2024/06/25 14:14:43   -Processing VCF for CHR 1...\n",
      "2024/06/25 14:14:43   -Plink bfile for CHR 1 exists: /home/yunye/.gwaslab/EAS.ALL.split_norm_af.1kgp3v5.hg19.1. Skipping...\n",
      "2024/06/25 14:14:46    -Variants in ref file: 6471908\n",
      "2024/06/25 14:14:46    -Variants in locus (1:51103268:T:C): 4545\n",
      "2024/06/25 14:14:49    -Variants with perfect matched alleles:2406\n",
      "2024/06/25 14:14:49    -Variants with flipped alleles:2139\n",
      "2024/06/25 14:14:49    -Total Variants matched:4545\n",
      "2024/06/25 14:14:49    -Flipping BETA for variants with flipped alleles...\n",
      "2024/06/25 14:14:49  -Exporting SNP list of 4545  to: ./Study_1_1:51103268:T:C_1000.snplist.raw...\n",
      "2024/06/25 14:14:49  -Exporting locus sumstats to: ./Study_1_1:51103268:T:C_1000.sumstats.gz...\n",
      "2024/06/25 14:14:49  -Exported columns: ['SNPID', 'CHR', 'POS', 'EA_bim', 'NEA_bim', 'BETA', 'SE']...\n",
      "2024/06/25 14:14:49  -Start to calculate LD r matrix...\n",
      "2024/06/25 14:14:49  -PLINK version: PLINK v1.90b7.2 64-bit (11 Dec 2023)\n",
      "2024/06/25 14:14:58  -Finished calculating LD r for locus with lead variant 1:51103268:T:C at CHR 1 POS 51103268...\n",
      "2024/06/25 14:14:58  -Sumstats SNPID order and LD matrix SNPID order are matched.\n",
      "2024/06/25 14:14:58  -Locus #3---------------------------------------------------------------\n",
      "2024/06/25 14:14:58  -Processing locus with lead variant 1:154309595:TA:T at CHR 1 POS 154309595 ...\n",
      "2024/06/25 14:14:58  -Processing VCF : /home/yunye/.gwaslab/EAS.ALL.split_norm_af.1kgp3v5.hg19.vcf.gz...\n",
      "2024/06/25 14:14:58  -PLINK version: PLINK v2.00a5.9LM AVX2 AMD (12 Dec 2023)\n",
      "2024/06/25 14:14:58   -Processing VCF for CHR 1...\n",
      "2024/06/25 14:14:58   -Plink bfile for CHR 1 exists: /home/yunye/.gwaslab/EAS.ALL.split_norm_af.1kgp3v5.hg19.1. Skipping...\n",
      "2024/06/25 14:15:01    -Variants in ref file: 6471908\n",
      "2024/06/25 14:15:01    -Variants in locus (1:154309595:TA:T): 5737\n",
      "2024/06/25 14:15:04    -Variants with perfect matched alleles:3312\n",
      "2024/06/25 14:15:04    -Variants with flipped alleles:2420\n",
      "2024/06/25 14:15:04    -Total Variants matched:5732\n",
      "2024/06/25 14:15:04    -Flipping BETA for variants with flipped alleles...\n",
      "2024/06/25 14:15:04  -Exporting SNP list of 5732  to: ./Study_1_1:154309595:TA:T_1000.snplist.raw...\n",
      "2024/06/25 14:15:04  -Exporting locus sumstats to: ./Study_1_1:154309595:TA:T_1000.sumstats.gz...\n",
      "2024/06/25 14:15:04  -Exported columns: ['SNPID', 'CHR', 'POS', 'EA_bim', 'NEA_bim', 'BETA', 'SE']...\n",
      "2024/06/25 14:15:04  -Start to calculate LD r matrix...\n",
      "2024/06/25 14:15:04  -PLINK version: PLINK v1.90b7.2 64-bit (11 Dec 2023)\n",
      "2024/06/25 14:15:19  -Finished calculating LD r for locus with lead variant 1:154309595:TA:T at CHR 1 POS 154309595...\n",
      "2024/06/25 14:15:19  -Sumstats SNPID order and LD matrix SNPID order are matched.\n",
      "2024/06/25 14:15:19  -Locus #4---------------------------------------------------------------\n",
      "2024/06/25 14:15:19  -Processing locus with lead variant 2:640986:CACAT:C at CHR 2 POS 640986 ...\n",
      "2024/06/25 14:15:19  -Processing VCF : /home/yunye/.gwaslab/EAS.ALL.split_norm_af.1kgp3v5.hg19.vcf.gz...\n",
      "2024/06/25 14:15:19  -PLINK version: PLINK v2.00a5.9LM AVX2 AMD (12 Dec 2023)\n",
      "2024/06/25 14:15:19   -Processing VCF for CHR 2...\n",
      "2024/06/25 14:15:19   -Plink bfile for CHR 2 exists: /home/yunye/.gwaslab/EAS.ALL.split_norm_af.1kgp3v5.hg19.2. Skipping...\n",
      "2024/06/25 14:15:22    -Variants in ref file: 7085912\n",
      "2024/06/25 14:15:22    -Variants in locus (2:640986:CACAT:C): 9584\n",
      "2024/06/25 14:15:26    -Variants with perfect matched alleles:5424\n",
      "2024/06/25 14:15:26    -Variants with flipped alleles:4160\n",
      "2024/06/25 14:15:26    -Total Variants matched:9584\n",
      "2024/06/25 14:15:26    -Flipping BETA for variants with flipped alleles...\n",
      "2024/06/25 14:15:26  -Exporting SNP list of 9584  to: ./Study_1_2:640986:CACAT:C_1000.snplist.raw...\n",
      "2024/06/25 14:15:26  -Exporting locus sumstats to: ./Study_1_2:640986:CACAT:C_1000.sumstats.gz...\n",
      "2024/06/25 14:15:26  -Exported columns: ['SNPID', 'CHR', 'POS', 'EA_bim', 'NEA_bim', 'BETA', 'SE']...\n",
      "2024/06/25 14:15:26  -Start to calculate LD r matrix...\n",
      "2024/06/25 14:15:26  -PLINK version: PLINK v1.90b7.2 64-bit (11 Dec 2023)\n",
      "2024/06/25 14:16:05  -Finished calculating LD r for locus with lead variant 2:640986:CACAT:C at CHR 2 POS 640986...\n",
      "2024/06/25 14:16:05  -Sumstats SNPID order and LD matrix SNPID order are matched.\n",
      "2024/06/25 14:16:05  -File list is saved to: ./Study_1_4loci_1000kb.filelist\n",
      "2024/06/25 14:16:05  -Finished LD matrix calculation.\n",
      "2024/06/25 14:16:05 Finished calculating LD matrix.\n"
     ]
    }
   ],
   "source": [
    "mysumstats.calculate_ld_matrix( plink=\"/home/yunye/tools/bin/plink\", \n",
    "                                plink2=\"/home/yunye/tools/bin/plink2\",\n",
    "                                vcf = gl.get_path(\"1kg_eas_hg19\"))"
   ]
  },
  {
   "cell_type": "code",
   "execution_count": null,
   "id": "7920422b",
   "metadata": {},
   "outputs": [],
   "source": []
  }
 ],
 "metadata": {
  "kernelspec": {
   "display_name": "Python 3 (ipykernel)",
   "language": "python",
   "name": "python3"
  },
  "language_info": {
   "codemirror_mode": {
    "name": "ipython",
    "version": 3
   },
   "file_extension": ".py",
   "mimetype": "text/x-python",
   "name": "python",
   "nbconvert_exporter": "python",
   "pygments_lexer": "ipython3",
   "version": "3.9.18"
  },
  "toc": {
   "base_numbering": 1,
   "nav_menu": {},
   "number_sections": true,
   "sideBar": true,
   "skip_h1_title": false,
   "title_cell": "Table of Contents",
   "title_sidebar": "Contents",
   "toc_cell": false,
   "toc_position": {},
   "toc_section_display": true,
   "toc_window_display": false
  }
 },
 "nbformat": 4,
 "nbformat_minor": 5
}
