{
 "cells": [
  {
   "cell_type": "code",
   "execution_count": null,
   "id": "480b56be",
   "metadata": {},
   "outputs": [],
   "source": [
    "!wget -O t2d_bbj.txt.gz http://jenger.riken.jp/14/"
   ]
  },
  {
   "cell_type": "code",
   "execution_count": 1,
   "id": "2ef3d03c",
   "metadata": {},
   "outputs": [],
   "source": [
    "import sys\n",
    "sys.path.insert(0,\"/home/yunye/gwaslab/gwaslab/src\")\n",
    "import gwaslab as gl"
   ]
  },
  {
   "cell_type": "code",
   "execution_count": 2,
   "id": "b77b4a39",
   "metadata": {},
   "outputs": [
    {
     "name": "stdout",
     "output_type": "stream",
     "text": [
      "Thu Sep 22 23:34:14 2022 Start to initiate from file :t2d_bbj.txt.gz\n",
      "Thu Sep 22 23:34:31 2022  -Reading columns          : Frq,SE,REF,Dir,BETA,SNP,P,POS,CHR,ALT,N\n",
      "Thu Sep 22 23:34:31 2022  -Renaming columns to      : EAF,SE,NEA,DIRECTION,BETA,SNPID,P,POS,CHR,EA,N\n",
      "Thu Sep 22 23:34:31 2022  -Current dataframe shape  : Rows  12557761  x  11  Columns\n",
      "Thu Sep 22 23:34:32 2022  -Initiating a status column ...\n",
      "Thu Sep 22 23:34:33 2022  -Reordering columns to    : SNPID,CHR,POS,EA,NEA,EAF,BETA,SE,P,N,DIRECTION,STATUS\n",
      "Thu Sep 22 23:34:34 2022  -NEAF is specified...\n",
      "Thu Sep 22 23:34:34 2022  -Checking if 0<= NEAF <=1 ...\n",
      "Thu Sep 22 23:34:36 2022  -Converted NEAF to EAF.\n",
      "Thu Sep 22 23:34:36 2022  -Removed 0 variants with bad NEAF.\n",
      "Thu Sep 22 23:34:36 2022 Finished loading data successfully!\n"
     ]
    }
   ],
   "source": [
    "mysumstats = gl.Sumstats(\"t2d_bbj.txt.gz\",\n",
    "             snpid=\"SNP\",\n",
    "             chrom=\"CHR\",\n",
    "             pos=\"POS\",\n",
    "             ea=\"ALT\",\n",
    "             nea=\"REF\",\n",
    "             neaf=\"Frq\",\n",
    "             beta=\"BETA\",\n",
    "             se=\"SE\",\n",
    "             p=\"P\",\n",
    "             direction=\"Dir\",\n",
    "             n=\"N\")"
   ]
  },
  {
   "cell_type": "code",
   "execution_count": 3,
   "id": "19b83b9e",
   "metadata": {},
   "outputs": [
    {
     "name": "stdout",
     "output_type": "stream",
     "text": [
      "Thu Sep 22 23:34:36 2022 Start filtering values:\n",
      "Thu Sep 22 23:34:37 2022  -Keeping 833422 variants with CHR = 6 ...\n",
      "Thu Sep 22 23:34:37 2022 Finished filtering values.\n",
      "Thu Sep 22 23:34:38 2022 Start to check IDs...\n",
      "Thu Sep 22 23:34:38 2022  -Current Dataframe shape : 833422  x  12\n",
      "Thu Sep 22 23:34:38 2022  -Checking if SNPID is chr:pos:ref:alt...(separator: - ,: , _)\n",
      "Thu Sep 22 23:34:39 2022 Finished checking IDs successfully!\n",
      "Thu Sep 22 23:34:39 2022 Start to fix chromosome notation...\n",
      "Thu Sep 22 23:34:39 2022  -Current Dataframe shape : 833422  x  12\n",
      "Thu Sep 22 23:34:41 2022  -All CHR are already fixed...\n",
      "Thu Sep 22 23:34:42 2022 Finished fixing chromosome notation successfully!\n",
      "Thu Sep 22 23:34:42 2022 Start to fix basepair positions...\n",
      "Thu Sep 22 23:34:42 2022  -Current Dataframe shape : 833422  x  12\n",
      "Thu Sep 22 23:34:43 2022  -Position upper_bound is: 250,000,000\n",
      "Thu Sep 22 23:34:44 2022  -Remove outliers: 0\n",
      "Thu Sep 22 23:34:44 2022  -Converted all position to datatype Int64.\n",
      "Thu Sep 22 23:34:44 2022 Finished fixing basepair position successfully!\n",
      "Thu Sep 22 23:34:44 2022 Start to fix alleles...\n",
      "Thu Sep 22 23:34:44 2022  -Current Dataframe shape : 833422  x  12\n",
      "Thu Sep 22 23:34:45 2022  -Converted all bases to string datatype and UPPERCASE.\n",
      "Thu Sep 22 23:34:45 2022 Finished fixing allele successfully!\n",
      "Thu Sep 22 23:34:45 2022 Start sanity check for statistics ...\n",
      "Thu Sep 22 23:34:45 2022  -Current Dataframe shape : 833422  x  12\n",
      "Thu Sep 22 23:34:45 2022  -Checking if N is Int64 and N>0 ...\n",
      "Thu Sep 22 23:34:45 2022  -Removed 0 variants with bad N.\n",
      "Thu Sep 22 23:34:45 2022  -Checking if 0<= EAF <=1 ...\n",
      "Thu Sep 22 23:34:46 2022  -Removed 0 variants with bad EAF.\n",
      "Thu Sep 22 23:34:46 2022  -Checking if MAC >=5 ...\n",
      "Thu Sep 22 23:34:46 2022  -Removed 0 variants with bad MAC.\n",
      "Thu Sep 22 23:34:46 2022  -Checking if 0< P <5e-300 ...\n",
      "Thu Sep 22 23:34:46 2022  -Removed 0 variants with bad P.\n",
      "Thu Sep 22 23:34:46 2022  -Checking if abs(BETA)<10 ...\n",
      "Thu Sep 22 23:34:46 2022  -Removed 0 variants with bad BETA.\n",
      "Thu Sep 22 23:34:46 2022  -Checking if SE >0 ...\n",
      "Thu Sep 22 23:34:46 2022  -Removed 0 variants with bad SE.\n",
      "Thu Sep 22 23:34:46 2022  -Checking STATUS...\n",
      "Thu Sep 22 23:34:46 2022  -Coverting STAUTUS to category.\n",
      "Thu Sep 22 23:34:46 2022  -Removed 0 variants with bad statistics in total.\n",
      "Thu Sep 22 23:34:46 2022 Finished sanity check successfully!\n",
      "Thu Sep 22 23:34:46 2022 Start to normalize variants...\n",
      "Thu Sep 22 23:34:46 2022  -Current Dataframe shape : 833422  x  12\n",
      "Thu Sep 22 23:34:47 2022  -No available variants to normalize..\n",
      "Thu Sep 22 23:34:47 2022 Finished normalizing variants successfully!\n"
     ]
    }
   ],
   "source": [
    "mysumstats.filter_in(eq={\"CHR\":\"6\"})\n",
    "mysumstats.basic_check()"
   ]
  },
  {
   "cell_type": "code",
   "execution_count": 4,
   "id": "0a7af327",
   "metadata": {},
   "outputs": [
    {
     "name": "stdout",
     "output_type": "stream",
     "text": [
      "Thu Sep 22 23:34:47 2022 Start to format the output sumstats in:  annovar  format\n",
      "Thu Sep 22 23:34:47 2022  -Formatting statistics ...\n",
      "Thu Sep 22 23:34:48 2022  - Float statistics formats:\n",
      "Thu Sep 22 23:34:48 2022   - Columns: ['EAF', 'BETA', 'SE', 'P']\n",
      "Thu Sep 22 23:34:48 2022   - Output formats: ['{:.4g}', '{:.4f}', '{:.4f}', '{:.4e}']\n",
      "Thu Sep 22 23:34:48 2022  - Start outputting sumstats in annovar format...\n",
      "Thu Sep 22 23:34:48 2022  -Number of SNPs : 757588\n",
      "Thu Sep 22 23:34:48 2022  -Number of Insertions : 52621\n",
      "Thu Sep 22 23:34:48 2022  -Number of Deletions : 23213\n",
      "Thu Sep 22 23:34:48 2022  -formatting to 1-based bed-like file...\n",
      "Thu Sep 22 23:34:48 2022  -Output columns: Index(['CHR', 'START', 'END', 'NEA_out', 'EA_out', 'SNPID'], dtype='object')\n",
      "Thu Sep 22 23:34:48 2022  -Output path: ./mysumstats.annovar\n",
      "Thu Sep 22 23:34:50 2022  -Saving log file: ./mysumstats.annovar.log\n",
      "Thu Sep 22 23:34:50 2022 Finished outputting successfully!\n"
     ]
    }
   ],
   "source": [
    "mysumstats.to_format(\"./mysumstats\",fmt=\"annovar\")"
   ]
  },
  {
   "cell_type": "code",
   "execution_count": 5,
   "id": "158d4443",
   "metadata": {},
   "outputs": [
    {
     "name": "stdout",
     "output_type": "stream",
     "text": [
      "Thu Sep 22 23:34:50 2022 Start to format the output sumstats in:  ssf  format\n",
      "Thu Sep 22 23:34:50 2022  -Formatting statistics ...\n",
      "Thu Sep 22 23:34:51 2022  - Float statistics formats:\n",
      "Thu Sep 22 23:34:51 2022   - Columns: ['EAF', 'BETA', 'SE', 'P']\n",
      "Thu Sep 22 23:34:51 2022   - Output formats: ['{:.4g}', '{:.4f}', '{:.4f}', '{:.4e}']\n",
      "Thu Sep 22 23:34:51 2022  - Start outputting sumstats in ssf format...\n",
      "Thu Sep 22 23:34:51 2022  -ssf format will be loaded...\n",
      "Thu Sep 22 23:34:51 2022  -ssf format meta info:\n",
      "Thu Sep 22 23:34:51 2022   - format_name  :  ssf\n",
      "Thu Sep 22 23:34:51 2022   - format_source  :  https://www.biorxiv.org/content/10.1101/2022.07.15.500230v1.full\n",
      "Thu Sep 22 23:34:51 2022   - format_version  :  20220726\n",
      "Thu Sep 22 23:34:51 2022  -gwaslab to ssf format dictionary:\n",
      "Thu Sep 22 23:34:51 2022   - gwaslab keys: ['SNPID', 'rsID', 'CHR', 'POS', 'NEA', 'EA', 'N', 'BETA', 'SE', 'P', 'INFO', 'OR', 'OR_95L', 'OR_95U']\n",
      "Thu Sep 22 23:34:51 2022   - ssf values: ['variant_id', 'rsid', 'chromosome', 'bas_pair_location', 'other_allele', 'effect_allele', 'n', 'beta', 'standard_error', 'p_value', 'info', 'odds_ratio', 'ci_lower', 'ci_upper']\n",
      "Thu Sep 22 23:34:51 2022  -Output columns: Index(['variant_id', 'chromosome', 'bas_pair_location', 'effect_allele',\n",
      "       'other_allele', 'beta', 'standard_error', 'p_value', 'n'],\n",
      "      dtype='object')\n",
      "Thu Sep 22 23:34:51 2022  -Output path: ./mysumstats.ssf.tsv.gz\n",
      "Thu Sep 22 23:34:58 2022  -Saving log file: ./mysumstats.ssf.log\n",
      "Thu Sep 22 23:34:58 2022 Finished outputting successfully!\n"
     ]
    }
   ],
   "source": [
    "mysumstats.to_format(\"./mysumstats\",fmt=\"ssf\")"
   ]
  },
  {
   "cell_type": "code",
   "execution_count": 6,
   "id": "f653494f",
   "metadata": {},
   "outputs": [
    {
     "name": "stdout",
     "output_type": "stream",
     "text": [
      "Thu Sep 22 23:34:58 2022 Start to format the output sumstats in:  ldsc  format\n",
      "Thu Sep 22 23:34:58 2022  -Excluding variants in HLA region ...\n",
      "Thu Sep 22 23:34:58 2022  -Exclude 75022 variants in HLA region.\n",
      "Thu Sep 22 23:34:58 2022  -Processing 758400 raw variants...\n",
      "Thu Sep 22 23:34:58 2022  -Loading Hapmap3 variants data...\n",
      "Thu Sep 22 23:34:59 2022  -Since rsID not in sumstats, chr:pos( build 19) will be used for matching...\n",
      "Thu Sep 22 23:35:01 2022  -Raw input contains 66674 hapmaps variants based on chr:pos...\n",
      "Thu Sep 22 23:35:01 2022  -Extract 66674 variants in Hapmap3 datasets for build 19.\n",
      "Thu Sep 22 23:35:01 2022  -Formatting statistics ...\n",
      "Thu Sep 22 23:35:01 2022  - Float statistics formats:\n",
      "Thu Sep 22 23:35:01 2022   - Columns: ['EAF', 'BETA', 'SE', 'P']\n",
      "Thu Sep 22 23:35:01 2022   - Output formats: ['{:.4g}', '{:.4f}', '{:.4f}', '{:.4e}']\n",
      "Thu Sep 22 23:35:01 2022  - Start outputting sumstats in ldsc format...\n",
      "Thu Sep 22 23:35:01 2022  -ldsc format will be loaded...\n",
      "Thu Sep 22 23:35:01 2022  -ldsc format meta info:\n",
      "Thu Sep 22 23:35:01 2022   - format_name  :  ldsc\n",
      "Thu Sep 22 23:35:01 2022   - format_source  :  https://github.com/bulik/ldsc/wiki/Summary-Statistics-File-Format\n",
      "Thu Sep 22 23:35:01 2022   - format_source2  :  https://github.com/bulik/ldsc/blob/master/munge_sumstats.py\n",
      "Thu Sep 22 23:35:01 2022   - format_version  :  20150306\n",
      "Thu Sep 22 23:35:01 2022  -gwaslab to ldsc format dictionary:\n",
      "Thu Sep 22 23:35:01 2022   - gwaslab keys: ['rsID', 'NEA', 'EA', 'N', 'BETA', 'P', 'INFO', 'OR']\n",
      "Thu Sep 22 23:35:01 2022   - ldsc values: ['SNP', 'A2', 'A1', 'N', 'Beta', 'P', 'INFO', 'OR']\n",
      "Thu Sep 22 23:35:01 2022  -Output columns: Index(['A1', 'A2', 'Beta', 'P', 'N', 'SNP'], dtype='object')\n",
      "Thu Sep 22 23:35:01 2022  -Output path: ./mysumstats.hapmap3.noMHC.ldsc.tsv.gz\n",
      "Thu Sep 22 23:35:02 2022  -Saving log file: ./mysumstats.hapmap3.noMHC.ldsc.log\n",
      "Thu Sep 22 23:35:02 2022 Finished outputting successfully!\n"
     ]
    }
   ],
   "source": [
    "mysumstats.to_format(\"./mysumstats\",fmt=\"ldsc\",hapmap3=True,exclude_hla=True)"
   ]
  },
  {
   "cell_type": "code",
   "execution_count": 7,
   "id": "593f422b",
   "metadata": {},
   "outputs": [
    {
     "name": "stdout",
     "output_type": "stream",
     "text": [
      "Thu Sep 22 23:35:02 2022 Start to format the output sumstats in:  ldsc  format\n",
      "Thu Sep 22 23:35:02 2022  -Excluding variants in HLA region ...\n",
      "Thu Sep 22 23:35:02 2022  -Exclude 75022 variants in HLA region.\n",
      "Thu Sep 22 23:35:02 2022  -Processing 758400 raw variants...\n",
      "Thu Sep 22 23:35:02 2022  -Loading Hapmap3 variants data...\n",
      "Thu Sep 22 23:35:03 2022  -Since rsID not in sumstats, chr:pos( build 19) will be used for matching...\n",
      "Thu Sep 22 23:35:05 2022  -Raw input contains 66674 hapmaps variants based on chr:pos...\n",
      "Thu Sep 22 23:35:05 2022  -Extract 66674 variants in Hapmap3 datasets for build 19.\n",
      "Thu Sep 22 23:35:05 2022  -Formatting statistics ...\n",
      "Thu Sep 22 23:35:05 2022  - Float statistics formats:\n",
      "Thu Sep 22 23:35:05 2022   - Columns: ['EAF', 'BETA', 'SE', 'P']\n",
      "Thu Sep 22 23:35:05 2022   - Output formats: ['{:.4g}', '{:.4f}', '{:.4f}', '{:.4e}']\n",
      "Thu Sep 22 23:35:05 2022  - Start outputting sumstats in ldsc format...\n",
      "Thu Sep 22 23:35:05 2022  -ldsc format will be loaded...\n",
      "Thu Sep 22 23:35:05 2022  -ldsc format meta info:\n",
      "Thu Sep 22 23:35:05 2022   - format_name  :  ldsc\n",
      "Thu Sep 22 23:35:05 2022   - format_source  :  https://github.com/bulik/ldsc/wiki/Summary-Statistics-File-Format\n",
      "Thu Sep 22 23:35:05 2022   - format_source2  :  https://github.com/bulik/ldsc/blob/master/munge_sumstats.py\n",
      "Thu Sep 22 23:35:05 2022   - format_version  :  20150306\n",
      "Thu Sep 22 23:35:05 2022  -gwaslab to ldsc format dictionary:\n",
      "Thu Sep 22 23:35:05 2022   - gwaslab keys: ['rsID', 'NEA', 'EA', 'N', 'BETA', 'P', 'INFO', 'OR']\n",
      "Thu Sep 22 23:35:05 2022   - ldsc values: ['SNP', 'A2', 'A1', 'N', 'Beta', 'P', 'INFO', 'OR']\n",
      "Thu Sep 22 23:35:05 2022  -Output columns: Index(['A1', 'A2', 'Beta', 'P', 'N', 'SNP'], dtype='object')\n",
      "Thu Sep 22 23:35:05 2022  -Output path: ./mysumstats.hapmap3.noMHC.ldsc.tsv.gz\n",
      "Thu Sep 22 23:35:06 2022  -Saving log file: ./mysumstats.hapmap3.noMHC.ldsc.log\n",
      "Thu Sep 22 23:35:06 2022 Finished outputting successfully!\n"
     ]
    }
   ],
   "source": [
    "mysumstats.to_format(\"./mysumstats\",fmt=\"ldsc\",hapmap3=True,exclude_hla=True)"
   ]
  },
  {
   "cell_type": "code",
   "execution_count": 10,
   "id": "e6fc2019",
   "metadata": {},
   "outputs": [
    {
     "name": "stdout",
     "output_type": "stream",
     "text": [
      "Thu Sep 22 23:55:15 2022 Start to format the output sumstats in:  bed  format\n",
      "Thu Sep 22 23:55:15 2022  -Formatting statistics ...\n",
      "Thu Sep 22 23:55:16 2022  - Float statistics formats:\n",
      "Thu Sep 22 23:55:16 2022   - Columns: ['EAF', 'BETA', 'SE', 'P']\n",
      "Thu Sep 22 23:55:16 2022   - Output formats: ['{:.4g}', '{:.4f}', '{:.4f}', '{:.4e}']\n",
      "Thu Sep 22 23:55:16 2022  - Start outputting sumstats in bed format...\n",
      "Thu Sep 22 23:55:16 2022  -Number of SNPs : 757588\n",
      "Thu Sep 22 23:55:16 2022  -Number of Insertions : 52621\n",
      "Thu Sep 22 23:55:16 2022  -Number of Deletions : 23213\n",
      "Thu Sep 22 23:55:16 2022  -formatting to 0-based bed-like file...\n",
      "Thu Sep 22 23:55:17 2022  -Output columns: Index(['CHR', 'START', 'END', 'NEA/EA', 'STRAND', 'SNPID'], dtype='object')\n",
      "Thu Sep 22 23:55:17 2022  -Output path: ./mysumstats.bed\n",
      "Thu Sep 22 23:55:18 2022  -Saving log file: ./mysumstats.bed.log\n",
      "Thu Sep 22 23:55:18 2022 Finished outputting successfully!\n"
     ]
    }
   ],
   "source": [
    "mysumstats.to_format(\"./mysumstats\",fmt=\"bed\")"
   ]
  },
  {
   "cell_type": "code",
   "execution_count": 11,
   "id": "4aed1237",
   "metadata": {},
   "outputs": [
    {
     "name": "stdout",
     "output_type": "stream",
     "text": [
      "Thu Sep 22 23:55:18 2022 Start to format the output sumstats in:  vep  format\n",
      "Thu Sep 22 23:55:18 2022  -Formatting statistics ...\n",
      "Thu Sep 22 23:55:19 2022  - Float statistics formats:\n",
      "Thu Sep 22 23:55:19 2022   - Columns: ['EAF', 'BETA', 'SE', 'P']\n",
      "Thu Sep 22 23:55:19 2022   - Output formats: ['{:.4g}', '{:.4f}', '{:.4f}', '{:.4e}']\n",
      "Thu Sep 22 23:55:19 2022  - Start outputting sumstats in vep format...\n",
      "Thu Sep 22 23:55:19 2022  -Number of SNPs : 757588\n",
      "Thu Sep 22 23:55:19 2022  -Number of Insertions : 52621\n",
      "Thu Sep 22 23:55:19 2022  -Number of Deletions : 23213\n",
      "Thu Sep 22 23:55:19 2022  -formatting to 1-based bed-like file (for vep)...\n",
      "Thu Sep 22 23:55:20 2022  -Output columns: Index(['CHR', 'START', 'END', 'NEA/EA', 'STRAND', 'SNPID'], dtype='object')\n",
      "Thu Sep 22 23:55:20 2022  -Output path: ./mysumstats.vep.gz\n",
      "Thu Sep 22 23:55:26 2022  -Saving log file: ./mysumstats.vep.log\n",
      "Thu Sep 22 23:55:26 2022 Finished outputting successfully!\n"
     ]
    }
   ],
   "source": [
    "mysumstats.to_format(\"./mysumstats\",fmt=\"vep\")"
   ]
  },
  {
   "cell_type": "code",
   "execution_count": null,
   "id": "fc866366",
   "metadata": {},
   "outputs": [],
   "source": []
  }
 ],
 "metadata": {
  "kernelspec": {
   "display_name": "Python 3 (ipykernel)",
   "language": "python",
   "name": "python3"
  },
  "language_info": {
   "codemirror_mode": {
    "name": "ipython",
    "version": 3
   },
   "file_extension": ".py",
   "mimetype": "text/x-python",
   "name": "python",
   "nbconvert_exporter": "python",
   "pygments_lexer": "ipython3",
   "version": "3.9.7"
  }
 },
 "nbformat": 4,
 "nbformat_minor": 5
}
