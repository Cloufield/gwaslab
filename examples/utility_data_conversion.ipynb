{
 "cells": [
  {
   "cell_type": "markdown",
   "metadata": {},
   "source": [
    "# Data conversion"
   ]
  },
  {
   "cell_type": "code",
   "execution_count": 1,
   "metadata": {},
   "outputs": [],
   "source": [
    "import gwaslab as gl"
   ]
  },
  {
   "cell_type": "markdown",
   "metadata": {},
   "source": [
    "## Loading sample data"
   ]
  },
  {
   "cell_type": "code",
   "execution_count": 2,
   "metadata": {},
   "outputs": [
    {
     "name": "stdout",
     "output_type": "stream",
     "text": [
      "Fri Nov  4 16:15:44 2022 Start to initiate from file :t2d_bbj.txt.gz\n",
      "Fri Nov  4 16:15:44 2022  -Reading columns          : CHR,REF,POS,BETA,ALT,SE,SNP\n",
      "Fri Nov  4 16:15:44 2022  -Renaming columns to      : CHR,NEA,POS,BETA,EA,SE,SNPID\n",
      "Fri Nov  4 16:15:44 2022  -Current dataframe shape  : Rows  5  x  7  Columns\n",
      "Fri Nov  4 16:15:44 2022  -Initiating a status column ...\n",
      "Fri Nov  4 16:15:45 2022 Start to reorder the columns...\n",
      "Fri Nov  4 16:15:45 2022  -Current Dataframe shape : 5  x  8\n",
      "Fri Nov  4 16:15:45 2022  -Reordering columns to    : SNPID,CHR,POS,EA,NEA,BETA,SE,STATUS\n",
      "Fri Nov  4 16:15:45 2022 Finished sorting columns successfully!\n",
      "Fri Nov  4 16:15:45 2022 Finished loading data successfully!\n"
     ]
    }
   ],
   "source": [
    "mysumstats = gl.Sumstats(\"t2d_bbj.txt.gz\",\n",
    "             snpid=\"SNP\",\n",
    "             chrom=\"CHR\",\n",
    "             pos=\"POS\",\n",
    "             ea=\"ALT\",\n",
    "             nea=\"REF\",\n",
    "             beta=\"BETA\",\n",
    "             se=\"SE\",nrows=5)"
   ]
  },
  {
   "cell_type": "markdown",
   "metadata": {},
   "source": [
    "before conversion , sanity-check the data"
   ]
  },
  {
   "cell_type": "code",
   "execution_count": 3,
   "metadata": {},
   "outputs": [
    {
     "name": "stdout",
     "output_type": "stream",
     "text": [
      "Fri Nov  4 16:15:45 2022 Start sanity check for statistics ...\n",
      "Fri Nov  4 16:15:45 2022  -Current Dataframe shape : 5  x  8\n",
      "Fri Nov  4 16:15:45 2022  -Checking if  -10 <BETA)< 10  ...\n",
      "Fri Nov  4 16:15:45 2022  -Removed 0 variants with bad BETA.\n",
      "Fri Nov  4 16:15:45 2022  -Checking if  0 <SE< inf  ...\n",
      "Fri Nov  4 16:15:45 2022  -Removed 0 variants with bad SE.\n",
      "Fri Nov  4 16:15:45 2022  -Checking STATUS...\n",
      "Fri Nov  4 16:15:46 2022  -Coverting STAUTUS to category.\n",
      "Fri Nov  4 16:15:46 2022  -Removed 0 variants with bad statistics in total.\n",
      "Fri Nov  4 16:15:46 2022 Finished sanity check successfully!\n"
     ]
    }
   ],
   "source": [
    "mysumstats.check_sanity()"
   ]
  },
  {
   "cell_type": "markdown",
   "metadata": {},
   "source": [
    "## BETA -> OR  , BETA/SE -> OR/OR_95L/OR_95U"
   ]
  },
  {
   "cell_type": "code",
   "execution_count": 4,
   "metadata": {},
   "outputs": [
    {
     "name": "stdout",
     "output_type": "stream",
     "text": [
      "Fri Nov  4 16:15:46 2022 Start filling data using existing columns...\n",
      "Fri Nov  4 16:15:46 2022  -Raw input columns:  ['SNPID', 'CHR', 'POS', 'EA', 'NEA', 'BETA', 'SE', 'STATUS']\n",
      "Fri Nov  4 16:15:46 2022  -Overwrite mode:  False\n",
      "Fri Nov  4 16:15:46 2022   -Skipping columns:  []\n",
      "Fri Nov  4 16:15:46 2022  -Filling columns:  ['OR']\n",
      "Fri Nov  4 16:15:46 2022   - Filling OR using BETA column...\n",
      "Fri Nov  4 16:15:46 2022   - Filling OR_95L/OR_95U using BETA/SE columns...\n",
      "Fri Nov  4 16:15:46 2022 Start to reorder the columns...\n",
      "Fri Nov  4 16:15:46 2022  -Current Dataframe shape : 5  x  11\n",
      "Fri Nov  4 16:15:46 2022  -Reordering columns to    : SNPID,CHR,POS,EA,NEA,BETA,SE,OR,OR_95L,OR_95U,STATUS\n",
      "Fri Nov  4 16:15:46 2022 Finished sorting columns successfully!\n",
      "Fri Nov  4 16:15:46 2022 Finished filling data using existing columns.\n"
     ]
    }
   ],
   "source": [
    "mysumstats.fill_data(to_fill=[\"OR\"])"
   ]
  },
  {
   "cell_type": "code",
   "execution_count": 5,
   "metadata": {},
   "outputs": [
    {
     "data": {
      "text/html": [
       "<div>\n",
       "<style scoped>\n",
       "    .dataframe tbody tr th:only-of-type {\n",
       "        vertical-align: middle;\n",
       "    }\n",
       "\n",
       "    .dataframe tbody tr th {\n",
       "        vertical-align: top;\n",
       "    }\n",
       "\n",
       "    .dataframe thead th {\n",
       "        text-align: right;\n",
       "    }\n",
       "</style>\n",
       "<table border=\"1\" class=\"dataframe\">\n",
       "  <thead>\n",
       "    <tr style=\"text-align: right;\">\n",
       "      <th></th>\n",
       "      <th>SNPID</th>\n",
       "      <th>CHR</th>\n",
       "      <th>POS</th>\n",
       "      <th>EA</th>\n",
       "      <th>NEA</th>\n",
       "      <th>BETA</th>\n",
       "      <th>SE</th>\n",
       "      <th>OR</th>\n",
       "      <th>OR_95L</th>\n",
       "      <th>OR_95U</th>\n",
       "      <th>STATUS</th>\n",
       "    </tr>\n",
       "  </thead>\n",
       "  <tbody>\n",
       "    <tr>\n",
       "      <th>0</th>\n",
       "      <td>1:725932_G_A</td>\n",
       "      <td>1</td>\n",
       "      <td>725932</td>\n",
       "      <td>G</td>\n",
       "      <td>A</td>\n",
       "      <td>-0.0737</td>\n",
       "      <td>0.1394</td>\n",
       "      <td>0.928950</td>\n",
       "      <td>0.706863</td>\n",
       "      <td>1.220815</td>\n",
       "      <td>9999999</td>\n",
       "    </tr>\n",
       "    <tr>\n",
       "      <th>1</th>\n",
       "      <td>1:725933_A_G</td>\n",
       "      <td>1</td>\n",
       "      <td>725933</td>\n",
       "      <td>G</td>\n",
       "      <td>A</td>\n",
       "      <td>0.0737</td>\n",
       "      <td>0.1394</td>\n",
       "      <td>1.076484</td>\n",
       "      <td>0.819125</td>\n",
       "      <td>1.414702</td>\n",
       "      <td>9999999</td>\n",
       "    </tr>\n",
       "    <tr>\n",
       "      <th>2</th>\n",
       "      <td>1:737801_T_C</td>\n",
       "      <td>1</td>\n",
       "      <td>737801</td>\n",
       "      <td>C</td>\n",
       "      <td>T</td>\n",
       "      <td>0.0490</td>\n",
       "      <td>0.1231</td>\n",
       "      <td>1.050220</td>\n",
       "      <td>0.825083</td>\n",
       "      <td>1.336790</td>\n",
       "      <td>9999999</td>\n",
       "    </tr>\n",
       "    <tr>\n",
       "      <th>3</th>\n",
       "      <td>1:749963_T_TAA</td>\n",
       "      <td>1</td>\n",
       "      <td>749963</td>\n",
       "      <td>TAA</td>\n",
       "      <td>T</td>\n",
       "      <td>0.0213</td>\n",
       "      <td>0.0199</td>\n",
       "      <td>1.021528</td>\n",
       "      <td>0.982453</td>\n",
       "      <td>1.062159</td>\n",
       "      <td>9999999</td>\n",
       "    </tr>\n",
       "    <tr>\n",
       "      <th>4</th>\n",
       "      <td>1:751343_T_A</td>\n",
       "      <td>1</td>\n",
       "      <td>751343</td>\n",
       "      <td>T</td>\n",
       "      <td>A</td>\n",
       "      <td>0.0172</td>\n",
       "      <td>0.0156</td>\n",
       "      <td>1.017349</td>\n",
       "      <td>0.986714</td>\n",
       "      <td>1.048935</td>\n",
       "      <td>9999999</td>\n",
       "    </tr>\n",
       "  </tbody>\n",
       "</table>\n",
       "</div>"
      ],
      "text/plain": [
       "            SNPID CHR     POS   EA NEA    BETA      SE        OR    OR_95L  \\\n",
       "0    1:725932_G_A   1  725932    G   A -0.0737  0.1394  0.928950  0.706863   \n",
       "1    1:725933_A_G   1  725933    G   A  0.0737  0.1394  1.076484  0.819125   \n",
       "2    1:737801_T_C   1  737801    C   T  0.0490  0.1231  1.050220  0.825083   \n",
       "3  1:749963_T_TAA   1  749963  TAA   T  0.0213  0.0199  1.021528  0.982453   \n",
       "4    1:751343_T_A   1  751343    T   A  0.0172  0.0156  1.017349  0.986714   \n",
       "\n",
       "     OR_95U   STATUS  \n",
       "0  1.220815  9999999  \n",
       "1  1.414702  9999999  \n",
       "2  1.336790  9999999  \n",
       "3  1.062159  9999999  \n",
       "4  1.048935  9999999  "
      ]
     },
     "execution_count": 5,
     "metadata": {},
     "output_type": "execute_result"
    }
   ],
   "source": [
    "mysumstats.data"
   ]
  },
  {
   "cell_type": "code",
   "execution_count": 6,
   "metadata": {},
   "outputs": [],
   "source": [
    "mysumstats.data.drop(labels=[\"BETA\",\"SE\"],axis=1,inplace=True)"
   ]
  },
  {
   "cell_type": "markdown",
   "metadata": {},
   "source": [
    "## OR -> BETA  ,  OR/OR_95L/OR_95U -> BETA/SE"
   ]
  },
  {
   "cell_type": "code",
   "execution_count": 7,
   "metadata": {},
   "outputs": [
    {
     "name": "stdout",
     "output_type": "stream",
     "text": [
      "Fri Nov  4 16:15:46 2022 Start filling data using existing columns...\n",
      "Fri Nov  4 16:15:46 2022  -Raw input columns:  ['SNPID', 'CHR', 'POS', 'EA', 'NEA', 'OR', 'OR_95L', 'OR_95U', 'STATUS']\n",
      "Fri Nov  4 16:15:46 2022  -Overwrite mode:  False\n",
      "Fri Nov  4 16:15:46 2022   -Skipping columns:  []\n",
      "Fri Nov  4 16:15:46 2022  -Filling columns:  ['BETA', 'SE']\n",
      "Fri Nov  4 16:15:46 2022   - Filling BETA value using OR column...\n",
      "Fri Nov  4 16:15:46 2022   - Filling SE value using OR/OR_95U column...\n",
      "Fri Nov  4 16:15:46 2022 Start to reorder the columns...\n",
      "Fri Nov  4 16:15:46 2022  -Current Dataframe shape : 5  x  11\n",
      "Fri Nov  4 16:15:46 2022  -Reordering columns to    : SNPID,CHR,POS,EA,NEA,BETA,SE,OR,OR_95L,OR_95U,STATUS\n",
      "Fri Nov  4 16:15:46 2022 Finished sorting columns successfully!\n",
      "Fri Nov  4 16:15:46 2022 Finished filling data using existing columns.\n"
     ]
    }
   ],
   "source": [
    "mysumstats.fill_data(to_fill=[\"BETA\",\"SE\"])"
   ]
  },
  {
   "cell_type": "code",
   "execution_count": 8,
   "metadata": {},
   "outputs": [
    {
     "data": {
      "text/html": [
       "<div>\n",
       "<style scoped>\n",
       "    .dataframe tbody tr th:only-of-type {\n",
       "        vertical-align: middle;\n",
       "    }\n",
       "\n",
       "    .dataframe tbody tr th {\n",
       "        vertical-align: top;\n",
       "    }\n",
       "\n",
       "    .dataframe thead th {\n",
       "        text-align: right;\n",
       "    }\n",
       "</style>\n",
       "<table border=\"1\" class=\"dataframe\">\n",
       "  <thead>\n",
       "    <tr style=\"text-align: right;\">\n",
       "      <th></th>\n",
       "      <th>SNPID</th>\n",
       "      <th>CHR</th>\n",
       "      <th>POS</th>\n",
       "      <th>EA</th>\n",
       "      <th>NEA</th>\n",
       "      <th>BETA</th>\n",
       "      <th>SE</th>\n",
       "      <th>OR</th>\n",
       "      <th>OR_95L</th>\n",
       "      <th>OR_95U</th>\n",
       "      <th>STATUS</th>\n",
       "    </tr>\n",
       "  </thead>\n",
       "  <tbody>\n",
       "    <tr>\n",
       "      <th>0</th>\n",
       "      <td>1:725932_G_A</td>\n",
       "      <td>1</td>\n",
       "      <td>725932</td>\n",
       "      <td>G</td>\n",
       "      <td>A</td>\n",
       "      <td>-0.0737</td>\n",
       "      <td>0.1394</td>\n",
       "      <td>0.928950</td>\n",
       "      <td>0.706863</td>\n",
       "      <td>1.220815</td>\n",
       "      <td>9999999</td>\n",
       "    </tr>\n",
       "    <tr>\n",
       "      <th>1</th>\n",
       "      <td>1:725933_A_G</td>\n",
       "      <td>1</td>\n",
       "      <td>725933</td>\n",
       "      <td>G</td>\n",
       "      <td>A</td>\n",
       "      <td>0.0737</td>\n",
       "      <td>0.1394</td>\n",
       "      <td>1.076484</td>\n",
       "      <td>0.819125</td>\n",
       "      <td>1.414702</td>\n",
       "      <td>9999999</td>\n",
       "    </tr>\n",
       "    <tr>\n",
       "      <th>2</th>\n",
       "      <td>1:737801_T_C</td>\n",
       "      <td>1</td>\n",
       "      <td>737801</td>\n",
       "      <td>C</td>\n",
       "      <td>T</td>\n",
       "      <td>0.0490</td>\n",
       "      <td>0.1231</td>\n",
       "      <td>1.050220</td>\n",
       "      <td>0.825083</td>\n",
       "      <td>1.336790</td>\n",
       "      <td>9999999</td>\n",
       "    </tr>\n",
       "    <tr>\n",
       "      <th>3</th>\n",
       "      <td>1:749963_T_TAA</td>\n",
       "      <td>1</td>\n",
       "      <td>749963</td>\n",
       "      <td>TAA</td>\n",
       "      <td>T</td>\n",
       "      <td>0.0213</td>\n",
       "      <td>0.0199</td>\n",
       "      <td>1.021528</td>\n",
       "      <td>0.982453</td>\n",
       "      <td>1.062159</td>\n",
       "      <td>9999999</td>\n",
       "    </tr>\n",
       "    <tr>\n",
       "      <th>4</th>\n",
       "      <td>1:751343_T_A</td>\n",
       "      <td>1</td>\n",
       "      <td>751343</td>\n",
       "      <td>T</td>\n",
       "      <td>A</td>\n",
       "      <td>0.0172</td>\n",
       "      <td>0.0156</td>\n",
       "      <td>1.017349</td>\n",
       "      <td>0.986714</td>\n",
       "      <td>1.048935</td>\n",
       "      <td>9999999</td>\n",
       "    </tr>\n",
       "  </tbody>\n",
       "</table>\n",
       "</div>"
      ],
      "text/plain": [
       "            SNPID CHR     POS   EA NEA    BETA      SE        OR    OR_95L  \\\n",
       "0    1:725932_G_A   1  725932    G   A -0.0737  0.1394  0.928950  0.706863   \n",
       "1    1:725933_A_G   1  725933    G   A  0.0737  0.1394  1.076484  0.819125   \n",
       "2    1:737801_T_C   1  737801    C   T  0.0490  0.1231  1.050220  0.825083   \n",
       "3  1:749963_T_TAA   1  749963  TAA   T  0.0213  0.0199  1.021528  0.982453   \n",
       "4    1:751343_T_A   1  751343    T   A  0.0172  0.0156  1.017349  0.986714   \n",
       "\n",
       "     OR_95U   STATUS  \n",
       "0  1.220815  9999999  \n",
       "1  1.414702  9999999  \n",
       "2  1.336790  9999999  \n",
       "3  1.062159  9999999  \n",
       "4  1.048935  9999999  "
      ]
     },
     "execution_count": 8,
     "metadata": {},
     "output_type": "execute_result"
    }
   ],
   "source": [
    "mysumstats.data"
   ]
  },
  {
   "cell_type": "markdown",
   "metadata": {},
   "source": [
    "## BETA/SE -> Z"
   ]
  },
  {
   "cell_type": "code",
   "execution_count": 9,
   "metadata": {},
   "outputs": [
    {
     "name": "stdout",
     "output_type": "stream",
     "text": [
      "Fri Nov  4 16:15:46 2022 Start filling data using existing columns...\n",
      "Fri Nov  4 16:15:46 2022  -Raw input columns:  ['SNPID', 'CHR', 'POS', 'EA', 'NEA', 'BETA', 'SE', 'OR', 'OR_95L', 'OR_95U', 'STATUS']\n",
      "Fri Nov  4 16:15:46 2022  -Overwrite mode:  False\n",
      "Fri Nov  4 16:15:46 2022   -Skipping columns:  []\n",
      "Fri Nov  4 16:15:46 2022  -Filling columns:  ['Z']\n",
      "Fri Nov  4 16:15:46 2022   - Filling Z using BETA/SE column...\n",
      "Fri Nov  4 16:15:46 2022 Start to reorder the columns...\n",
      "Fri Nov  4 16:15:46 2022  -Current Dataframe shape : 5  x  12\n",
      "Fri Nov  4 16:15:46 2022  -Reordering columns to    : SNPID,CHR,POS,EA,NEA,BETA,SE,Z,OR,OR_95L,OR_95U,STATUS\n",
      "Fri Nov  4 16:15:46 2022 Finished sorting columns successfully!\n",
      "Fri Nov  4 16:15:46 2022 Finished filling data using existing columns.\n"
     ]
    }
   ],
   "source": [
    "mysumstats.fill_data(to_fill=[\"Z\"])"
   ]
  },
  {
   "cell_type": "code",
   "execution_count": 10,
   "metadata": {},
   "outputs": [
    {
     "data": {
      "text/html": [
       "<div>\n",
       "<style scoped>\n",
       "    .dataframe tbody tr th:only-of-type {\n",
       "        vertical-align: middle;\n",
       "    }\n",
       "\n",
       "    .dataframe tbody tr th {\n",
       "        vertical-align: top;\n",
       "    }\n",
       "\n",
       "    .dataframe thead th {\n",
       "        text-align: right;\n",
       "    }\n",
       "</style>\n",
       "<table border=\"1\" class=\"dataframe\">\n",
       "  <thead>\n",
       "    <tr style=\"text-align: right;\">\n",
       "      <th></th>\n",
       "      <th>SNPID</th>\n",
       "      <th>CHR</th>\n",
       "      <th>POS</th>\n",
       "      <th>EA</th>\n",
       "      <th>NEA</th>\n",
       "      <th>BETA</th>\n",
       "      <th>SE</th>\n",
       "      <th>Z</th>\n",
       "      <th>OR</th>\n",
       "      <th>OR_95L</th>\n",
       "      <th>OR_95U</th>\n",
       "      <th>STATUS</th>\n",
       "    </tr>\n",
       "  </thead>\n",
       "  <tbody>\n",
       "    <tr>\n",
       "      <th>0</th>\n",
       "      <td>1:725932_G_A</td>\n",
       "      <td>1</td>\n",
       "      <td>725932</td>\n",
       "      <td>G</td>\n",
       "      <td>A</td>\n",
       "      <td>-0.0737</td>\n",
       "      <td>0.1394</td>\n",
       "      <td>-0.528694</td>\n",
       "      <td>0.928950</td>\n",
       "      <td>0.706863</td>\n",
       "      <td>1.220815</td>\n",
       "      <td>9999999</td>\n",
       "    </tr>\n",
       "    <tr>\n",
       "      <th>1</th>\n",
       "      <td>1:725933_A_G</td>\n",
       "      <td>1</td>\n",
       "      <td>725933</td>\n",
       "      <td>G</td>\n",
       "      <td>A</td>\n",
       "      <td>0.0737</td>\n",
       "      <td>0.1394</td>\n",
       "      <td>0.528694</td>\n",
       "      <td>1.076484</td>\n",
       "      <td>0.819125</td>\n",
       "      <td>1.414702</td>\n",
       "      <td>9999999</td>\n",
       "    </tr>\n",
       "    <tr>\n",
       "      <th>2</th>\n",
       "      <td>1:737801_T_C</td>\n",
       "      <td>1</td>\n",
       "      <td>737801</td>\n",
       "      <td>C</td>\n",
       "      <td>T</td>\n",
       "      <td>0.0490</td>\n",
       "      <td>0.1231</td>\n",
       "      <td>0.398051</td>\n",
       "      <td>1.050220</td>\n",
       "      <td>0.825083</td>\n",
       "      <td>1.336790</td>\n",
       "      <td>9999999</td>\n",
       "    </tr>\n",
       "    <tr>\n",
       "      <th>3</th>\n",
       "      <td>1:749963_T_TAA</td>\n",
       "      <td>1</td>\n",
       "      <td>749963</td>\n",
       "      <td>TAA</td>\n",
       "      <td>T</td>\n",
       "      <td>0.0213</td>\n",
       "      <td>0.0199</td>\n",
       "      <td>1.070354</td>\n",
       "      <td>1.021528</td>\n",
       "      <td>0.982453</td>\n",
       "      <td>1.062159</td>\n",
       "      <td>9999999</td>\n",
       "    </tr>\n",
       "    <tr>\n",
       "      <th>4</th>\n",
       "      <td>1:751343_T_A</td>\n",
       "      <td>1</td>\n",
       "      <td>751343</td>\n",
       "      <td>T</td>\n",
       "      <td>A</td>\n",
       "      <td>0.0172</td>\n",
       "      <td>0.0156</td>\n",
       "      <td>1.102576</td>\n",
       "      <td>1.017349</td>\n",
       "      <td>0.986714</td>\n",
       "      <td>1.048935</td>\n",
       "      <td>9999999</td>\n",
       "    </tr>\n",
       "  </tbody>\n",
       "</table>\n",
       "</div>"
      ],
      "text/plain": [
       "            SNPID CHR     POS   EA NEA    BETA      SE         Z        OR  \\\n",
       "0    1:725932_G_A   1  725932    G   A -0.0737  0.1394 -0.528694  0.928950   \n",
       "1    1:725933_A_G   1  725933    G   A  0.0737  0.1394  0.528694  1.076484   \n",
       "2    1:737801_T_C   1  737801    C   T  0.0490  0.1231  0.398051  1.050220   \n",
       "3  1:749963_T_TAA   1  749963  TAA   T  0.0213  0.0199  1.070354  1.021528   \n",
       "4    1:751343_T_A   1  751343    T   A  0.0172  0.0156  1.102576  1.017349   \n",
       "\n",
       "     OR_95L    OR_95U   STATUS  \n",
       "0  0.706863  1.220815  9999999  \n",
       "1  0.819125  1.414702  9999999  \n",
       "2  0.825083  1.336790  9999999  \n",
       "3  0.982453  1.062159  9999999  \n",
       "4  0.986714  1.048935  9999999  "
      ]
     },
     "execution_count": 10,
     "metadata": {},
     "output_type": "execute_result"
    }
   ],
   "source": [
    "mysumstats.data"
   ]
  },
  {
   "cell_type": "markdown",
   "metadata": {},
   "source": [
    "## P -> MLOG10P"
   ]
  },
  {
   "cell_type": "code",
   "execution_count": 11,
   "metadata": {},
   "outputs": [
    {
     "name": "stdout",
     "output_type": "stream",
     "text": [
      "Fri Nov  4 16:15:46 2022 Start filling data using existing columns...\n",
      "Fri Nov  4 16:15:46 2022  -Raw input columns:  ['SNPID', 'CHR', 'POS', 'EA', 'NEA', 'BETA', 'SE', 'Z', 'OR', 'OR_95L', 'OR_95U', 'STATUS']\n",
      "Fri Nov  4 16:15:46 2022  -Overwrite mode:  False\n",
      "Fri Nov  4 16:15:46 2022   -Skipping columns:  []\n",
      "Fri Nov  4 16:15:46 2022  -Filling columns:  ['MLOG10P']\n",
      "Fri Nov  4 16:15:46 2022   - Filling P value using Z column...\n",
      "Fri Nov  4 16:15:46 2022   - Filling MLOG10P using P column...\n",
      "Fri Nov  4 16:15:46 2022 Start to reorder the columns...\n",
      "Fri Nov  4 16:15:46 2022  -Current Dataframe shape : 5  x  13\n",
      "Fri Nov  4 16:15:46 2022  -Reordering columns to    : SNPID,CHR,POS,EA,NEA,BETA,SE,Z,MLOG10P,OR,OR_95L,OR_95U,STATUS\n",
      "Fri Nov  4 16:15:46 2022 Finished sorting columns successfully!\n",
      "Fri Nov  4 16:15:46 2022 Finished filling data using existing columns.\n"
     ]
    }
   ],
   "source": [
    "mysumstats.fill_data(to_fill=[\"MLOG10P\"])"
   ]
  },
  {
   "cell_type": "markdown",
   "metadata": {},
   "source": [
    "## MLOG10P -> P "
   ]
  },
  {
   "cell_type": "code",
   "execution_count": 12,
   "metadata": {},
   "outputs": [
    {
     "name": "stdout",
     "output_type": "stream",
     "text": [
      "Fri Nov  4 16:15:46 2022 Start filling data using existing columns...\n",
      "Fri Nov  4 16:15:46 2022  -Raw input columns:  ['SNPID', 'CHR', 'POS', 'EA', 'NEA', 'BETA', 'SE', 'Z', 'MLOG10P', 'OR', 'OR_95L', 'OR_95U', 'STATUS']\n",
      "Fri Nov  4 16:15:46 2022  -Overwrite mode:  False\n",
      "Fri Nov  4 16:15:46 2022   -Skipping columns:  []\n",
      "Fri Nov  4 16:15:46 2022  -Filling columns:  ['P']\n",
      "Fri Nov  4 16:15:46 2022   - Filling P value using MLOG10P column...\n",
      "Fri Nov  4 16:15:46 2022 Start to reorder the columns...\n",
      "Fri Nov  4 16:15:46 2022  -Current Dataframe shape : 5  x  14\n",
      "Fri Nov  4 16:15:46 2022  -Reordering columns to    : SNPID,CHR,POS,EA,NEA,BETA,SE,Z,P,MLOG10P,OR,OR_95L,OR_95U,STATUS\n",
      "Fri Nov  4 16:15:46 2022 Finished sorting columns successfully!\n",
      "Fri Nov  4 16:15:46 2022 Finished filling data using existing columns.\n"
     ]
    }
   ],
   "source": [
    "mysumstats.fill_data(to_fill=[\"P\"])"
   ]
  },
  {
   "cell_type": "code",
   "execution_count": 13,
   "metadata": {},
   "outputs": [
    {
     "data": {
      "text/html": [
       "<div>\n",
       "<style scoped>\n",
       "    .dataframe tbody tr th:only-of-type {\n",
       "        vertical-align: middle;\n",
       "    }\n",
       "\n",
       "    .dataframe tbody tr th {\n",
       "        vertical-align: top;\n",
       "    }\n",
       "\n",
       "    .dataframe thead th {\n",
       "        text-align: right;\n",
       "    }\n",
       "</style>\n",
       "<table border=\"1\" class=\"dataframe\">\n",
       "  <thead>\n",
       "    <tr style=\"text-align: right;\">\n",
       "      <th></th>\n",
       "      <th>SNPID</th>\n",
       "      <th>CHR</th>\n",
       "      <th>POS</th>\n",
       "      <th>EA</th>\n",
       "      <th>NEA</th>\n",
       "      <th>BETA</th>\n",
       "      <th>SE</th>\n",
       "      <th>Z</th>\n",
       "      <th>P</th>\n",
       "      <th>MLOG10P</th>\n",
       "      <th>OR</th>\n",
       "      <th>OR_95L</th>\n",
       "      <th>OR_95U</th>\n",
       "      <th>STATUS</th>\n",
       "    </tr>\n",
       "  </thead>\n",
       "  <tbody>\n",
       "    <tr>\n",
       "      <th>0</th>\n",
       "      <td>1:725932_G_A</td>\n",
       "      <td>1</td>\n",
       "      <td>725932</td>\n",
       "      <td>G</td>\n",
       "      <td>A</td>\n",
       "      <td>-0.0737</td>\n",
       "      <td>0.1394</td>\n",
       "      <td>-0.528694</td>\n",
       "      <td>0.597018</td>\n",
       "      <td>0.224013</td>\n",
       "      <td>0.928950</td>\n",
       "      <td>0.706863</td>\n",
       "      <td>1.220815</td>\n",
       "      <td>9999999</td>\n",
       "    </tr>\n",
       "    <tr>\n",
       "      <th>1</th>\n",
       "      <td>1:725933_A_G</td>\n",
       "      <td>1</td>\n",
       "      <td>725933</td>\n",
       "      <td>G</td>\n",
       "      <td>A</td>\n",
       "      <td>0.0737</td>\n",
       "      <td>0.1394</td>\n",
       "      <td>0.528694</td>\n",
       "      <td>0.597018</td>\n",
       "      <td>0.224013</td>\n",
       "      <td>1.076484</td>\n",
       "      <td>0.819125</td>\n",
       "      <td>1.414702</td>\n",
       "      <td>9999999</td>\n",
       "    </tr>\n",
       "    <tr>\n",
       "      <th>2</th>\n",
       "      <td>1:737801_T_C</td>\n",
       "      <td>1</td>\n",
       "      <td>737801</td>\n",
       "      <td>C</td>\n",
       "      <td>T</td>\n",
       "      <td>0.0490</td>\n",
       "      <td>0.1231</td>\n",
       "      <td>0.398051</td>\n",
       "      <td>0.690593</td>\n",
       "      <td>0.160778</td>\n",
       "      <td>1.050220</td>\n",
       "      <td>0.825083</td>\n",
       "      <td>1.336790</td>\n",
       "      <td>9999999</td>\n",
       "    </tr>\n",
       "    <tr>\n",
       "      <th>3</th>\n",
       "      <td>1:749963_T_TAA</td>\n",
       "      <td>1</td>\n",
       "      <td>749963</td>\n",
       "      <td>TAA</td>\n",
       "      <td>T</td>\n",
       "      <td>0.0213</td>\n",
       "      <td>0.0199</td>\n",
       "      <td>1.070354</td>\n",
       "      <td>0.284460</td>\n",
       "      <td>0.545979</td>\n",
       "      <td>1.021528</td>\n",
       "      <td>0.982453</td>\n",
       "      <td>1.062159</td>\n",
       "      <td>9999999</td>\n",
       "    </tr>\n",
       "    <tr>\n",
       "      <th>4</th>\n",
       "      <td>1:751343_T_A</td>\n",
       "      <td>1</td>\n",
       "      <td>751343</td>\n",
       "      <td>T</td>\n",
       "      <td>A</td>\n",
       "      <td>0.0172</td>\n",
       "      <td>0.0156</td>\n",
       "      <td>1.102576</td>\n",
       "      <td>0.270211</td>\n",
       "      <td>0.568297</td>\n",
       "      <td>1.017349</td>\n",
       "      <td>0.986714</td>\n",
       "      <td>1.048935</td>\n",
       "      <td>9999999</td>\n",
       "    </tr>\n",
       "  </tbody>\n",
       "</table>\n",
       "</div>"
      ],
      "text/plain": [
       "            SNPID CHR     POS   EA NEA    BETA      SE         Z         P  \\\n",
       "0    1:725932_G_A   1  725932    G   A -0.0737  0.1394 -0.528694  0.597018   \n",
       "1    1:725933_A_G   1  725933    G   A  0.0737  0.1394  0.528694  0.597018   \n",
       "2    1:737801_T_C   1  737801    C   T  0.0490  0.1231  0.398051  0.690593   \n",
       "3  1:749963_T_TAA   1  749963  TAA   T  0.0213  0.0199  1.070354  0.284460   \n",
       "4    1:751343_T_A   1  751343    T   A  0.0172  0.0156  1.102576  0.270211   \n",
       "\n",
       "    MLOG10P        OR    OR_95L    OR_95U   STATUS  \n",
       "0  0.224013  0.928950  0.706863  1.220815  9999999  \n",
       "1  0.224013  1.076484  0.819125  1.414702  9999999  \n",
       "2  0.160778  1.050220  0.825083  1.336790  9999999  \n",
       "3  0.545979  1.021528  0.982453  1.062159  9999999  \n",
       "4  0.568297  1.017349  0.986714  1.048935  9999999  "
      ]
     },
     "execution_count": 13,
     "metadata": {},
     "output_type": "execute_result"
    }
   ],
   "source": [
    "mysumstats.data"
   ]
  }
 ],
 "metadata": {
  "kernelspec": {
   "display_name": "Python 3",
   "language": "python",
   "name": "python3"
  },
  "language_info": {
   "codemirror_mode": {
    "name": "ipython",
    "version": 3
   },
   "file_extension": ".py",
   "mimetype": "text/x-python",
   "name": "python",
   "nbconvert_exporter": "python",
   "pygments_lexer": "ipython3",
   "version": "3.8.3"
  }
 },
 "nbformat": 4,
 "nbformat_minor": 5
}
