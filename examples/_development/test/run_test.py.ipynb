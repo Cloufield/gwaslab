{
 "cells": [
  {
   "cell_type": "code",
   "execution_count": null,
   "id": "448014ba",
   "metadata": {},
   "outputs": [],
   "source": [
    "import sys\n",
    "sys.path.insert(0,\"/home/yunye/gwaslab/gwaslab/src\")\n",
    "import gwaslab as gl\n",
    "import pandas as pd"
   ]
  },
  {
   "cell_type": "code",
   "execution_count": null,
   "id": "3d78fd0b",
   "metadata": {},
   "outputs": [],
   "source": [
    "sumstats = gl.Sumstats(\"/home/yunye/work/GWASTutorial/06_Association_tests/1kgeas.B1.glm.firth\", fmt=\"plink2\")"
   ]
  },
  {
   "cell_type": "code",
   "execution_count": null,
   "id": "c07a35e2",
   "metadata": {},
   "outputs": [],
   "source": [
    "sumstats.data"
   ]
  },
  {
   "cell_type": "code",
   "execution_count": null,
   "id": "5d31564e",
   "metadata": {},
   "outputs": [],
   "source": [
    "sumstats.data.to_csv(\"./test/sample_sumstats.txt.gz\",sep=\"\\t\",index=None)"
   ]
  },
  {
   "cell_type": "code",
   "execution_count": null,
   "id": "782820e2",
   "metadata": {},
   "outputs": [],
   "source": []
  },
  {
   "cell_type": "code",
   "execution_count": null,
   "id": "78783446",
   "metadata": {},
   "outputs": [],
   "source": []
  },
  {
   "cell_type": "code",
   "execution_count": null,
   "id": "20cf57cb",
   "metadata": {},
   "outputs": [],
   "source": []
  },
  {
   "cell_type": "code",
   "execution_count": null,
   "id": "0c2620f5",
   "metadata": {},
   "outputs": [],
   "source": []
  }
 ],
 "metadata": {
  "kernelspec": {
   "display_name": "Python 3 (ipykernel)",
   "language": "python",
   "name": "python3"
  },
  "language_info": {
   "codemirror_mode": {
    "name": "ipython",
    "version": 3
   },
   "file_extension": ".py",
   "mimetype": "text/x-python",
   "name": "python",
   "nbconvert_exporter": "python",
   "pygments_lexer": "ipython3",
   "version": "3.9.7"
  }
 },
 "nbformat": 4,
 "nbformat_minor": 5
}
