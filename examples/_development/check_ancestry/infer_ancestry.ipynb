{
 "cells": [
  {
   "cell_type": "markdown",
   "id": "605ebc2d",
   "metadata": {},
   "source": [
    "# Infer ancestry"
   ]
  },
  {
   "cell_type": "markdown",
   "id": "d1aef56a",
   "metadata": {},
   "source": [
    "Infer ancestry using hapmap3 SNPs from 1000 genome project"
   ]
  },
  {
   "cell_type": "code",
   "execution_count": 2,
   "id": "d8fd3fc9",
   "metadata": {},
   "outputs": [],
   "source": [
    "import sys\n",
    "sys.path.insert(0,\"/home/yunye/work/gwaslab/src\")\n",
    "import gwaslab as gl"
   ]
  },
  {
   "cell_type": "code",
   "execution_count": 3,
   "id": "bfcee891",
   "metadata": {},
   "outputs": [],
   "source": [
    "mysumstats = gl.Sumstats(\"../../0_sample_data/t2d_bbj.txt.gz\",\n",
    "             snpid=\"SNP\",\n",
    "             chrom=\"CHR\",\n",
    "             pos=\"POS\",\n",
    "             ea=\"ALT\",\n",
    "             nea=\"REF\",\n",
    "             neaf=\"Frq\",\n",
    "             p=\"P\",\n",
    "             build=\"19\",             \n",
    "             n=150000,\n",
    "             verbose=False)\n",
    "mysumstats.fix_chr(verbose=False)"
   ]
  },
  {
   "cell_type": "code",
   "execution_count": 4,
   "id": "d871d9b7",
   "metadata": {},
   "outputs": [
    {
     "name": "stdout",
     "output_type": "stream",
     "text": [
      "2025/05/02 17:39:49 Start to download  1kg_hm3_hg19_eaf  ...\n",
      "2025/05/02 17:39:49  -Downloading to: /home/yunye/.gwaslab/PAN.hapmap3.hg19.EAF.tsv.gz\n",
      "2025/05/02 17:39:49  -File /home/yunye/.gwaslab/PAN.hapmap3.hg19.EAF.tsv.gz exists.\n",
      "2025/05/02 17:39:49  -Updating record in config file...\n",
      "2025/05/02 17:39:49 Downloaded  1kg_hm3_hg19_eaf  successfully!\n"
     ]
    }
   ],
   "source": [
    "gl.download_ref(\"1kg_hm3_hg19_eaf\")"
   ]
  },
  {
   "cell_type": "code",
   "execution_count": 5,
   "id": "5828b117",
   "metadata": {
    "scrolled": true
   },
   "outputs": [
    {
     "name": "stdout",
     "output_type": "stream",
     "text": [
      "2025/05/02 17:39:49 Start to infer ancestry based on Fst...\n",
      "2025/05/02 17:39:55   -Estimating Fst using 1092435 variants...\n",
      "2025/05/02 17:42:25   -FST_JPT : 0.0013011231969059457\n",
      "2025/05/02 17:42:25   -FST_EAS : 0.003402681409610014\n",
      "2025/05/02 17:42:25   -FST_CHB : 0.004771725287687589\n",
      "2025/05/02 17:42:25   -FST_CHS : 0.00557718589447665\n",
      "2025/05/02 17:42:25   -FST_KHV : 0.008060036020671957\n",
      "2025/05/02 17:42:25   -FST_CDX : 0.009378538435768321\n",
      "2025/05/02 17:42:25   -FST_BEB : 0.029580610314344523\n",
      "2025/05/02 17:42:26   -FST_SAS : 0.0334297639465622\n",
      "2025/05/02 17:42:26   -FST_AMR : 0.03376725785048947\n",
      "2025/05/02 17:42:26   -FST_MXL : 0.03397252226056477\n",
      "2025/05/02 17:42:26   -FST_STU : 0.03479542912141308\n",
      "2025/05/02 17:42:26   -FST_ITU : 0.03546863219350313\n",
      "2025/05/02 17:42:26   -FST_PJL : 0.036505876509988926\n",
      "2025/05/02 17:42:26   -FST_GIH : 0.03741117170161866\n",
      "2025/05/02 17:42:26   -FST_CLM : 0.038405857392604596\n",
      "2025/05/02 17:42:26   -FST_PEL : 0.03871952967170883\n",
      "2025/05/02 17:42:27   -FST_PUR : 0.0426097336203743\n",
      "2025/05/02 17:42:27   -FST_FIN : 0.04926895848990721\n",
      "2025/05/02 17:42:27   -FST_EUR : 0.05068495716091957\n",
      "2025/05/02 17:42:27   -FST_IBS : 0.053047983116956576\n",
      "2025/05/02 17:42:27   -FST_TSI : 0.05313050754288436\n",
      "2025/05/02 17:42:27   -FST_CEU : 0.05318011990403338\n",
      "2025/05/02 17:42:27   -FST_GBR : 0.05340945372745936\n",
      "2025/05/02 17:42:27   -FST_ASW : 0.06491610292573433\n",
      "2025/05/02 17:42:27   -FST_ACB : 0.07551884070419498\n",
      "2025/05/02 17:42:27   -FST_AFR : 0.08090907892652473\n",
      "2025/05/02 17:42:28   -FST_LWK : 0.0831176029789938\n",
      "2025/05/02 17:42:28   -FST_GWD : 0.08631209053797949\n",
      "2025/05/02 17:42:28   -FST_YRI : 0.0879915508936575\n",
      "2025/05/02 17:42:28   -FST_MSL : 0.08850961154513275\n",
      "2025/05/02 17:42:28   -FST_ESN : 0.08858280201380217\n",
      "2025/05/02 17:42:28   -Closest Ancestry: JPT\n",
      "2025/05/02 17:42:28 Finished inferring ancestry.\n"
     ]
    }
   ],
   "source": [
    "mysumstats.infer_ancestry(ancestry_af = gl.get_path(\"1kg_hm3_hg19_eaf\"))"
   ]
  },
  {
   "cell_type": "code",
   "execution_count": 6,
   "id": "b96b7ac9",
   "metadata": {},
   "outputs": [
    {
     "data": {
      "text/plain": [
       "'JPT'"
      ]
     },
     "execution_count": 6,
     "metadata": {},
     "output_type": "execute_result"
    }
   ],
   "source": [
    "mysumstats.meta[\"gwaslab\"][\"inferred_ancestry\"]"
   ]
  }
 ],
 "metadata": {
  "kernelspec": {
   "display_name": "Python 3 (ipykernel)",
   "language": "python",
   "name": "python3"
  },
  "language_info": {
   "codemirror_mode": {
    "name": "ipython",
    "version": 3
   },
   "file_extension": ".py",
   "mimetype": "text/x-python",
   "name": "python",
   "nbconvert_exporter": "python",
   "pygments_lexer": "ipython3",
   "version": "3.12.0"
  },
  "toc": {
   "base_numbering": 1,
   "nav_menu": {},
   "number_sections": true,
   "sideBar": true,
   "skip_h1_title": false,
   "title_cell": "Table of Contents",
   "title_sidebar": "Contents",
   "toc_cell": false,
   "toc_position": {},
   "toc_section_display": true,
   "toc_window_display": false
  }
 },
 "nbformat": 4,
 "nbformat_minor": 5
}
