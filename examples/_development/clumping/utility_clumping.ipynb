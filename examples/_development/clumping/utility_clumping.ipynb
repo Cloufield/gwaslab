{
 "cells": [
  {
   "cell_type": "markdown",
   "id": "b992c2a2",
   "metadata": {},
   "source": [
    "# Clumping by calling PLINK"
   ]
  },
  {
   "cell_type": "code",
   "execution_count": 1,
   "id": "4d232022",
   "metadata": {},
   "outputs": [],
   "source": [
    "import sys\n",
    "sys.path.insert(0,\"/home/yunye/work/gwaslab/src\")\n",
    "import gwaslab as gl"
   ]
  },
  {
   "cell_type": "code",
   "execution_count": 2,
   "id": "1576b950",
   "metadata": {},
   "outputs": [
    {
     "name": "stdout",
     "output_type": "stream",
     "text": [
      "2024/12/23 16:17:45 GWASLab v3.5.4 https://cloufield.github.io/gwaslab/\n",
      "2024/12/23 16:17:45 (C) 2022-2024, Yunye He, Kamatani Lab, MIT License, gwaslab@gmail.com\n"
     ]
    }
   ],
   "source": [
    "gl.show_version()"
   ]
  },
  {
   "cell_type": "markdown",
   "id": "e377891c-214e-4e8d-8e76-83c3244f3618",
   "metadata": {},
   "source": [
    "# Load sample data and perform QC"
   ]
  },
  {
   "cell_type": "code",
   "execution_count": 3,
   "id": "cdc90019",
   "metadata": {},
   "outputs": [
    {
     "name": "stdout",
     "output_type": "stream",
     "text": [
      "2024/12/23 16:17:45 GWASLab v3.5.4 https://cloufield.github.io/gwaslab/\n",
      "2024/12/23 16:17:45 (C) 2022-2024, Yunye He, Kamatani Lab, MIT License, gwaslab@gmail.com\n",
      "2024/12/23 16:17:45 Start to initialize gl.Sumstats from file :./0_sample_data/t2d_bbj.txt.gz\n",
      "2024/12/23 16:17:46  -Reading columns          : CHR,SNP,P,SE,POS\n",
      "2024/12/23 16:17:46  -Renaming columns to      : CHR,SNPID,P,SE,POS\n",
      "2024/12/23 16:17:46  -Current Dataframe shape : 1000000  x  5\n",
      "2024/12/23 16:17:46  -Initiating a status column: STATUS ...\n",
      "2024/12/23 16:17:46  #WARNING! Version of genomic coordinates is unknown...\n",
      "2024/12/23 16:17:46 Start to reorder the columns...v3.5.4\n",
      "2024/12/23 16:17:46  -Current Dataframe shape : 1000000 x 6 ; Memory usage: 63.43 MB\n",
      "2024/12/23 16:17:46  -Reordering columns to    : SNPID,CHR,POS,SE,P,STATUS\n",
      "2024/12/23 16:17:46 Finished reordering the columns.\n",
      "2024/12/23 16:17:46  -Column  : SNPID  CHR    POS   SE      P       STATUS  \n",
      "2024/12/23 16:17:46  -DType   : object string int64 float64 float64 category\n",
      "2024/12/23 16:17:46  -Verified: T      F      T     T       T       T       \n",
      "2024/12/23 16:17:46  #WARNING! Columns with possibly incompatible dtypes: CHR\n",
      "2024/12/23 16:17:46  -Current Dataframe memory usage: 63.43 MB\n",
      "2024/12/23 16:17:46 Finished loading data successfully!\n"
     ]
    }
   ],
   "source": [
    "mysumstats = gl.Sumstats(\"./0_sample_data/t2d_bbj.txt.gz\",\n",
    "             snpid=\"SNP\",\n",
    "             chrom=\"CHR\",\n",
    "             pos=\"POS\",\n",
    "             se=\"SE\",\n",
    "             p=\"P\",nrows=1000000)"
   ]
  },
  {
   "cell_type": "code",
   "execution_count": 4,
   "id": "402df696",
   "metadata": {},
   "outputs": [
    {
     "name": "stdout",
     "output_type": "stream",
     "text": [
      "2024/12/23 16:17:46 Start to check SNPID/rsID...v3.5.4\n",
      "2024/12/23 16:17:46  -Current Dataframe shape : 1000000 x 6 ; Memory usage: 63.43 MB\n",
      "2024/12/23 16:17:46  -Checking SNPID data type...\n",
      "2024/12/23 16:17:46  -Converting SNPID to pd.string data type...\n",
      "2024/12/23 16:17:46  -Checking if SNPID is CHR:POS:NEA:EA...(separator: - ,: , _)\n",
      "2024/12/23 16:17:48  -Replacing [_-] in SNPID with \":\" ...\n",
      "2024/12/23 16:17:49 Finished checking SNPID/rsID.\n"
     ]
    }
   ],
   "source": [
    "mysumstats.fix_id(fixsep=True)"
   ]
  },
  {
   "cell_type": "code",
   "execution_count": 5,
   "id": "e9549349",
   "metadata": {
    "scrolled": true
   },
   "outputs": [
    {
     "name": "stdout",
     "output_type": "stream",
     "text": [
      "2024/12/23 16:17:54  #WARNING! Necessary columns for .fix_allele() were not detected:EA,NEA\n",
      "2024/12/23 16:17:55  #WARNING! Necessary columns for .normalize() were not detected:EA,NEA\n"
     ]
    }
   ],
   "source": [
    "mysumstats.basic_check(verbose=False)"
   ]
  },
  {
   "cell_type": "markdown",
   "id": "6698f10e",
   "metadata": {},
   "source": [
    "## Run clumping by calling plink2"
   ]
  },
  {
   "cell_type": "markdown",
   "id": "297f52c6",
   "metadata": {},
   "source": [
    "GWASLab will extract lead variants and prepare input files dor running clumping by calling PLINK2"
   ]
  },
  {
   "cell_type": "markdown",
   "id": "9dca9179",
   "metadata": {},
   "source": [
    "- vcf: reference LD VCF file (it will be converted to bfile)\n",
    "- bfile: PLINK bfile prefix\n",
    "- pfile: PLINK pfile prefix"
   ]
  },
  {
   "cell_type": "markdown",
   "id": "506d7c7c",
   "metadata": {},
   "source": [
    "Default parameters:\n",
    "    \n",
    "- clump_p1=5e-8\n",
    "- clump_p2=5e-8\n",
    "- clump_r2=0.01\n",
    "- clump_kb=250"
   ]
  },
  {
   "cell_type": "code",
   "execution_count": 6,
   "id": "3842cd76",
   "metadata": {},
   "outputs": [
    {
     "name": "stdout",
     "output_type": "stream",
     "text": [
      "2024/12/23 16:17:55 Start to perfrom clumping...v3.5.4\n",
      "2024/12/23 16:17:55  -Current Dataframe shape : 1000000 x 6 ; Memory usage: 65.33 MB\n",
      "2024/12/23 16:17:55 Start to perform clumping...\n",
      "2024/12/23 16:17:55  -Clumping parameters for PLINK2:\n",
      "2024/12/23 16:17:55   -clump_p1 : 5e-08...\n",
      "2024/12/23 16:17:55   -clump_p2 : 1e-06...\n",
      "2024/12/23 16:17:55   -clump_kb : 250...\n",
      "2024/12/23 16:17:55   -clump_r2 : 0.1...\n",
      "2024/12/23 16:17:55  -Clumping will be performed using P\n",
      "2024/12/23 16:17:55  -Significant variants on CHR:  [1, 2]\n",
      "2024/12/23 16:17:55  -Processing VCF : /home/yunye/.gwaslab/EAS.ALL.split_norm_af.1kgp3v5.hg19.vcf.gz...\n",
      "2024/12/23 16:17:56  -PLINK version: PLINK v2.00a5.9LM AVX2 AMD (12 Dec 2023)\n",
      "2024/12/23 16:17:56   -Processing VCF for CHR 1...\n",
      "2024/12/23 16:17:56   -Plink bfile for CHR 1 exists: /home/yunye/.gwaslab/EAS.ALL.split_norm_af.1kgp3v5.hg19.1. Skipping...\n",
      "2024/12/23 16:17:56   -Processing VCF for CHR 2...\n",
      "2024/12/23 16:17:56   -Plink bfile for CHR 2 exists: /home/yunye/.gwaslab/EAS.ALL.split_norm_af.1kgp3v5.hg19.2. Skipping...\n",
      "2024/12/23 16:17:56  -Processing sumstats for CHR 1...\n",
      "2024/12/23 16:18:00  -Variants in reference file: 6471908...\n",
      "2024/12/23 16:18:00  -Variants in sumstats: 624...\n",
      "2024/12/23 16:18:00  -Variants available in both reference and sumstats: 624...\n",
      "2024/12/23 16:18:00  -Processing sumstats for CHR 2...\n",
      "2024/12/23 16:18:04  -Variants in reference file: 7085912...\n",
      "2024/12/23 16:18:04  -Variants in sumstats: 233...\n",
      "2024/12/23 16:18:04  -Variants available in both reference and sumstats: 233...\n",
      "2024/12/23 16:18:04  -Performing clumping for CHR 1...\n",
      "2024/12/23 16:18:04  -PLINK version: PLINK v2.00a5.9LM AVX2 AMD (12 Dec 2023)\n",
      "2024/12/23 16:18:05  -Saved results for CHR 1 to : clumping_plink2.1.clumps\n",
      "2024/12/23 16:18:05  -Performing clumping for CHR 2...\n",
      "2024/12/23 16:18:05  -PLINK version: PLINK v2.00a5.9LM AVX2 AMD (12 Dec 2023)\n",
      "2024/12/23 16:18:05  -Saved results for CHR 2 to : clumping_plink2.2.clumps\n",
      "2024/12/23 16:18:05 Finished clumping.\n",
      "2024/12/23 16:18:05 Finished clumping.\n"
     ]
    }
   ],
   "source": [
    "mysumstats.clump(   clump_r2=0.1,\n",
    "                    clump_p2=1e-6,\n",
    "                    vcf=gl.get_path(\"1kg_eas_hg19\"))"
   ]
  },
  {
   "cell_type": "markdown",
   "id": "027da179",
   "metadata": {},
   "source": [
    "### clump results are stored in mysumstats.clumps"
   ]
  },
  {
   "cell_type": "code",
   "execution_count": 8,
   "id": "29886935",
   "metadata": {},
   "outputs": [
    {
     "data": {
      "text/html": [
       "<div>\n",
       "<style scoped>\n",
       "    .dataframe tbody tr th:only-of-type {\n",
       "        vertical-align: middle;\n",
       "    }\n",
       "\n",
       "    .dataframe tbody tr th {\n",
       "        vertical-align: top;\n",
       "    }\n",
       "\n",
       "    .dataframe thead th {\n",
       "        text-align: right;\n",
       "    }\n",
       "</style>\n",
       "<table border=\"1\" class=\"dataframe\">\n",
       "  <thead>\n",
       "    <tr style=\"text-align: right;\">\n",
       "      <th></th>\n",
       "      <th>SNPID</th>\n",
       "      <th>CHR</th>\n",
       "      <th>POS</th>\n",
       "      <th>SE</th>\n",
       "      <th>P</th>\n",
       "      <th>STATUS</th>\n",
       "    </tr>\n",
       "  </thead>\n",
       "  <tbody>\n",
       "    <tr>\n",
       "      <th>96739</th>\n",
       "      <td>1:22068326:A:G</td>\n",
       "      <td>1</td>\n",
       "      <td>22068326</td>\n",
       "      <td>0.0103</td>\n",
       "      <td>1.629000e-09</td>\n",
       "      <td>9960999</td>\n",
       "    </tr>\n",
       "    <tr>\n",
       "      <th>213860</th>\n",
       "      <td>1:51103268:T:C</td>\n",
       "      <td>1</td>\n",
       "      <td>51103268</td>\n",
       "      <td>0.0120</td>\n",
       "      <td>2.519000e-11</td>\n",
       "      <td>9960999</td>\n",
       "    </tr>\n",
       "    <tr>\n",
       "      <th>214500</th>\n",
       "      <td>1:51401146:CT:C</td>\n",
       "      <td>1</td>\n",
       "      <td>51401146</td>\n",
       "      <td>0.0145</td>\n",
       "      <td>6.090000e-10</td>\n",
       "      <td>9960999</td>\n",
       "    </tr>\n",
       "    <tr>\n",
       "      <th>534095</th>\n",
       "      <td>1:154309595:TA:T</td>\n",
       "      <td>1</td>\n",
       "      <td>154309595</td>\n",
       "      <td>0.0166</td>\n",
       "      <td>3.289000e-08</td>\n",
       "      <td>9960999</td>\n",
       "    </tr>\n",
       "    <tr>\n",
       "      <th>969974</th>\n",
       "      <td>2:640986:CACAT:C</td>\n",
       "      <td>2</td>\n",
       "      <td>640986</td>\n",
       "      <td>0.0150</td>\n",
       "      <td>2.665000e-10</td>\n",
       "      <td>9960999</td>\n",
       "    </tr>\n",
       "  </tbody>\n",
       "</table>\n",
       "</div>"
      ],
      "text/plain": [
       "                   SNPID  CHR        POS      SE             P   STATUS\n",
       "96739     1:22068326:A:G    1   22068326  0.0103  1.629000e-09  9960999\n",
       "213860    1:51103268:T:C    1   51103268  0.0120  2.519000e-11  9960999\n",
       "214500   1:51401146:CT:C    1   51401146  0.0145  6.090000e-10  9960999\n",
       "534095  1:154309595:TA:T    1  154309595  0.0166  3.289000e-08  9960999\n",
       "969974  2:640986:CACAT:C    2     640986  0.0150  2.665000e-10  9960999"
      ]
     },
     "execution_count": 8,
     "metadata": {},
     "output_type": "execute_result"
    }
   ],
   "source": [
    "mysumstats.clumps[\"clumps\"]"
   ]
  },
  {
   "cell_type": "code",
   "execution_count": 9,
   "id": "1c4f6cdf",
   "metadata": {},
   "outputs": [
    {
     "data": {
      "text/html": [
       "<div>\n",
       "<style scoped>\n",
       "    .dataframe tbody tr th:only-of-type {\n",
       "        vertical-align: middle;\n",
       "    }\n",
       "\n",
       "    .dataframe tbody tr th {\n",
       "        vertical-align: top;\n",
       "    }\n",
       "\n",
       "    .dataframe thead th {\n",
       "        text-align: right;\n",
       "    }\n",
       "</style>\n",
       "<table border=\"1\" class=\"dataframe\">\n",
       "  <thead>\n",
       "    <tr style=\"text-align: right;\">\n",
       "      <th></th>\n",
       "      <th>CHR</th>\n",
       "      <th>POS</th>\n",
       "      <th>SNPID</th>\n",
       "      <th>P</th>\n",
       "      <th>TOTAL</th>\n",
       "      <th>NONSIG</th>\n",
       "      <th>S0.05</th>\n",
       "      <th>S0.01</th>\n",
       "      <th>S0.001</th>\n",
       "      <th>S0.0001</th>\n",
       "      <th>SP2</th>\n",
       "    </tr>\n",
       "  </thead>\n",
       "  <tbody>\n",
       "    <tr>\n",
       "      <th>2</th>\n",
       "      <td>1</td>\n",
       "      <td>22068326</td>\n",
       "      <td>1:22068326:A:G</td>\n",
       "      <td>1.629000e-09</td>\n",
       "      <td>89</td>\n",
       "      <td>0</td>\n",
       "      <td>0</td>\n",
       "      <td>0</td>\n",
       "      <td>0</td>\n",
       "      <td>89</td>\n",
       "      <td>1:21982702:A:G,1:21983254:C:T,1:21983611:C:T,1...</td>\n",
       "    </tr>\n",
       "    <tr>\n",
       "      <th>0</th>\n",
       "      <td>1</td>\n",
       "      <td>51103268</td>\n",
       "      <td>1:51103268:T:C</td>\n",
       "      <td>2.519000e-11</td>\n",
       "      <td>347</td>\n",
       "      <td>0</td>\n",
       "      <td>0</td>\n",
       "      <td>0</td>\n",
       "      <td>0</td>\n",
       "      <td>347</td>\n",
       "      <td>1:50854197:G:C,1:50854654:A:G,1:50855083:A:G,1...</td>\n",
       "    </tr>\n",
       "    <tr>\n",
       "      <th>1</th>\n",
       "      <td>1</td>\n",
       "      <td>51401146</td>\n",
       "      <td>1:51401146:CT:C</td>\n",
       "      <td>6.090000e-10</td>\n",
       "      <td>134</td>\n",
       "      <td>0</td>\n",
       "      <td>0</td>\n",
       "      <td>0</td>\n",
       "      <td>0</td>\n",
       "      <td>134</td>\n",
       "      <td>1:51353720:C:G,1:51355823:A:G,1:51356091:G:T,1...</td>\n",
       "    </tr>\n",
       "    <tr>\n",
       "      <th>3</th>\n",
       "      <td>1</td>\n",
       "      <td>154309595</td>\n",
       "      <td>1:154309595:TA:T</td>\n",
       "      <td>3.289000e-08</td>\n",
       "      <td>5</td>\n",
       "      <td>0</td>\n",
       "      <td>0</td>\n",
       "      <td>0</td>\n",
       "      <td>0</td>\n",
       "      <td>5</td>\n",
       "      <td>1:154264194:G:A,1:154321382:C:T,1:154345344:G:...</td>\n",
       "    </tr>\n",
       "    <tr>\n",
       "      <th>4</th>\n",
       "      <td>2</td>\n",
       "      <td>640986</td>\n",
       "      <td>2:640986:CACAT:C</td>\n",
       "      <td>2.665000e-10</td>\n",
       "      <td>232</td>\n",
       "      <td>0</td>\n",
       "      <td>0</td>\n",
       "      <td>0</td>\n",
       "      <td>0</td>\n",
       "      <td>232</td>\n",
       "      <td>2:601905:T:G,2:605176:T:A,2:609177:A:G,2:61060...</td>\n",
       "    </tr>\n",
       "  </tbody>\n",
       "</table>\n",
       "</div>"
      ],
      "text/plain": [
       "   CHR        POS             SNPID             P  TOTAL  NONSIG  S0.05  \\\n",
       "2    1   22068326    1:22068326:A:G  1.629000e-09     89       0      0   \n",
       "0    1   51103268    1:51103268:T:C  2.519000e-11    347       0      0   \n",
       "1    1   51401146   1:51401146:CT:C  6.090000e-10    134       0      0   \n",
       "3    1  154309595  1:154309595:TA:T  3.289000e-08      5       0      0   \n",
       "4    2     640986  2:640986:CACAT:C  2.665000e-10    232       0      0   \n",
       "\n",
       "   S0.01  S0.001  S0.0001                                                SP2  \n",
       "2      0       0       89  1:21982702:A:G,1:21983254:C:T,1:21983611:C:T,1...  \n",
       "0      0       0      347  1:50854197:G:C,1:50854654:A:G,1:50855083:A:G,1...  \n",
       "1      0       0      134  1:51353720:C:G,1:51355823:A:G,1:51356091:G:T,1...  \n",
       "3      0       0        5  1:154264194:G:A,1:154321382:C:T,1:154345344:G:...  \n",
       "4      0       0      232  2:601905:T:G,2:605176:T:A,2:609177:A:G,2:61060...  "
      ]
     },
     "execution_count": 9,
     "metadata": {},
     "output_type": "execute_result"
    }
   ],
   "source": [
    "mysumstats.clumps[\"clumps_raw\"]"
   ]
  },
  {
   "cell_type": "code",
   "execution_count": 11,
   "id": "591daf58",
   "metadata": {},
   "outputs": [
    {
     "name": "stdout",
     "output_type": "stream",
     "text": [
      "PLINK v2.00a5.9LM AVX2 AMD (12 Dec 2023)       www.cog-genomics.org/plink/2.0/\n",
      "(C) 2005-2023 Shaun Purcell, Christopher Chang   GNU General Public License v3\n",
      "Logging to clumping_plink2.1.log.\n",
      "Options in effect:\n",
      "  --bfile /home/yunye/.gwaslab/EAS.ALL.split_norm_af.1kgp3v5.hg19.1\n",
      "  --chr 1\n",
      "  --clump _gwaslab_tmp.1.SNPIDP\n",
      "  --clump-id-field SNPID\n",
      "  --clump-kb 250\n",
      "  --clump-p-field P\n",
      "  --clump-p1 5e-08\n",
      "  --clump-p2 1e-06\n",
      "  --clump-r2 0.1\n",
      "  --out clumping_plink2.1\n",
      "  --threads 1\n",
      "\n",
      "Start time: Mon Dec 23 16:18:04 2024\n",
      "31934 MiB RAM detected, ~27652 available; reserving 15967 MiB for main\n",
      "workspace.\n",
      "Using 1 compute thread.\n",
      "504 samples (0 females, 0 males, 504 ambiguous; 504 founders) loaded from\n",
      "/home/yunye/.gwaslab/EAS.ALL.split_norm_af.1kgp3v5.hg19.1.fam.\n",
      "6471908 variants loaded from\n",
      "/home/yunye/.gwaslab/EAS.ALL.split_norm_af.1kgp3v5.hg19.1.bim.\n",
      "Note: No phenotype data present.\n",
      "\n",
      "--clump: 0/312 index candidates processed.\n",
      "--clump: 4 clumps formed from 312 index candidates.  \n",
      "Results written to clumping_plink2.1.clumps .\n",
      "End time: Mon Dec 23 16:18:05 2024\n",
      "\n",
      "PLINK v2.00a5.9LM AVX2 AMD (12 Dec 2023)       www.cog-genomics.org/plink/2.0/\n",
      "(C) 2005-2023 Shaun Purcell, Christopher Chang   GNU General Public License v3\n",
      "Logging to clumping_plink2.2.log.\n",
      "Options in effect:\n",
      "  --bfile /home/yunye/.gwaslab/EAS.ALL.split_norm_af.1kgp3v5.hg19.2\n",
      "  --chr 2\n",
      "  --clump _gwaslab_tmp.2.SNPIDP\n",
      "  --clump-id-field SNPID\n",
      "  --clump-kb 250\n",
      "  --clump-p-field P\n",
      "  --clump-p1 5e-08\n",
      "  --clump-p2 1e-06\n",
      "  --clump-r2 0.1\n",
      "  --out clumping_plink2.2\n",
      "  --threads 1\n",
      "\n",
      "Start time: Mon Dec 23 16:18:05 2024\n",
      "31934 MiB RAM detected, ~27647 available; reserving 15967 MiB for main\n",
      "workspace.\n",
      "Using 1 compute thread.\n",
      "504 samples (0 females, 0 males, 504 ambiguous; 504 founders) loaded from\n",
      "/home/yunye/.gwaslab/EAS.ALL.split_norm_af.1kgp3v5.hg19.2.fam.\n",
      "7085912 variants loaded from\n",
      "/home/yunye/.gwaslab/EAS.ALL.split_norm_af.1kgp3v5.hg19.2.bim.\n",
      "Note: No phenotype data present.\n",
      "\n",
      "--clump: 0/231 index candidates processed.\n",
      "--clump: 1 clump formed from 231 index candidates.  \n",
      "Results written to clumping_plink2.2.clumps .\n",
      "End time: Mon Dec 23 16:18:05 2024\n",
      "\n",
      "\n"
     ]
    }
   ],
   "source": [
    "print(mysumstats.clumps[\"plink_log\"])"
   ]
  }
 ],
 "metadata": {
  "kernelspec": {
   "display_name": "Python 3 (ipykernel)",
   "language": "python",
   "name": "python3"
  },
  "language_info": {
   "codemirror_mode": {
    "name": "ipython",
    "version": 3
   },
   "file_extension": ".py",
   "mimetype": "text/x-python",
   "name": "python",
   "nbconvert_exporter": "python",
   "pygments_lexer": "ipython3",
   "version": "3.9.18"
  },
  "toc": {
   "base_numbering": 1,
   "nav_menu": {},
   "number_sections": true,
   "sideBar": true,
   "skip_h1_title": false,
   "title_cell": "Table of Contents",
   "title_sidebar": "Contents",
   "toc_cell": false,
   "toc_position": {},
   "toc_section_display": true,
   "toc_window_display": false
  }
 },
 "nbformat": 4,
 "nbformat_minor": 5
}
