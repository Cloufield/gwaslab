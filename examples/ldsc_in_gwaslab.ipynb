{
 "cells": [
  {
   "cell_type": "markdown",
   "id": "f56a1827",
   "metadata": {},
   "source": [
    "# LDSC in gwaslab"
   ]
  },
  {
   "cell_type": "code",
   "execution_count": 1,
   "id": "646af7e7",
   "metadata": {},
   "outputs": [],
   "source": [
    "import gwaslab as gl"
   ]
  },
  {
   "cell_type": "markdown",
   "id": "88a3f57a",
   "metadata": {},
   "source": [
    "## Loading and filter in only Hapmap3 SNPs"
   ]
  },
  {
   "cell_type": "code",
   "execution_count": 2,
   "id": "c7d3a6ef",
   "metadata": {},
   "outputs": [],
   "source": [
    "t2d = gl.Sumstats(\"t2d_bbj.txt.gz\",\n",
    "             snpid=\"SNP\",\n",
    "             chrom=\"CHR\",\n",
    "             pos=\"POS\",\n",
    "             ea=\"ALT\",\n",
    "             nea=\"REF\",\n",
    "             beta=\"BETA\",\n",
    "             se=\"SE\",\n",
    "             p=\"P\",\n",
    "             direction=\"Dir\",\n",
    "             build=\"19\",\n",
    "             n=\"N\", verbose=False)"
   ]
  },
  {
   "cell_type": "code",
   "execution_count": 3,
   "id": "f98634b3",
   "metadata": {},
   "outputs": [
    {
     "name": "stdout",
     "output_type": "stream",
     "text": [
      "2024/02/10 14:01:16 Start to extract HapMap3 SNPs...v3.4.39\n",
      "2024/02/10 14:01:16  -Current Dataframe shape : 12557761 x 11 ; Memory usage: 909.26 MB\n",
      "2024/02/10 14:01:16  -Loading Hapmap3 variants from built-in datasets...\n",
      "2024/02/10 14:01:18  -Since rsID not in sumstats, CHR:POS( build 19) will be used for matching...\n",
      "2024/02/10 14:01:36  -Checking if alleles are same...\n",
      "2024/02/10 14:01:39  -Variants with macthed alleles: 1092430\n",
      "2024/02/10 14:01:39  -Raw input contains 1092430 Hapmap3 variants based on CHR:POS...\n",
      "2024/02/10 14:01:39 Finished extracting HapMap3 SNPs.\n"
     ]
    }
   ],
   "source": [
    "t2d.filter_hapmap3(inplace=True)"
   ]
  },
  {
   "cell_type": "markdown",
   "id": "65d4c867",
   "metadata": {},
   "source": [
    "## Heritability estimation"
   ]
  },
  {
   "cell_type": "code",
   "execution_count": 4,
   "id": "2ce1146c",
   "metadata": {
    "scrolled": false
   },
   "outputs": [
    {
     "name": "stdout",
     "output_type": "stream",
     "text": [
      "2024/02/10 14:01:40 Start to extract HapMap3 SNPs...v3.4.39\n",
      "2024/02/10 14:01:40  -Current Dataframe shape : 1092430 x 12 ; Memory usage: 116.80 MB\n",
      "2024/02/10 14:01:40  -Loading Hapmap3 variants from built-in datasets...\n",
      "2024/02/10 14:01:41 Start to run LD score regression...v3.4.39\n",
      "2024/02/10 14:01:41  -Current Dataframe shape : 1092430 x 12 ; Memory usage: 116.80 MB\n",
      "2024/02/10 14:01:41  -Run single variate LD score regression:\n",
      "2024/02/10 14:01:41   -Adopted from LDSC source code: https://github.com/bulik/ldsc\n",
      "2024/02/10 14:01:41   -Please cite LDSC: Bulik-Sullivan, et al. LD Score Regression Distinguishes Confounding from Polygenicity in Genome-Wide Association Studies. Nature Genetics, 2015.\n",
      "2024/02/10 14:01:41  -Arguments:\n",
      "2024/02/10 14:01:41   -ref_ld_chr:/home/yunye/tools/ldsc/ldscores/eas_ldscores/\n",
      "2024/02/10 14:01:41   -w_ld_chr:/home/yunye/tools/ldsc/ldscores/eas_ldscores/\n",
      "2024/02/10 14:01:42  -LDSC log:\n",
      "2024/02/10 14:01:42   -Reading reference panel LD Score from /home/yunye/tools/ldsc/ldscores/eas_ldscores/[1-22] ... (ldscore_fromlist)\n",
      "2024/02/10 14:01:43   -Read reference panel LD Scores for 1208050 SNPs.\n",
      "2024/02/10 14:01:43   -Removing partitioned LD Scores with zero variance.\n",
      "2024/02/10 14:01:43   -Reading regression weight LD Score from /home/yunye/tools/ldsc/ldscores/eas_ldscores/[1-22] ... (ldscore_fromlist)\n",
      "2024/02/10 14:01:45   -Read regression weight LD Scores for 1208050 SNPs.\n",
      "2024/02/10 14:01:46   -After merging with reference panel LD, 1079390 SNPs remain.\n",
      "2024/02/10 14:01:47   -After merging with regression SNP LD, 1079390 SNPs remain.\n",
      "2024/02/10 14:01:47   -Using two-step estimator with cutoff at 30.\n",
      "2024/02/10 14:01:49  -Results have been stored in .ldsc_h2\n",
      "2024/02/10 14:01:49 Finished running LD score regression.\n"
     ]
    }
   ],
   "source": [
    "t2d.estimate_h2_by_ldsc(ref_ld_chr = \"/home/yunye/tools/ldsc/ldscores/eas_ldscores/\", \n",
    "                               w_ld_chr = \"/home/yunye/tools/ldsc/ldscores/eas_ldscores/\")"
   ]
  },
  {
   "cell_type": "code",
   "execution_count": 5,
   "id": "2c0e5e1b",
   "metadata": {},
   "outputs": [
    {
     "data": {
      "text/html": [
       "<div>\n",
       "<style scoped>\n",
       "    .dataframe tbody tr th:only-of-type {\n",
       "        vertical-align: middle;\n",
       "    }\n",
       "\n",
       "    .dataframe tbody tr th {\n",
       "        vertical-align: top;\n",
       "    }\n",
       "\n",
       "    .dataframe thead th {\n",
       "        text-align: right;\n",
       "    }\n",
       "</style>\n",
       "<table border=\"1\" class=\"dataframe\">\n",
       "  <thead>\n",
       "    <tr style=\"text-align: right;\">\n",
       "      <th></th>\n",
       "      <th>h2_obs</th>\n",
       "      <th>h2_se</th>\n",
       "      <th>Lambda_gc</th>\n",
       "      <th>Mean_chi2</th>\n",
       "      <th>Intercept</th>\n",
       "      <th>Intercept_se</th>\n",
       "      <th>Ratio</th>\n",
       "      <th>Ratio_se</th>\n",
       "    </tr>\n",
       "  </thead>\n",
       "  <tbody>\n",
       "    <tr>\n",
       "      <th>0</th>\n",
       "      <td>0.10394433</td>\n",
       "      <td>0.00650644</td>\n",
       "      <td>1.32982693</td>\n",
       "      <td>1.49125406</td>\n",
       "      <td>1.09147712</td>\n",
       "      <td>0.01056279</td>\n",
       "      <td>0.18621142</td>\n",
       "      <td>0.02150169</td>\n",
       "    </tr>\n",
       "  </tbody>\n",
       "</table>\n",
       "</div>"
      ],
      "text/plain": [
       "       h2_obs       h2_se   Lambda_gc   Mean_chi2   Intercept Intercept_se  \\\n",
       "0  0.10394433  0.00650644  1.32982693  1.49125406  1.09147712   0.01056279   \n",
       "\n",
       "        Ratio    Ratio_se  \n",
       "0  0.18621142  0.02150169  "
      ]
     },
     "execution_count": 5,
     "metadata": {},
     "output_type": "execute_result"
    }
   ],
   "source": [
    "t2d.ldsc_h2"
   ]
  },
  {
   "cell_type": "markdown",
   "id": "0ed12507",
   "metadata": {},
   "source": [
    "## Genetic correlation"
   ]
  },
  {
   "cell_type": "code",
   "execution_count": 6,
   "id": "63d4dc85",
   "metadata": {},
   "outputs": [],
   "source": [
    "bmi_female = gl.Sumstats(\"bbj_bmi_female.txt.gz\",fmt=\"auto\",ea=\"REF\",nea=\"ALT\",rsid=\"SNP\",n=70000, sep=\"\\t\",build=\"19\",verbose=False)\n",
    "bmi_male = gl.Sumstats(\"bbj_bmi_male.txt.gz\",fmt=\"auto\",ea=\"REF\",nea=\"ALT\",rsid=\"SNP\",n=80000,sep=\"\\t\",build=\"19\",verbose=False)"
   ]
  },
  {
   "cell_type": "markdown",
   "id": "952e73a7",
   "metadata": {},
   "source": [
    "- other_traits : a list of gl.Sumstats object\n",
    "- rg : alias for each trait including the main trait"
   ]
  },
  {
   "cell_type": "code",
   "execution_count": 7,
   "id": "ac72090c",
   "metadata": {
    "scrolled": false
   },
   "outputs": [
    {
     "name": "stdout",
     "output_type": "stream",
     "text": [
      "2024/02/10 14:02:09 Start to extract HapMap3 SNPs...v3.4.39\n",
      "2024/02/10 14:02:09  -Current Dataframe shape : 1092430 x 12 ; Memory usage: 116.80 MB\n",
      "2024/02/10 14:02:09  -Loading Hapmap3 variants from built-in datasets...\n",
      "2024/02/10 14:02:11 Start to run LD score regression for genetic correlation...v3.4.39\n",
      "2024/02/10 14:02:11  -Current Dataframe shape : 1092430 x 12 ; Memory usage: 116.80 MB\n",
      "2024/02/10 14:02:11  -Run cross-trait LD score regression:\n",
      "2024/02/10 14:02:11   -Adopted from LDSC source code: https://github.com/bulik/ldsc\n",
      "2024/02/10 14:02:11   -Please cite LDSC: Bulik-Sullivan, et al. LD Score Regression Distinguishes Confounding from Polygenicity in Genome-Wide Association Studies. Nature Genetics, 2015.\n",
      "2024/02/10 14:02:11  -Arguments:\n",
      "2024/02/10 14:02:11   -rg:T2D,BMI_female,BMI_male\n",
      "2024/02/10 14:02:11   -ref_ld_chr:/home/yunye/tools/ldsc/ldscores/eas_ldscores/\n",
      "2024/02/10 14:02:11   -w_ld_chr:/home/yunye/tools/ldsc/ldscores/eas_ldscores/\n",
      "2024/02/10 14:02:11  -Processing sumstats with alias T2D (Study_1)\n",
      "2024/02/10 14:02:12  -Processing sumstats with alias BMI_female (Study_1)\n",
      "2024/02/10 14:02:12  -LDSC log:\n",
      "2024/02/10 14:02:12   -Reading reference panel LD Score from /home/yunye/tools/ldsc/ldscores/eas_ldscores/[1-22] ... (ldscore_fromlist)\n",
      "2024/02/10 14:02:14   -Read reference panel LD Scores for 1208050 SNPs.\n",
      "2024/02/10 14:02:14   -Removing partitioned LD Scores with zero variance.\n",
      "2024/02/10 14:02:14   -Reading regression weight LD Score from /home/yunye/tools/ldsc/ldscores/eas_ldscores/[1-22] ... (ldscore_fromlist)\n",
      "2024/02/10 14:02:15   -Read regression weight LD Scores for 1208050 SNPs.\n",
      "2024/02/10 14:02:17   -After merging with reference panel LD, 1079390 SNPs remain.\n",
      "2024/02/10 14:02:18   -After merging with regression SNP LD, 1079390 SNPs remain.\n",
      "2024/02/10 14:02:18   -Computing rg for phenotype 2/3\n",
      "2024/02/10 14:02:18   -Read summary statistics for 5961600 SNPs.\n",
      "2024/02/10 14:02:25   -After merging with summary statistics, 1021957 SNPs remain.\n",
      "2024/02/10 14:02:26   -1021957 SNPs with valid alleles.\n",
      "2024/02/10 14:02:27   -Heritability of phenotype 1\n",
      "2024/02/10 14:02:27   -Total Observed scale h2: 0.09687973 (0.00885768)\n",
      "                       -Lambda GC: 1.34889231\n",
      "                       -Mean Chi^2: 1.50928684\n",
      "                       -Intercept: 1.12024032 (0.02516315)\n",
      "                       -Ratio: 0.23609547 (0.04940861)\n",
      "2024/02/10 14:02:27   -Heritability of phenotype 2/3\n",
      "2024/02/10 14:02:27   -Total Observed scale h2: 0.19319917 (0.01213263)\n",
      "                       -Lambda GC: 1.2537503\n",
      "                       -Mean Chi^2: 1.31732059\n",
      "                       -Intercept: 1.0306093 (0.01022627)\n",
      "                       -Ratio: 0.09646175 (0.03222695)\n",
      "2024/02/10 14:02:27   -Genetic Covariance\n",
      "2024/02/10 14:02:27   -Total Observed scale gencov: 0.04387074 (0.00729069)\n",
      "                       -Mean z1*z2: 0.12628027\n",
      "                       -Intercept: 0.01918354 (0.00945413)\n",
      "2024/02/10 14:02:27   -Genetic Correlation\n",
      "2024/02/10 14:02:27   -Genetic Correlation: 0.32066816 (0.06227918)\n",
      "                       -Z-score: 5.14888223\n",
      "                       -P: 2.62043342e-07\n",
      "\n",
      "2024/02/10 14:02:27   -Computing rg for phenotype 3/3\n",
      "2024/02/10 14:02:27   -Read summary statistics for 5961600 SNPs.\n",
      "2024/02/10 14:02:34   -After merging with summary statistics, 1021957 SNPs remain.\n",
      "2024/02/10 14:02:35   -1021957 SNPs with valid alleles.\n",
      "2024/02/10 14:02:36   -Heritability of phenotype 3/3\n",
      "2024/02/10 14:02:36   -Total Observed scale h2: 0.17595184 (0.01138382)\n",
      "                       -Lambda GC: 1.25741577\n",
      "                       -Mean Chi^2: 1.34453038\n",
      "                       -Intercept: 1.04768706 (0.01071735)\n",
      "                       -Ratio: 0.13841176 (0.03110712)\n",
      "2024/02/10 14:02:36   -Genetic Covariance\n",
      "2024/02/10 14:02:36   -Total Observed scale gencov: 0.02739806 (0.00705736)\n",
      "                       -Mean z1*z2: 0.07617508\n",
      "                       -Intercept: 0.00535343 (0.0118926)\n",
      "2024/02/10 14:02:36   -Genetic Correlation\n",
      "2024/02/10 14:02:36   -Genetic Correlation: 0.20984874 (0.06008801)\n",
      "                       -Z-score: 3.49235659\n",
      "                       -P: 0.00047878\n",
      "\n",
      "2024/02/10 14:02:36 Summary of Genetic Correlation Results\n",
      " p1         p2       rg       se        z            p   h2_obs  h2_obs_se   h2_int  h2_int_se  gcov_int  gcov_int_se\n",
      "T2D BMI_female 0.320668 0.062279 5.148882 2.620433e-07 0.193199   0.012133 1.030609   0.010226  0.019184     0.009454\n",
      "T2D   BMI_male 0.209849 0.060088 3.492357 4.787786e-04 0.175952   0.011384 1.047687   0.010717  0.005353     0.011893\n",
      "\n",
      "2024/02/10 14:02:36  -Results have been stored in .ldsc_rg\n",
      "2024/02/10 14:02:36 Finished running LD score regression for genetic correlation.\n"
     ]
    }
   ],
   "source": [
    "t2d.estimate_rg_by_ldsc(other_traits=[bmi_female,bmi_male], \n",
    "                               rg=\"T2D,BMI_female,BMI_male\",\n",
    "                               ref_ld_chr = \"/home/yunye/tools/ldsc/ldscores/eas_ldscores/\", \n",
    "                               w_ld_chr = \"/home/yunye/tools/ldsc/ldscores/eas_ldscores/\")"
   ]
  },
  {
   "cell_type": "code",
   "execution_count": 8,
   "id": "155632ae",
   "metadata": {},
   "outputs": [
    {
     "data": {
      "text/html": [
       "<div>\n",
       "<style scoped>\n",
       "    .dataframe tbody tr th:only-of-type {\n",
       "        vertical-align: middle;\n",
       "    }\n",
       "\n",
       "    .dataframe tbody tr th {\n",
       "        vertical-align: top;\n",
       "    }\n",
       "\n",
       "    .dataframe thead th {\n",
       "        text-align: right;\n",
       "    }\n",
       "</style>\n",
       "<table border=\"1\" class=\"dataframe\">\n",
       "  <thead>\n",
       "    <tr style=\"text-align: right;\">\n",
       "      <th></th>\n",
       "      <th>p1</th>\n",
       "      <th>p2</th>\n",
       "      <th>rg</th>\n",
       "      <th>se</th>\n",
       "      <th>z</th>\n",
       "      <th>p</th>\n",
       "      <th>h2_obs</th>\n",
       "      <th>h2_obs_se</th>\n",
       "      <th>h2_int</th>\n",
       "      <th>h2_int_se</th>\n",
       "      <th>gcov_int</th>\n",
       "      <th>gcov_int_se</th>\n",
       "    </tr>\n",
       "  </thead>\n",
       "  <tbody>\n",
       "    <tr>\n",
       "      <th>0</th>\n",
       "      <td>T2D</td>\n",
       "      <td>BMI_female</td>\n",
       "      <td>0.320668</td>\n",
       "      <td>0.062279</td>\n",
       "      <td>5.148882</td>\n",
       "      <td>2.620433e-07</td>\n",
       "      <td>0.193199</td>\n",
       "      <td>0.012133</td>\n",
       "      <td>1.030609</td>\n",
       "      <td>0.010226</td>\n",
       "      <td>0.019184</td>\n",
       "      <td>0.009454</td>\n",
       "    </tr>\n",
       "    <tr>\n",
       "      <th>1</th>\n",
       "      <td>T2D</td>\n",
       "      <td>BMI_male</td>\n",
       "      <td>0.209849</td>\n",
       "      <td>0.060088</td>\n",
       "      <td>3.492357</td>\n",
       "      <td>4.787786e-04</td>\n",
       "      <td>0.175952</td>\n",
       "      <td>0.011384</td>\n",
       "      <td>1.047687</td>\n",
       "      <td>0.010717</td>\n",
       "      <td>0.005353</td>\n",
       "      <td>0.011893</td>\n",
       "    </tr>\n",
       "  </tbody>\n",
       "</table>\n",
       "</div>"
      ],
      "text/plain": [
       "    p1          p2        rg        se         z             p    h2_obs  \\\n",
       "0  T2D  BMI_female  0.320668  0.062279  5.148882  2.620433e-07  0.193199   \n",
       "1  T2D    BMI_male  0.209849  0.060088  3.492357  4.787786e-04  0.175952   \n",
       "\n",
       "   h2_obs_se    h2_int  h2_int_se  gcov_int  gcov_int_se  \n",
       "0   0.012133  1.030609   0.010226  0.019184     0.009454  \n",
       "1   0.011384  1.047687   0.010717  0.005353     0.011893  "
      ]
     },
     "execution_count": 8,
     "metadata": {},
     "output_type": "execute_result"
    }
   ],
   "source": [
    "t2d.ldsc_rg"
   ]
  }
 ],
 "metadata": {
  "kernelspec": {
   "display_name": "Python 3 (ipykernel)",
   "language": "python",
   "name": "python3"
  },
  "language_info": {
   "codemirror_mode": {
    "name": "ipython",
    "version": 3
   },
   "file_extension": ".py",
   "mimetype": "text/x-python",
   "name": "python",
   "nbconvert_exporter": "python",
   "pygments_lexer": "ipython3",
   "version": "3.9.7"
  },
  "toc": {
   "base_numbering": 1,
   "nav_menu": {},
   "number_sections": true,
   "sideBar": true,
   "skip_h1_title": false,
   "title_cell": "Table of Contents",
   "title_sidebar": "Contents",
   "toc_cell": false,
   "toc_position": {},
   "toc_section_display": true,
   "toc_window_display": false
  }
 },
 "nbformat": 4,
 "nbformat_minor": 5
}
