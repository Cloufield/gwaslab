{
 "cells": [
  {
   "cell_type": "code",
   "execution_count": 1,
   "id": "646af7e7",
   "metadata": {},
   "outputs": [],
   "source": [
    "import sys\n",
    "sys.path.insert(0,\"/home/yunye/work/gwaslab/src/\")\n",
    "import gwaslab as gl"
   ]
  },
  {
   "cell_type": "code",
   "execution_count": 2,
   "id": "c7d3a6ef",
   "metadata": {},
   "outputs": [],
   "source": [
    "mysumstats = gl.Sumstats(\"t2d_bbj.txt.gz\",\n",
    "             snpid=\"SNP\",\n",
    "             chrom=\"CHR\",\n",
    "             pos=\"POS\",\n",
    "             ea=\"ALT\",\n",
    "             nea=\"REF\",\n",
    "             neaf=\"Frq\",\n",
    "             beta=\"BETA\",\n",
    "             se=\"SE\",\n",
    "             p=\"P\",\n",
    "             direction=\"Dir\",\n",
    "             build=\"19\",\n",
    "             n=\"N\", verbose=False)"
   ]
  },
  {
   "cell_type": "code",
   "execution_count": 3,
   "id": "f98634b3",
   "metadata": {},
   "outputs": [
    {
     "name": "stdout",
     "output_type": "stream",
     "text": [
      "2024/02/10 02:00:52 Start to extract HapMap3 SNPs...v3.4.39\n",
      "2024/02/10 02:00:52  -Current Dataframe shape : 12557761 x 12 ; Memory usage: 1100.88 MB\n",
      "2024/02/10 02:00:52  -Loading Hapmap3 variants from built-in datasets...\n",
      "2024/02/10 02:00:53  -Since rsID not in sumstats, CHR:POS( build 19) will be used for matching...\n",
      "2024/02/10 02:01:14  -Checking if alleles are same...\n",
      "2024/02/10 02:01:17  -Variants with macthed alleles: 1092430\n",
      "2024/02/10 02:01:17  -Raw input contains 1092430 Hapmap3 variants based on CHR:POS...\n",
      "2024/02/10 02:01:17 Finished extracting HapMap3 SNPs.\n"
     ]
    }
   ],
   "source": [
    "mysumstats.filter_hapmap3(inplace=True)"
   ]
  },
  {
   "cell_type": "code",
   "execution_count": 5,
   "id": "2ce1146c",
   "metadata": {
    "scrolled": false
   },
   "outputs": [
    {
     "name": "stdout",
     "output_type": "stream",
     "text": [
      "2024/02/10 02:01:18 Start to extract HapMap3 SNPs...v3.4.39\n",
      "2024/02/10 02:01:18  -Current Dataframe shape : 1092430 x 13 ; Memory usage: 125.13 MB\n",
      "2024/02/10 02:01:18  -Loading Hapmap3 variants from built-in datasets...\n",
      "2024/02/10 02:01:20 Start to run LD score regression...v3.4.39\n",
      "2024/02/10 02:01:20  -Current Dataframe shape : 1092430 x 13 ; Memory usage: 125.13 MB\n",
      "2024/02/10 02:01:20  -Run single variate LD score regression:\n",
      "2024/02/10 02:01:20   -Adopted from LDSC source code: https://github.com/bulik/ldsc\n",
      "2024/02/10 02:01:20   -Please cite LDSC: Bulik-Sullivan, et al. LD Score Regression Distinguishes Confounding from Polygenicity in Genome-Wide Association Studies. Nature Genetics, 2015.\n",
      "2024/02/10 02:01:20  -Arguments:\n",
      "2024/02/10 02:01:20   -ref_ld_chr:/home/yunye/tools/ldsc/ldscores/eas_ldscores/\n",
      "2024/02/10 02:01:20   -w_ld_chr:/home/yunye/tools/ldsc/ldscores/eas_ldscores/\n",
      "2024/02/10 02:01:20  -LDSC log:\n",
      "2024/02/10 02:01:20   -Reading reference panel LD Score from /home/yunye/tools/ldsc/ldscores/eas_ldscores/[1-22] ... (ldscore_fromlist)\n",
      "2024/02/10 02:01:22   -Read reference panel LD Scores for 1208050 SNPs.\n",
      "2024/02/10 02:01:22   -Removing partitioned LD Scores with zero variance.\n",
      "2024/02/10 02:01:22   -Reading regression weight LD Score from /home/yunye/tools/ldsc/ldscores/eas_ldscores/[1-22] ... (ldscore_fromlist)\n",
      "2024/02/10 02:01:23   -Read regression weight LD Scores for 1208050 SNPs.\n",
      "2024/02/10 02:01:25   -After merging with reference panel LD, 1079390 SNPs remain.\n",
      "2024/02/10 02:01:26   -After merging with regression SNP LD, 1079390 SNPs remain.\n",
      "2024/02/10 02:01:26   -Using two-step estimator with cutoff at 30.\n",
      "2024/02/10 02:01:26  -Results have been stored in .ldsc_h2\n",
      "2024/02/10 02:01:26 Finished running LD score regression.\n"
     ]
    }
   ],
   "source": [
    "mysumstats.estimate_h2_by_ldsc(ref_ld_chr = \"/home/yunye/tools/ldsc/ldscores/eas_ldscores/\", \n",
    "                               w_ld_chr = \"/home/yunye/tools/ldsc/ldscores/eas_ldscores/\")"
   ]
  },
  {
   "cell_type": "code",
   "execution_count": 8,
   "id": "2c0e5e1b",
   "metadata": {},
   "outputs": [
    {
     "data": {
      "text/html": [
       "<div>\n",
       "<style scoped>\n",
       "    .dataframe tbody tr th:only-of-type {\n",
       "        vertical-align: middle;\n",
       "    }\n",
       "\n",
       "    .dataframe tbody tr th {\n",
       "        vertical-align: top;\n",
       "    }\n",
       "\n",
       "    .dataframe thead th {\n",
       "        text-align: right;\n",
       "    }\n",
       "</style>\n",
       "<table border=\"1\" class=\"dataframe\">\n",
       "  <thead>\n",
       "    <tr style=\"text-align: right;\">\n",
       "      <th></th>\n",
       "      <th>h2_obs</th>\n",
       "      <th>h2_se</th>\n",
       "      <th>Lambda_gc</th>\n",
       "      <th>Mean_chi2</th>\n",
       "      <th>Intercept</th>\n",
       "      <th>Intercept_se</th>\n",
       "      <th>Ratio</th>\n",
       "      <th>Ratio_se</th>\n",
       "    </tr>\n",
       "  </thead>\n",
       "  <tbody>\n",
       "    <tr>\n",
       "      <th>0</th>\n",
       "      <td>0.10394433</td>\n",
       "      <td>0.00650644</td>\n",
       "      <td>1.32982693</td>\n",
       "      <td>1.49125406</td>\n",
       "      <td>1.09147712</td>\n",
       "      <td>0.01056279</td>\n",
       "      <td>0.18621142</td>\n",
       "      <td>0.02150169</td>\n",
       "    </tr>\n",
       "  </tbody>\n",
       "</table>\n",
       "</div>"
      ],
      "text/plain": [
       "       h2_obs       h2_se   Lambda_gc   Mean_chi2   Intercept Intercept_se  \\\n",
       "0  0.10394433  0.00650644  1.32982693  1.49125406  1.09147712   0.01056279   \n",
       "\n",
       "        Ratio    Ratio_se  \n",
       "0  0.18621142  0.02150169  "
      ]
     },
     "execution_count": 8,
     "metadata": {},
     "output_type": "execute_result"
    }
   ],
   "source": [
    "mysumstats.ldsc_h2"
   ]
  },
  {
   "cell_type": "code",
   "execution_count": 6,
   "id": "ac72090c",
   "metadata": {
    "scrolled": false
   },
   "outputs": [
    {
     "name": "stdout",
     "output_type": "stream",
     "text": [
      "2024/02/10 02:01:27 Start to extract HapMap3 SNPs...v3.4.39\n",
      "2024/02/10 02:01:27  -Current Dataframe shape : 1092430 x 13 ; Memory usage: 125.13 MB\n",
      "2024/02/10 02:01:27  -Loading Hapmap3 variants from built-in datasets...\n",
      "2024/02/10 02:01:28 Start to run LD score regression for genetic correlation...v3.4.39\n",
      "2024/02/10 02:01:28  -Current Dataframe shape : 1092430 x 13 ; Memory usage: 125.13 MB\n",
      "2024/02/10 02:01:28  -Run cross-trait LD score regression:\n",
      "2024/02/10 02:01:28   -Adopted from LDSC source code: https://github.com/bulik/ldsc\n",
      "2024/02/10 02:01:28   -Please cite LDSC: Bulik-Sullivan, et al. LD Score Regression Distinguishes Confounding from Polygenicity in Genome-Wide Association Studies. Nature Genetics, 2015.\n",
      "2024/02/10 02:01:28  -Arguments:\n",
      "2024/02/10 02:01:28   -rg:t2d,t2d2\n",
      "2024/02/10 02:01:28   -ref_ld_chr:/home/yunye/tools/ldsc/ldscores/eas_ldscores/\n",
      "2024/02/10 02:01:28   -w_ld_chr:/home/yunye/tools/ldsc/ldscores/eas_ldscores/\n",
      "2024/02/10 02:01:29 Processing Study_1\n",
      "2024/02/10 02:01:29  -LDSC log:\n",
      "2024/02/10 02:01:29   -Reading reference panel LD Score from /home/yunye/tools/ldsc/ldscores/eas_ldscores/[1-22] ... (ldscore_fromlist)\n",
      "2024/02/10 02:01:30   -Read reference panel LD Scores for 1208050 SNPs.\n",
      "2024/02/10 02:01:30   -Removing partitioned LD Scores with zero variance.\n",
      "2024/02/10 02:01:30   -Reading regression weight LD Score from /home/yunye/tools/ldsc/ldscores/eas_ldscores/[1-22] ... (ldscore_fromlist)\n",
      "2024/02/10 02:01:32   -Read regression weight LD Scores for 1208050 SNPs.\n",
      "2024/02/10 02:01:33   -After merging with reference panel LD, 1079390 SNPs remain.\n",
      "2024/02/10 02:01:34   -After merging with regression SNP LD, 1079390 SNPs remain.\n",
      "2024/02/10 02:01:34   -Computing rg for phenotype 2/2\n",
      "2024/02/10 02:01:34   -Read summary statistics for 1092430 SNPs.\n",
      "2024/02/10 02:01:35   -After merging with summary statistics, 1079390 SNPs remain.\n",
      "2024/02/10 02:01:35   -1079390 SNPs with valid alleles.\n",
      "2024/02/10 02:01:37 \n",
      "Heritability of phenotype 1\n",
      "---------------------------\n",
      "2024/02/10 02:01:37 Total Observed scale h2: 0.10212643 (0.00792128)\n",
      "Lambda GC: 1.32982693\n",
      "Mean Chi^2: 1.49125406\n",
      "Intercept: 1.09693002 (0.01979579)\n",
      "Ratio: 0.19731139 (0.04029645)\n",
      "2024/02/10 02:01:37 \n",
      "Heritability of phenotype 2/2\n",
      "-----------------------------\n",
      "2024/02/10 02:01:37 Total Observed scale h2: 0.10212643 (0.00792128)\n",
      "Lambda GC: 1.32982693\n",
      "Mean Chi^2: 1.49125406\n",
      "Intercept: 1.09693002 (0.01979579)\n",
      "Ratio: 0.19731139 (0.04029645)\n",
      "2024/02/10 02:01:37 \n",
      "Genetic Covariance\n",
      "------------------\n",
      "2024/02/10 02:01:37 Total Observed scale gencov: 0.10212661 (0.00792126)\n",
      "Mean z1*z2: 1.49125406\n",
      "Intercept: 1.09692968 (0.01979571)\n",
      "2024/02/10 02:01:37 \n",
      "Genetic Correlation\n",
      "-------------------\n",
      "2024/02/10 02:01:37 Genetic Correlation: 1.00000174 (1.08759354e-06)\n",
      "Z-score: 919462.74196582\n",
      "P: 0.\n",
      "\n",
      "2024/02/10 02:01:37 \n",
      "Summary of Genetic Correlation Results\n",
      " p1   p2       rg       se             z   p   h2_obs  h2_obs_se  h2_int  h2_int_se  gcov_int  gcov_int_se\n",
      "t2d t2d2 1.000002 0.000001 919462.741966 0.0 0.102126   0.007921 1.09693   0.019796   1.09693     0.019796\n",
      "\n",
      "2024/02/10 02:01:37  -Results have been stored in .ldsc_rg\n",
      "2024/02/10 02:01:37 Finished running LD score regression for genetic correlation.\n"
     ]
    }
   ],
   "source": [
    "mysumstats.estimate_rg_by_ldsc(other_traits=[mysumstats], \n",
    "                               rg=\"t2d,t2d2\",\n",
    "                               ref_ld_chr = \"/home/yunye/tools/ldsc/ldscores/eas_ldscores/\", \n",
    "                               w_ld_chr = \"/home/yunye/tools/ldsc/ldscores/eas_ldscores/\")"
   ]
  },
  {
   "cell_type": "code",
   "execution_count": 7,
   "id": "155632ae",
   "metadata": {},
   "outputs": [
    {
     "data": {
      "text/html": [
       "<div>\n",
       "<style scoped>\n",
       "    .dataframe tbody tr th:only-of-type {\n",
       "        vertical-align: middle;\n",
       "    }\n",
       "\n",
       "    .dataframe tbody tr th {\n",
       "        vertical-align: top;\n",
       "    }\n",
       "\n",
       "    .dataframe thead th {\n",
       "        text-align: right;\n",
       "    }\n",
       "</style>\n",
       "<table border=\"1\" class=\"dataframe\">\n",
       "  <thead>\n",
       "    <tr style=\"text-align: right;\">\n",
       "      <th></th>\n",
       "      <th>p1</th>\n",
       "      <th>p2</th>\n",
       "      <th>rg</th>\n",
       "      <th>se</th>\n",
       "      <th>z</th>\n",
       "      <th>p</th>\n",
       "      <th>h2_obs</th>\n",
       "      <th>h2_obs_se</th>\n",
       "      <th>h2_int</th>\n",
       "      <th>h2_int_se</th>\n",
       "      <th>gcov_int</th>\n",
       "      <th>gcov_int_se</th>\n",
       "    </tr>\n",
       "  </thead>\n",
       "  <tbody>\n",
       "    <tr>\n",
       "      <th>0</th>\n",
       "      <td>t2d</td>\n",
       "      <td>t2d2</td>\n",
       "      <td>1.000002</td>\n",
       "      <td>0.000001</td>\n",
       "      <td>919462.741966</td>\n",
       "      <td>0.0</td>\n",
       "      <td>0.102126</td>\n",
       "      <td>0.007921</td>\n",
       "      <td>1.09693</td>\n",
       "      <td>0.019796</td>\n",
       "      <td>1.09693</td>\n",
       "      <td>0.019796</td>\n",
       "    </tr>\n",
       "  </tbody>\n",
       "</table>\n",
       "</div>"
      ],
      "text/plain": [
       "    p1    p2        rg        se              z    p    h2_obs  h2_obs_se  \\\n",
       "0  t2d  t2d2  1.000002  0.000001  919462.741966  0.0  0.102126   0.007921   \n",
       "\n",
       "    h2_int  h2_int_se  gcov_int  gcov_int_se  \n",
       "0  1.09693   0.019796   1.09693     0.019796  "
      ]
     },
     "execution_count": 7,
     "metadata": {},
     "output_type": "execute_result"
    }
   ],
   "source": [
    "mysumstats.ldsc_rg"
   ]
  }
 ],
 "metadata": {
  "kernelspec": {
   "display_name": "Python 3 (ipykernel)",
   "language": "python",
   "name": "python3"
  },
  "language_info": {
   "codemirror_mode": {
    "name": "ipython",
    "version": 3
   },
   "file_extension": ".py",
   "mimetype": "text/x-python",
   "name": "python",
   "nbconvert_exporter": "python",
   "pygments_lexer": "ipython3",
   "version": "3.9.7"
  },
  "toc": {
   "base_numbering": 1,
   "nav_menu": {},
   "number_sections": true,
   "sideBar": true,
   "skip_h1_title": false,
   "title_cell": "Table of Contents",
   "title_sidebar": "Contents",
   "toc_cell": false,
   "toc_position": {},
   "toc_section_display": true,
   "toc_window_display": false
  }
 },
 "nbformat": 4,
 "nbformat_minor": 5
}
